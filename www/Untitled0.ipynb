{
 "metadata": {
  "name": "Untitled0"
 },
 "nbformat": 3,
 "nbformat_minor": 0,
 "worksheets": [
  {
   "cells": [
    {
     "cell_type": "code",
     "collapsed": false,
     "input": [
      "import json \n",
      "\n",
      "#Load Json file:\n",
      "json_file=\"events.json\"\n",
      "json_data=open(json_file).read()\n",
      "\n",
      "data = json.loads(json_data)"
     ],
     "language": "python",
     "metadata": {},
     "outputs": [],
     "prompt_number": 1
    },
    {
     "cell_type": "code",
     "collapsed": false,
     "input": [
      "data[0]"
     ],
     "language": "python",
     "metadata": {},
     "outputs": [
      {
       "output_type": "pyout",
       "prompt_number": 2,
       "text": [
        "{u'city': u'West Michigan',\n",
        " u'country': u'USA',\n",
        " u'facilitators': [{u'_id': u'5011b56e91ac880200000977',\n",
        "   u'first_name': u'Marc',\n",
        "   u'last_name': u'Nager',\n",
        "   u'name': u'Marc Nager'}],\n",
        " u'id': 1,\n",
        " u'location': {},\n",
        " u'start_date': u'2010-02-26T00:00:00.000Z',\n",
        " u'state': u'MI',\n",
        " u'twitter_hashtag': None,\n",
        " u'vertical': None,\n",
        " u'website': u'wmi.startupweekend.org'}"
       ]
      }
     ],
     "prompt_number": 2
    },
    {
     "cell_type": "code",
     "collapsed": false,
     "input": [
      "#Geocode\n",
      "from geopy import geocoders\n",
      "import time\n",
      "y = geocoders.GoogleV3()\n",
      "#y = geocoders.Yahoo('NO_NEED_FOR_ID')\n",
      "i=0\n",
      "for event in data:\n",
      "    time.sleep(0.5)\n",
      "    i+=1\n",
      "    print event\n",
      "    #hack for missing state\n",
      "    if \"state\" not in event:\n",
      "            event[\"state\"]=\"\"\n",
      "    place_in=event[\"city\"]+\", \"+(event[\"state\"] or u\" \")+\", \"+event[\"country\"]\n",
      "        #place, (lat, lng) = y.geocode(place_in) #Hack for more than one return needed\n",
      "    place, (lat, lng) = y.geocode(place_in, exactly_one=False)[0] \n",
      "    event['lat']=lat\n",
      "    event[\"lon\"]=lng\n",
      "    event[\"full_loc\"]=place.replace(\",  ,\",\", \")\n",
      "    print \"%i:%s -> %s: (%.5f, %.5f)\" % (i,place_in, place, lat, lng)  \n",
      "    "
     ],
     "language": "python",
     "metadata": {},
     "outputs": [
      {
       "output_type": "stream",
       "stream": "stdout",
       "text": [
        "{u'website': u'wmi.startupweekend.org', u'city': u'West Michigan', u'vertical': None, u'country': u'USA', 'lon': -85.60236429999999, u'facilitators': [{u'last_name': u'Nager', u'first_name': u'Marc', u'_id': u'5011b56e91ac880200000977', u'name': u'Marc Nager'}], u'id': 1, u'state': u'MI', 'full_loc': u'Michigan, USA', u'location': {}, u'twitter_hashtag': None, 'lat': 44.3148443, u'start_date': u'2010-02-26T00:00:00.000Z'}\n",
        "1:West Michigan, MI, USA -> Michigan, USA: (44.31484, -85.60236)"
       ]
      },
      {
       "output_type": "stream",
       "stream": "stdout",
       "text": [
        "\n",
        "{u'website': u'okc.startupweekend.org', u'city': u'Oklahoma City', u'vertical': None, u'country': u'USA', 'lon': -97.5164276, u'facilitators': [{u'last_name': u'Nelsen', u'first_name': u'Clint', u'_id': u'5029bfad9c398d0200000891', u'name': u'Clint Nelsen'}], u'id': 4, u'state': u'OK', 'full_loc': u'Oklahoma City, OK, USA', u'location': {}, u'twitter_hashtag': u'#swou', 'lat': 35.4675602, u'start_date': u'2010-03-05T00:00:00.000Z'}"
       ]
      },
      {
       "output_type": "stream",
       "stream": "stdout",
       "text": [
        "\n",
        "2:Oklahoma City, OK, USA -> Oklahoma City, OK, USA: (35.46756, -97.51643)"
       ]
      },
      {
       "output_type": "stream",
       "stream": "stdout",
       "text": [
        "\n",
        "{u'website': u'iowa.startupweekend.org', u'city': u'Des Moines', u'vertical': None, u'country': u'USA', 'lon': -93.6091064, u'facilitators': [{u'last_name': u'Reiser', u'first_name': u'Shane', u'_id': u'5029bfad9c398d02000008a2', u'name': u'Shane Reiser'}], u'id': 2, u'state': u'IA', 'full_loc': u'Des Moines, IA, USA', u'location': {}, u'twitter_hashtag': None, 'lat': 41.6005448, u'start_date': u'2010-03-05T00:00:00.000Z'}"
       ]
      },
      {
       "output_type": "stream",
       "stream": "stdout",
       "text": [
        "\n",
        "3:Des Moines, IA, USA -> Des Moines, IA, USA: (41.60054, -93.60911)"
       ]
      },
      {
       "output_type": "stream",
       "stream": "stdout",
       "text": [
        "\n",
        "{u'website': u'portland.startupweekend.org', u'city': u'Portland', u'vertical': None, u'country': u'USA', 'lon': -122.6762071, u'facilitators': [{u'last_name': u'Nager', u'first_name': u'Marc', u'_id': u'5011b56e91ac880200000977', u'name': u'Marc Nager'}], u'id': 3, u'state': u'OR', 'full_loc': u'Portland, OR, USA', u'location': {}, u'twitter_hashtag': None, 'lat': 45.5234515, u'start_date': u'2010-03-05T00:00:00.000Z'}"
       ]
      },
      {
       "output_type": "stream",
       "stream": "stdout",
       "text": [
        "\n",
        "4:Portland, OR, USA -> Portland, OR, USA: (45.52345, -122.67621)"
       ]
      },
      {
       "output_type": "stream",
       "stream": "stdout",
       "text": [
        "\n",
        "{u'website': u'omaha.startupweekend.org', u'city': u'Omaha', u'vertical': None, u'country': u'USA', 'lon': -95.99798829999999, u'facilitators': [{u'last_name': u'Reiser', u'first_name': u'Shane', u'_id': u'5029bfad9c398d02000008a2', u'name': u'Shane Reiser'}], u'id': 5, u'state': u'NE', 'full_loc': u'Omaha, NE, USA', u'location': {}, u'twitter_hashtag': None, 'lat': 41.2523634, u'start_date': u'2010-03-19T00:00:00.000Z'}"
       ]
      },
      {
       "output_type": "stream",
       "stream": "stdout",
       "text": [
        "\n",
        "5:Omaha, NE, USA -> Omaha, NE, USA: (41.25236, -95.99799)"
       ]
      },
      {
       "output_type": "stream",
       "stream": "stdout",
       "text": [
        "\n",
        "{u'website': u'seattle.startupweekend.org', u'city': u'Seattle', u'vertical': None, u'country': u'USA', 'lon': -122.3320708, u'facilitators': [{u'last_name': u'Lightsmith', u'first_name': u'Jeremy', u'_id': u'5029bfad9c398d02000008b1', u'name': u'Jeremy Lightsmith'}], u'id': 7, u'state': u'WA', 'full_loc': u'Seattle, WA, USA', u'location': {}, u'twitter_hashtag': None, 'lat': 47.6062095, u'start_date': u'2010-03-19T00:00:00.000Z'}"
       ]
      },
      {
       "output_type": "stream",
       "stream": "stdout",
       "text": [
        "\n",
        "6:Seattle, WA, USA -> Seattle, WA, USA: (47.60621, -122.33207)"
       ]
      },
      {
       "output_type": "stream",
       "stream": "stdout",
       "text": [
        "\n",
        "{u'website': u'miami.startupweekend.org', u'city': u'Miami', u'vertical': None, u'country': u'USA', 'lon': -80.2264393, u'facilitators': [{u'last_name': u'Nager', u'first_name': u'Marc', u'_id': u'5011b56e91ac880200000977', u'name': u'Marc Nager'}], u'id': 6, u'state': u'FL', 'full_loc': u'Miami, FL, USA', u'location': {}, u'twitter_hashtag': None, 'lat': 25.7889689, u'start_date': u'2010-03-19T00:00:00.000Z'}"
       ]
      },
      {
       "output_type": "stream",
       "stream": "stdout",
       "text": [
        "\n",
        "7:Miami, FL, USA -> Miami, FL, USA: (25.78897, -80.22644)"
       ]
      },
      {
       "output_type": "stream",
       "stream": "stdout",
       "text": [
        "\n",
        "{u'website': u'newbrunswick.startupweekend.org', u'city': u'New Brunswick', u'vertical': None, u'country': u'USA', 'lon': -74.4518188, u'facilitators': [], u'id': 8, u'state': u'NJ', 'full_loc': u'New Brunswick, NJ, USA', u'location': {}, u'twitter_hashtag': None, 'lat': 40.4862157, u'start_date': u'2010-03-26T00:00:00.000Z'}"
       ]
      },
      {
       "output_type": "stream",
       "stream": "stdout",
       "text": [
        "\n",
        "8:New Brunswick, NJ, USA -> New Brunswick, NJ, USA: (40.48622, -74.45182)"
       ]
      },
      {
       "output_type": "stream",
       "stream": "stdout",
       "text": [
        "\n",
        "{u'website': u'lund.startupweekend.org', u'city': u'Lund', u'vertical': None, u'country': u'Sweden', 'lon': 13.1910073, u'facilitators': [], u'id': 11, u'state': None, 'full_loc': u'Lund, Sweden', u'location': {}, u'twitter_hashtag': None, 'lat': 55.7046601, u'start_date': u'2010-04-09T00:00:00.000Z'}"
       ]
      },
      {
       "output_type": "stream",
       "stream": "stdout",
       "text": [
        "\n",
        "9:Lund,  , Sweden -> Lund, Sweden: (55.70466, 13.19101)"
       ]
      },
      {
       "output_type": "stream",
       "stream": "stdout",
       "text": [
        "\n",
        "{u'website': u'copenhagen.startupweekend.org', u'city': u'Copenhagen', u'vertical': None, u'country': u'Denmark', 'lon': 12.5683371, u'facilitators': [{u'last_name': u'Nelsen', u'first_name': u'Clint', u'_id': u'5029bfad9c398d0200000891', u'name': u'Clint Nelsen'}], u'id': 9, u'state': None, 'full_loc': u'Copenhagen, Denmark', u'location': {}, u'twitter_hashtag': None, 'lat': 55.6760968, u'start_date': u'2010-04-09T00:00:00.000Z'}"
       ]
      },
      {
       "output_type": "stream",
       "stream": "stdout",
       "text": [
        "\n",
        "10:Copenhagen,  , Denmark -> Copenhagen, Denmark: (55.67610, 12.56834)"
       ]
      },
      {
       "output_type": "stream",
       "stream": "stdout",
       "text": [
        "\n",
        "{u'website': u'oslo.startupweekend.org', u'city': u'Oslo', u'vertical': None, u'country': u'Norway', 'lon': 10.7522454, u'facilitators': [{u'last_name': u'Sechrest', u'first_name': u'John', u'_id': u'5011b56e91ac88020000081e', u'name': u'John Sechrest'}], u'id': 10, u'state': None, 'full_loc': u'Oslo, Norway', u'location': {}, u'twitter_hashtag': None, 'lat': 59.9138688, u'start_date': u'2010-04-09T00:00:00.000Z'}"
       ]
      },
      {
       "output_type": "stream",
       "stream": "stdout",
       "text": [
        "\n",
        "11:Oslo,  , Norway -> Oslo, Norway: (59.91387, 10.75225)"
       ]
      },
      {
       "output_type": "stream",
       "stream": "stdout",
       "text": [
        "\n",
        "{u'website': u'vilnius.startupweekend.org', u'city': u'Vilnius', u'vertical': None, u'country': u'Lithuania', 'lon': 25.2796514, u'facilitators': [{u'last_name': u'Seguin', u'first_name': u'Nick', u'_id': u'5011b56e91ac88020000096f', u'name': u'Nick Seguin'}], u'id': 12, u'state': None, 'full_loc': u'Vilnius, Lithuania', u'location': {}, u'twitter_hashtag': None, 'lat': 54.6871555, u'start_date': u'2010-04-09T00:00:00.000Z'}"
       ]
      },
      {
       "output_type": "stream",
       "stream": "stdout",
       "text": [
        "\n",
        "12:Vilnius,  , Lithuania -> Vilnius, Lithuania: (54.68716, 25.27965)"
       ]
      },
      {
       "output_type": "stream",
       "stream": "stdout",
       "text": [
        "\n",
        "{u'website': u'kansascity.startupweekend.com', u'city': u'Kansas City', u'vertical': None, u'country': u'USA', 'lon': -94.5785667, u'facilitators': [], u'id': 14, u'state': u'MO', 'full_loc': u'Kansas City, MO, USA', u'location': {}, u'twitter_hashtag': None, 'lat': 39.0997265, u'start_date': u'2010-04-16T00:00:00.000Z'}"
       ]
      },
      {
       "output_type": "stream",
       "stream": "stdout",
       "text": [
        "\n",
        "13:Kansas City, MO, USA -> Kansas City, MO, USA: (39.09973, -94.57857)"
       ]
      },
      {
       "output_type": "stream",
       "stream": "stdout",
       "text": [
        "\n",
        "{u'website': u'boulder.startupweekend.org', u'city': u'Boulder', u'vertical': None, u'country': u'USA', 'lon': -105.2705456, u'facilitators': [{u'last_name': u'Agarwal', u'first_name': u'Ayush', u'_id': u'5029bfad9c398d02000008b5', u'name': u'Ayush Agarwal'}], u'id': 17, u'state': u'CO', 'full_loc': u'Boulder, CO, USA', u'location': {}, u'twitter_hashtag': None, 'lat': 40.0149856, u'start_date': u'2010-04-16T00:00:00.000Z'}"
       ]
      },
      {
       "output_type": "stream",
       "stream": "stdout",
       "text": [
        "\n",
        "14:Boulder, CO, USA -> Boulder, CO, USA: (40.01499, -105.27055)"
       ]
      },
      {
       "output_type": "stream",
       "stream": "stdout",
       "text": [
        "\n",
        "{u'website': u'istanbul.startupweekend.org', u'city': u'Istanbul', u'vertical': None, u'country': u'Turkey', 'lon': 28.97696, u'facilitators': [{u'last_name': u'Nelsen', u'first_name': u'Clint', u'_id': u'5029bfad9c398d0200000891', u'name': u'Clint Nelsen'}], u'id': 13, u'state': None, 'full_loc': u'Istanbul, Turkey', u'location': {}, u'twitter_hashtag': None, 'lat': 41.00527, u'start_date': u'2010-04-16T00:00:00.000Z'}"
       ]
      },
      {
       "output_type": "stream",
       "stream": "stdout",
       "text": [
        "\n",
        "15:Istanbul,  , Turkey -> Istanbul, Turkey: (41.00527, 28.97696)"
       ]
      },
      {
       "output_type": "stream",
       "stream": "stdout",
       "text": [
        "\n",
        "{u'website': u'dallas.startupweekend.org', u'city': u'Dallas', u'vertical': None, u'country': u'USA', 'lon': -96.80045109999999, u'facilitators': [{u'last_name': u'Nager', u'first_name': u'Marc', u'_id': u'5011b56e91ac880200000977', u'name': u'Marc Nager'}], u'id': 16, u'state': u'TX', 'full_loc': u'Dallas, TX, USA', u'location': {}, u'twitter_hashtag': None, 'lat': 32.7801399, u'start_date': u'2010-04-16T00:00:00.000Z'}"
       ]
      },
      {
       "output_type": "stream",
       "stream": "stdout",
       "text": [
        "\n",
        "16:Dallas, TX, USA -> Dallas, TX, USA: (32.78014, -96.80045)"
       ]
      },
      {
       "output_type": "stream",
       "stream": "stdout",
       "text": [
        "\n",
        "{u'website': u'http://stockholm.startupweekend.org/', u'city': u'Stockholm', u'vertical': None, u'country': u'Sweden', 'lon': 18.06491, u'facilitators': [], u'id': 15, u'state': None, 'full_loc': u'Stockholm, Sweden', u'location': {}, u'twitter_hashtag': None, 'lat': 59.32893000000001, u'start_date': u'2010-04-16T00:00:00.000Z'}"
       ]
      },
      {
       "output_type": "stream",
       "stream": "stdout",
       "text": [
        "\n",
        "17:Stockholm,  , Sweden -> Stockholm, Sweden: (59.32893, 18.06491)"
       ]
      },
      {
       "output_type": "stream",
       "stream": "stdout",
       "text": [
        "\n",
        "{u'website': u'columbus.startupweekend.org', u'city': u'Columbus', u'vertical': None, u'country': u'USA', 'lon': -82.99879419999999, u'facilitators': [{u'last_name': u'Seguin', u'first_name': u'Nick', u'_id': u'5011b56e91ac88020000096f', u'name': u'Nick Seguin'}], u'id': 18, u'state': u'OH', 'full_loc': u'Columbus, OH, USA', u'location': {}, u'twitter_hashtag': None, 'lat': 39.9611755, u'start_date': u'2010-04-23T00:00:00.000Z'}"
       ]
      },
      {
       "output_type": "stream",
       "stream": "stdout",
       "text": [
        "\n",
        "18:Columbus, OH, USA -> Columbus, OH, USA: (39.96118, -82.99879)"
       ]
      },
      {
       "output_type": "stream",
       "stream": "stdout",
       "text": [
        "\n",
        "{u'website': u'la.startupweekend.org', u'city': u'Los Angeles', u'vertical': None, u'country': u'USA', 'lon': -118.2436849, u'facilitators': [{u'last_name': u'Nager', u'first_name': u'Marc', u'_id': u'5011b56e91ac880200000977', u'name': u'Marc Nager'}], u'id': 19, u'state': u'CA', 'full_loc': u'Los Angeles, CA, USA', u'location': {}, u'twitter_hashtag': None, 'lat': 34.0522342, u'start_date': u'2010-04-30T00:00:00.000Z'}"
       ]
      },
      {
       "output_type": "stream",
       "stream": "stdout",
       "text": [
        "\n",
        "19:Los Angeles, CA, USA -> Los Angeles, CA, USA: (34.05223, -118.24368)"
       ]
      },
      {
       "output_type": "stream",
       "stream": "stdout",
       "text": [
        "\n",
        "{u'website': u'paris.startupweekend.org', u'city': u'Paris', u'vertical': None, u'country': u'France', 'lon': 2.3522219, u'facilitators': [{u'last_name': u'Bostoni', u'first_name': u'Sacha', u'_id': u'5011b56e91ac880200000906', u'name': u'Sacha Bostoni'}], u'id': 23, u'state': None, 'full_loc': u'Paris, France', u'location': {}, u'twitter_hashtag': None, 'lat': 48.856614, u'start_date': u'2010-05-07T00:00:00.000Z'}"
       ]
      },
      {
       "output_type": "stream",
       "stream": "stdout",
       "text": [
        "\n",
        "20:Paris,  , France -> Paris, France: (48.85661, 2.35222)"
       ]
      },
      {
       "output_type": "stream",
       "stream": "stdout",
       "text": [
        "\n",
        "{u'website': u'uw.startupweekend.org', u'city': u'Seattle', u'vertical': None, u'country': u'USA', 'lon': -122.3320708, u'facilitators': [{u'last_name': u'Nager', u'first_name': u'Marc', u'_id': u'5011b56e91ac880200000977', u'name': u'Marc Nager'}], u'id': 22, u'state': u'WA', 'full_loc': u'Seattle, WA, USA', u'location': {}, u'twitter_hashtag': None, 'lat': 47.6062095, u'start_date': u'2010-05-07T00:00:00.000Z'}"
       ]
      },
      {
       "output_type": "stream",
       "stream": "stdout",
       "text": [
        "\n",
        "21:Seattle, WA, USA -> Seattle, WA, USA: (47.60621, -122.33207)"
       ]
      },
      {
       "output_type": "stream",
       "stream": "stdout",
       "text": [
        "\n",
        "{u'website': u'dublin.startupweekend.org', u'city': u'Dublin', u'vertical': None, u'country': u'Ireland', 'lon': -6.2603097, u'facilitators': [{u'last_name': u'Nelsen', u'first_name': u'Clint', u'_id': u'5029bfad9c398d0200000891', u'name': u'Clint Nelsen'}], u'id': 21, u'state': None, 'full_loc': u'Dublin, Co. Dublin, Ireland', u'location': {}, u'twitter_hashtag': None, 'lat': 53.3498053, u'start_date': u'2010-05-07T00:00:00.000Z'}"
       ]
      },
      {
       "output_type": "stream",
       "stream": "stdout",
       "text": [
        "\n",
        "22:Dublin,  , Ireland -> Dublin, Co. Dublin, Ireland: (53.34981, -6.26031)"
       ]
      },
      {
       "output_type": "stream",
       "stream": "stdout",
       "text": [
        "\n",
        "{u'website': u'detroit.startupweekend.org', u'city': u'Detroit', u'vertical': None, u'country': u'USA', 'lon': -83.0457538, u'facilitators': [{u'last_name': u'Nouyrigat', u'first_name': u'Franck', u'_id': u'5011b56e91ac88020000093e', u'name': u'Franck Nouyrigat'}], u'id': 25, u'state': u'MI', 'full_loc': u'Detroit, MI, USA', u'location': {}, u'twitter_hashtag': None, 'lat': 42.331427, u'start_date': u'2010-05-14T00:00:00.000Z'}"
       ]
      },
      {
       "output_type": "stream",
       "stream": "stdout",
       "text": [
        "\n",
        "23:Detroit, MI, USA -> Detroit, MI, USA: (42.33143, -83.04575)"
       ]
      },
      {
       "output_type": "stream",
       "stream": "stdout",
       "text": [
        "\n",
        "{u'website': u'venice.startupweekend.org', u'city': u'Venice', u'vertical': None, u'country': u'Italy', 'lon': 12.3155151, u'facilitators': [{u'last_name': u'Nelsen', u'first_name': u'Clint', u'_id': u'5029bfad9c398d0200000891', u'name': u'Clint Nelsen'}], u'id': 24, u'state': None, 'full_loc': u'Venice, Italy', u'location': {}, u'twitter_hashtag': None, 'lat': 45.4408474, u'start_date': u'2010-05-14T00:00:00.000Z'}"
       ]
      },
      {
       "output_type": "stream",
       "stream": "stdout",
       "text": [
        "\n",
        "24:Venice,  , Italy -> Venice, Italy: (45.44085, 12.31552)"
       ]
      },
      {
       "output_type": "stream",
       "stream": "stdout",
       "text": [
        "\n",
        "{u'website': u'charlotte.startupweekend.org', u'city': u'Charlotte', u'vertical': None, u'country': u'USA', 'lon': -80.8431267, u'facilitators': [{u'last_name': u'Seguin', u'first_name': u'Nick', u'_id': u'5011b56e91ac88020000096f', u'name': u'Nick Seguin'}], u'id': 26, u'state': u'NC', 'full_loc': u'Charlotte, NC, USA', u'location': {}, u'twitter_hashtag': None, 'lat': 35.2270869, u'start_date': u'2010-05-14T00:00:00.000Z'}"
       ]
      },
      {
       "output_type": "stream",
       "stream": "stdout",
       "text": [
        "\n",
        "25:Charlotte, NC, USA -> Charlotte, NC, USA: (35.22709, -80.84313)"
       ]
      },
      {
       "output_type": "stream",
       "stream": "stdout",
       "text": [
        "\n",
        "{u'website': u'madrid.startupweekend.org', u'city': u'Madrid', u'vertical': None, u'country': u'Spain', 'lon': -3.7037902, u'facilitators': [], u'id': 28, u'state': None, 'full_loc': u'Madrid, Spain', u'location': {}, u'twitter_hashtag': None, 'lat': 40.4167754, u'start_date': u'2010-05-21T00:00:00.000Z'}"
       ]
      },
      {
       "output_type": "stream",
       "stream": "stdout",
       "text": [
        "\n",
        "26:Madrid,  , Spain -> Madrid, Spain: (40.41678, -3.70379)"
       ]
      },
      {
       "output_type": "stream",
       "stream": "stdout",
       "text": [
        "\n",
        "{u'website': u'idaho.startupweekend.org', u'city': u'Boise', u'vertical': None, u'country': u'USA', 'lon': -116.2146068, u'facilitators': [{u'last_name': u'Comerford', u'first_name': u'Thubten', u'_id': u'5029bfad9c398d02000008bf', u'name': u'Thubten Comerford'}], u'id': 27, u'state': u'ID', 'full_loc': u'Boise, ID, USA', u'location': {}, u'twitter_hashtag': None, 'lat': 43.6187102, u'start_date': u'2010-05-21T00:00:00.000Z'}"
       ]
      },
      {
       "output_type": "stream",
       "stream": "stdout",
       "text": [
        "\n",
        "27:Boise, ID, USA -> Boise, ID, USA: (43.61871, -116.21461)"
       ]
      },
      {
       "output_type": "stream",
       "stream": "stdout",
       "text": [
        "\n",
        "{u'website': u'seoul.startupweekend.org', u'city': u'Seoul', u'vertical': None, u'country': u'South Korea', 'lon': 126.9779692, u'facilitators': [{u'last_name': u'Li', u'first_name': u'Jonny', u'_id': u'5011b56e91ac8802000009d2', u'name': u'Jonny Li'}], u'id': 29, u'state': None, 'full_loc': u'Seoul, South Korea', u'location': {}, u'twitter_hashtag': None, 'lat': 37.566535, u'start_date': u'2010-05-28T00:00:00.000Z'}"
       ]
      },
      {
       "output_type": "stream",
       "stream": "stdout",
       "text": [
        "\n",
        "28:Seoul,  , South Korea -> Seoul, South Korea: (37.56654, 126.97797)"
       ]
      },
      {
       "output_type": "stream",
       "stream": "stdout",
       "text": [
        "\n",
        "{u'website': u'boston.startupweekend.org', u'city': u'Boston', u'vertical': None, u'country': u'USA', 'lon': -71.0597732, u'facilitators': [{u'last_name': u'Nager', u'first_name': u'Marc', u'_id': u'5011b56e91ac880200000977', u'name': u'Marc Nager'}], u'id': 32, u'state': u'MA', 'full_loc': u'Boston, MA, USA', u'location': {}, u'twitter_hashtag': None, 'lat': 42.3584308, u'start_date': u'2010-06-04T00:00:00.000Z'}"
       ]
      },
      {
       "output_type": "stream",
       "stream": "stdout",
       "text": [
        "\n",
        "29:Boston, MA, USA -> Boston, MA, USA: (42.35843, -71.05977)"
       ]
      },
      {
       "output_type": "stream",
       "stream": "stdout",
       "text": [
        "\n",
        "{u'website': u'galicia.startupweekend.org', u'city': u'Galicia', u'vertical': None, u'country': u'Spain', 'lon': -8.1338558, u'facilitators': [], u'id': 33, u'state': None, 'full_loc': u'Galicia, Spain', u'location': {}, u'twitter_hashtag': None, 'lat': 42.5750554, u'start_date': u'2010-06-04T00:00:00.000Z'}"
       ]
      },
      {
       "output_type": "stream",
       "stream": "stdout",
       "text": [
        "\n",
        "30:Galicia,  , Spain -> Galicia, Spain: (42.57506, -8.13386)"
       ]
      },
      {
       "output_type": "stream",
       "stream": "stdout",
       "text": [
        "\n",
        "{u'website': u'indianapolis.startupweekend.org', u'city': u'Indianapolis', u'vertical': None, u'country': u'USA', 'lon': -86.158068, u'facilitators': [], u'id': 30, u'state': u'IN', 'full_loc': u'Indianapolis, IN, USA', u'location': {}, u'twitter_hashtag': u'#swindy', 'lat': 39.768403, u'start_date': u'2010-06-04T00:00:00.000Z'}"
       ]
      },
      {
       "output_type": "stream",
       "stream": "stdout",
       "text": [
        "\n",
        "31:Indianapolis, IN, USA -> Indianapolis, IN, USA: (39.76840, -86.15807)"
       ]
      },
      {
       "output_type": "stream",
       "stream": "stdout",
       "text": [
        "\n",
        "{u'website': u'london.startupweekend.org', u'city': u'London', u'vertical': None, u'country': u'UK', 'lon': -0.1198244, u'facilitators': [{u'last_name': u'Saunders', u'first_name': u'Damien', u'_id': u'5029bfad9c398d02000008c0', u'name': u'Damien Saunders'}], u'id': 31, u'state': None, 'full_loc': u'London, UK', u'location': {u'lat': 51.5073346, u'lng': -0.12768310000001293}, u'twitter_hashtag': None, 'lat': 51.51121389999999, u'start_date': u'2010-06-04T00:00:00.000Z'}"
       ]
      },
      {
       "output_type": "stream",
       "stream": "stdout",
       "text": [
        "\n",
        "32:London,  , UK -> London, UK: (51.51121, -0.11982)"
       ]
      },
      {
       "output_type": "stream",
       "stream": "stdout",
       "text": [
        "\n",
        "{u'website': u'nyc.startupweekend.org', u'city': u'New York City', u'vertical': None, u'country': u'USA', 'lon': -74.00597309999999, u'facilitators': [{u'last_name': u'Reiser', u'first_name': u'Shane', u'_id': u'5029bfad9c398d02000008a2', u'name': u'Shane Reiser'}], u'id': 34, u'state': u'NY', 'full_loc': u'New York, NY, USA', u'location': {}, u'twitter_hashtag': None, 'lat': 40.7143528, u'start_date': u'2010-06-11T00:00:00.000Z'}"
       ]
      },
      {
       "output_type": "stream",
       "stream": "stdout",
       "text": [
        "\n",
        "33:New York City, NY, USA -> New York, NY, USA: (40.71435, -74.00597)"
       ]
      },
      {
       "output_type": "stream",
       "stream": "stdout",
       "text": [
        "\n",
        "{u'website': u'edmonton.startupweekend.org', u'city': u'Edmonton', u'vertical': None, u'country': u'Canada', 'lon': -113.4909267, u'facilitators': [{u'last_name': u'Pomerenke', u'first_name': u'Joey', u'_id': u'5011b56e91ac8802000008f6', u'name': u'Joey Pomerenke'}], u'id': 35, u'state': u'AB', 'full_loc': u'Edmonton, AB, Canada', u'location': {}, u'twitter_hashtag': None, 'lat': 53.544389, u'start_date': u'2010-06-25T00:00:00.000Z'}"
       ]
      },
      {
       "output_type": "stream",
       "stream": "stdout",
       "text": [
        "\n",
        "34:Edmonton, AB, Canada -> Edmonton, AB, Canada: (53.54439, -113.49093)"
       ]
      },
      {
       "output_type": "stream",
       "stream": "stdout",
       "text": [
        "\n",
        "{u'website': u'chicago.startupweekend.org', u'city': u'Chicago', u'vertical': None, u'country': u'USA', 'lon': -87.6297982, u'facilitators': [{u'last_name': u'Seguin', u'first_name': u'Nick', u'_id': u'5011b56e91ac88020000096f', u'name': u'Nick Seguin'}], u'id': 36, u'state': u'IL', 'full_loc': u'Chicago, IL, USA', u'location': {}, u'twitter_hashtag': None, 'lat': 41.8781136, u'start_date': u'2010-06-25T00:00:00.000Z'}"
       ]
      },
      {
       "output_type": "stream",
       "stream": "stdout",
       "text": [
        "\n",
        "35:Chicago, IL, USA -> Chicago, IL, USA: (41.87811, -87.62980)"
       ]
      },
      {
       "output_type": "stream",
       "stream": "stdout",
       "text": [
        "\n",
        "{u'website': u'tel-aviv.startupweekend.org', u'city': u'Tel Aviv', u'vertical': None, u'country': u'Israel', 'lon': 34.777819, u'facilitators': [], u'id': 37, u'state': None, 'full_loc': u'Tel Aviv, Israel', u'location': {}, u'twitter_hashtag': None, 'lat': 32.066158, u'start_date': u'2010-07-16T00:00:00.000Z'}"
       ]
      },
      {
       "output_type": "stream",
       "stream": "stdout",
       "text": [
        "\n",
        "36:Tel Aviv,  , Israel -> Tel Aviv, Israel: (32.06616, 34.77782)"
       ]
      },
      {
       "output_type": "stream",
       "stream": "stdout",
       "text": [
        "\n",
        "{u'website': u'bayarea.startupweekend.org', u'city': u'San Francisco', u'vertical': None, u'country': u'USA', 'lon': -122.4194155, u'facilitators': [{u'last_name': u'Nager', u'first_name': u'Marc', u'_id': u'5011b56e91ac880200000977', u'name': u'Marc Nager'}], u'id': 38, u'state': u'CA', 'full_loc': u'San Francisco, CA, USA', u'location': {}, u'twitter_hashtag': None, 'lat': 37.7749295, u'start_date': u'2010-07-23T00:00:00.000Z'}"
       ]
      },
      {
       "output_type": "stream",
       "stream": "stdout",
       "text": [
        "\n",
        "37:San Francisco, CA, USA -> San Francisco, CA, USA: (37.77493, -122.41942)"
       ]
      },
      {
       "output_type": "stream",
       "stream": "stdout",
       "text": [
        "\n",
        "{u'website': u'oman.startupweekend.org', u'city': u'Oman', u'vertical': None, u'country': u'Oman', 'lon': 55.923255, u'facilitators': [], u'id': 39, u'state': None, 'full_loc': u'Oman', u'location': {}, u'twitter_hashtag': None, 'lat': 21.512583, u'start_date': u'2010-07-30T00:00:00.000Z'}"
       ]
      },
      {
       "output_type": "stream",
       "stream": "stdout",
       "text": [
        "\n",
        "38:Oman,  , Oman -> Oman: (21.51258, 55.92325)"
       ]
      },
      {
       "output_type": "stream",
       "stream": "stdout",
       "text": [
        "\n",
        "{u'website': u'dc.startupweekend.org', u'city': u'Washington D.C.', u'vertical': None, u'country': u'USA', 'lon': -77.0363658, u'facilitators': [{u'last_name': u'Seguin', u'first_name': u'Nick', u'_id': u'5011b56e91ac88020000096f', u'name': u'Nick Seguin'}], u'id': 40, u'state': u'DC', 'full_loc': u'Washington, DC, USA', u'location': {}, u'twitter_hashtag': None, 'lat': 38.8951118, u'start_date': u'2010-08-13T00:00:00.000Z'}"
       ]
      },
      {
       "output_type": "stream",
       "stream": "stdout",
       "text": [
        "\n",
        "39:Washington D.C., DC, USA -> Washington, DC, USA: (38.89511, -77.03637)"
       ]
      },
      {
       "output_type": "stream",
       "stream": "stdout",
       "text": [
        "\n",
        "{u'website': u'sandiego.startupweekend.org', u'city': u'San Diego', u'vertical': None, u'country': u'USA', 'lon': -117.1572551, u'facilitators': [{u'last_name': u'Bryant', u'first_name': u'Julian', u'_id': u'5011b56e91ac880200000b85', u'name': u'Julian Bryant'}], u'id': 41, u'state': u'CA', 'full_loc': u'San Diego, CA, USA', u'location': {}, u'twitter_hashtag': None, 'lat': 32.7153292, u'start_date': u'2010-08-20T00:00:00.000Z'}"
       ]
      },
      {
       "output_type": "stream",
       "stream": "stdout",
       "text": [
        "\n",
        "40:San Diego, CA, USA -> San Diego, CA, USA: (32.71533, -117.15726)"
       ]
      },
      {
       "output_type": "stream",
       "stream": "stdout",
       "text": [
        "\n",
        "{u'website': None, u'city': u'San Francisco', u'vertical': u'EDU', u'country': u'USA', 'lon': -122.4194155, u'facilitators': [{u'last_name': u'Nouyrigat', u'first_name': u'Franck', u'_id': u'5011b56e91ac88020000093e', u'name': u'Franck Nouyrigat'}], u'id': 42, u'state': u'CA', 'full_loc': u'San Francisco, CA, USA', u'location': {u'lat': 37.78265469999999, u'lng': -122.38769530000002}, u'twitter_hashtag': None, 'lat': 37.7749295, u'start_date': u'2010-08-27T00:00:00.000Z'}"
       ]
      },
      {
       "output_type": "stream",
       "stream": "stdout",
       "text": [
        "\n",
        "41:San Francisco, CA, USA -> San Francisco, CA, USA: (37.77493, -122.41942)"
       ]
      },
      {
       "output_type": "stream",
       "stream": "stdout",
       "text": [
        "\n",
        "{u'website': u'austin.startupweekend.org', u'city': u'Austin', u'vertical': None, u'country': u'USA', 'lon': -97.7430608, u'facilitators': [{u'last_name': u'Pomerenke', u'first_name': u'Joey', u'_id': u'5011b56e91ac8802000008f6', u'name': u'Joey Pomerenke'}], u'id': 43, u'state': u'TX', 'full_loc': u'Austin, TX, USA', u'location': {}, u'twitter_hashtag': None, 'lat': 30.267153, u'start_date': u'2010-09-10T00:00:00.000Z'}"
       ]
      },
      {
       "output_type": "stream",
       "stream": "stdout",
       "text": [
        "\n",
        "42:Austin, TX, USA -> Austin, TX, USA: (30.26715, -97.74306)"
       ]
      },
      {
       "output_type": "stream",
       "stream": "stdout",
       "text": [
        "\n",
        "{u'website': u'omaha.startupweekend.org', u'city': u'Omaha', u'vertical': None, u'country': u'USA', 'lon': -95.99798829999999, u'facilitators': [{u'last_name': u'Cross', u'first_name': u'Sterling', u'_id': u'5029bfad9c398d02000008cb', u'name': u'Sterling Cross'}], u'id': 44, u'state': u'NE', 'full_loc': u'Omaha, NE, USA', u'location': {}, u'twitter_hashtag': None, 'lat': 41.2523634, u'start_date': u'2010-09-10T00:00:00.000Z'}"
       ]
      },
      {
       "output_type": "stream",
       "stream": "stdout",
       "text": [
        "\n",
        "43:Omaha, NE, USA -> Omaha, NE, USA: (41.25236, -95.99799)"
       ]
      },
      {
       "output_type": "stream",
       "stream": "stdout",
       "text": [
        "\n",
        "{u'website': u'nyc.startupweekend.org', u'city': u'New York City', u'vertical': None, u'country': u'USA', 'lon': -74.00597309999999, u'facilitators': [{u'last_name': u'Reiser', u'first_name': u'Shane', u'_id': u'5029bfad9c398d02000008a2', u'name': u'Shane Reiser'}], u'id': 45, u'state': u'NY', 'full_loc': u'New York, NY, USA', u'location': {}, u'twitter_hashtag': None, 'lat': 40.7143528, u'start_date': u'2010-09-10T00:00:00.000Z'}"
       ]
      },
      {
       "output_type": "stream",
       "stream": "stdout",
       "text": [
        "\n",
        "44:New York City, NY, USA -> New York, NY, USA: (40.71435, -74.00597)"
       ]
      },
      {
       "output_type": "stream",
       "stream": "stdout",
       "text": [
        "\n",
        "{u'website': u'twincities.startupweekend.org', u'city': u'Twin Cities', u'vertical': None, u'country': u'USA', 'lon': -93.20099979999999, u'facilitators': [{u'last_name': u'Reiser', u'first_name': u'Shane', u'_id': u'5029bfad9c398d02000008a2', u'name': u'Shane Reiser'}], u'id': 46, u'state': u'MN', 'full_loc': u'Twin Cities, MN, USA', u'location': {}, u'twitter_hashtag': None, 'lat': 44.9374831, u'start_date': u'2010-09-17T00:00:00.000Z'}"
       ]
      },
      {
       "output_type": "stream",
       "stream": "stdout",
       "text": [
        "\n",
        "45:Twin Cities, MN, USA -> Twin Cities, MN, USA: (44.93748, -93.20100)"
       ]
      },
      {
       "output_type": "stream",
       "stream": "stdout",
       "text": [
        "\n",
        "{u'website': u'toronto.startupweekend.org', u'city': u'Toronto', u'vertical': None, u'country': u'Canada', 'lon': -79.3831843, u'facilitators': [{u'last_name': u'Eben', u'first_name': u'Chris', u'_id': u'5011b56e91ac880200000950', u'name': u'Chris Eben'}], u'id': 47, u'state': u'ON', 'full_loc': u'Toronto, ON, Canada', u'location': {}, u'twitter_hashtag': None, 'lat': 43.653226, u'start_date': u'2010-09-24T00:00:00.000Z'}"
       ]
      },
      {
       "output_type": "stream",
       "stream": "stdout",
       "text": [
        "\n",
        "46:Toronto, ON, Canada -> Toronto, ON, Canada: (43.65323, -79.38318)"
       ]
      },
      {
       "output_type": "stream",
       "stream": "stdout",
       "text": [
        "\n",
        "{u'website': u'amsterdam.startupweekend.org', u'city': u'Amsterdam', u'vertical': None, u'country': u'Netherlands', 'lon': 4.895167900000001, u'facilitators': [{u'last_name': u'Digby', u'first_name': u'James', u'_id': u'5011b56e91ac880200000800', u'name': u'James Digby'}], u'id': 48, u'state': None, 'full_loc': u'Amsterdam, The Netherlands', u'location': {}, u'twitter_hashtag': None, 'lat': 52.3702157, u'start_date': u'2010-09-24T00:00:00.000Z'}"
       ]
      },
      {
       "output_type": "stream",
       "stream": "stdout",
       "text": [
        "\n",
        "47:Amsterdam,  , Netherlands -> Amsterdam, The Netherlands: (52.37022, 4.89517)"
       ]
      },
      {
       "output_type": "stream",
       "stream": "stdout",
       "text": [
        "\n",
        "{u'website': u'newbrunswick.startupweekend.org', u'city': u'New Brunswick', u'vertical': None, u'country': u'USA', 'lon': -74.4518188, u'facilitators': [], u'id': 50, u'state': u'NJ', 'full_loc': u'New Brunswick, NJ, USA', u'location': {}, u'twitter_hashtag': None, 'lat': 40.4862157, u'start_date': u'2010-09-24T00:00:00.000Z'}"
       ]
      },
      {
       "output_type": "stream",
       "stream": "stdout",
       "text": [
        "\n",
        "48:New Brunswick, NJ, USA -> New Brunswick, NJ, USA: (40.48622, -74.45182)"
       ]
      },
      {
       "output_type": "stream",
       "stream": "stdout",
       "text": [
        "\n",
        "{u'website': u'stuttgart.startupweekend.org', u'city': u'Stuttgart', u'vertical': None, u'country': u'Germany', 'lon': 9.181758799999999, u'facilitators': [{u'last_name': u'Nouyrigat', u'first_name': u'Franck', u'_id': u'5011b56e91ac88020000093e', u'name': u'Franck Nouyrigat'}], u'id': 49, u'state': None, 'full_loc': u'Stuttgart, Germany', u'location': {}, u'twitter_hashtag': None, 'lat': 48.7754181, u'start_date': u'2010-09-24T00:00:00.000Z'}"
       ]
      },
      {
       "output_type": "stream",
       "stream": "stdout",
       "text": [
        "\n",
        "49:Stuttgart,  , Germany -> Stuttgart, Germany: (48.77542, 9.18176)"
       ]
      },
      {
       "output_type": "stream",
       "stream": "stdout",
       "text": [
        "\n",
        "{u'website': u'paris.startupweekend.org', u'city': u'Paris', u'vertical': None, u'country': u'France', 'lon': 2.3522219, u'facilitators': [{u'last_name': u'Bostoni', u'first_name': u'Sacha', u'_id': u'5011b56e91ac880200000906', u'name': u'Sacha Bostoni'}], u'id': 52, u'state': None, 'full_loc': u'Paris, France', u'location': {}, u'twitter_hashtag': None, 'lat': 48.856614, u'start_date': u'2010-10-08T00:00:00.000Z'}"
       ]
      },
      {
       "output_type": "stream",
       "stream": "stdout",
       "text": [
        "\n",
        "50:Paris,  , France -> Paris, France: (48.85661, 2.35222)"
       ]
      },
      {
       "output_type": "stream",
       "stream": "stdout",
       "text": [
        "\n",
        "{u'website': u'vancouver.startupweekend.org', u'city': u'Vancouver', u'vertical': None, u'country': u'Canada', 'lon': -123.1139268, u'facilitators': [], u'id': 51, u'state': u'BC', 'full_loc': u'Vancouver, BC, Canada', u'location': {}, u'twitter_hashtag': None, 'lat': 49.261226, u'start_date': u'2010-10-08T00:00:00.000Z'}"
       ]
      },
      {
       "output_type": "stream",
       "stream": "stdout",
       "text": [
        "\n",
        "51:Vancouver, BC, Canada -> Vancouver, BC, Canada: (49.26123, -123.11393)"
       ]
      },
      {
       "output_type": "stream",
       "stream": "stdout",
       "text": [
        "\n",
        "{u'website': None, u'city': u'Berlin', u'vertical': None, u'country': u'Germany', 'lon': 13.4060912, u'facilitators': [], u'id': 53, u'state': None, 'full_loc': u'Berlin, Germany', u'location': {}, u'twitter_hashtag': None, 'lat': 52.519171, u'start_date': u'2010-10-10T00:00:00.000Z'}"
       ]
      },
      {
       "output_type": "stream",
       "stream": "stdout",
       "text": [
        "\n",
        "52:Berlin,  , Germany -> Berlin, Germany: (52.51917, 13.40609)"
       ]
      },
      {
       "output_type": "stream",
       "stream": "stdout",
       "text": [
        "\n",
        "{u'website': u'la.startupweekend.org', u'city': u'Los Angeles', u'vertical': None, u'country': u'USA', 'lon': -118.2436849, u'facilitators': [], u'id': 54, u'state': u'CA', 'full_loc': u'Los Angeles, CA, USA', u'location': {}, u'twitter_hashtag': None, 'lat': 34.0522342, u'start_date': u'2010-10-15T00:00:00.000Z'}"
       ]
      },
      {
       "output_type": "stream",
       "stream": "stdout",
       "text": [
        "\n",
        "53:Los Angeles, CA, USA -> Los Angeles, CA, USA: (34.05223, -118.24368)"
       ]
      },
      {
       "output_type": "stream",
       "stream": "stdout",
       "text": [
        "\n",
        "{u'website': u'milan.startupweekend.org', u'city': u'Milan', u'vertical': None, u'country': u'Italy', 'lon': 9.186516, u'facilitators': [], u'id': 57, u'state': None, 'full_loc': u'Milan, Italy', u'location': {}, u'twitter_hashtag': None, 'lat': 45.4654542, u'start_date': u'2010-10-15T00:00:00.000Z'}"
       ]
      },
      {
       "output_type": "stream",
       "stream": "stdout",
       "text": [
        "\n",
        "54:Milan,  , Italy -> Milan, Italy: (45.46545, 9.18652)"
       ]
      },
      {
       "output_type": "stream",
       "stream": "stdout",
       "text": [
        "\n",
        "{u'website': u'denver.startupweekend.org', u'city': u'Denver', u'vertical': None, u'country': u'USA', 'lon': -104.9847179, u'facilitators': [{u'last_name': u'Pomerenke', u'first_name': u'Joey', u'_id': u'5011b56e91ac8802000008f6', u'name': u'Joey Pomerenke'}], u'id': 58, u'state': u'CO', 'full_loc': u'Denver, CO, USA', u'location': {}, u'twitter_hashtag': None, 'lat': 39.737567, u'start_date': u'2010-10-15T00:00:00.000Z'}"
       ]
      },
      {
       "output_type": "stream",
       "stream": "stdout",
       "text": [
        "\n",
        "55:Denver, CO, USA -> Denver, CO, USA: (39.73757, -104.98472)"
       ]
      },
      {
       "output_type": "stream",
       "stream": "stdout",
       "text": [
        "\n",
        "{u'website': u'newengland.startupweekend.org', u'city': u'New England', u'vertical': None, u'country': u'USA', 'lon': -71.4774291, u'facilitators': [{u'last_name': u'Stelle', u'first_name': u'Adam', u'_id': u'5029bfad9c398d0200000922', u'name': u'Adam Stelle'}], u'id': 55, u'state': u'RI', 'full_loc': u'Rhode Island, USA', u'location': {}, u'twitter_hashtag': None, 'lat': 41.5800945, u'start_date': u'2010-10-15T00:00:00.000Z'}"
       ]
      },
      {
       "output_type": "stream",
       "stream": "stdout",
       "text": [
        "\n",
        "56:New England, RI, USA -> Rhode Island, USA: (41.58009, -71.47743)"
       ]
      },
      {
       "output_type": "stream",
       "stream": "stdout",
       "text": [
        "\n",
        "{u'website': None, u'city': u'Olympia', u'vertical': None, u'country': u'USA', 'lon': -122.9006951, u'facilitators': [{u'last_name': u'Comerford', u'first_name': u'Thubten', u'_id': u'5029bfad9c398d02000008bf', u'name': u'Thubten Comerford'}], u'id': 56, u'state': u'WA', 'full_loc': u'Olympia, WA, USA', u'location': {}, u'twitter_hashtag': None, 'lat': 47.0378741, u'start_date': u'2010-10-15T00:00:00.000Z'}"
       ]
      },
      {
       "output_type": "stream",
       "stream": "stdout",
       "text": [
        "\n",
        "57:Olympia, WA, USA -> Olympia, WA, USA: (47.03787, -122.90070)"
       ]
      },
      {
       "output_type": "stream",
       "stream": "stdout",
       "text": [
        "\n",
        "{u'website': None, u'city': u'Las Vegas', u'vertical': None, u'country': u'USA', 'lon': -115.172816, u'facilitators': [{u'last_name': u'Reiser', u'first_name': u'Shane', u'_id': u'5029bfad9c398d02000008a2', u'name': u'Shane Reiser'}], u'id': 59, u'state': u'NV', 'full_loc': u'Las Vegas, NV, USA', u'location': {}, u'twitter_hashtag': None, 'lat': 36.114646, u'start_date': u'2010-10-17T00:00:00.000Z'}"
       ]
      },
      {
       "output_type": "stream",
       "stream": "stdout",
       "text": [
        "\n",
        "58:Las Vegas, NV, USA -> Las Vegas, NV, USA: (36.11465, -115.17282)"
       ]
      },
      {
       "output_type": "stream",
       "stream": "stdout",
       "text": [
        "\n",
        "{u'website': None, u'city': u'Barcelona', u'vertical': None, u'country': u'Spain', 'lon': 2.1734035, u'facilitators': [], u'id': 62, u'state': None, 'full_loc': u'Barcelona, Spain', u'location': {}, u'twitter_hashtag': None, 'lat': 41.3850639, u'start_date': u'2010-10-22T00:00:00.000Z'}"
       ]
      },
      {
       "output_type": "stream",
       "stream": "stdout",
       "text": [
        "\n",
        "59:Barcelona,  , Spain -> Barcelona, Spain: (41.38506, 2.17340)"
       ]
      },
      {
       "output_type": "stream",
       "stream": "stdout",
       "text": [
        "\n",
        "{u'website': u'phoenix.startupweekend.org', u'city': u'Phoenix', u'vertical': None, u'country': u'USA', 'lon': -112.0740373, u'facilitators': [{u'last_name': u'Stelle', u'first_name': u'Adam', u'_id': u'5029bfad9c398d0200000922', u'name': u'Adam Stelle'}], u'id': 61, u'state': u'AZ', 'full_loc': u'Phoenix, AZ, USA', u'location': {}, u'twitter_hashtag': None, 'lat': 33.4483771, u'start_date': u'2010-10-22T00:00:00.000Z'}"
       ]
      },
      {
       "output_type": "stream",
       "stream": "stdout",
       "text": [
        "\n",
        "60:Phoenix, AZ, USA -> Phoenix, AZ, USA: (33.44838, -112.07404)"
       ]
      },
      {
       "output_type": "stream",
       "stream": "stdout",
       "text": [
        "\n",
        "{u'website': u'malaysia.startupweekend.org', u'city': u'Kuala Lumpur', u'vertical': None, u'country': u'Malaysia', 'lon': 101.686855, u'facilitators': [{u'last_name': u'Nager', u'first_name': u'Marc', u'_id': u'5011b56e91ac880200000977', u'name': u'Marc Nager'}], u'id': 60, u'state': None, 'full_loc': u'Kuala Lumpur, Federal Territory of Kuala Lumpur, Malaysia', u'location': {}, u'twitter_hashtag': None, 'lat': 3.139003, u'start_date': u'2010-10-22T00:00:00.000Z'}"
       ]
      },
      {
       "output_type": "stream",
       "stream": "stdout",
       "text": [
        "\n",
        "61:Kuala Lumpur,  , Malaysia -> Kuala Lumpur, Federal Territory of Kuala Lumpur, Malaysia: (3.13900, 101.68685)"
       ]
      },
      {
       "output_type": "stream",
       "stream": "stdout",
       "text": [
        "\n",
        "{u'website': u'rome.startupweekend.org', u'city': u'Rome', u'vertical': None, u'country': u'Italy', 'lon': 12.4825199, u'facilitators': [{u'last_name': u'Nelsen', u'first_name': u'Clint', u'_id': u'5029bfad9c398d0200000891', u'name': u'Clint Nelsen'}], u'id': 64, u'state': None, 'full_loc': u'Rome, Italy', u'location': {}, u'twitter_hashtag': None, 'lat': 41.8929163, u'start_date': u'2010-10-29T00:00:00.000Z'}"
       ]
      },
      {
       "output_type": "stream",
       "stream": "stdout",
       "text": [
        "\n",
        "62:Rome,  , Italy -> Rome, Italy: (41.89292, 12.48252)"
       ]
      },
      {
       "output_type": "stream",
       "stream": "stdout",
       "text": [
        "\n",
        "{u'website': u'seoul.startupweekend.org', u'city': u'Seoul', u'vertical': None, u'country': u'South Korea', 'lon': 126.9779692, u'facilitators': [{u'last_name': u'Li', u'first_name': u'Jonny', u'_id': u'5011b56e91ac8802000009d2', u'name': u'Jonny Li'}], u'id': 63, u'state': None, 'full_loc': u'Seoul, South Korea', u'location': {}, u'twitter_hashtag': None, 'lat': 37.566535, u'start_date': u'2010-10-29T00:00:00.000Z'}"
       ]
      },
      {
       "output_type": "stream",
       "stream": "stdout",
       "text": [
        "\n",
        "63:Seoul,  , South Korea -> Seoul, South Korea: (37.56654, 126.97797)"
       ]
      },
      {
       "output_type": "stream",
       "stream": "stdout",
       "text": [
        "\n",
        "{u'website': u'singapore.startupweekend.org', u'city': u'Singapore', u'vertical': None, u'country': u'Singapore', 'lon': 103.8509491, u'facilitators': [{u'last_name': u'Nager', u'first_name': u'Marc', u'_id': u'5011b56e91ac880200000977', u'name': u'Marc Nager'}], u'id': 65, u'state': None, 'full_loc': u'Singapore', u'location': {}, u'twitter_hashtag': None, 'lat': 1.2800945, u'start_date': u'2010-10-29T00:00:00.000Z'}"
       ]
      },
      {
       "output_type": "stream",
       "stream": "stdout",
       "text": [
        "\n",
        "64:Singapore,  , Singapore -> Singapore: (1.28009, 103.85095)"
       ]
      },
      {
       "output_type": "stream",
       "stream": "stdout",
       "text": [
        "\n",
        "{u'website': None, u'city': u'Kansas City', u'vertical': None, u'country': u'USA', 'lon': -94.5785667, u'facilitators': [], u'id': 66, u'state': u'MO', 'full_loc': u'Kansas City, MO, USA', u'location': {}, u'twitter_hashtag': None, 'lat': 39.0997265, u'start_date': u'2010-11-03T00:00:00.000Z'}"
       ]
      },
      {
       "output_type": "stream",
       "stream": "stdout",
       "text": [
        "\n",
        "65:Kansas City, MO, USA -> Kansas City, MO, USA: (39.09973, -94.57857)"
       ]
      },
      {
       "output_type": "stream",
       "stream": "stdout",
       "text": [
        "\n",
        "{u'website': None, u'city': u'Lansing', u'vertical': None, u'country': u'USA', 'lon': -84.5555347, u'facilitators': [], u'id': 67, u'state': u'MI', 'full_loc': u'Lansing, MI, USA', u'location': {}, u'twitter_hashtag': None, 'lat': 42.732535, u'start_date': u'2010-11-05T00:00:00.000Z'}"
       ]
      },
      {
       "output_type": "stream",
       "stream": "stdout",
       "text": [
        "\n",
        "66:Lansing, MI, USA -> Lansing, MI, USA: (42.73253, -84.55553)"
       ]
      },
      {
       "output_type": "stream",
       "stream": "stdout",
       "text": [
        "\n",
        "{u'website': u'geneve.startupweekend.org', u'city': u'Geneva', u'vertical': None, u'country': u'Switzerland', 'lon': 6.142296099999999, u'facilitators': [{u'last_name': u'Bostoni', u'first_name': u'Sacha', u'_id': u'5011b56e91ac880200000906', u'name': u'Sacha Bostoni'}], u'id': 68, u'state': None, 'full_loc': u'Geneva, Switzerland', u'location': {}, u'twitter_hashtag': None, 'lat': 46.1983922, u'start_date': u'2010-11-05T00:00:00.000Z'}"
       ]
      },
      {
       "output_type": "stream",
       "stream": "stdout",
       "text": [
        "\n",
        "67:Geneva,  , Switzerland -> Geneva, Switzerland: (46.19839, 6.14230)"
       ]
      },
      {
       "output_type": "stream",
       "stream": "stdout",
       "text": [
        "\n",
        "{u'website': u'chicago.startupweekend.org', u'city': u'Chicago', u'vertical': None, u'country': u'USA', 'lon': -87.6297982, u'facilitators': [{u'last_name': u'Bertrand', u'first_name': u'Mark', u'_id': u'5011b56e91ac8802000009c6', u'name': u'Mark Bertrand'}], u'id': 76, u'state': u'IL', 'full_loc': u'Chicago, IL, USA', u'location': {}, u'twitter_hashtag': None, 'lat': 41.8781136, u'start_date': u'2010-11-12T00:00:00.000Z'}"
       ]
      },
      {
       "output_type": "stream",
       "stream": "stdout",
       "text": [
        "\n",
        "68:Chicago, IL, USA -> Chicago, IL, USA: (41.87811, -87.62980)"
       ]
      },
      {
       "output_type": "stream",
       "stream": "stdout",
       "text": [
        "\n",
        "{u'website': u'beirut.startupweekend.org', u'city': u'Beirut', u'vertical': None, u'country': u'Lebanon', 'lon': 35.4954794, u'facilitators': [{u'last_name': u'Stelle', u'first_name': u'Adam', u'_id': u'5029bfad9c398d0200000922', u'name': u'Adam Stelle'}], u'id': 75, u'state': None, 'full_loc': u'Beirut, Lebanon', u'location': {u'lat': 33.8719444, u'lng': 35.5097222}, u'twitter_hashtag': None, 'lat': 33.8886289, u'start_date': u'2010-11-12T00:00:00.000Z'}"
       ]
      },
      {
       "output_type": "stream",
       "stream": "stdout",
       "text": [
        "\n",
        "69:Beirut,  , Lebanon -> Beirut, Lebanon: (33.88863, 35.49548)"
       ]
      },
      {
       "output_type": "stream",
       "stream": "stdout",
       "text": [
        "\n",
        "{u'website': u'indianapolis.startupweekend.org', u'city': u'Indianapolis', u'vertical': None, u'country': u'USA', 'lon': -86.158068, u'facilitators': [{u'last_name': u'Ball', u'first_name': u'Lorraine', u'_id': u'5011b56e91ac88020000091a', u'name': u'Lorraine Ball'}], u'id': 72, u'state': u'IN', 'full_loc': u'Indianapolis, IN, USA', u'location': {}, u'twitter_hashtag': u'#swindy', 'lat': 39.768403, u'start_date': u'2010-11-12T00:00:00.000Z'}"
       ]
      },
      {
       "output_type": "stream",
       "stream": "stdout",
       "text": [
        "\n",
        "70:Indianapolis, IN, USA -> Indianapolis, IN, USA: (39.76840, -86.15807)"
       ]
      },
      {
       "output_type": "stream",
       "stream": "stdout",
       "text": [
        "\n",
        "{u'website': u'lexington.startupweekend.org', u'city': u'Lexington', u'vertical': None, u'country': u'USA', 'lon': -84.5037164, u'facilitators': [{u'last_name': u'Raney', u'first_name': u'Brian', u'_id': u'5011b56f91ac880200000d4c', u'name': u'Brian Raney'}], u'id': 70, u'state': u'KY', 'full_loc': u'Lexington, KY, USA', u'location': {}, u'twitter_hashtag': u'#swlex', 'lat': 38.0405837, u'start_date': u'2010-11-12T00:00:00.000Z'}"
       ]
      },
      {
       "output_type": "stream",
       "stream": "stdout",
       "text": [
        "\n",
        "71:Lexington, KY, USA -> Lexington, KY, USA: (38.04058, -84.50372)"
       ]
      },
      {
       "output_type": "stream",
       "stream": "stdout",
       "text": [
        "\n",
        "{u'website': u'sofia.startupweekend.org', u'city': u'Sofia', u'vertical': None, u'country': u'Bulgaria', 'lon': 23.3216697, u'facilitators': [{u'last_name': u'Foster', u'first_name': u'Anca', u'_id': u'5011b56e91ac88020000083e', u'name': u'Anca Foster'}], u'id': 69, u'state': None, 'full_loc': u'Sofia, Bulgaria', u'location': {}, u'twitter_hashtag': None, 'lat': 42.6978388, u'start_date': u'2010-11-12T00:00:00.000Z'}"
       ]
      },
      {
       "output_type": "stream",
       "stream": "stdout",
       "text": [
        "\n",
        "72:Sofia,  , Bulgaria -> Sofia, Bulgaria: (42.69784, 23.32167)"
       ]
      },
      {
       "output_type": "stream",
       "stream": "stdout",
       "text": [
        "\n",
        "{u'website': u'cleveland.startupweekend.org', u'city': u'Cleveland', u'vertical': None, u'country': u'USA', 'lon': -81.6954088, u'facilitators': [], u'id': 78, u'state': u'OH', 'full_loc': u'Cleveland, OH, USA', u'location': {}, u'twitter_hashtag': None, 'lat': 41.4994954, u'start_date': u'2010-11-12T00:00:00.000Z'}"
       ]
      },
      {
       "output_type": "stream",
       "stream": "stdout",
       "text": [
        "\n",
        "73:Cleveland, OH, USA -> Cleveland, OH, USA: (41.49950, -81.69541)"
       ]
      },
      {
       "output_type": "stream",
       "stream": "stdout",
       "text": [
        "\n",
        "{u'website': u'idaho.startupweekend.org', u'city': u'Boise', u'vertical': None, u'country': u'USA', 'lon': -116.2146068, u'facilitators': [], u'id': 79, u'state': u'ID', 'full_loc': u'Boise, ID, USA', u'location': {}, u'twitter_hashtag': None, 'lat': 43.6187102, u'start_date': u'2010-11-12T00:00:00.000Z'}"
       ]
      },
      {
       "output_type": "stream",
       "stream": "stdout",
       "text": [
        "\n",
        "74:Boise, ID, USA -> Boise, ID, USA: (43.61871, -116.21461)"
       ]
      },
      {
       "output_type": "stream",
       "stream": "stdout",
       "text": [
        "\n",
        "{u'website': u'portland.startupweekend.org', u'city': u'Portland', u'vertical': None, u'country': u'USA', 'lon': -122.6762071, u'facilitators': [{u'last_name': u'Comerford', u'first_name': u'Thubten', u'_id': u'5029bfad9c398d02000008bf', u'name': u'Thubten Comerford'}], u'id': 71, u'state': u'OR', 'full_loc': u'Portland, OR, USA', u'location': {}, u'twitter_hashtag': None, 'lat': 45.5234515, u'start_date': u'2010-11-12T00:00:00.000Z'}"
       ]
      },
      {
       "output_type": "stream",
       "stream": "stdout",
       "text": [
        "\n",
        "75:Portland, OR, USA -> Portland, OR, USA: (45.52345, -122.67621)"
       ]
      },
      {
       "output_type": "stream",
       "stream": "stdout",
       "text": [
        "\n",
        "{u'website': u'boston.startupweekend.org', u'city': u'Boston', u'vertical': None, u'country': u'USA', 'lon': -71.0597732, u'facilitators': [{u'last_name': u'Nelsen', u'first_name': u'Clint', u'_id': u'5029bfad9c398d0200000891', u'name': u'Clint Nelsen'}], u'id': 81, u'state': u'MA', 'full_loc': u'Boston, MA, USA', u'location': {}, u'twitter_hashtag': None, 'lat': 42.3584308, u'start_date': u'2010-11-12T00:00:00.000Z'}"
       ]
      },
      {
       "output_type": "stream",
       "stream": "stdout",
       "text": [
        "\n",
        "76:Boston, MA, USA -> Boston, MA, USA: (42.35843, -71.05977)"
       ]
      },
      {
       "output_type": "stream",
       "stream": "stdout",
       "text": [
        "\n",
        "{u'website': u'uw.startupweekend.org', u'city': u'Seattle', u'vertical': None, u'country': u'USA', 'lon': -122.3320708, u'facilitators': [{u'last_name': u'Nager', u'first_name': u'Marc', u'_id': u'5011b56e91ac880200000977', u'name': u'Marc Nager'}], u'id': 73, u'state': u'WA', 'full_loc': u'Seattle, WA, USA', u'location': {}, u'twitter_hashtag': None, 'lat': 47.6062095, u'start_date': u'2010-11-12T00:00:00.000Z'}"
       ]
      },
      {
       "output_type": "stream",
       "stream": "stdout",
       "text": [
        "\n",
        "77:Seattle, WA, USA -> Seattle, WA, USA: (47.60621, -122.33207)"
       ]
      },
      {
       "output_type": "stream",
       "stream": "stdout",
       "text": [
        "\n",
        "{u'website': u'detroit.startupweekend.org', u'city': u'Detroit', u'vertical': None, u'country': u'USA', 'lon': -83.0457538, u'facilitators': [], u'id': 82, u'state': u'MI', 'full_loc': u'Detroit, MI, USA', u'location': {u'lat': 42.3313889, u'lng': -83.0458333}, u'twitter_hashtag': None, 'lat': 42.331427, u'start_date': u'2010-11-12T00:00:00.000Z'}"
       ]
      },
      {
       "output_type": "stream",
       "stream": "stdout",
       "text": [
        "\n",
        "78:Detroit, MI, USA -> Detroit, MI, USA: (42.33143, -83.04575)"
       ]
      },
      {
       "output_type": "stream",
       "stream": "stdout",
       "text": [
        "\n",
        "{u'website': u'tulsa.startupweekend.org', u'city': u'Tulsa', u'vertical': None, u'country': u'USA', 'lon': -95.99277500000001, u'facilitators': [{u'last_name': u'Phillips', u'first_name': u'Scott', u'_id': u'5011b56e91ac880200000b2e', u'name': u'Scott Phillips'}], u'id': 80, u'state': u'OK', 'full_loc': u'Tulsa, OK, USA', u'location': {u'lat': 36.1539816, u'lng': -95.992775}, u'twitter_hashtag': None, 'lat': 36.1539816, u'start_date': u'2010-11-12T00:00:00.000Z'}"
       ]
      },
      {
       "output_type": "stream",
       "stream": "stdout",
       "text": [
        "\n",
        "79:Tulsa, OK, USA -> Tulsa, OK, USA: (36.15398, -95.99278)"
       ]
      },
      {
       "output_type": "stream",
       "stream": "stdout",
       "text": [
        "\n",
        "{u'website': u'nyc.startupweekend.org', u'city': u'New York City', u'vertical': None, u'country': u'USA', 'lon': -74.00597309999999, u'facilitators': [{u'last_name': u'Reiser', u'first_name': u'Shane', u'_id': u'5029bfad9c398d02000008a2', u'name': u'Shane Reiser'}], u'id': 74, u'state': u'NY', 'full_loc': u'New York, NY, USA', u'location': {}, u'twitter_hashtag': None, 'lat': 40.7143528, u'start_date': u'2010-11-12T00:00:00.000Z'}"
       ]
      },
      {
       "output_type": "stream",
       "stream": "stdout",
       "text": [
        "\n",
        "80:New York City, NY, USA -> New York, NY, USA: (40.71435, -74.00597)"
       ]
      },
      {
       "output_type": "stream",
       "stream": "stdout",
       "text": [
        "\n",
        "{u'website': u'dallas.startupweekend.org', u'city': u'Dallas', u'vertical': None, u'country': u'USA', 'lon': -96.80045109999999, u'facilitators': [{u'last_name': u'Pomerenke', u'first_name': u'Joey', u'_id': u'5011b56e91ac8802000008f6', u'name': u'Joey Pomerenke'}], u'id': 77, u'state': u'TX', 'full_loc': u'Dallas, TX, USA', u'location': {}, u'twitter_hashtag': None, 'lat': 32.7801399, u'start_date': u'2010-11-12T00:00:00.000Z'}"
       ]
      },
      {
       "output_type": "stream",
       "stream": "stdout",
       "text": [
        "\n",
        "81:Dallas, TX, USA -> Dallas, TX, USA: (32.78014, -96.80045)"
       ]
      },
      {
       "output_type": "stream",
       "stream": "stdout",
       "text": [
        "\n",
        "{u'website': None, u'city': u'Athens', u'vertical': None, u'country': u'Greece', 'lon': 23.7293097, u'facilitators': [{u'last_name': u'Digby', u'first_name': u'James', u'_id': u'5011b56e91ac880200000800', u'name': u'James Digby'}], u'id': 88, u'state': None, 'full_loc': u'Athens, Greece', u'location': {u'lat': 37.9833333, u'lng': 23.7333333}, u'twitter_hashtag': None, 'lat': 37.9837155, u'start_date': u'2010-11-19T00:00:00.000Z'}"
       ]
      },
      {
       "output_type": "stream",
       "stream": "stdout",
       "text": [
        "\n",
        "82:Athens,  , Greece -> Athens, Greece: (37.98372, 23.72931)"
       ]
      },
      {
       "output_type": "stream",
       "stream": "stdout",
       "text": [
        "\n",
        "{u'website': u'bayarea.startupweekend.org', u'city': u'San Francisco', u'vertical': u'WOMEN', u'country': u'USA', 'lon': -122.4194155, u'facilitators': [{u'last_name': u'Nager', u'first_name': u'Marc', u'_id': u'5011b56e91ac880200000977', u'name': u'Marc Nager'}], u'id': 86, u'state': u'CA', 'full_loc': u'San Francisco, CA, USA', u'location': {}, u'twitter_hashtag': None, 'lat': 37.7749295, u'start_date': u'2010-11-19T00:00:00.000Z'}"
       ]
      },
      {
       "output_type": "stream",
       "stream": "stdout",
       "text": [
        "\n",
        "83:San Francisco, CA, USA -> San Francisco, CA, USA: (37.77493, -122.41942)"
       ]
      },
      {
       "output_type": "stream",
       "stream": "stdout",
       "text": [
        "\n",
        "{u'website': None, u'city': u'Beijing', u'vertical': None, u'country': u'China', 'lon': 116.407526, u'facilitators': [{u'last_name': u'Li', u'first_name': u'Jonny', u'_id': u'5011b56e91ac8802000009d2', u'name': u'Jonny Li'}], u'id': 89, u'state': None, 'full_loc': u'Beijing, China', u'location': {}, u'twitter_hashtag': None, 'lat': 39.90403, u'start_date': u'2010-11-19T00:00:00.000Z'}"
       ]
      },
      {
       "output_type": "stream",
       "stream": "stdout",
       "text": [
        "\n",
        "84:Beijing,  , China -> Beijing, China: (39.90403, 116.40753)"
       ]
      },
      {
       "output_type": "stream",
       "stream": "stdout",
       "text": [
        "\n",
        "{u'website': u'miami.startupweekend.org', u'city': u'Miami', u'vertical': None, u'country': u'USA', 'lon': -80.2264393, u'facilitators': [{u'last_name': u'Bertrand', u'first_name': u'Mark', u'_id': u'5011b56e91ac8802000009c6', u'name': u'Mark Bertrand'}], u'id': 84, u'state': u'FL', 'full_loc': u'Miami, FL, USA', u'location': {}, u'twitter_hashtag': None, 'lat': 25.7889689, u'start_date': u'2010-11-19T00:00:00.000Z'}"
       ]
      },
      {
       "output_type": "stream",
       "stream": "stdout",
       "text": [
        "\n",
        "85:Miami, FL, USA -> Miami, FL, USA: (25.78897, -80.22644)"
       ]
      },
      {
       "output_type": "stream",
       "stream": "stdout",
       "text": [
        "\n",
        "{u'website': u'chihuahua.startupweekend.org', u'city': u'Chihuahua', u'vertical': None, u'country': u'Mexico', 'lon': -106.0737, u'facilitators': [{u'last_name': u'Dani', u'first_name': u'Adam', u'_id': u'5011b56e91ac8802000008e8', u'name': u'Adam Dani'}], u'id': 85, u'state': None, 'full_loc': u'Chihuahua, Mexico', u'location': {u'lat': 28.633333, u'lng': -106.083333}, u'twitter_hashtag': u'#swchihuahua', 'lat': 28.630581, u'start_date': u'2010-11-19T00:00:00.000Z'}"
       ]
      },
      {
       "output_type": "stream",
       "stream": "stdout",
       "text": [
        "\n",
        "86:Chihuahua,  , Mexico -> Chihuahua, Mexico: (28.63058, -106.07370)"
       ]
      },
      {
       "output_type": "stream",
       "stream": "stdout",
       "text": [
        "\n",
        "{u'website': None, u'city': u'Reykjavik', u'vertical': None, u'country': u'Iceland', 'lon': -21.89521, u'facilitators': [{u'last_name': u'Nouyrigat', u'first_name': u'Franck', u'_id': u'5011b56e91ac88020000093e', u'name': u'Franck Nouyrigat'}], u'id': 90, u'state': None, 'full_loc': u'Reykjavik, Iceland', u'location': {}, u'twitter_hashtag': None, 'lat': 64.13533799999999, u'start_date': u'2010-11-19T00:00:00.000Z'}"
       ]
      },
      {
       "output_type": "stream",
       "stream": "stdout",
       "text": [
        "\n",
        "87:Reykjavik,  , Iceland -> Reykjavik, Iceland: (64.13534, -21.89521)"
       ]
      },
      {
       "output_type": "stream",
       "stream": "stdout",
       "text": [
        "\n",
        "{u'website': u'saopaulo.startupweekend.org', u'city': u'Sao Paulo', u'vertical': None, u'country': u'Brazil', 'lon': -46.6388182, u'facilitators': [{u'last_name': u'Reiser', u'first_name': u'Shane', u'_id': u'5029bfad9c398d02000008a2', u'name': u'Shane Reiser'}], u'id': 83, u'state': None, 'full_loc': u'S\\xe3o Paulo, Brazil', u'location': {u'lat': -23.5333333, u'lng': -46.6166667}, u'twitter_hashtag': None, 'lat': -23.5489433, u'start_date': u'2010-11-19T00:00:00.000Z'}"
       ]
      },
      {
       "output_type": "stream",
       "stream": "stdout",
       "text": [
        "\n",
        "88:Sao Paulo,  , Brazil -> S\u00e3o Paulo, Brazil: (-23.54894, -46.63882)"
       ]
      },
      {
       "output_type": "stream",
       "stream": "stdout",
       "text": [
        "\n",
        "{u'website': None, u'city': u'Minneapolis', u'vertical': None, u'country': u'USA', 'lon': -93.26666999999999, u'facilitators': [{u'last_name': u'Nelsen', u'first_name': u'Clint', u'_id': u'5029bfad9c398d0200000891', u'name': u'Clint Nelsen'}], u'id': 87, u'state': u'MN', 'full_loc': u'Minneapolis, MN, USA', u'location': {}, u'twitter_hashtag': None, 'lat': 44.983334, u'start_date': u'2010-11-19T00:00:00.000Z'}"
       ]
      },
      {
       "output_type": "stream",
       "stream": "stdout",
       "text": [
        "\n",
        "89:Minneapolis, MN, USA -> Minneapolis, MN, USA: (44.98333, -93.26667)"
       ]
      },
      {
       "output_type": "stream",
       "stream": "stdout",
       "text": [
        "\n",
        "{u'website': u'bucharest.startupweekend.org', u'city': u'Bucharest', u'vertical': None, u'country': u'Romania', 'lon': 26.1038889, u'facilitators': [{u'last_name': u'Foster', u'first_name': u'Anca', u'_id': u'5011b56e91ac88020000083e', u'name': u'Anca Foster'}], u'id': 91, u'state': None, 'full_loc': u'Bucharest, Romania', u'location': {}, u'twitter_hashtag': u'#swbucharest', 'lat': 44.4325, u'start_date': u'2010-11-26T00:00:00.000Z'}"
       ]
      },
      {
       "output_type": "stream",
       "stream": "stdout",
       "text": [
        "\n",
        "90:Bucharest,  , Romania -> Bucharest, Romania: (44.43250, 26.10389)"
       ]
      },
      {
       "output_type": "stream",
       "stream": "stdout",
       "text": [
        "\n",
        "{u'website': u'toulouse.startupweekend.org', u'city': u'Toulouse', u'vertical': None, u'country': u'France', 'lon': 1.444209, u'facilitators': [{u'last_name': u'Braun', u'first_name': u'Willy', u'_id': u'50322400a830a202001486ad', u'name': u'Willy Braun'}], u'id': 92, u'state': None, 'full_loc': u'Toulouse, France', u'location': {}, u'twitter_hashtag': None, 'lat': 43.604652, u'start_date': u'2010-11-26T00:00:00.000Z'}"
       ]
      },
      {
       "output_type": "stream",
       "stream": "stdout",
       "text": [
        "\n",
        "91:Toulouse,  , France -> Toulouse, France: (43.60465, 1.44421)"
       ]
      },
      {
       "output_type": "stream",
       "stream": "stdout",
       "text": [
        "\n",
        "{u'website': u'marseille.startupweekend.org', u'city': u'Marseille', u'vertical': None, u'country': u'France', 'lon': 5.36978, u'facilitators': [{u'last_name': u'Bostoni', u'first_name': u'Sacha', u'_id': u'5011b56e91ac880200000906', u'name': u'Sacha Bostoni'}], u'id': 94, u'state': None, 'full_loc': u'Marseille, France', u'location': {}, u'twitter_hashtag': None, 'lat': 43.296482, u'start_date': u'2010-12-03T00:00:00.000Z'}"
       ]
      },
      {
       "output_type": "stream",
       "stream": "stdout",
       "text": [
        "\n",
        "92:Marseille,  , France -> Marseille, France: (43.29648, 5.36978)"
       ]
      },
      {
       "output_type": "stream",
       "stream": "stdout",
       "text": [
        "\n",
        "{u'website': u'moscow.startupweekend.org/', u'city': u'Moscow', u'vertical': None, u'country': u'Russia', 'lon': 37.62368, u'facilitators': [], u'id': 93, u'state': None, 'full_loc': u'Moscow, Russia', u'location': {}, u'twitter_hashtag': None, 'lat': 55.749646, u'start_date': u'2010-12-03T00:00:00.000Z'}"
       ]
      },
      {
       "output_type": "stream",
       "stream": "stdout",
       "text": [
        "\n",
        "93:Moscow,  , Russia -> Moscow, Russia: (55.74965, 37.62368)"
       ]
      },
      {
       "output_type": "stream",
       "stream": "stdout",
       "text": [
        "\n",
        "{u'website': u'santiago.startupweekend.org', u'city': u'Santiago', u'vertical': None, u'country': u'Chile', 'lon': -70.641997, u'facilitators': [{u'last_name': u'Nouyrigat', u'first_name': u'Franck', u'_id': u'5011b56e91ac88020000093e', u'name': u'Franck Nouyrigat'}], u'id': 96, u'state': None, 'full_loc': u'Santiago, Santiago Metropolitan Region, Chile', u'location': {}, u'twitter_hashtag': None, 'lat': -33.4691199, u'start_date': u'2010-12-10T00:00:00.000Z'}"
       ]
      },
      {
       "output_type": "stream",
       "stream": "stdout",
       "text": [
        "\n",
        "94:Santiago,  , Chile -> Santiago, Santiago Metropolitan Region, Chile: (-33.46912, -70.64200)"
       ]
      },
      {
       "output_type": "stream",
       "stream": "stdout",
       "text": [
        "\n",
        "{u'website': u'redmond.startupweekend.org', u'city': u'Redmond', u'vertical': None, u'country': u'USA', 'lon': -122.121512, u'facilitators': [{u'last_name': u'Nager', u'first_name': u'Marc', u'_id': u'5011b56e91ac880200000977', u'name': u'Marc Nager'}, {u'last_name': u'Stelle', u'first_name': u'Adam', u'_id': u'5029bfad9c398d0200000922', u'name': u'Adam Stelle'}], u'id': 95, u'state': u'CA', 'full_loc': u'Redmond, WA, USA', u'location': {}, u'twitter_hashtag': None, 'lat': 47.6739881, u'start_date': u'2010-12-10T00:00:00.000Z'}"
       ]
      },
      {
       "output_type": "stream",
       "stream": "stdout",
       "text": [
        "\n",
        "95:Redmond, CA, USA -> Redmond, WA, USA: (47.67399, -122.12151)"
       ]
      },
      {
       "output_type": "stream",
       "stream": "stdout",
       "text": [
        "\n",
        "{u'website': u'columbus.startupweekend.org', u'city': u'Columbus', u'vertical': None, u'country': u'USA', 'lon': -82.99879419999999, u'facilitators': [{u'last_name': u'Seguin', u'first_name': u'Nick', u'_id': u'5011b56e91ac88020000096f', u'name': u'Nick Seguin'}], u'id': 98, u'state': u'OH', 'full_loc': u'Columbus, OH, USA', u'location': {u'lat': 39.969036, u'lng': -83.011389}, u'twitter_hashtag': u'#swc11', 'lat': 39.9611755, u'start_date': u'2011-01-14T00:00:00.000Z'}"
       ]
      },
      {
       "output_type": "stream",
       "stream": "stdout",
       "text": [
        "\n",
        "96:Columbus, OH, USA -> Columbus, OH, USA: (39.96118, -82.99879)"
       ]
      },
      {
       "output_type": "stream",
       "stream": "stdout",
       "text": [
        "\n",
        "{u'website': u'wmi.startupweekend.org', u'city': u'West Michigan', u'vertical': None, u'country': u'USA', 'lon': -85.60236429999999, u'facilitators': [{u'last_name': u'Cross', u'first_name': u'Sterling', u'_id': u'5029bfad9c398d02000008cb', u'name': u'Sterling Cross'}], u'id': 97, u'state': u'MI', 'full_loc': u'Michigan, USA', u'location': {u'lat': 43.02647, u'lng': -83.708389}, u'twitter_hashtag': u'#swmi', 'lat': 44.3148443, u'start_date': u'2011-01-14T00:00:00.000Z'}"
       ]
      },
      {
       "output_type": "stream",
       "stream": "stdout",
       "text": [
        "\n",
        "97:West Michigan, MI, USA -> West, Berrien Springs, MI 49103, USA: (41.94748, -86.34453)"
       ]
      },
      {
       "output_type": "stream",
       "stream": "stdout",
       "text": [
        "\n",
        "{u'website': u'um.startupweekend.org', u'city': u'Ann Arbor', u'vertical': None, u'country': u'USA', 'lon': -83.7430378, u'facilitators': [], u'id': 99, u'state': u'MI', 'full_loc': u'Ann Arbor, MI, USA', u'location': {u'lat': 42.281875, u'lng': -83.748479}, u'twitter_hashtag': u'#swuofm', 'lat': 42.2808256, u'start_date': u'2011-01-21T00:00:00.000Z'}"
       ]
      },
      {
       "output_type": "stream",
       "stream": "stdout",
       "text": [
        "\n",
        "98:Ann Arbor, MI, USA -> Ann Arbor, MI, USA: (42.28083, -83.74304)"
       ]
      },
      {
       "output_type": "stream",
       "stream": "stdout",
       "text": [
        "\n",
        "{u'website': u'brussels.startupweekend.org', u'city': u'Brussels', u'vertical': None, u'country': u'Belgium', 'lon': 4.3517103, u'facilitators': [{u'last_name': u'Stelle', u'first_name': u'Adam', u'_id': u'5029bfad9c398d0200000922', u'name': u'Adam Stelle'}], u'id': 100, u'state': None, 'full_loc': u'City of Brussels, Belgium', u'location': {u'lat': 50.848385, u'lng': 4.349685}, u'twitter_hashtag': u'#swbru', 'lat': 50.8503396, u'start_date': u'2011-01-28T00:00:00.000Z'}"
       ]
      },
      {
       "output_type": "stream",
       "stream": "stdout",
       "text": [
        "\n",
        "99:Brussels,  , Belgium -> City of Brussels, Belgium: (50.85034, 4.35171)"
       ]
      },
      {
       "output_type": "stream",
       "stream": "stdout",
       "text": [
        "\n",
        "{u'website': u'philly.startupweekend.org', u'city': u'Philadelphia', u'vertical': None, u'country': u'USA', 'lon': -75.16378900000001, u'facilitators': [{u'last_name': u'Nelsen', u'first_name': u'Clint', u'_id': u'5029bfad9c398d0200000891', u'name': u'Clint Nelsen'}], u'id': 102, u'state': u'PA', 'full_loc': u'Philadelphia, PA, USA', u'location': {u'lat': 39.9522222, u'lng': -75.1641667}, u'twitter_hashtag': u'#phlsw', 'lat': 39.952335, u'start_date': u'2011-01-28T00:00:00.000Z'}"
       ]
      },
      {
       "output_type": "stream",
       "stream": "stdout",
       "text": [
        "\n",
        "100:Philadelphia, PA, USA -> Philadelphia, PA, USA: (39.95233, -75.16379)"
       ]
      },
      {
       "output_type": "stream",
       "stream": "stdout",
       "text": [
        "\n",
        "{u'website': u'oslo.startupweekend.org', u'city': u'Oslo', u'vertical': None, u'country': u'Norway', 'lon': 10.7522454, u'facilitators': [{u'last_name': u'Sechrest', u'first_name': u'John', u'_id': u'5011b56e91ac88020000081e', u'name': u'John Sechrest'}], u'id': 101, u'state': None, 'full_loc': u'Oslo, Norway', u'location': {u'lat': 59.91228, u'lng': 10.74998}, u'twitter_hashtag': u'#swoslo', 'lat': 59.9138688, u'start_date': u'2011-01-28T00:00:00.000Z'}"
       ]
      },
      {
       "output_type": "stream",
       "stream": "stdout",
       "text": [
        "\n",
        "101:Oslo,  , Norway -> Oslo, Norway: (59.91387, 10.75225)"
       ]
      },
      {
       "output_type": "stream",
       "stream": "stdout",
       "text": [
        "\n",
        "{u'website': u'aarhus.startupweekend.org', u'city': u'Aarhus', u'vertical': None, u'country': u'Denmark', 'lon': 10.203921, u'facilitators': [], u'id': 103, u'state': None, 'full_loc': u'Aarhus, Denmark', u'location': {u'lat': 56.153005, u'lng': 10.204525}, u'twitter_hashtag': u'#swaar', 'lat': 56.162939, u'start_date': u'2011-02-04T00:00:00.000Z'}"
       ]
      },
      {
       "output_type": "stream",
       "stream": "stdout",
       "text": [
        "\n",
        "102:Aarhus,  , Denmark -> Aarhus, Denmark: (56.16294, 10.20392)"
       ]
      },
      {
       "output_type": "stream",
       "stream": "stdout",
       "text": [
        "\n",
        "{u'website': u'edmonton.startupweekend.org', u'city': u'Edmonton', u'vertical': None, u'country': u'Canada', 'lon': -113.4909267, u'facilitators': [{u'last_name': u'Linke', u'first_name': u'Cam', u'_id': u'5011b56e91ac8802000008ea', u'name': u'Cam Linke'}], u'id': 105, u'state': u'AB', 'full_loc': u'Edmonton, AB, Canada', u'location': {u'lat': 53.54622, u'lng': -113.490374}, u'twitter_hashtag': u'#swedmonton', 'lat': 53.544389, u'start_date': u'2011-02-11T00:00:00.000Z'}"
       ]
      },
      {
       "output_type": "stream",
       "stream": "stdout",
       "text": [
        "\n",
        "103:Edmonton, AB, Canada -> Edmonton, AB, Canada: (53.54439, -113.49093)"
       ]
      },
      {
       "output_type": "stream",
       "stream": "stdout",
       "text": [
        "\n",
        "{u'website': u'ou.startupweekend.org', u'city': u'Oklahoma City', u'vertical': None, u'country': u'USA', 'lon': -97.5164276, u'facilitators': [{u'last_name': u'Dani', u'first_name': u'Adam', u'_id': u'5011b56e91ac8802000008e8', u'name': u'Adam Dani'}], u'id': 104, u'state': u'OK', 'full_loc': u'Oklahoma City, OK, USA', u'location': {u'lat': 35.208248, u'lng': -97.445602}, u'twitter_hashtag': u'#swou', 'lat': 35.4675602, u'start_date': u'2011-02-11T00:00:00.000Z'}"
       ]
      },
      {
       "output_type": "stream",
       "stream": "stdout",
       "text": [
        "\n",
        "104:Oklahoma City, OK, USA -> Oklahoma City, OK, USA: (35.46756, -97.51643)"
       ]
      },
      {
       "output_type": "stream",
       "stream": "stdout",
       "text": [
        "\n",
        "{u'website': u'nantes.startupweekend.org', u'city': u'Nantes', u'vertical': None, u'country': u'France', 'lon': -1.553621, u'facilitators': [{u'last_name': u'Stelle', u'first_name': u'Adam', u'_id': u'5029bfad9c398d0200000922', u'name': u'Adam Stelle'}], u'id': 106, u'state': None, 'full_loc': u'Nantes, France', u'location': {u'lat': 47.218115, u'lng': -1.553059}, u'twitter_hashtag': u'#swna', 'lat': 47.218371, u'start_date': u'2011-02-18T00:00:00.000Z'}"
       ]
      },
      {
       "output_type": "stream",
       "stream": "stdout",
       "text": [
        "\n",
        "105:Nantes,  , France -> Nantes, France: (47.21837, -1.55362)"
       ]
      },
      {
       "output_type": "stream",
       "stream": "stdout",
       "text": [
        "\n",
        "{u'website': u'lyon.startupweekend.org', u'city': u'Lyon', u'vertical': None, u'country': u'France', u'facilitators': [{u'last_name': u'Dorsaz', u'first_name': u'Cyril', u'_id': u'5011b56e91ac8802000008ec', u'name': u'Cyril Dorsaz'}], u'id': 107, u'location': {u'lat': 45.759399, u'lng': 4.82897}, u'twitter_hashtag': u'#swlyon', u'start_date': u'2011-02-18T00:00:00.000Z'}"
       ]
      },
      {
       "output_type": "stream",
       "stream": "stdout",
       "text": [
        "\n",
        "106:Lyon,  , France -> Lyon, France: (45.76404, 4.83566)"
       ]
      },
      {
       "output_type": "stream",
       "stream": "stdout",
       "text": [
        "\n",
        "{u'website': u'la.startupweekend.org', u'city': u'Los Angeles', u'vertical': None, u'country': u'USA', u'facilitators': [], u'id': 109, u'state': u'CA', u'location': {u'lat': 34.05349, u'lng': -118.245319}, u'twitter_hashtag': u'#lasw', u'start_date': u'2011-02-18T00:00:00.000Z'}"
       ]
      },
      {
       "output_type": "stream",
       "stream": "stdout",
       "text": [
        "\n",
        "107:Los Angeles, CA, USA -> Los Angeles, CA, USA: (34.05223, -118.24368)"
       ]
      },
      {
       "output_type": "stream",
       "stream": "stdout",
       "text": [
        "\n",
        "{u'website': u'eindhoven.startupweekend.org', u'city': u'Eindhoven', u'vertical': None, u'country': u'Netherlands', u'facilitators': [{u'last_name': u'Digby', u'first_name': u'James', u'_id': u'5011b56e91ac880200000800', u'name': u'James Digby'}], u'id': 108, u'location': {u'lat': 51.43447, u'lng': 5.484105}, u'twitter_hashtag': u'#swhightech', u'start_date': u'2011-02-18T00:00:00.000Z'}"
       ]
      },
      {
       "output_type": "stream",
       "stream": "stdout",
       "text": [
        "\n",
        "108:Eindhoven,  , Netherlands -> Eindhoven, The Netherlands: (51.44164, 5.46972)"
       ]
      },
      {
       "output_type": "stream",
       "stream": "stdout",
       "text": [
        "\n",
        "{u'website': u'telaviv.startupweekend.org', u'city': u'Tel Aviv', u'vertical': None, u'country': u'Israel', u'facilitators': [{u'last_name': u'Bob', u'first_name': u'Josh', u'_id': u'5011b56e91ac880200000aed', u'name': u'Josh Bob'}], u'id': 110, u'state': None, u'location': {u'lat': 32.045101, u'lng': 34.769711}, u'twitter_hashtag': u'#swtlv', u'start_date': u'2011-02-23T00:00:00.000Z'}"
       ]
      },
      {
       "output_type": "stream",
       "stream": "stdout",
       "text": [
        "\n",
        "109:Tel Aviv,  , Israel -> Tel Aviv, Israel: (32.06616, 34.77782)"
       ]
      },
      {
       "output_type": "stream",
       "stream": "stdout",
       "text": [
        "\n",
        "{u'website': u'dublin.startupweekend.org', u'city': u'Dublin', u'vertical': None, u'country': u'Ireland', u'facilitators': [{u'last_name': u'Cazalot', u'first_name': u'Clement', u'_id': u'5011b56e91ac880200000929', u'name': u'Clement Cazalot'}], u'id': 117, u'state': None, u'location': {u'lat': 53.34807, u'lng': -6.248274}, u'twitter_hashtag': u'#swdub', u'start_date': u'2011-02-25T00:00:00.000Z'}"
       ]
      },
      {
       "output_type": "stream",
       "stream": "stdout",
       "text": [
        "\n",
        "110:Dublin,  , Ireland -> Dublin, Co. Dublin, Ireland: (53.34981, -6.26031)"
       ]
      },
      {
       "output_type": "stream",
       "stream": "stdout",
       "text": [
        "\n",
        "{u'website': u'sandiego.startupweekend.org', u'city': u'San Diego', u'vertical': None, u'country': u'USA', u'facilitators': [{u'last_name': u'Pomerenke', u'first_name': u'Joey', u'_id': u'5011b56e91ac8802000008f6', u'name': u'Joey Pomerenke'}], u'id': 116, u'state': u'CA', u'location': {u'lat': 32.715695, u'lng': -117.161719}, u'twitter_hashtag': u'#swsd', u'start_date': u'2011-02-25T00:00:00.000Z'}"
       ]
      },
      {
       "output_type": "stream",
       "stream": "stdout",
       "text": [
        "\n",
        "111:San Diego, CA, USA -> San Diego, CA, USA: (32.71533, -117.15726)"
       ]
      },
      {
       "output_type": "stream",
       "stream": "stdout",
       "text": [
        "\n",
        "{u'website': u'austin.startupweekend.org', u'city': u'Austin', u'vertical': None, u'country': u'USA', u'facilitators': [{u'last_name': u'Dani', u'first_name': u'Adam', u'_id': u'5011b56e91ac8802000008e8', u'name': u'Adam Dani'}], u'id': 113, u'state': u'TX', u'location': {u'lat': 30.267605, u'lng': -97.742984}, u'twitter_hashtag': u'#swaustin', u'start_date': u'2011-02-25T00:00:00.000Z'}"
       ]
      },
      {
       "output_type": "stream",
       "stream": "stdout",
       "text": [
        "\n",
        "112:Austin, TX, USA -> Austin, TX, USA: (30.26715, -97.74306)"
       ]
      },
      {
       "output_type": "stream",
       "stream": "stdout",
       "text": [
        "\n",
        "{u'website': u'tunis.startupweekend.org', u'city': u'Tunis', u'vertical': None, u'country': u'Tunisia', u'facilitators': [{u'last_name': u'Stelle', u'first_name': u'Adam', u'_id': u'5029bfad9c398d0200000922', u'name': u'Adam Stelle'}], u'id': 115, u'state': None, u'location': {u'lat': 36.8027778, u'lng': 10.1797222}, u'twitter_hashtag': u'#swtunis', u'start_date': u'2011-02-25T00:00:00.000Z'}"
       ]
      },
      {
       "output_type": "stream",
       "stream": "stdout",
       "text": [
        "\n",
        "113:Tunis,  , Tunisia -> Tunis, Tunisia: (36.81881, 10.16596)"
       ]
      },
      {
       "output_type": "stream",
       "stream": "stdout",
       "text": [
        "\n",
        "{u'website': u'boulder.startupweekend.org', u'city': u'Boulder', u'vertical': None, u'country': u'USA', u'facilitators': [{u'last_name': u'Rossi', u'first_name': u'Jon', u'_id': u'5011b56e91ac880200000839', u'name': u'Jon Rossi'}], u'id': 111, u'state': u'CO', u'location': {u'lat': 40.01574, u'lng': -105.279239}, u'twitter_hashtag': u'#swboulder', u'start_date': u'2011-02-25T00:00:00.000Z'}"
       ]
      },
      {
       "output_type": "stream",
       "stream": "stdout",
       "text": [
        "\n",
        "114:Boulder, CO, USA -> Boulder, CO, USA: (40.15121, -105.50055)"
       ]
      },
      {
       "output_type": "stream",
       "stream": "stdout",
       "text": [
        "\n",
        "{u'website': u'houston.startupweekend.org', u'city': u'Houston', u'vertical': None, u'country': u'USA', u'facilitators': [{u'last_name': u'Mcedward', u'first_name': u'Maris', u'_id': u'5029bfad9c398d02000009a9', u'name': u'Maris Mcedward'}], u'id': 114, u'state': u'TX', u'location': {u'lat': 29.76045, u'lng': -95.369784}, u'twitter_hashtag': u'#houstonSW', u'start_date': u'2011-02-25T00:00:00.000Z'}"
       ]
      },
      {
       "output_type": "stream",
       "stream": "stdout",
       "text": [
        "\n",
        "115:Houston, TX, USA -> Houston, TX, USA: (29.76019, -95.36939)"
       ]
      },
      {
       "output_type": "stream",
       "stream": "stdout",
       "text": [
        "\n",
        "{u'website': u'copenhagen.startupweekend.org', u'city': u'Copenhagen', u'vertical': None, u'country': u'Denmark', u'facilitators': [{u'last_name': u'Farcet', u'first_name': u'Alex', u'_id': u'5011b56e91ac880200000bb6', u'name': u'Alex Farcet'}], u'id': 112, u'state': None, u'location': {u'lat': 55.6666667, u'lng': 12.5833333}, u'twitter_hashtag': u'#swcph', u'start_date': u'2011-02-25T00:00:00.000Z'}"
       ]
      },
      {
       "output_type": "stream",
       "stream": "stdout",
       "text": [
        "\n",
        "116:Copenhagen,  , Denmark -> Copenhagen, Denmark: (55.67610, 12.56834)"
       ]
      },
      {
       "output_type": "stream",
       "stream": "stdout",
       "text": [
        "\n",
        "{u'website': u'delhi.startupweekend.org', u'city': u'Delhi', u'vertical': None, u'country': u'India', u'facilitators': [{u'last_name': u'Jain', u'first_name': u'Pankaj', u'_id': u'5011b56e91ac8802000008fc', u'name': u'Pankaj Jain'}], u'id': 118, u'state': None, u'location': {u'lat': 28.6666667, u'lng': 77.2166667}, u'twitter_hashtag': u'#swdelhi', u'start_date': u'2011-03-04T00:00:00.000Z'}"
       ]
      },
      {
       "output_type": "stream",
       "stream": "stdout",
       "text": [
        "\n",
        "117:Delhi,  , India -> New Delhi, Delhi, India: (28.63531, 77.22496)"
       ]
      },
      {
       "output_type": "stream",
       "stream": "stdout",
       "text": [
        "\n",
        "{u'website': u'dsm.startupweekend.org', u'city': u'Des Moines', u'vertical': None, u'country': u'USA', u'facilitators': [{u'last_name': u'Reiser', u'first_name': u'Shane', u'_id': u'5029bfad9c398d02000008a2', u'name': u'Shane Reiser'}], u'id': 119, u'state': u'IA', u'location': {u'lat': 41.58979, u'lng': -93.615659}, u'twitter_hashtag': u'#dsmsw', u'start_date': u'2011-03-04T00:00:00.000Z'}"
       ]
      },
      {
       "output_type": "stream",
       "stream": "stdout",
       "text": [
        "\n",
        "118:Des Moines, IA, USA -> Des Moines, IA, USA: (41.60054, -93.60911)"
       ]
      },
      {
       "output_type": "stream",
       "stream": "stdout",
       "text": [
        "\n",
        "{u'website': u'torino.startupweekend.org', u'city': u'Torino', u'vertical': None, u'country': u'Italy', u'facilitators': [{u'last_name': u'Ergul', u'first_name': u'Tugce', u'_id': u'5011b56e91ac8802000007d0', u'name': u'Tugce Ergul'}], u'id': 121, u'location': {u'lat': 45.05, u'lng': 7.6666667}, u'twitter_hashtag': None, u'start_date': u'2011-03-11T00:00:00.000Z'}"
       ]
      },
      {
       "output_type": "stream",
       "stream": "stdout",
       "text": [
        "\n",
        "119:Torino,  , Italy -> Turin, Italy: (45.07098, 7.68568)"
       ]
      },
      {
       "output_type": "stream",
       "stream": "stdout",
       "text": [
        "\n",
        "{u'website': u'cambridge.startupweekend.org', u'city': u'Cambridge', u'vertical': None, u'country': u'UK', u'facilitators': [{u'last_name': u'Digby', u'first_name': u'James', u'_id': u'5011b56e91ac880200000800', u'name': u'James Digby'}], u'id': 122, u'location': {u'lat': 52.2, u'lng': 0.1166667}, u'twitter_hashtag': u'#swcambridge', u'start_date': u'2011-03-11T00:00:00.000Z'}"
       ]
      },
      {
       "output_type": "stream",
       "stream": "stdout",
       "text": [
        "\n",
        "120:Cambridge,  , UK -> Cambridge, UK: (52.20534, 0.12182)"
       ]
      },
      {
       "output_type": "stream",
       "stream": "stdout",
       "text": [
        "\n",
        "{u'website': u'lille.startupweekend.org', u'city': u'Lille', u'vertical': None, u'country': u'France', u'facilitators': [{u'last_name': u'Bostoni', u'first_name': u'Sacha', u'_id': u'5011b56e91ac880200000906', u'name': u'Sacha Bostoni'}], u'id': 124, u'location': {u'lat': 50.6333333, u'lng': 3.0666667}, u'twitter_hashtag': u'#swlille', u'start_date': u'2011-03-11T00:00:00.000Z'}"
       ]
      },
      {
       "output_type": "stream",
       "stream": "stdout",
       "text": [
        "\n",
        "121:Lille,  , France -> Lille, France: (50.62925, 3.05726)"
       ]
      },
      {
       "output_type": "stream",
       "stream": "stdout",
       "text": [
        "\n",
        "{u'website': u'bangalore.startupweekend.org', u'city': u'Bangalore', u'vertical': None, u'country': u'India', u'facilitators': [{u'last_name': u'Jain', u'first_name': u'Pankaj', u'_id': u'5011b56e91ac8802000008fc', u'name': u'Pankaj Jain'}], u'id': 123, u'state': None, u'location': {u'lat': 12.9833333, u'lng': 77.5833333}, u'twitter_hashtag': u'#swbangalore', u'start_date': u'2011-03-11T00:00:00.000Z'}"
       ]
      },
      {
       "output_type": "stream",
       "stream": "stdout",
       "text": [
        "\n",
        "122:Bangalore,  , India -> Bangalore, Karnataka, India: (12.97160, 77.59456)"
       ]
      },
      {
       "output_type": "stream",
       "stream": "stdout",
       "text": [
        "\n",
        "{u'website': u'costarica.startupweekend.org', u'city': u'San Pedro', u'vertical': None, u'country': u'Costa Rica', u'facilitators': [], u'id': 120, u'state': None, u'location': {u'lat': 9.8166667, u'lng': -84.3333333}, u'twitter_hashtag': None, u'start_date': u'2011-03-11T00:00:00.000Z'}"
       ]
      },
      {
       "output_type": "stream",
       "stream": "stdout",
       "text": [
        "\n",
        "123:San Pedro,  , Costa Rica -> San Pedro, Costa Rica: (9.93333, -84.05000)"
       ]
      },
      {
       "output_type": "stream",
       "stream": "stdout",
       "text": [
        "\n",
        "{u'website': u'lausanne.startupweekend.org', u'city': u'Lausanne', u'vertical': None, u'country': u'Switzerland', u'facilitators': [{u'last_name': u'Dorsaz', u'first_name': u'Cyril', u'_id': u'5011b56e91ac8802000008ec', u'name': u'Cyril Dorsaz'}], u'id': 127, u'location': {u'lat': 46.5333333, u'lng': 6.6666667}, u'twitter_hashtag': u'#swlau', u'start_date': u'2011-03-18T00:00:00.000Z'}"
       ]
      },
      {
       "output_type": "stream",
       "stream": "stdout",
       "text": [
        "\n",
        "124:Lausanne,  , Switzerland -> Lausanne, Switzerland: (46.51996, 6.63360)"
       ]
      },
      {
       "output_type": "stream",
       "stream": "stdout",
       "text": [
        "\n",
        "{u'website': u'sib.startupweekend.org', u'city': u'Novosibirsk', u'vertical': None, u'country': u'Russia', u'facilitators': [], u'id': 126, u'state': u'Siberia', u'location': {u'lat': 55.0411111, u'lng': 82.9344444}, u'twitter_hashtag': None, u'start_date': u'2011-03-18T00:00:00.000Z'}"
       ]
      },
      {
       "output_type": "stream",
       "stream": "stdout",
       "text": [
        "\n",
        "125:Novosibirsk, Siberia, Russia -> Novosibirsk, Novosibirsk Oblast, Russia: (55.01880, 82.93395)"
       ]
      },
      {
       "output_type": "stream",
       "stream": "stdout",
       "text": [
        "\n",
        "{u'website': u'nice.startupweekend.org', u'city': u'Nice-Sophia Antipolis', u'vertical': None, u'country': u'France', u'facilitators': [{u'last_name': u'Bostoni', u'first_name': u'Sacha', u'_id': u'5011b56e91ac880200000906', u'name': u'Sacha Bostoni'}], u'id': 125, u'location': {u'lat': 43.7, u'lng': 7.25}, u'twitter_hashtag': u'#swnsa', u'start_date': u'2011-03-18T00:00:00.000Z'}"
       ]
      },
      {
       "output_type": "stream",
       "stream": "stdout",
       "text": [
        "\n",
        "126:Nice-Sophia Antipolis,  , France -> Facult\u00e9 de Droit et de Science Politique - Campus Trotabas, Avenue du Doyen Trobatas, 06050 Nice, France: (43.69536, 7.24616)"
       ]
      },
      {
       "output_type": "stream",
       "stream": "stdout",
       "text": [
        "\n",
        "{u'website': u'russia.startupweekend.org', u'city': u'Moscow', u'vertical': None, u'country': u'Russia', u'facilitators': [], u'id': 129, u'state': None, u'location': {u'lat': 55.7522222, u'lng': 37.6155556}, u'twitter_hashtag': None, u'start_date': u'2011-03-25T00:00:00.000Z'}"
       ]
      },
      {
       "output_type": "stream",
       "stream": "stdout",
       "text": [
        "\n",
        "127:Moscow,  , Russia -> Moscow, Russia: (55.74965, 37.62368)"
       ]
      },
      {
       "output_type": "stream",
       "stream": "stdout",
       "text": [
        "\n",
        "{u'website': u'istanbul.startupweekend.org', u'city': u'Istanbul', u'vertical': None, u'country': u'Turkey', u'facilitators': [{u'last_name': u'Ergul', u'first_name': u'Tugce', u'_id': u'5011b56e91ac8802000007d0', u'name': u'Tugce Ergul'}], u'id': 130, u'state': None, u'location': {u'lat': 41.0186111, u'lng': 28.9647222}, u'twitter_hashtag': u'#swistanbul', u'start_date': u'2011-03-25T00:00:00.000Z'}"
       ]
      },
      {
       "output_type": "stream",
       "stream": "stdout",
       "text": [
        "\n",
        "128:Istanbul,  , Turkey -> Istanbul, Turkey: (41.00527, 28.97696)"
       ]
      },
      {
       "output_type": "stream",
       "stream": "stdout",
       "text": [
        "\n",
        "{u'website': u'kalamazoo.startupweekend.org', u'city': u'Kalamazoo', u'vertical': None, u'country': u'USA', u'facilitators': [], u'id': 131, u'state': u'MI', u'location': {u'lat': 42.292435, u'lng': -85.601114}, u'twitter_hashtag': u'#swkzoo', u'start_date': u'2011-03-25T00:00:00.000Z'}"
       ]
      },
      {
       "output_type": "stream",
       "stream": "stdout",
       "text": [
        "\n",
        "129:Kalamazoo, MI, USA -> Kalamazoo, MI, USA: (42.29171, -85.58723)"
       ]
      },
      {
       "output_type": "stream",
       "stream": "stdout",
       "text": [
        "\n",
        "{u'website': u'budapest.startupweekend.org', u'city': u'Budapest', u'vertical': None, u'country': u'Hungary', u'facilitators': [{u'last_name': u'Bostoni', u'first_name': u'Sacha', u'_id': u'5011b56e91ac880200000906', u'name': u'Sacha Bostoni'}], u'id': 128, u'state': None, u'location': {u'lat': 47.5, u'lng': 19.0833333}, u'twitter_hashtag': u'#swbp', u'start_date': u'2011-03-25T00:00:00.000Z'}"
       ]
      },
      {
       "output_type": "stream",
       "stream": "stdout",
       "text": [
        "\n",
        "130:Budapest,  , Hungary -> Budapest, Hungary: (47.49791, 19.04023)"
       ]
      },
      {
       "output_type": "stream",
       "stream": "stdout",
       "text": [
        "\n",
        "{u'website': u'portland.startupweekend.org', u'city': u'Portland', u'vertical': None, u'country': u'USA', u'facilitators': [{u'last_name': u'Comerford', u'first_name': u'Thubten', u'_id': u'5029bfad9c398d02000008bf', u'name': u'Thubten Comerford'}], u'id': 133, u'state': u'OR', u'location': {u'lat': 45.511795, u'lng': -122.675629}, u'twitter_hashtag': u'#pdxsw', u'start_date': u'2011-04-01T00:00:00.000Z'}"
       ]
      },
      {
       "output_type": "stream",
       "stream": "stdout",
       "text": [
        "\n",
        "131:Portland, OR, USA -> Portland, OR, USA: (45.52345, -122.67621)"
       ]
      },
      {
       "output_type": "stream",
       "stream": "stdout",
       "text": [
        "\n",
        "{u'website': u'auckland.startupweekend.org', u'city': u'Auckland', u'vertical': None, u'country': u'New Zealand', u'facilitators': [], u'id': 132, u'state': None, u'location': {u'lat': -36.8666667, u'lng': 174.7666667}, u'twitter_hashtag': u'#akslw', u'start_date': u'2011-04-01T00:00:00.000Z'}"
       ]
      },
      {
       "output_type": "stream",
       "stream": "stdout",
       "text": [
        "\n",
        "132:Auckland,  , New Zealand -> Auckland, New Zealand: (-36.84846, 174.76333)"
       ]
      },
      {
       "output_type": "stream",
       "stream": "stdout",
       "text": [
        "\n",
        "{u'website': u'ural.startupweekend.org', u'city': u'Ekaterinburg', u'vertical': None, u'country': u'Russia', u'facilitators': [], u'id': 134, u'state': u'Urals', u'location': {u'lat': 56.8575, u'lng': 60.6125}, u'twitter_hashtag': None, u'start_date': u'2011-04-08T00:00:00.000Z'}"
       ]
      },
      {
       "output_type": "stream",
       "stream": "stdout",
       "text": [
        "\n",
        "133:Ekaterinburg, Urals, Russia -> Ural'skiy mineralogicheskiy muzey, ulitsa Krasnoarmeyskaya, 1, Yekaterinburg, Sverdlovsk Oblast, Russia, 620075: (56.83856, 60.61509)"
       ]
      },
      {
       "output_type": "stream",
       "stream": "stdout",
       "text": [
        "\n",
        "{u'website': u'batonrouge.startupweekend.org', u'city': u'Baton Rouge', u'vertical': None, u'country': u'USA', u'facilitators': [{u'last_name': u'Mcedward', u'first_name': u'Maris', u'_id': u'5029bfad9c398d02000009a9', u'name': u'Maris Mcedward'}], u'id': 136, u'state': u'LA', u'location': {u'lat': 30.443335, u'lng': -91.186994}, u'twitter_hashtag': u'#swbtr', u'start_date': u'2011-04-08T00:00:00.000Z'}"
       ]
      },
      {
       "output_type": "stream",
       "stream": "stdout",
       "text": [
        "\n",
        "134:Baton Rouge, LA, USA -> Baton Rouge, LA, USA: (30.45828, -91.14032)"
       ]
      },
      {
       "output_type": "stream",
       "stream": "stdout",
       "text": [
        "\n",
        "{u'website': u'lithuania.startupweekend.org', u'city': u'Kaunas', u'vertical': None, u'country': u'Lithuania', u'facilitators': [], u'id': 135, u'state': None, u'location': {u'lat': 54.9, u'lng': 23.9}, u'twitter_hashtag': None, u'start_date': u'2011-04-08T00:00:00.000Z'}"
       ]
      },
      {
       "output_type": "stream",
       "stream": "stdout",
       "text": [
        "\n",
        "135:Kaunas,  , Lithuania -> Kaunas, Lithuania: (54.89850, 23.90354)"
       ]
      },
      {
       "output_type": "stream",
       "stream": "stdout",
       "text": [
        "\n",
        "{u'website': u'lansing.startupweekend.org', u'city': u'Lansing', u'vertical': None, u'country': u'USA', u'facilitators': [], u'id': 137, u'state': u'MI', u'location': {u'lat': 42.73194, u'lng': -84.552249}, u'twitter_hashtag': None, u'start_date': u'2011-04-08T00:00:00.000Z'}"
       ]
      },
      {
       "output_type": "stream",
       "stream": "stdout",
       "text": [
        "\n",
        "136:Lansing, MI, USA -> Lansing, MI, USA: (42.73253, -84.55553)"
       ]
      },
      {
       "output_type": "stream",
       "stream": "stdout",
       "text": [
        "\n",
        "{u'website': u'indianapolis.startupweekend.org', u'city': u'Indianapolis', u'vertical': None, u'country': u'USA', u'facilitators': [{u'last_name': u'Ball', u'first_name': u'Lorraine', u'_id': u'5011b56e91ac88020000091a', u'name': u'Lorraine Ball'}], u'id': 138, u'state': u'IN', u'location': {u'lat': 39.76691, u'lng': -86.149964}, u'twitter_hashtag': u'#swindy', u'start_date': u'2011-04-08T00:00:00.000Z'}"
       ]
      },
      {
       "output_type": "stream",
       "stream": "stdout",
       "text": [
        "\n",
        "137:Indianapolis, IN, USA -> Indianapolis, IN, USA: (39.76840, -86.15807)"
       ]
      },
      {
       "output_type": "stream",
       "stream": "stdout",
       "text": [
        "\n",
        "{u'website': u'nyc.startupweekend.org', u'city': u'New York City', u'vertical': None, u'country': u'USA', u'facilitators': [{u'last_name': u'Reiser', u'first_name': u'Shane', u'_id': u'5029bfad9c398d02000008a2', u'name': u'Shane Reiser'}], u'id': 141, u'state': u'NY', u'location': {u'lat': 40.780751, u'lng': -73.977182}, u'twitter_hashtag': u'#nycsw', u'start_date': u'2011-04-15T00:00:00.000Z'}"
       ]
      },
      {
       "output_type": "stream",
       "stream": "stdout",
       "text": [
        "\n",
        "138:New York City, NY, USA -> New York, NY, USA: (40.71435, -74.00597)"
       ]
      },
      {
       "output_type": "stream",
       "stream": "stdout",
       "text": [
        "\n",
        "{u'website': u'montpellier.startupweekend.org', u'city': u'Montpellier', u'vertical': None, u'country': u'France', u'facilitators': [{u'last_name': u'Cazalot', u'first_name': u'Clement', u'_id': u'5011b56e91ac880200000929', u'name': u'Clement Cazalot'}], u'id': 144, u'location': {u'lat': 43.6, u'lng': 3.8833333}, u'twitter_hashtag': u'#swmtp', u'start_date': u'2011-04-15T00:00:00.000Z'}"
       ]
      },
      {
       "output_type": "stream",
       "stream": "stdout",
       "text": [
        "\n",
        "139:Montpellier,  , France -> Montpellier, France: (43.61077, 3.87672)"
       ]
      },
      {
       "output_type": "stream",
       "stream": "stdout",
       "text": [
        "\n",
        "{u'website': u'baltimore.startupweekend.org', u'city': u'Baltimore', u'vertical': None, u'country': u'USA', u'facilitators': [{u'last_name': u'Latiolais', u'first_name': u'Kav', u'_id': u'5011b56e91ac88020000080f', u'name': u'Kav Latiolais'}], u'id': 140, u'state': u'MD', u'location': {u'lat': 39.290555, u'lng': -76.609604}, u'twitter_hashtag': u'#baltsw', u'start_date': u'2011-04-15T00:00:00.000Z'}"
       ]
      },
      {
       "output_type": "stream",
       "stream": "stdout",
       "text": [
        "\n",
        "140:Baltimore, MD, USA -> Baltimore, MD, USA: (39.29038, -76.61219)"
       ]
      },
      {
       "output_type": "stream",
       "stream": "stdout",
       "text": [
        "\n",
        "{u'website': u'kansascity.startupweekend.org', u'city': u'Kansas City', u'vertical': None, u'country': u'USA', u'facilitators': [], u'id': 142, u'state': u'MO', u'location': {u'lat': 39.10296, u'lng': -94.583062}, u'twitter_hashtag': u'#kcsw', u'start_date': u'2011-04-15T00:00:00.000Z'}"
       ]
      },
      {
       "output_type": "stream",
       "stream": "stdout",
       "text": [
        "\n",
        "141:Kansas City, MO, USA -> Kansas City, MO, USA: (39.09973, -94.57857)"
       ]
      },
      {
       "output_type": "stream",
       "stream": "stdout",
       "text": [
        "\n",
        "{u'website': u'russia.startupweekend.org', u'city': u'Saint Petersburg', u'vertical': None, u'country': u'Russia', u'facilitators': [], u'id': 143, u'state': None, u'location': {u'lat': 59.8944444, u'lng': 30.2641667}, u'twitter_hashtag': None, u'start_date': u'2011-04-15T00:00:00.000Z'}"
       ]
      },
      {
       "output_type": "stream",
       "stream": "stdout",
       "text": [
        "\n",
        "142:Saint Petersburg,  , Russia -> Saint Petersburg, Russia: (59.90802, 30.41000)"
       ]
      },
      {
       "output_type": "stream",
       "stream": "stdout",
       "text": [
        "\n",
        "{u'website': u'sanjose.startupweekend.org', u'city': u'San Jose', u'vertical': None, u'country': u'USA', u'facilitators': [{u'last_name': u'Bertrand', u'first_name': u'Mark', u'_id': u'5011b56e91ac8802000009c6', u'name': u'Mark Bertrand'}], u'id': 139, u'state': u'CA', u'location': {u'lat': 37.338475, u'lng': -121.885794}, u'twitter_hashtag': u'#swsanjose', u'start_date': u'2011-04-15T00:00:00.000Z'}"
       ]
      },
      {
       "output_type": "stream",
       "stream": "stdout",
       "text": [
        "\n",
        "143:San Jose, CA, USA -> San Jose, CA, USA: (37.33939, -121.89496)"
       ]
      },
      {
       "output_type": "stream",
       "stream": "stdout",
       "text": [
        "\n",
        "{u'website': u'alger.startupweekend.org', u'city': u'Alger', u'vertical': None, u'country': u'Algeria', u'facilitators': [], u'id': 145, u'state': None, u'location': {u'lat': 36.7630556, u'lng': 3.0505556}, u'twitter_hashtag': u'#algersw', u'start_date': u'2011-04-21T00:00:00.000Z'}"
       ]
      },
      {
       "output_type": "stream",
       "stream": "stdout",
       "text": [
        "\n",
        "144:Alger,  , Algeria -> Algiers, Algeria: (36.75289, 3.04205)"
       ]
      },
      {
       "output_type": "stream",
       "stream": "stdout",
       "text": [
        "\n",
        "{u'website': u'paris.startupweekend.org', u'city': u'Paris', u'vertical': None, u'country': u'France', u'facilitators': [{u'last_name': u'Bostoni', u'first_name': u'Sacha', u'_id': u'5011b56e91ac880200000906', u'name': u'Sacha Bostoni'}], u'id': 147, u'location': {u'lat': 48.8666667, u'lng': 2.3333333}, u'twitter_hashtag': u'#swpa', u'start_date': u'2011-04-22T00:00:00.000Z'}"
       ]
      },
      {
       "output_type": "stream",
       "stream": "stdout",
       "text": [
        "\n",
        "145:Paris,  , France -> Paris, France: (48.85661, 2.35222)"
       ]
      },
      {
       "output_type": "stream",
       "stream": "stdout",
       "text": [
        "\n",
        "{u'website': u'casablanca.startupweekend.org', u'city': u'Casablanca', u'vertical': None, u'country': u'Morocco', u'facilitators': [{u'last_name': u'Nelsen', u'first_name': u'Clint', u'_id': u'5029bfad9c398d0200000891', u'name': u'Clint Nelsen'}], u'id': 146, u'state': None, u'location': {u'lat': 33.5930556, u'lng': -7.6163889}, u'twitter_hashtag': None, u'start_date': u'2011-04-22T00:00:00.000Z'}"
       ]
      },
      {
       "output_type": "stream",
       "stream": "stdout",
       "text": [
        "\n",
        "146:Casablanca,  , Morocco -> Casablanca, Morocco: (33.53333, -7.58333)"
       ]
      },
      {
       "output_type": "stream",
       "stream": "stdout",
       "text": [
        "\n",
        "{u'website': u'cairo.startupweekend.org', u'city': u'Cairo', u'vertical': None, u'country': u'Egypt', u'facilitators': [{u'last_name': u'Nelsen', u'first_name': u'Clint', u'_id': u'5029bfad9c398d0200000891', u'name': u'Clint Nelsen'}], u'id': 148, u'state': None, u'location': {u'lat': 30.05, u'lng': 31.25}, u'twitter_hashtag': u'#swcairo', u'start_date': u'2011-04-28T00:00:00.000Z'}"
       ]
      },
      {
       "output_type": "stream",
       "stream": "stdout",
       "text": [
        "\n",
        "147:Cairo,  , Egypt -> Cairo, Cairo Governorate, Egypt: (30.04442, 31.23571)"
       ]
      },
      {
       "output_type": "stream",
       "stream": "stdout",
       "text": [
        "\n",
        "{u'website': u'singapore.startupweekend.org', u'city': u'Singapore', u'vertical': None, u'country': u'Singapore', u'facilitators': [{u'last_name': u'Pomerenke', u'first_name': u'Joey', u'_id': u'5011b56e91ac8802000008f6', u'name': u'Joey Pomerenke'}], u'id': 150, u'state': None, u'location': {u'lat': 1.2930556, u'lng': 103.853256}, u'twitter_hashtag': u'#swsg', u'start_date': u'2011-04-29T00:00:00.000Z'}"
       ]
      },
      {
       "output_type": "stream",
       "stream": "stdout",
       "text": [
        "\n",
        "148:Singapore,  , Singapore -> Singapore: (1.28009, 103.85095)"
       ]
      },
      {
       "output_type": "stream",
       "stream": "stdout",
       "text": [
        "\n",
        "{u'website': u'melbourne.startupweekend.org', u'city': u'Melbourne', u'vertical': None, u'country': u'Australia', u'facilitators': [], u'id': 152, u'state': None, u'location': {u'lat': -37.8166667, u'lng': 144.9666667}, u'twitter_hashtag': u'#SWMELB', u'start_date': u'2011-05-06T00:00:00.000Z'}"
       ]
      },
      {
       "output_type": "stream",
       "stream": "stdout",
       "text": [
        "\n",
        "149:Melbourne,  , Australia -> Melbourne VIC, Australia: (-37.81411, 144.96328)"
       ]
      },
      {
       "output_type": "stream",
       "stream": "stdout",
       "text": [
        "\n",
        "{u'website': u'charlotte.startupweekend.org', u'city': u'Charlotte', u'vertical': None, u'country': u'USA', u'facilitators': [{u'last_name': u'Williams', u'first_name': u'Tyler', u'_id': u'5011b56e91ac88020000089c', u'name': u'Tyler Williams'}], u'id': 154, u'state': u'NC', u'location': {u'lat': 35.2225, u'lng': -80.837539}, u'twitter_hashtag': u'#swclt', u'start_date': u'2011-05-06T00:00:00.000Z'}"
       ]
      },
      {
       "output_type": "stream",
       "stream": "stdout",
       "text": [
        "\n",
        "150:Charlotte, NC, USA -> Charlotte, NC, USA: (35.22709, -80.84313)"
       ]
      },
      {
       "output_type": "stream",
       "stream": "stdout",
       "text": [
        "\n",
        "{u'website': u'bayarea.startupweekend.org', u'city': u'San Francisco', u'vertical': None, u'country': u'USA', u'facilitators': [{u'last_name': u'Nouyrigat', u'first_name': u'Franck', u'_id': u'5011b56e91ac88020000093e', u'name': u'Franck Nouyrigat'}], u'id': 153, u'state': u'CA', u'location': {u'lat': 37.777125, u'lng': -122.419644}, u'twitter_hashtag': u'#swbay', u'start_date': u'2011-05-06T00:00:00.000Z'}"
       ]
      },
      {
       "output_type": "stream",
       "stream": "stdout",
       "text": [
        "\n",
        "151:San Francisco, CA, USA -> San Francisco, CA, USA: (37.77493, -122.41942)"
       ]
      },
      {
       "output_type": "stream",
       "stream": "stdout",
       "text": [
        "\n",
        "{u'website': u'malaysia.startupweekend.org', u'city': u'Kuala Lumpur', u'vertical': None, u'country': u'Malaysia', u'facilitators': [{u'last_name': u'Pomerenke', u'first_name': u'Joey', u'_id': u'5011b56e91ac8802000008f6', u'name': u'Joey Pomerenke'}], u'id': 151, u'state': None, u'location': {u'lat': 3.1666667, u'lng': 101.7}, u'twitter_hashtag': u'#swkl', u'start_date': u'2011-05-06T00:00:00.000Z'}"
       ]
      },
      {
       "output_type": "stream",
       "stream": "stdout",
       "text": [
        "\n",
        "152:Kuala Lumpur,  , Malaysia -> Kuala Lumpur, Federal Territory of Kuala Lumpur, Malaysia: (3.13900, 101.68685)"
       ]
      },
      {
       "output_type": "stream",
       "stream": "stdout",
       "text": [
        "\n",
        "{u'website': u'porto.startupweekend.org', u'city': u'Porto', u'vertical': None, u'country': u'Portugal', u'facilitators': [{u'last_name': u'Encinar', u'first_name': u'Maria', u'_id': u'5011b56e91ac880200000949', u'name': u'Maria Encinar'}], u'id': 157, u'location': {u'lat': 41.15, u'lng': -8.6166667}, u'twitter_hashtag': u'#swpt', u'start_date': u'2011-05-13T00:00:00.000Z'}"
       ]
      },
      {
       "output_type": "stream",
       "stream": "stdout",
       "text": [
        "\n",
        "153:Porto,  , Portugal -> 4440-452 Oporto, Portugal: (41.15669, -8.62393)"
       ]
      },
      {
       "output_type": "stream",
       "stream": "stdout",
       "text": [
        "\n",
        "{u'website': u'campinas.startupweekend.org', u'city': u'Campinas', u'vertical': None, u'country': u'Brazil', u'facilitators': [], u'id': 158, u'location': {u'lat': -28.9333333, u'lng': -49.4833333}, u'twitter_hashtag': u'#startupweekcps', u'start_date': u'2011-05-13T00:00:00.000Z'}"
       ]
      },
      {
       "output_type": "stream",
       "stream": "stdout",
       "text": [
        "\n",
        "154:Campinas,  , Brazil -> Campinas - S\u00e3o Paulo, Brazil: (-22.90710, -47.06324)"
       ]
      },
      {
       "output_type": "stream",
       "stream": "stdout",
       "text": [
        "\n",
        "{u'website': u'warsaw.startupweekend.org', u'city': u'Warsaw', u'vertical': None, u'country': u'Poland', u'facilitators': [{u'last_name': u'Ritzen', u'first_name': u'Don', u'_id': u'5011b56e91ac8802000007d6', u'name': u'Don Ritzen'}], u'id': 155, u'location': {u'lat': 52.25, u'lng': 21}, u'twitter_hashtag': u'#swwaw', u'start_date': u'2011-05-13T00:00:00.000Z'}"
       ]
      },
      {
       "output_type": "stream",
       "stream": "stdout",
       "text": [
        "\n",
        "155:Warsaw,  , Poland -> Warsaw, Poland: (52.22968, 21.01223)"
       ]
      },
      {
       "output_type": "stream",
       "stream": "stdout",
       "text": [
        "\n",
        "{u'website': u'http://seoul.startupweekend.org/', u'city': u'Seoul', u'vertical': None, u'country': u'South Korea', u'facilitators': [{u'last_name': u'Lee', u'first_name': u'DongYol', u'_id': u'5029bfad9c398d020000088a', u'name': u'DongYol Lee'}], u'id': 160, u'state': None, u'location': {u'lat': 37.5663889, u'lng': 126.9997222}, u'twitter_hashtag': None, u'start_date': u'2011-05-13T00:00:00.000Z'}"
       ]
      },
      {
       "output_type": "stream",
       "stream": "stdout",
       "text": [
        "\n",
        "156:Seoul,  , South Korea -> Seoul, South Korea: (37.56654, 126.97797)"
       ]
      },
      {
       "output_type": "stream",
       "stream": "stdout",
       "text": [
        "\n",
        "{u'website': u'toulouse.startupweekend.org', u'city': u'Toulouse', u'vertical': None, u'country': u'France', u'facilitators': [{u'last_name': u'Braun', u'first_name': u'Willy', u'_id': u'50322400a830a202001486ad', u'name': u'Willy Braun'}], u'id': 156, u'state': None, u'location': {u'lat': 43.6, u'lng': 1.4333333}, u'twitter_hashtag': None, u'start_date': u'2011-05-13T00:00:00.000Z'}"
       ]
      },
      {
       "output_type": "stream",
       "stream": "stdout",
       "text": [
        "\n",
        "157:Toulouse,  , France -> Toulouse, France: (43.60465, 1.44421)"
       ]
      },
      {
       "output_type": "stream",
       "stream": "stdout",
       "text": [
        "\n",
        "{u'website': u'malaysia.startupweekend.org', u'city': u'Kota Kinabalu', u'vertical': None, u'country': u'Malaysia', u'facilitators': [], u'id': 159, u'state': None, u'location': {u'lat': 5.9833333, u'lng': 116.0666667}, u'twitter_hashtag': None, u'start_date': u'2011-05-13T00:00:00.000Z'}"
       ]
      },
      {
       "output_type": "stream",
       "stream": "stdout",
       "text": [
        "\n",
        "158:Kota Kinabalu,  , Malaysia -> Kota Kinabalu, Sabah, Malaysia: (5.97647, 116.11578)"
       ]
      },
      {
       "output_type": "stream",
       "stream": "stdout",
       "text": [
        "\n",
        "{u'website': u'tokyo.startupweekend.org', u'city': u'Tokyo', u'vertical': None, u'country': u'Japan', u'facilitators': [{u'last_name': u'Li', u'first_name': u'Jonny', u'_id': u'5011b56e91ac8802000009d2', u'name': u'Jonny Li'}], u'id': 166, u'state': None, u'location': {u'lat': 35.685, u'lng': 139.7513889}, u'twitter_hashtag': None, u'start_date': u'2011-05-20T00:00:00.000Z'}"
       ]
      },
      {
       "output_type": "stream",
       "stream": "stdout",
       "text": [
        "\n",
        "159:Tokyo,  , Japan -> Tokyo, Japan: (35.68949, 139.69171)"
       ]
      },
      {
       "output_type": "stream",
       "stream": "stdout",
       "text": [
        "\n",
        "{u'website': u'jakarta.startupweekend.org', u'city': u'Jakarta', u'vertical': None, u'country': u'Indonesia', u'facilitators': [{u'last_name': u'Pomerenke', u'first_name': u'Joey', u'_id': u'5011b56e91ac8802000008f6', u'name': u'Joey Pomerenke'}], u'id': 164, u'state': None, u'location': {u'lat': -6.1744444, u'lng': 106.8294444}, u'twitter_hashtag': None, u'start_date': u'2011-05-20T00:00:00.000Z'}"
       ]
      },
      {
       "output_type": "stream",
       "stream": "stdout",
       "text": [
        "\n",
        "160:Jakarta,  , Indonesia -> Jakarta, Indonesia: (-6.21154, 106.84517)"
       ]
      },
      {
       "output_type": "stream",
       "stream": "stdout",
       "text": [
        "\n",
        "{u'website': u'coimbra.startupweekend.org', u'city': u'Coimbra', u'vertical': None, u'country': u'Portugal', u'facilitators': [], u'id': 163, u'state': None, u'location': {u'lat': 40.2, u'lng': -8.4166667}, u'twitter_hashtag': u'#swpt', u'start_date': u'2011-05-20T00:00:00.000Z'}"
       ]
      },
      {
       "output_type": "stream",
       "stream": "stdout",
       "text": [
        "\n",
        "161:Coimbra,  , Portugal -> Coimbra, Portugal: (40.20238, -8.44716)"
       ]
      },
      {
       "output_type": "stream",
       "stream": "stdout",
       "text": [
        "\n",
        "{u'website': u'russia.startupweekend.org', u'city': u'Kazan', u'vertical': None, u'country': u'Russia', u'facilitators': [], u'id': 165, u'state': None, u'location': {u'lat': 55.75, u'lng': 49.1333333}, u'twitter_hashtag': u'#swkazan', u'start_date': u'2011-05-20T00:00:00.000Z'}"
       ]
      },
      {
       "output_type": "stream",
       "stream": "stdout",
       "text": [
        "\n",
        "162:Kazan,  , Russia -> Kazan, Republic of Tatarstan, Russia: (55.82487, 49.08609)"
       ]
      },
      {
       "output_type": "stream",
       "stream": "stdout",
       "text": [
        "\n",
        "{u'website': u'bordeaux.startupweekend.org', u'city': u'Bordeaux', u'vertical': None, u'country': u'France', u'facilitators': [{u'last_name': u'Rippol', u'first_name': u'Deborah', u'_id': u'5011b56e91ac880200000840', u'name': u'Deborah Rippol'}], u'id': 162, u'state': None, u'location': {u'lat': 44.8333333, u'lng': -0.5666667}, u'twitter_hashtag': u'#swbx', u'start_date': u'2011-05-20T00:00:00.000Z'}"
       ]
      },
      {
       "output_type": "stream",
       "stream": "stdout",
       "text": [
        "\n",
        "163:Bordeaux,  , France -> Bordeaux, France: (44.83779, -0.57918)"
       ]
      },
      {
       "output_type": "stream",
       "stream": "stdout",
       "text": [
        "\n",
        "{u'website': u'miami.startupweekend.org', u'city': u'Miami', u'vertical': None, u'country': u'USA', u'facilitators': [], u'id': 161, u'state': u'FL', u'location': {u'lat': 25.728985, u'lng': -80.237419}, u'twitter_hashtag': u'#swmiami', u'start_date': u'2011-05-20T00:00:00.000Z'}"
       ]
      },
      {
       "output_type": "stream",
       "stream": "stdout",
       "text": [
        "\n",
        "164:Miami, FL, USA -> Miami, FL, USA: (25.78897, -80.22644)"
       ]
      },
      {
       "output_type": "stream",
       "stream": "stdout",
       "text": [
        "\n",
        "{u'website': u'mongolia.startupweekend.org', u'city': u'Ulaanbaatar', u'vertical': None, u'country': u'Mongolia', u'facilitators': [{u'last_name': u'Pomerenke', u'first_name': u'Joey', u'_id': u'5011b56e91ac8802000008f6', u'name': u'Joey Pomerenke'}], u'id': 167, u'state': None, u'location': {u'lat': 47.9166667, u'lng': 106.9166667}, u'twitter_hashtag': u'#swmongolia', u'start_date': u'2011-05-27T00:00:00.000Z'}"
       ]
      },
      {
       "output_type": "stream",
       "stream": "stdout",
       "text": [
        "\n",
        "165:Ulaanbaatar,  , Mongolia -> Ulaanbaatar, Mongolia: (47.92138, 106.90554)"
       ]
      },
      {
       "output_type": "stream",
       "stream": "stdout",
       "text": [
        "\n",
        "{u'website': u'hamburg.startupweekend.org', u'city': u'Hamburg', u'vertical': None, u'country': u'Germany', u'facilitators': [], u'id': 168, u'location': {u'lat': 53.55, u'lng': 10}, u'twitter_hashtag': u'#swhh11', u'start_date': u'2011-05-27T00:00:00.000Z'}"
       ]
      },
      {
       "output_type": "stream",
       "stream": "stdout",
       "text": [
        "\n",
        "166:Hamburg,  , Germany -> Hamburg, Germany: (53.55108, 9.99368)"
       ]
      },
      {
       "output_type": "stream",
       "stream": "stdout",
       "text": [
        "\n",
        "{u'website': u'toronto.startupweekend.org', u'city': u'Toronto', u'vertical': None, u'country': u'Canada', u'facilitators': [{u'last_name': u'Stelle', u'first_name': u'Adam', u'_id': u'5029bfad9c398d0200000922', u'name': u'Adam Stelle'}], u'id': 169, u'state': u'ON', u'location': {u'lat': 43.64856, u'lng': -79.385324}, u'twitter_hashtag': u'#swtoronto', u'start_date': u'2011-06-03T00:00:00.000Z'}"
       ]
      },
      {
       "output_type": "stream",
       "stream": "stdout",
       "text": [
        "\n",
        "167:Toronto, ON, Canada -> Toronto, ON, Canada: (43.65323, -79.38318)"
       ]
      },
      {
       "output_type": "stream",
       "stream": "stdout",
       "text": [
        "\n",
        "{u'website': u'marseille.startupweekend.org', u'city': u'Marseille', u'vertical': None, u'country': u'France', u'facilitators': [{u'last_name': u'Bostoni', u'first_name': u'Sacha', u'_id': u'5011b56e91ac880200000906', u'name': u'Sacha Bostoni'}], u'id': 171, u'location': {u'lat': 43.3, u'lng': 5.4}, u'twitter_hashtag': u'#swma', u'start_date': u'2011-06-03T00:00:00.000Z'}"
       ]
      },
      {
       "output_type": "stream",
       "stream": "stdout",
       "text": [
        "\n",
        "168:Marseille,  , France -> Marseille, France: (43.29648, 5.36978)"
       ]
      },
      {
       "output_type": "stream",
       "stream": "stdout",
       "text": [
        "\n",
        "{u'website': u'madrid.startupweekend.org', u'city': u'Madrid', u'vertical': None, u'country': u'Spain', u'facilitators': [{u'last_name': u'Araque', u'first_name': u'Patricia', u'_id': u'5011b56e91ac88020000097a', u'name': u'Patricia Araque'}], u'id': 175, u'location': {u'lat': 40.4, u'lng': -3.6833333}, u'twitter_hashtag': u'#swmad', u'start_date': u'2011-06-03T00:00:00.000Z'}"
       ]
      },
      {
       "output_type": "stream",
       "stream": "stdout",
       "text": [
        "\n",
        "169:Madrid,  , Spain -> Madrid, Spain: (40.41678, -3.70379)"
       ]
      },
      {
       "output_type": "stream",
       "stream": "stdout",
       "text": [
        "\n",
        "{u'website': u'denver.startupweekend.org', u'city': u'Denver', u'vertical': None, u'country': u'USA', u'facilitators': [{u'last_name': u'Rossi', u'first_name': u'Jon', u'_id': u'5011b56e91ac880200000839', u'name': u'Jon Rossi'}, {u'last_name': u'Foster', u'first_name': u'Anca', u'_id': u'5011b56e91ac88020000083e', u'name': u'Anca Foster'}], u'id': 174, u'state': u'CO', u'location': {u'lat': 39.74001, u'lng': -104.992259}, u'twitter_hashtag': u'#swdenver', u'start_date': u'2011-06-03T00:00:00.000Z'}"
       ]
      },
      {
       "output_type": "stream",
       "stream": "stdout",
       "text": [
        "\n",
        "170:Denver, CO, USA -> Denver, CO, USA: (39.73757, -104.98472)"
       ]
      },
      {
       "output_type": "stream",
       "stream": "stdout",
       "text": [
        "\n",
        "{u'website': u'sfedu.startupweekend.org', u'city': u'San Francisco', u'vertical': u'EDU', u'country': u'USA', u'facilitators': [{u'last_name': u'Seguin', u'first_name': u'Nick', u'_id': u'5011b56e91ac88020000096f', u'name': u'Nick Seguin'}], u'id': 170, u'state': u'CA', u'location': {u'lat': 37.777125, u'lng': -122.419644}, u'twitter_hashtag': u'#sfedu', u'start_date': u'2011-06-03T00:00:00.000Z'}"
       ]
      },
      {
       "output_type": "stream",
       "stream": "stdout",
       "text": [
        "\n",
        "171:San Francisco, CA, USA -> San Francisco, CA, USA: (37.77493, -122.41942)"
       ]
      },
      {
       "output_type": "stream",
       "stream": "stdout",
       "text": [
        "\n",
        "{u'website': u'boston.startupweekend.org', u'city': u'Boston', u'vertical': None, u'country': u'USA', u'facilitators': [{u'last_name': u'Nager', u'first_name': u'Marc', u'_id': u'5011b56e91ac880200000977', u'name': u'Marc Nager'}], u'id': 173, u'state': u'MA', u'location': {u'lat': 42.358635, u'lng': -71.056699}, u'twitter_hashtag': u'#swBOS', u'start_date': u'2011-06-03T00:00:00.000Z'}"
       ]
      },
      {
       "output_type": "stream",
       "stream": "stdout",
       "text": [
        "\n",
        "172:Boston, MA, USA -> Boston, MA, USA: (42.35843, -71.05977)"
       ]
      },
      {
       "output_type": "stream",
       "stream": "stdout",
       "text": [
        "\n",
        "{u'website': u'triangle.startupweekend.org', u'city': u'Raleigh-Durham', u'vertical': None, u'country': u'USA', u'facilitators': [{u'last_name': u'McEdward', u'first_name': u'Maris', u'_id': u'5029bfad9c398d0200000976', u'name': u'Maris McEdward'}], u'id': 172, u'state': u'NC', u'location': {u'lat': 35.873772, u'lng': -78.791191}, u'twitter_hashtag': u'#tsw2011', u'start_date': u'2011-06-03T00:00:00.000Z'}"
       ]
      },
      {
       "output_type": "stream",
       "stream": "stdout",
       "text": [
        "\n",
        "173:Raleigh-Durham, NC, USA -> Raleigh, NC, USA: (35.77210, -78.63861)"
       ]
      },
      {
       "output_type": "stream",
       "stream": "stdout",
       "text": [
        "\n",
        "{u'website': u'nyc.startupweekend.org', u'city': u'New York City', u'vertical': None, u'country': u'USA', u'facilitators': [{u'last_name': u'Reiser', u'first_name': u'Shane', u'_id': u'5029bfad9c398d02000008a2', u'name': u'Shane Reiser'}], u'id': 176, u'state': u'NY', u'location': {u'lat': 40.780751, u'lng': -73.977182}, u'twitter_hashtag': u'#nycsw', u'start_date': u'2011-06-10T00:00:00.000Z'}"
       ]
      },
      {
       "output_type": "stream",
       "stream": "stdout",
       "text": [
        "\n",
        "174:New York City, NY, USA -> New York, NY, USA: (40.71435, -74.00597)"
       ]
      },
      {
       "output_type": "stream",
       "stream": "stdout",
       "text": [
        "\n",
        "{u'website': u'mexicocity.startupweekend.org', u'city': u'Mexico City', u'vertical': None, u'country': u'Mexico', u'facilitators': [{u'last_name': u'Latiolais', u'first_name': u'Kav', u'_id': u'5011b56e91ac88020000080f', u'name': u'Kav Latiolais'}], u'id': 178, u'state': None, u'location': {u'lat': 19.4319, u'lng': -99.132851}, u'twitter_hashtag': u'#SWDF', u'start_date': u'2011-06-10T00:00:00.000Z'}"
       ]
      },
      {
       "output_type": "stream",
       "stream": "stdout",
       "text": [
        "\n",
        "175:Mexico City,  , Mexico -> Mexico City, Federal District, Mexico: (19.43261, -99.13321)"
       ]
      },
      {
       "output_type": "stream",
       "stream": "stdout",
       "text": [
        "\n",
        "{u'website': u'nwarkansas.startupweekend.org', u'city': u'Bentonville', u'vertical': None, u'country': u'USA', u'facilitators': [{u'last_name': u'Cross', u'first_name': u'Sterling', u'_id': u'5029bfad9c398d02000008cb', u'name': u'Sterling Cross'}], u'id': 177, u'state': u'AR', u'location': {u'lat': 36.299507, u'lng': -93.956801}, u'twitter_hashtag': None, u'start_date': u'2011-06-10T00:00:00.000Z'}"
       ]
      },
      {
       "output_type": "stream",
       "stream": "stdout",
       "text": [
        "\n",
        "176:Bentonville, AR, USA -> Bentonville, AR, USA: (36.37285, -94.20882)"
       ]
      },
      {
       "output_type": "stream",
       "stream": "stdout",
       "text": [
        "\n",
        "{u'website': u'seattle.startupweekend.org', u'city': u'Seattle', u'vertical': None, u'country': u'USA', u'facilitators': [{u'last_name': u'Nager', u'first_name': u'Marc', u'_id': u'5011b56e91ac880200000977', u'name': u'Marc Nager'}], u'id': 179, u'state': u'WA', u'location': {u'lat': 47.776875, u'lng': -122.264256}, u'twitter_hashtag': u'#swsea', u'start_date': u'2011-06-10T00:00:00.000Z'}"
       ]
      },
      {
       "output_type": "stream",
       "stream": "stdout",
       "text": [
        "\n",
        "177:Seattle, WA, USA -> Seattle, WA, USA: (47.60621, -122.33207)"
       ]
      },
      {
       "output_type": "stream",
       "stream": "stdout",
       "text": [
        "\n",
        "{u'website': u'russia.startupweekend.org', u'city': u'Moscow', u'vertical': None, u'country': u'Russia', u'facilitators': [], u'id': 180, u'state': None, u'location': {u'lat': 55.7522222, u'lng': 37.6155556}, u'twitter_hashtag': u'#swmoscow', u'start_date': u'2011-06-17T00:00:00.000Z'}"
       ]
      },
      {
       "output_type": "stream",
       "stream": "stdout",
       "text": [
        "\n",
        "178:Moscow,  , Russia -> Moscow, Russia: (55.74965, 37.62368)"
       ]
      },
      {
       "output_type": "stream",
       "stream": "stdout",
       "text": [
        "\n",
        "{u'website': u'dallas.startupweekend.org', u'city': u'Dallas', u'vertical': None, u'country': u'USA', u'facilitators': [], u'id': 181, u'state': u'TX', u'location': {u'lat': 32.778155, u'lng': -96.795404}, u'twitter_hashtag': u'#swdallas', u'start_date': u'2011-06-17T00:00:00.000Z'}"
       ]
      },
      {
       "output_type": "stream",
       "stream": "stdout",
       "text": [
        "\n",
        "179:Dallas, TX, USA -> Dallas, TX, USA: (32.78014, -96.80045)"
       ]
      },
      {
       "output_type": "stream",
       "stream": "stdout",
       "text": [
        "\n",
        "{u'website': u'skopje.startupweekend.org', u'city': u'Skopje', u'vertical': None, u'country': u'Macedonia', u'facilitators': [{u'last_name': u'Cremet', u'first_name': u'Corentin', u'_id': u'5029bfad9c398d02000009a4', u'name': u'Corentin Cremet'}], u'id': 182, u'state': None, u'location': {u'lat': 42, u'lng': 21.4333333}, u'twitter_hashtag': None, u'start_date': u'2011-06-24T00:00:00.000Z'}"
       ]
      },
      {
       "output_type": "stream",
       "stream": "stdout",
       "text": [
        "\n",
        "180:Skopje,  , Macedonia -> Skopje, Macedonia (FYROM): (41.99735, 21.42800)"
       ]
      },
      {
       "output_type": "stream",
       "stream": "stdout",
       "text": [
        "\n",
        "{u'website': u'rio.startupweekend.org', u'city': u'Rio de Janeiro', u'vertical': None, u'country': u'Brazil', u'facilitators': [], u'id': 183, u'location': {u'lat': -22.9, u'lng': -43.2333333}, u'twitter_hashtag': None, u'start_date': u'2011-06-24T00:00:00.000Z'}"
       ]
      },
      {
       "output_type": "stream",
       "stream": "stdout",
       "text": [
        "\n",
        "181:Rio de Janeiro,  , Brazil -> Rio de Janeiro, Brazil: (-22.90354, -43.20959)"
       ]
      },
      {
       "output_type": "stream",
       "stream": "stdout",
       "text": [
        "\n",
        "{u'website': u'guadalajara.startupweekend.org', u'city': u'Guadalajara', u'vertical': None, u'country': u'Mexico', u'facilitators': [{u'last_name': u'Zavala', u'first_name': u'Santiago', u'_id': u'5011b56e91ac8802000007e0', u'name': u'Santiago Zavala'}], u'id': 190, u'state': None, u'location': {u'lat': 20.6666667, u'lng': -103.3333333}, u'twitter_hashtag': u'#SWGDL', u'start_date': u'2011-06-24T00:00:00.000Z'}"
       ]
      },
      {
       "output_type": "stream",
       "stream": "stdout",
       "text": [
        "\n",
        "182:Guadalajara,  , Mexico -> Guadalajara, JAL, Mexico: (20.68999, -103.33563)"
       ]
      },
      {
       "output_type": "stream",
       "stream": "stdout",
       "text": [
        "\n",
        "{u'website': u'mobilecopenhagen.startupweekend.org', u'city': u'Copenhagen', u'vertical': None, u'country': u'Denmark', u'facilitators': [{u'last_name': u'Farcet', u'first_name': u'Alex', u'_id': u'5011b56e91ac880200000bb6', u'name': u'Alex Farcet'}], u'id': 185, u'state': None, u'location': {u'lat': 55.6666667, u'lng': 12.5833333}, u'twitter_hashtag': None, u'start_date': u'2011-06-24T00:00:00.000Z'}"
       ]
      },
      {
       "output_type": "stream",
       "stream": "stdout",
       "text": [
        "\n",
        "183:Copenhagen,  , Denmark -> Copenhagen, Denmark: (55.67610, 12.56834)"
       ]
      },
      {
       "output_type": "stream",
       "stream": "stdout",
       "text": [
        "\n",
        "{u'website': u'lasvegas.startupweekend.org', u'city': u'Las Vegas', u'vertical': None, u'country': u'USA', u'facilitators': [{u'last_name': u'Nager', u'first_name': u'Marc', u'_id': u'5011b56e91ac880200000977', u'name': u'Marc Nager'}], u'id': 184, u'state': u'NV', u'location': {u'lat': 35.927901, u'lng': -114.972061}, u'twitter_hashtag': u'#swlv', u'start_date': u'2011-06-24T00:00:00.000Z'}"
       ]
      },
      {
       "output_type": "stream",
       "stream": "stdout",
       "text": [
        "\n",
        "184:Las Vegas, NV, USA -> Las Vegas, NV, USA: (36.11465, -115.17282)"
       ]
      },
      {
       "output_type": "stream",
       "stream": "stdout",
       "text": [
        "\n",
        "{u'website': u'http://startupweekendbeijing.com/', u'city': u'Beijing', u'vertical': None, u'country': u'China', u'facilitators': [], u'id': 189, u'state': None, u'location': {u'lat': 39.9288889, u'lng': 116.3883333}, u'twitter_hashtag': None, u'start_date': u'2011-06-24T00:00:00.000Z'}"
       ]
      },
      {
       "output_type": "stream",
       "stream": "stdout",
       "text": [
        "\n",
        "185:Beijing,  , China -> Beijing, China: (39.90403, 116.40753)"
       ]
      },
      {
       "output_type": "stream",
       "stream": "stdout",
       "text": [
        "\n",
        "{u'website': u'bellingham.startupweekend.org', u'city': u'Bellingham', u'vertical': None, u'country': u'USA', u'facilitators': [{u'last_name': u'Sechrest', u'first_name': u'John', u'_id': u'5011b56e91ac88020000081e', u'name': u'John Sechrest'}], u'id': 187, u'state': u'WA', u'location': {u'lat': 48.768396, u'lng': -122.486483}, u'twitter_hashtag': u'#bhamsw', u'start_date': u'2011-06-24T00:00:00.000Z'}"
       ]
      },
      {
       "output_type": "stream",
       "stream": "stdout",
       "text": [
        "\n",
        "186:Bellingham, WA, USA -> Bellingham, WA, USA: (48.75955, -122.48822)"
       ]
      },
      {
       "output_type": "stream",
       "stream": "stdout",
       "text": [
        "\n",
        "{u'website': u'chandler.startupweekend.org', u'city': u'Chandler', u'vertical': None, u'country': u'USA', u'facilitators': [], u'id': 186, u'state': u'AZ', u'location': {u'lat': 36.171915, u'lng': -115.139974}, u'twitter_hashtag': u'#swchd', u'start_date': u'2011-06-24T00:00:00.000Z'}"
       ]
      },
      {
       "output_type": "stream",
       "stream": "stdout",
       "text": [
        "\n",
        "187:Chandler, AZ, USA -> Chandler, AZ, USA: (33.30616, -111.84125)"
       ]
      },
      {
       "output_type": "stream",
       "stream": "stdout",
       "text": [
        "\n",
        "{u'website': u'munich.startupweekend.org', u'city': u'Munich', u'vertical': None, u'country': u'Germany', u'facilitators': [], u'id': 188, u'state': None, u'location': {u'lat': 48.15, u'lng': 11.5833333}, u'twitter_hashtag': u'#swmunich', u'start_date': u'2011-06-24T00:00:00.000Z'}"
       ]
      },
      {
       "output_type": "stream",
       "stream": "stdout",
       "text": [
        "\n",
        "188:Munich,  , Germany -> Munich, Germany: (48.13661, 11.57709)"
       ]
      },
      {
       "output_type": "stream",
       "stream": "stdout",
       "text": [
        "\n",
        "{u'website': u'http://galicia.startupweekend.org/', u'city': u'Galicia', u'vertical': None, u'country': u'Spain', u'facilitators': [{u'last_name': u'Encinar', u'first_name': u'Maria', u'_id': u'5011b56e91ac880200000949', u'name': u'Maria Encinar'}], u'id': 191, u'location': {u'lat': 42.2333333, u'lng': -8.7166667}, u'twitter_hashtag': u'#swgalicia', u'start_date': u'2011-07-01T00:00:00.000Z'}"
       ]
      },
      {
       "output_type": "stream",
       "stream": "stdout",
       "text": [
        "\n",
        "189:Galicia,  , Spain -> Galicia, Spain: (42.57506, -8.13386)"
       ]
      },
      {
       "output_type": "stream",
       "stream": "stdout",
       "text": [
        "\n",
        "{u'website': u'amsterdam.startupweekend.org', u'city': u'Amsterdam', u'vertical': None, u'country': u'Netherlands', u'facilitators': [{u'last_name': u'Digby', u'first_name': u'James', u'_id': u'5011b56e91ac880200000800', u'name': u'James Digby'}], u'id': 192, u'location': {u'lat': 52.35, u'lng': 4.9166667}, u'twitter_hashtag': u'#swamsterdam', u'start_date': u'2011-07-08T00:00:00.000Z'}"
       ]
      },
      {
       "output_type": "stream",
       "stream": "stdout",
       "text": [
        "\n",
        "190:Amsterdam,  , Netherlands -> Amsterdam, The Netherlands: (52.37022, 4.89517)"
       ]
      },
      {
       "output_type": "stream",
       "stream": "stdout",
       "text": [
        "\n",
        "{u'website': u'tampa.startupweekend.org', u'city': u'Tampa', u'vertical': None, u'country': u'USA', u'facilitators': [], u'id': 193, u'state': u'FL', u'location': {u'lat': 27.871964, u'lng': -82.438841}, u'twitter_hashtag': u'#startuptampa', u'start_date': u'2011-07-08T00:00:00.000Z'}"
       ]
      },
      {
       "output_type": "stream",
       "stream": "stdout",
       "text": [
        "\n",
        "191:Tampa, FL, USA -> Tampa, FL, USA: (27.95058, -82.45718)"
       ]
      },
      {
       "output_type": "stream",
       "stream": "stdout",
       "text": [
        "\n",
        "{u'website': u'capetown.startupweekend.org', u'city': u'Cape Town', u'vertical': None, u'country': u'South Africa', u'facilitators': [], u'id': 196, u'state': None, u'location': {u'lat': -33.9166667, u'lng': 18.4166667}, u'twitter_hashtag': None, u'start_date': u'2011-07-22T00:00:00.000Z'}"
       ]
      },
      {
       "output_type": "stream",
       "stream": "stdout",
       "text": [
        "\n",
        "192:Cape Town,  , South Africa -> Cape Town, South Africa: (-33.92487, 18.42406)"
       ]
      },
      {
       "output_type": "stream",
       "stream": "stdout",
       "text": [
        "\n",
        "{u'website': u'shanghai.startupweekend.org', u'city': u'Shanghai', u'vertical': None, u'country': u'China', u'facilitators': [{u'last_name': u'Tian', u'first_name': u'Vivian', u'_id': u'5029bfad9c398d02000009cb', u'name': u'Vivian Tian'}], u'id': 194, u'state': None, u'location': {u'lat': 31.2222222, u'lng': 121.4580556}, u'twitter_hashtag': None, u'start_date': u'2011-07-22T00:00:00.000Z'}"
       ]
      },
      {
       "output_type": "stream",
       "stream": "stdout",
       "text": [
        "\n",
        "193:Shanghai,  , China -> Shanghai, China: (31.23039, 121.47370)"
       ]
      },
      {
       "output_type": "stream",
       "stream": "stdout",
       "text": [
        "\n",
        "{u'website': u'chicago.startupweekend.org', u'city': u'Chicago', u'vertical': None, u'country': u'USA', u'facilitators': [{u'last_name': u'Bertrand', u'first_name': u'Mark', u'_id': u'5011b56e91ac8802000009c6', u'name': u'Mark Bertrand'}], u'id': 195, u'state': u'IL', u'location': {u'lat': 41.811929, u'lng': -87.68732}, u'twitter_hashtag': u'#swchi', u'start_date': u'2011-07-22T00:00:00.000Z'}"
       ]
      },
      {
       "output_type": "stream",
       "stream": "stdout",
       "text": [
        "\n",
        "194:Chicago, IL, USA -> Chicago, IL, USA: (41.87811, -87.62980)"
       ]
      },
      {
       "output_type": "stream",
       "stream": "stdout",
       "text": [
        "\n",
        "{u'website': u'sydney.startupweekend.org/', u'city': u'Sydney', u'vertical': None, u'country': u'Australia', u'facilitators': [], u'id': 198, u'location': {u'lat': -33.8833333, u'lng': 151.2166667}, u'twitter_hashtag': u'#swsydney', u'start_date': u'2011-07-29T00:00:00.000Z'}"
       ]
      },
      {
       "output_type": "stream",
       "stream": "stdout",
       "text": [
        "\n",
        "195:Sydney,  , Australia -> Sydney NSW, Australia: (-33.86749, 151.20699)"
       ]
      },
      {
       "output_type": "stream",
       "stream": "stdout",
       "text": [
        "\n",
        "{u'website': u'johannesburg.startupweekend.org', u'city': u'Johannesburg', u'vertical': None, u'country': u'South Africa', u'facilitators': [{u'last_name': u'Hermer', u'first_name': u'Jarrod', u'_id': u'5011b56e91ac8802000009ce', u'name': u'Jarrod Hermer'}], u'id': 197, u'state': None, u'location': {u'lat': -33.9166667, u'lng': 18.4166667}, u'twitter_hashtag': u'#SWJozi', u'start_date': u'2011-07-29T00:00:00.000Z'}"
       ]
      },
      {
       "output_type": "stream",
       "stream": "stdout",
       "text": [
        "\n",
        "196:Johannesburg,  , South Africa -> Johannesburg, South Africa: (-26.20410, 28.04731)"
       ]
      },
      {
       "output_type": "stream",
       "stream": "stdout",
       "text": [
        "\n",
        "{u'website': u'bayarea.startupweekend.org', u'city': u'Palo Alto', u'vertical': None, u'country': u'USA', u'facilitators': [{u'last_name': u'Nouyrigat', u'first_name': u'Franck', u'_id': u'5011b56e91ac88020000093e', u'name': u'Franck Nouyrigat'}, {u'last_name': u'Armstrong', u'first_name': u'Keith', u'_id': u'5029bfad9c398d0200000886', u'name': u'Keith Armstrong'}], u'id': 200, u'state': u'CA', u'location': {u'lat': 37.784827, u'lng': -122.727802}, u'twitter_hashtag': u'#swbay', u'start_date': u'2011-08-05T00:00:00.000Z'}"
       ]
      },
      {
       "output_type": "stream",
       "stream": "stdout",
       "text": [
        "\n",
        "197:Palo Alto, CA, USA -> Palo Alto, CA, USA: (37.44188, -122.14302)"
       ]
      },
      {
       "output_type": "stream",
       "stream": "stdout",
       "text": [
        "\n",
        "{u'website': u'kyoto.startupweekend.org', u'city': u'Kyoto', u'vertical': None, u'country': u'Japan', u'facilitators': [{u'last_name': u'Li', u'first_name': u'Jonny', u'_id': u'5011b56e91ac8802000009d2', u'name': u'Jonny Li'}], u'id': 199, u'state': None, u'location': {u'lat': 35, u'lng': 135.75}, u'twitter_hashtag': None, u'start_date': u'2011-08-05T00:00:00.000Z'}"
       ]
      },
      {
       "output_type": "stream",
       "stream": "stdout",
       "text": [
        "\n",
        "198:Kyoto,  , Japan -> Kyoto, Kyoto Prefecture, Japan: (35.01164, 135.76803)"
       ]
      },
      {
       "output_type": "stream",
       "stream": "stdout",
       "text": [
        "\n",
        "{u'website': u'seoul.startupweekend.org', u'city': u'Seoul', u'vertical': None, u'country': u'South Korea', u'facilitators': [], u'id': 201, u'state': None, u'location': {u'lat': 37.5663889, u'lng': 126.9997222}, u'twitter_hashtag': u'#swseoul', u'start_date': u'2011-08-12T00:00:00.000Z'}"
       ]
      },
      {
       "output_type": "stream",
       "stream": "stdout",
       "text": [
        "\n",
        "199:Seoul,  , South Korea -> Seoul, South Korea: (37.56654, 126.97797)"
       ]
      },
      {
       "output_type": "stream",
       "stream": "stdout",
       "text": [
        "\n",
        "{u'website': u'nyc.startupweekend.org', u'city': u'New York City', u'vertical': None, u'country': u'USA', u'facilitators': [{u'last_name': u'Reiser', u'first_name': u'Shane', u'_id': u'5029bfad9c398d02000008a2', u'name': u'Shane Reiser'}], u'id': 202, u'state': u'NY', u'location': {u'lat': 40.780751, u'lng': -73.977182}, u'twitter_hashtag': u'#nycsw', u'start_date': u'2011-08-12T00:00:00.000Z'}"
       ]
      },
      {
       "output_type": "stream",
       "stream": "stdout",
       "text": [
        "\n",
        "200:New York City, NY, USA -> New York, NY, USA: (40.71435, -74.00597)"
       ]
      },
      {
       "output_type": "stream",
       "stream": "stdout",
       "text": [
        "\n",
        "{u'website': u'taipei.startupweekend.org', u'city': u'Taipei', u'vertical': None, u'country': u'Taiwan', u'facilitators': [], u'id': 203, u'location': {u'lat': 25.0391667, u'lng': 121.525}, u'twitter_hashtag': u'#startuptaipei', u'start_date': u'2011-08-13T00:00:00.000Z'}"
       ]
      },
      {
       "output_type": "stream",
       "stream": "stdout",
       "text": [
        "\n",
        "201:Taipei,  , Taiwan -> Taipei City, Taiwan: (25.09108, 121.55983)"
       ]
      },
      {
       "output_type": "stream",
       "stream": "stdout",
       "text": [
        "\n",
        "{u'website': u'tokyo.startupweekend.org', u'city': u'Tokyo', u'vertical': None, u'country': u'Japan', u'facilitators': [{u'last_name': u'Li', u'first_name': u'Jonny', u'_id': u'5011b56e91ac8802000009d2', u'name': u'Jonny Li'}], u'id': 205, u'state': None, u'location': {u'lat': 35.685, u'lng': 139.7513889}, u'twitter_hashtag': u'#swtokyo', u'start_date': u'2011-08-19T00:00:00.000Z'}"
       ]
      },
      {
       "output_type": "stream",
       "stream": "stdout",
       "text": [
        "\n",
        "202:Tokyo,  , Japan -> Tokyo, Japan: (35.68949, 139.69171)"
       ]
      },
      {
       "output_type": "stream",
       "stream": "stdout",
       "text": [
        "\n",
        "{u'website': u'tucson.startupweekend.org', u'city': u'Tucson', u'vertical': None, u'country': u'USA', u'facilitators': [{u'last_name': u'Armstrong', u'first_name': u'Keith', u'_id': u'5029bfad9c398d0200000886', u'name': u'Keith Armstrong'}], u'id': 204, u'state': u'AZ', u'location': {u'lat': 32.071764, u'lng': -110.859106}, u'twitter_hashtag': u'#swtucson', u'start_date': u'2011-08-19T00:00:00.000Z'}"
       ]
      },
      {
       "output_type": "stream",
       "stream": "stdout",
       "text": [
        "\n",
        "203:Tucson, AZ, USA -> Tucson, AZ, USA: (32.22174, -110.92648)"
       ]
      },
      {
       "output_type": "stream",
       "stream": "stdout",
       "text": [
        "\n",
        "{u'website': u'la.startupweekend.org', u'city': u'Los Angeles', u'vertical': None, u'country': u'USA', u'facilitators': [{u'last_name': u'Nager', u'first_name': u'Marc', u'_id': u'5011b56e91ac880200000977', u'name': u'Marc Nager'}], u'id': 206, u'state': u'CA', u'location': {u'lat': 33.786594, u'lng': -118.298662}, u'twitter_hashtag': u'#lasw', u'start_date': u'2011-08-19T00:00:00.000Z'}"
       ]
      },
      {
       "output_type": "stream",
       "stream": "stdout",
       "text": [
        "\n",
        "204:Los Angeles, CA, USA -> Los Angeles, CA, USA: (34.05223, -118.24368)"
       ]
      },
      {
       "output_type": "stream",
       "stream": "stdout",
       "text": [
        "\n",
        "{u'website': u'fukuoka.startupweekend.org', u'city': u'Fukuoka', u'vertical': None, u'country': u'Japan', u'facilitators': [{u'last_name': u'Li', u'first_name': u'Jonny', u'_id': u'5011b56e91ac8802000009d2', u'name': u'Jonny Li'}], u'id': 207, u'state': None, u'location': {u'lat': 33.5833333, u'lng': 130.4}, u'twitter_hashtag': u'#swfukuoka', u'start_date': u'2011-08-26T00:00:00.000Z'}"
       ]
      },
      {
       "output_type": "stream",
       "stream": "stdout",
       "text": [
        "\n",
        "205:Fukuoka,  , Japan -> Fukuoka, Fukuoka Prefecture, Japan: (33.59035, 130.40172)"
       ]
      },
      {
       "output_type": "stream",
       "stream": "stdout",
       "text": [
        "\n",
        "{u'website': u'hyderabad.startupweekend.org', u'city': u'Hyderabad', u'vertical': None, u'country': u'India', u'facilitators': [{u'last_name': u'Jain', u'first_name': u'Pankaj', u'_id': u'5011b56e91ac8802000008fc', u'name': u'Pankaj Jain'}], u'id': 208, u'location': {u'lat': 17.3752778, u'lng': 78.4744444}, u'twitter_hashtag': u'#swhyderabad', u'start_date': u'2011-09-02T00:00:00.000Z'}"
       ]
      },
      {
       "output_type": "stream",
       "stream": "stdout",
       "text": [
        "\n",
        "206:Hyderabad,  , India -> Hyderabad, Andhra Pradesh, India: (17.38504, 78.48667)"
       ]
      },
      {
       "output_type": "stream",
       "stream": "stdout",
       "text": [
        "\n",
        "{u'website': u'monterrey.startupweekend.org', u'city': u'Monterrey', u'vertical': None, u'country': u'Mexico', u'facilitators': [{u'last_name': u'Zavala', u'first_name': u'Santiago', u'_id': u'5011b56e91ac8802000007e0', u'name': u'Santiago Zavala'}], u'id': 209, u'state': None, u'location': {u'lat': 25.67321, u'lng': -100.3092}, u'twitter_hashtag': u'#swmty', u'start_date': u'2011-09-03T00:00:00.000Z'}"
       ]
      },
      {
       "output_type": "stream",
       "stream": "stdout",
       "text": [
        "\n",
        "207:Monterrey,  , Mexico -> Monterrey, Nuevo Le\u00f3n, Mexico: (25.67321, -100.30920)"
       ]
      },
      {
       "output_type": "stream",
       "stream": "stdout",
       "text": [
        "\n",
        "{u'website': u'russia.startupweekend.org', u'city': u'Moscow', u'vertical': None, u'country': u'Russia', u'facilitators': [], u'id': 215, u'location': {u'lat': 55.7522222, u'lng': 37.6155556}, u'twitter_hashtag': None, u'start_date': u'2011-09-09T00:00:00.000Z'}"
       ]
      },
      {
       "output_type": "stream",
       "stream": "stdout",
       "text": [
        "\n",
        "208:Moscow,  , Russia -> Moscow, Russia: (55.74965, 37.62368)"
       ]
      },
      {
       "output_type": "stream",
       "stream": "stdout",
       "text": [
        "\n",
        "{u'website': u'mega.startupweekend.org', u'city': u'Mountain View', u'vertical': u'EDU, HEALTH, GAMING', u'country': u'USA', u'facilitators': [{u'last_name': u'Nager', u'first_name': u'Marc', u'_id': u'5011b56e91ac880200000977', u'name': u'Marc Nager'}], u'id': 216, u'state': u'CA', u'location': {u'lat': 37.784827, u'lng': -122.727802}, u'twitter_hashtag': u'#swmega', u'start_date': u'2011-09-09T00:00:00.000Z'}"
       ]
      },
      {
       "output_type": "stream",
       "stream": "stdout",
       "text": [
        "\n",
        "209:Mountain View, CA, USA -> Mountain View, CA, USA: (37.38605, -122.08385)"
       ]
      },
      {
       "output_type": "stream",
       "stream": "stdout",
       "text": [
        "\n",
        "{u'website': u'cambodia.startupweekend.org', u'city': u'Phnom Penh', u'vertical': None, u'country': u'Cambodia', u'facilitators': [{u'last_name': u'Jensen', u'first_name': u'Darren', u'_id': u'5011b56e91ac880200000ab4', u'name': u'Darren Jensen'}], u'id': 214, u'location': {u'lat': 11.55, u'lng': 104.9166667}, u'twitter_hashtag': u'#swpp', u'start_date': u'2011-09-09T00:00:00.000Z'}"
       ]
      },
      {
       "output_type": "stream",
       "stream": "stdout",
       "text": [
        "\n",
        "210:Phnom Penh,  , Cambodia -> Phnom Penh, Cambodia: (11.55883, 104.91745)"
       ]
      },
      {
       "output_type": "stream",
       "stream": "stdout",
       "text": [
        "\n",
        "{u'website': u'idaho.startupweekend.org', u'city': u'Boise', u'vertical': None, u'country': u'USA', u'facilitators': [{u'last_name': u'Cross', u'first_name': u'Sterling', u'_id': u'5029bfad9c398d02000008cb', u'name': u'Sterling Cross'}], u'id': 211, u'state': u'ID', u'location': {u'lat': 43.60682, u'lng': -116.282259}, u'twitter_hashtag': u'#swboise', u'start_date': u'2011-09-09T00:00:00.000Z'}"
       ]
      },
      {
       "output_type": "stream",
       "stream": "stdout",
       "text": [
        "\n",
        "211:Boise, ID, USA -> Boise, ID, USA: (43.61871, -116.21461)"
       ]
      },
      {
       "output_type": "stream",
       "stream": "stdout",
       "text": [
        "\n",
        "{u'website': u'shanghaiee.startupweekend.org', u'city': u'Shanghai', u'vertical': None, u'country': u'China', u'facilitators': [{u'last_name': u'Li', u'first_name': u'Jonny', u'_id': u'5011b56e91ac8802000009d2', u'name': u'Jonny Li'}], u'id': 217, u'state': None, u'location': {u'lat': 31.2222222, u'lng': 121.4580556}, u'twitter_hashtag': None, u'start_date': u'2011-09-09T00:00:00.000Z'}"
       ]
      },
      {
       "output_type": "stream",
       "stream": "stdout",
       "text": [
        "\n",
        "212:Shanghai,  , China -> Shanghai, China: (31.23039, 121.47370)"
       ]
      },
      {
       "output_type": "stream",
       "stream": "stdout",
       "text": [
        "\n",
        "{u'website': u'london.startupweekend.org', u'city': u'London', u'vertical': None, u'country': u'UK', u'facilitators': [{u'last_name': u'Digby', u'first_name': u'James', u'_id': u'5011b56e91ac880200000800', u'name': u'James Digby'}], u'id': 213, u'state': None, u'location': {u'lat': 51.5, u'lng': -0.1166667}, u'twitter_hashtag': u'#swlondon', u'start_date': u'2011-09-09T00:00:00.000Z'}"
       ]
      },
      {
       "output_type": "stream",
       "stream": "stdout",
       "text": [
        "\n",
        "213:London,  , UK -> London, UK: (51.51121, -0.11982)"
       ]
      },
      {
       "output_type": "stream",
       "stream": "stdout",
       "text": [
        "\n",
        "{u'website': u'lagos.startupweekend.org', u'city': u'Lagos', u'vertical': None, u'country': u'Nigeria', u'facilitators': [{u'last_name': u'Farcet', u'first_name': u'Alex', u'_id': u'5011b56e91ac880200000bb6', u'name': u'Alex Farcet'}], u'id': 210, u'state': None, u'location': {u'lat': 6.4530556, u'lng': 3.3958333}, u'twitter_hashtag': u'#swlagos', u'start_date': u'2011-09-09T00:00:00.000Z'}"
       ]
      },
      {
       "output_type": "stream",
       "stream": "stdout",
       "text": [
        "\n",
        "214:Lagos,  , Nigeria -> Lagos, Nigeria: (6.44116, 3.41798)"
       ]
      },
      {
       "output_type": "stream",
       "stream": "stdout",
       "text": [
        "\n",
        "{u'website': u'delaware.startupweekend.org', u'city': u'Delaware', u'vertical': None, u'country': u'USA', u'facilitators': [{u'last_name': u'Nagle', u'first_name': u'Tom', u'_id': u'5011b56e91ac8802000009ee', u'name': u'Tom Nagle'}], u'id': 212, u'state': u'DE', u'location': {u'lat': 39.564499, u'lng': -75.597047}, u'twitter_hashtag': u'#swdelaware', u'start_date': u'2011-09-09T00:00:00.000Z'}"
       ]
      },
      {
       "output_type": "stream",
       "stream": "stdout",
       "text": [
        "\n",
        "215:Delaware, DE, USA -> Delaware, USA: (38.91083, -75.52767)"
       ]
      },
      {
       "output_type": "stream",
       "stream": "stdout",
       "text": [
        "\n",
        "{u'website': u'eurobattle.startupweekend.org', u'city': u'London', u'vertical': u'EU Startup Battle', u'country': u'UK', u'facilitators': [{u'last_name': u'Stelle', u'first_name': u'Adam', u'_id': u'5029bfad9c398d0200000922', u'name': u'Adam Stelle'}], u'id': 218, u'state': None, u'location': {u'lat': 51.52276, u'lng': -0.103841999999986}, u'twitter_hashtag': u'#swbattle', u'start_date': u'2011-09-13T00:00:00.000Z'}"
       ]
      },
      {
       "output_type": "stream",
       "stream": "stdout",
       "text": [
        "\n",
        "216:London,  , UK -> London, UK: (51.51121, -0.11982)"
       ]
      },
      {
       "output_type": "stream",
       "stream": "stdout",
       "text": [
        "\n",
        "{u'website': u'honolulu.startupweekend.org', u'city': u'Honolulu', u'vertical': None, u'country': u'USA', u'facilitators': [{u'last_name': u'Mcedward', u'first_name': u'Maris', u'_id': u'5029bfad9c398d02000009a9', u'name': u'Maris Mcedward'}], u'id': 220, u'state': u'HI', u'location': {u'lat': 24.859832, u'lng': -168.021815}, u'twitter_hashtag': u'#swhnl', u'start_date': u'2011-09-16T00:00:00.000Z'}"
       ]
      },
      {
       "output_type": "stream",
       "stream": "stdout",
       "text": [
        "\n",
        "217:Honolulu, HI, USA -> Honolulu, HI, USA: (21.30694, -157.85833)"
       ]
      },
      {
       "output_type": "stream",
       "stream": "stdout",
       "text": [
        "\n",
        "{u'website': u'mongolia.startupweekend.org', u'city': u'Ulaanbaatar', u'vertical': None, u'country': u'Mongolia', u'facilitators': [{u'last_name': u'Davaasuren', u'first_name': u'Oko', u'_id': u'5011b56e91ac880200000d14', u'name': u'Oko Davaasuren'}], u'id': 221, u'state': None, u'location': {u'lat': 47.9166667, u'lng': 106.9166667}, u'twitter_hashtag': None, u'start_date': u'2011-09-16T00:00:00.000Z'}"
       ]
      },
      {
       "output_type": "stream",
       "stream": "stdout",
       "text": [
        "\n",
        "218:Ulaanbaatar,  , Mongolia -> Ulaanbaatar, Mongolia: (47.92138, 106.90554)"
       ]
      },
      {
       "output_type": "stream",
       "stream": "stdout",
       "text": [
        "\n",
        "{u'website': u'omaha.startupweekend.org', u'city': u'Omaha', u'vertical': None, u'country': u'USA', u'facilitators': [{u'last_name': u'Comerford', u'first_name': u'Thubten', u'_id': u'5029bfad9c398d02000008bf', u'name': u'Thubten Comerford'}], u'id': 219, u'state': u'NE', u'location': {u'lat': 41.291736, u'lng': -96.171104}, u'twitter_hashtag': u'#swomaha', u'start_date': u'2011-09-16T00:00:00.000Z'}"
       ]
      },
      {
       "output_type": "stream",
       "stream": "stdout",
       "text": [
        "\n",
        "219:Omaha, NE, USA -> Omaha, NE, USA: (41.25236, -95.99799)"
       ]
      },
      {
       "output_type": "stream",
       "stream": "stdout",
       "text": [
        "\n",
        "{u'website': u'startupday.com', u'city': u'Seattle', u'vertical': u'Startup Day 2011', u'country': u'USA', u'facilitators': [], u'id': 222, u'state': u'WA', u'location': {u'lat': 47.776875, u'lng': -122.264256}, u'twitter_hashtag': None, u'start_date': u'2011-09-17T00:00:00.000Z'}"
       ]
      },
      {
       "output_type": "stream",
       "stream": "stdout",
       "text": [
        "\n",
        "220:Seattle, WA, USA -> Seattle, WA, USA: (47.60621, -122.33207)"
       ]
      },
      {
       "output_type": "stream",
       "stream": "stdout",
       "text": [
        "\n",
        "{u'website': u'alexandria.startupweekend.org', u'city': u'Alexandria', u'vertical': None, u'country': u'Egypt', u'facilitators': [], u'id': 223, u'state': None, u'location': {u'lat': 31.1980556, u'lng': 29.9191667}, u'twitter_hashtag': u'#swalex', u'start_date': u'2011-09-22T00:00:00.000Z'}"
       ]
      },
      {
       "output_type": "stream",
       "stream": "stdout",
       "text": [
        "\n",
        "221:Alexandria,  , Egypt -> Alexandria, Egypt: (31.20009, 29.91874)"
       ]
      },
      {
       "output_type": "stream",
       "stream": "stdout",
       "text": [
        "\n",
        "{u'website': u'auckland.startupweekend.org', u'city': u'Auckland', u'vertical': None, u'country': u'New Zealand', u'facilitators': [], u'id': 226, u'location': {u'lat': -36.8666667, u'lng': 174.7666667}, u'twitter_hashtag': u'#akslw', u'start_date': u'2011-09-23T00:00:00.000Z'}"
       ]
      },
      {
       "output_type": "stream",
       "stream": "stdout",
       "text": [
        "\n",
        "222:Auckland,  , New Zealand -> Auckland, New Zealand: (-36.84846, 174.76333)"
       ]
      },
      {
       "output_type": "stream",
       "stream": "stdout",
       "text": [
        "\n",
        "{u'website': u'oslo.startupweekend.org', u'city': u'Oslo', u'vertical': None, u'country': u'Norway', u'facilitators': [{u'last_name': u'Sechrest', u'first_name': u'John', u'_id': u'5011b56e91ac88020000081e', u'name': u'John Sechrest'}], u'id': 225, u'state': None, u'location': {u'lat': 59.9166667, u'lng': 10.75}, u'twitter_hashtag': u'#swoslo', u'start_date': u'2011-09-23T00:00:00.000Z'}"
       ]
      },
      {
       "output_type": "stream",
       "stream": "stdout",
       "text": [
        "\n",
        "223:Oslo,  , Norway -> Oslo, Norway: (59.91387, 10.75225)"
       ]
      },
      {
       "output_type": "stream",
       "stream": "stdout",
       "text": [
        "\n",
        "{u'website': u'ithaca.startupweekend.org', u'city': u'Ithaca', u'vertical': None, u'country': u'USA', u'facilitators': [], u'id': 227, u'state': u'NY', u'location': {u'lat': 42.447373, u'lng': -76.483703}, u'twitter_hashtag': u'#swithaca', u'start_date': u'2011-09-23T00:00:00.000Z'}"
       ]
      },
      {
       "output_type": "stream",
       "stream": "stdout",
       "text": [
        "\n",
        "224:Ithaca, NY, USA -> Ithaca, NY, USA: (42.44396, -76.50188)"
       ]
      },
      {
       "output_type": "stream",
       "stream": "stdout",
       "text": [
        "\n",
        "{u'website': u'hartford.startupweekend.org', u'city': u'Hartford', u'vertical': None, u'country': u'USA', u'facilitators': [{u'last_name': u'Ball', u'first_name': u'Lorraine', u'_id': u'5011b56e91ac88020000091a', u'name': u'Lorraine Ball'}], u'id': 228, u'state': u'CT', u'location': {u'lat': 41.927447, u'lng': -72.680386}, u'twitter_hashtag': u'#swhartford', u'start_date': u'2011-09-23T00:00:00.000Z'}"
       ]
      },
      {
       "output_type": "stream",
       "stream": "stdout",
       "text": [
        "\n",
        "225:Hartford, CT, USA -> Hartford, CT, USA: (41.76371, -72.68509)"
       ]
      },
      {
       "output_type": "stream",
       "stream": "stdout",
       "text": [
        "\n",
        "{u'website': u'usc.startupweekend.org', u'city': u'Los Angeles', u'vertical': None, u'country': u'USA', u'facilitators': [{u'last_name': u'Pomerenke', u'first_name': u'Joey', u'_id': u'5011b56e91ac8802000008f6', u'name': u'Joey Pomerenke'}], u'id': 224, u'state': u'CA', u'location': {u'lat': 33.786594, u'lng': -118.298662}, u'twitter_hashtag': u'#swusc', u'start_date': u'2011-09-23T00:00:00.000Z'}"
       ]
      },
      {
       "output_type": "stream",
       "stream": "stdout",
       "text": [
        "\n",
        "226:Los Angeles, CA, USA -> Los Angeles, CA, USA: (34.05223, -118.24368)"
       ]
      },
      {
       "output_type": "stream",
       "stream": "stdout",
       "text": [
        "\n",
        "{u'website': u'nantes.startupweekend.org', u'city': u'Nantes', u'vertical': None, u'country': u'France', u'facilitators': [{u'last_name': u'Cazalot', u'first_name': u'Clement', u'_id': u'5011b56e91ac880200000929', u'name': u'Clement Cazalot'}], u'id': 234, u'location': {u'lat': 47.2166667, u'lng': -1.55}, u'twitter_hashtag': u'#swna', u'start_date': u'2011-09-30T00:00:00.000Z'}"
       ]
      },
      {
       "output_type": "stream",
       "stream": "stdout",
       "text": [
        "\n",
        "227:Nantes,  , France -> Nantes, France: (47.21837, -1.55362)"
       ]
      },
      {
       "output_type": "stream",
       "stream": "stdout",
       "text": [
        "\n",
        "{u'website': u'columbia.startupweekend.org', u'city': u'Columbia', u'vertical': None, u'country': u'USA', u'facilitators': [], u'id': 231, u'state': u'MO', u'location': {u'lat': 38.903318, u'lng': -92.102153}, u'twitter_hashtag': u'#startupCoMo', u'start_date': u'2011-09-30T00:00:00.000Z'}"
       ]
      },
      {
       "output_type": "stream",
       "stream": "stdout",
       "text": [
        "\n",
        "228:Columbia, MO, USA -> Columbia, MO, USA: (38.95171, -92.33407)"
       ]
      },
      {
       "output_type": "stream",
       "stream": "stdout",
       "text": [
        "\n",
        "{u'website': u'dilja@innovit.is', u'city': u'Sudurnes', u'vertical': None, u'country': u'Iceland', u'facilitators': [{u'last_name': u'Freyr Kristj\\xe1nsson', u'first_name': u'Kristj\\xe1n', u'_id': u'5011b56e91ac880200000936', u'name': u'Kristj\\xe1n Freyr Kristj\\xe1nsson'}], u'id': 229, u'state': None, u'location': {u'lat': 63.9166667, u'lng': -22.25}, u'twitter_hashtag': u'#sw_iceland', u'start_date': u'2011-09-30T00:00:00.000Z'}"
       ]
      },
      {
       "output_type": "stream",
       "stream": "stdout",
       "text": [
        "\n",
        "229:Sudurnes,  , Iceland -> Southern Peninsula, Iceland: (63.91548, -22.36497)"
       ]
      },
      {
       "output_type": "stream",
       "stream": "stdout",
       "text": [
        "\n",
        "{u'website': u'iowacity.startupweekend.org', u'city': u'Iowa City', u'vertical': None, u'country': u'USA', u'facilitators': [{u'last_name': u'Rebhuhn', u'first_name': u'Tawnee', u'_id': u'5029bfad9c398d02000008ec', u'name': u'Tawnee Rebhuhn'}], u'id': 230, u'state': u'IA', u'location': {u'lat': 41.600628, u'lng': -91.589264}, u'twitter_hashtag': u'#swiowacity', u'start_date': u'2011-09-30T00:00:00.000Z'}"
       ]
      },
      {
       "output_type": "stream",
       "stream": "stdout",
       "text": [
        "\n",
        "230:Iowa City, IA, USA -> Iowa City, IA, USA: (41.66113, -91.53017)"
       ]
      },
      {
       "output_type": "stream",
       "stream": "stdout",
       "text": [
        "\n",
        "{u'website': u'seattleedu.startupweekend.org', u'city': u'Seattle', u'vertical': u'EDU', u'country': u'USA', u'facilitators': [{u'last_name': u'Stelle', u'first_name': u'Adam', u'_id': u'5029bfad9c398d0200000922', u'name': u'Adam Stelle'}], u'id': 232, u'state': u'WA', u'location': {u'lat': 47.776875, u'lng': -122.264256}, u'twitter_hashtag': u'#swseaedu', u'start_date': u'2011-09-30T00:00:00.000Z'}"
       ]
      },
      {
       "output_type": "stream",
       "stream": "stdout",
       "text": [
        "\n",
        "231:Seattle, WA, USA -> Seattle, WA, USA: (47.60621, -122.33207)"
       ]
      },
      {
       "output_type": "stream",
       "stream": "stdout",
       "text": [
        "\n",
        "{u'website': u'tallahassee.startupweekend.org', u'city': u'Tallahassee', u'vertical': None, u'country': u'USA', u'facilitators': [{u'last_name': u'Armstrong', u'first_name': u'Keith', u'_id': u'5029bfad9c398d0200000886', u'name': u'Keith Armstrong'}], u'id': 233, u'state': u'FL', u'location': {u'lat': 30.449428, u'lng': -84.29095}, u'twitter_hashtag': u'#StartupTally', u'start_date': u'2011-09-30T00:00:00.000Z'}"
       ]
      },
      {
       "output_type": "stream",
       "stream": "stdout",
       "text": [
        "\n",
        "232:Tallahassee, FL, USA -> Tallahassee, FL, USA: (30.43826, -84.28073)"
       ]
      },
      {
       "output_type": "stream",
       "stream": "stdout",
       "text": [
        "\n",
        "{u'website': u'minsk.startupweekend.org', u'city': u'Minsk', u'vertical': None, u'country': u'Belarus', u'facilitators': [{u'last_name': u'Bulah', u'first_name': u'Alexander', u'_id': u'5011b56e91ac880200000a00', u'name': u'Alexander Bulah'}], u'id': 235, u'state': None, u'location': {u'lat': 53.9, u'lng': 27.5666667}, u'twitter_hashtag': u'#MSWBY', u'start_date': u'2011-10-01T00:00:00.000Z'}"
       ]
      },
      {
       "output_type": "stream",
       "stream": "stdout",
       "text": [
        "\n",
        "233:Minsk,  , Belarus -> Minsk, Belarus: (53.90000, 27.56667)"
       ]
      },
      {
       "output_type": "stream",
       "stream": "stdout",
       "text": [
        "\n",
        "{u'website': u'bogota.startupweekend.org', u'city': u'Bogota', u'vertical': None, u'country': u'Colombia', u'facilitators': [], u'id': 236, u'location': {u'lat': 4.6, u'lng': -74.0833333}, u'twitter_hashtag': u'#swbogota', u'start_date': u'2011-10-06T00:00:00.000Z'}"
       ]
      },
      {
       "output_type": "stream",
       "stream": "stdout",
       "text": [
        "\n",
        "234:Bogota,  , Colombia -> Bogot\u00e1, Bogota, Colombia: (4.59806, -74.07583)"
       ]
      },
      {
       "output_type": "stream",
       "stream": "stdout",
       "text": [
        "\n",
        "{u'website': u'poznan.startupweekend.org', u'city': u'Poznan', u'vertical': None, u'country': u'Poland', u'facilitators': [], u'id': 237, u'state': None, u'location': {u'lat': 52.4166667, u'lng': 16.9666667}, u'twitter_hashtag': u'#swpoz', u'start_date': u'2011-10-07T00:00:00.000Z'}"
       ]
      },
      {
       "output_type": "stream",
       "stream": "stdout",
       "text": [
        "\n",
        "235:Poznan,  , Poland -> Pozna\u0144, Poland: (52.40637, 16.92517)"
       ]
      },
      {
       "output_type": "stream",
       "stream": "stdout",
       "text": [
        "\n",
        "{u'website': u'lyon.startupweekend.org', u'city': u'Lyon', u'vertical': None, u'country': u'France', u'facilitators': [{u'last_name': u'Dorsaz', u'first_name': u'Cyril', u'_id': u'5011b56e91ac8802000008ec', u'name': u'Cyril Dorsaz'}], u'id': 239, u'state': None, u'location': {u'lat': 45.759399, u'lng': 4.82897}, u'twitter_hashtag': u'#swlyon', u'start_date': u'2011-10-07T00:00:00.000Z'}"
       ]
      },
      {
       "output_type": "stream",
       "stream": "stdout",
       "text": [
        "\n",
        "236:Lyon,  , France -> Lyon, France: (45.76404, 4.83566)"
       ]
      },
      {
       "output_type": "stream",
       "stream": "stdout",
       "text": [
        "\n",
        "{u'website': u'columbus.startupweekend.org', u'city': u'Columbus', u'vertical': None, u'country': u'USA', u'facilitators': [{u'last_name': u'Gilbert', u'first_name': u'Ben', u'_id': u'5011b56e91ac880200000a73', u'name': u'Ben Gilbert'}], u'id': 238, u'state': u'OH', u'location': {u'lat': 39.969036, u'lng': -83.011389}, u'twitter_hashtag': u'#SWC08', u'start_date': u'2011-10-07T00:00:00.000Z'}"
       ]
      },
      {
       "output_type": "stream",
       "stream": "stdout",
       "text": [
        "\n",
        "237:Columbus, OH, USA -> Columbus, OH, USA: (39.96118, -82.99879)"
       ]
      },
      {
       "output_type": "stream",
       "stream": "stdout",
       "text": [
        "\n",
        "{u'website': u'riyadh.startupweekend.org', u'city': u'Riyadh', u'vertical': None, u'country': u'Saudi Arabia', u'facilitators': [], u'id': 240, u'state': None, u'location': {u'lat': 24.6408333, u'lng': 46.7727778}, u'twitter_hashtag': u'#swsaudi', u'start_date': u'2011-10-12T00:00:00.000Z'}"
       ]
      },
      {
       "output_type": "stream",
       "stream": "stdout",
       "text": [
        "\n",
        "238:Riyadh,  , Saudi Arabia -> Riyadh Saudi Arabia: (24.71167, 46.72417)"
       ]
      },
      {
       "output_type": "stream",
       "stream": "stdout",
       "text": [
        "\n",
        "{u'website': u'puertorico.startupweekend.org', u'city': u'San Juan', u'vertical': None, u'country': u'Puerto Rico', u'facilitators': [], u'id': 248, u'state': None, u'location': {u'lat': 18.25, u'lng': -66.5}, u'twitter_hashtag': u'#StartupWikenPR', u'start_date': u'2011-10-14T00:00:00.000Z'}"
       ]
      },
      {
       "output_type": "stream",
       "stream": "stdout",
       "text": [
        "\n",
        "239:San Juan,  , Puerto Rico -> San Juan, Puerto Rico: (18.46633, -66.10572)"
       ]
      },
      {
       "output_type": "stream",
       "stream": "stdout",
       "text": [
        "\n",
        "{u'website': u'singapore.startupweekend.org', u'city': u'Singapore', u'vertical': None, u'country': u'Singapore', u'facilitators': [], u'id': 250, u'location': {u'lat': 1.3667, u'lng': 103.8}, u'twitter_hashtag': None, u'start_date': u'2011-10-14T00:00:00.000Z'}"
       ]
      },
      {
       "output_type": "stream",
       "stream": "stdout",
       "text": [
        "\n",
        "240:Singapore,  , Singapore -> Singapore: (1.28009, 103.85095)"
       ]
      },
      {
       "output_type": "stream",
       "stream": "stdout",
       "text": [
        "\n",
        "{u'website': u'sfedu.startupweekend.org', u'city': u'San Francisco', u'vertical': u'EDU', u'country': u'USA', u'facilitators': [{u'last_name': u'Nivi', u'first_name': u'Farbood', u'_id': u'5011b56e91ac880200000afd', u'name': u'Farbood Nivi'}], u'id': 251, u'state': u'CA', u'location': {u'lat': 37.775, u'lng': -122.4183333}, u'twitter_hashtag': u'#sfedu', u'start_date': u'2011-10-14T00:00:00.000Z'}"
       ]
      },
      {
       "output_type": "stream",
       "stream": "stdout",
       "text": [
        "\n",
        "241:San Francisco, CA, USA -> San Francisco, CA, USA: (37.77493, -122.41942)"
       ]
      },
      {
       "output_type": "stream",
       "stream": "stdout",
       "text": [
        "\n",
        "{u'website': u'sandiego.startupweekend.org', u'city': u'San Diego', u'vertical': None, u'country': u'USA', u'facilitators': [{u'last_name': u'Bryant', u'first_name': u'Julian', u'_id': u'5011b56e91ac880200000b85', u'name': u'Julian Bryant'}], u'id': 245, u'state': u'CA', u'location': {u'lat': 32.715695, u'lng': -117.161719}, u'twitter_hashtag': u'#swsd', u'start_date': u'2011-10-14T00:00:00.000Z'}"
       ]
      },
      {
       "output_type": "stream",
       "stream": "stdout",
       "text": [
        "\n",
        "242:San Diego, CA, USA -> San Diego, CA, USA: (32.71533, -117.15726)"
       ]
      },
      {
       "output_type": "stream",
       "stream": "stdout",
       "text": [
        "\n",
        "{u'website': u'boston.startupweekend.org', u'city': u'Boston', u'vertical': None, u'country': u'USA', u'facilitators': [{u'last_name': u'Bob', u'first_name': u'Josh', u'_id': u'5011b56e91ac880200000aed', u'name': u'Josh Bob'}], u'id': 241, u'state': u'MA', u'location': {u'lat': 42.338947, u'lng': -70.919635}, u'twitter_hashtag': u'#SWBoston', u'start_date': u'2011-10-14T00:00:00.000Z'}"
       ]
      },
      {
       "output_type": "stream",
       "stream": "stdout",
       "text": [
        "\n",
        "243:Boston, MA, USA -> Boston, MA, USA: (42.35843, -71.05977)"
       ]
      },
      {
       "output_type": "stream",
       "stream": "stdout",
       "text": [
        "\n",
        "{u'website': u'philly.startupweekend.org', u'city': u'Philadelphia', u'vertical': None, u'country': u'USA', u'facilitators': [{u'last_name': u'Denbow', u'first_name': u'poo', u'_id': u'5011b56e91ac880200000976', u'name': u'poo Denbow'}], u'id': 243, u'state': u'PA', u'location': {u'lat': 40.001811, u'lng': -75.11787}, u'twitter_hashtag': u'#phlsw', u'start_date': u'2011-10-14T00:00:00.000Z'}"
       ]
      },
      {
       "output_type": "stream",
       "stream": "stdout",
       "text": [
        "\n",
        "244:Philadelphia, PA, USA -> Philadelphia, PA, USA: (39.95233, -75.16379)"
       ]
      },
      {
       "output_type": "stream",
       "stream": "stdout",
       "text": [
        "\n",
        "{u'website': u'hermosillo.startupweekend.org', u'city': u'Hermosillo', u'vertical': None, u'country': u'Mexico', u'facilitators': [{u'last_name': u'Zavala', u'first_name': u'Santiago', u'_id': u'5011b56e91ac8802000007e0', u'name': u'Santiago Zavala'}], u'id': 249, u'state': None, u'location': {u'lat': 29.0666667, u'lng': -110.9666667}, u'twitter_hashtag': u'#SWHillo', u'start_date': u'2011-10-14T00:00:00.000Z'}"
       ]
      },
      {
       "output_type": "stream",
       "stream": "stdout",
       "text": [
        "\n",
        "245:Hermosillo,  , Mexico -> Hermosillo, Sonora, Mexico: (29.08919, -110.96133)"
       ]
      },
      {
       "output_type": "stream",
       "stream": "stdout",
       "text": [
        "\n",
        "{u'website': u'chicago.startupweekend.org', u'city': u'Chicago', u'vertical': None, u'country': u'USA', u'facilitators': [], u'id': 246, u'state': u'IL', u'location': {u'lat': 41.811929, u'lng': -87.68732}, u'twitter_hashtag': u'#chicagosw', u'start_date': u'2011-10-14T00:00:00.000Z'}"
       ]
      },
      {
       "output_type": "stream",
       "stream": "stdout",
       "text": [
        "\n",
        "246:Chicago, IL, USA -> Chicago, IL, USA: (41.87811, -87.62980)"
       ]
      },
      {
       "output_type": "stream",
       "stream": "stdout",
       "text": [
        "\n",
        "{u'website': u'bratislava.startupweekend.org', u'city': u'Bratislava', u'vertical': None, u'country': u'Slovakia', u'facilitators': [{u'last_name': u'Ftacnik', u'first_name': u'Matej', u'_id': u'5029bfad9c398d0200000917', u'name': u'Matej Ftacnik'}], u'id': 247, u'state': None, u'location': {u'lat': 48.15, u'lng': 17.1166667}, u'twitter_hashtag': u'#swbratislava', u'start_date': u'2011-10-14T00:00:00.000Z'}"
       ]
      },
      {
       "output_type": "stream",
       "stream": "stdout",
       "text": [
        "\n",
        "247:Bratislava,  , Slovakia -> Bratislava, Slovakia: (48.14589, 17.10714)"
       ]
      },
      {
       "output_type": "stream",
       "stream": "stdout",
       "text": [
        "\n",
        "{u'website': None, u'city': u'Kuching', u'vertical': None, u'country': u'Malaysia', u'facilitators': [], u'id': 242, u'state': None, u'location': {u'lat': 1.55, u'lng': 110.3333333}, u'twitter_hashtag': None, u'start_date': u'2011-10-14T00:00:00.000Z'}"
       ]
      },
      {
       "output_type": "stream",
       "stream": "stdout",
       "text": [
        "\n",
        "248:Kuching,  , Malaysia -> Kuching, Sarawak, Malaysia: (1.53098, 110.34422)"
       ]
      },
      {
       "output_type": "stream",
       "stream": "stdout",
       "text": [
        "\n",
        "{u'website': u'portland.startupweekend.org', u'city': u'Portland', u'vertical': None, u'country': u'USA', u'facilitators': [{u'last_name': u'Jain', u'first_name': u'Shashi', u'_id': u'5011b56e91ac88020000087f', u'name': u'Shashi Jain'}], u'id': 244, u'state': u'OR', u'location': {u'lat': 45.580557, u'lng': -122.374776}, u'twitter_hashtag': u'#pdxsw', u'start_date': u'2011-10-14T00:00:00.000Z'}"
       ]
      },
      {
       "output_type": "stream",
       "stream": "stdout",
       "text": [
        "\n",
        "249:Portland, OR, USA -> Portland, OR, USA: (45.52345, -122.67621)"
       ]
      },
      {
       "output_type": "stream",
       "stream": "stdout",
       "text": [
        "\n",
        "{u'website': u'http://www.swdubai.org/', u'city': u'Dubai', u'vertical': None, u'country': u'United Arab Emirates', u'facilitators': [{u'last_name': u'Al-Rashid', u'first_name': u'Abdullah', u'_id': u'5029bfad9c398d0200000918', u'name': u'Abdullah Al-Rashid'}], u'id': 252, u'state': None, u'location': {u'lat': 25.2522222, u'lng': 55.28}, u'twitter_hashtag': u'#swdxb', u'start_date': u'2011-10-20T00:00:00.000Z'}"
       ]
      },
      {
       "output_type": "stream",
       "stream": "stdout",
       "text": [
        "\n",
        "250:Dubai,  , United Arab Emirates -> Dubai - United Arab Emirates: (25.27114, 55.30748)"
       ]
      },
      {
       "output_type": "stream",
       "stream": "stdout",
       "text": [
        "\n",
        "{u'website': u'karachi.startupweekend.org', u'city': u'Karachi', u'vertical': None, u'country': u'Pakistan', u'facilitators': [], u'id': 253, u'state': None, u'location': {u'lat': 24.8666667, u'lng': 67.05}, u'twitter_hashtag': u'#startupkarachi', u'start_date': u'2011-10-20T00:00:00.000Z'}"
       ]
      },
      {
       "output_type": "stream",
       "stream": "stdout",
       "text": [
        "\n",
        "251:Karachi,  , Pakistan -> Karachi, Pakistan: (24.89338, 67.02806)"
       ]
      },
      {
       "output_type": "stream",
       "stream": "stdout",
       "text": [
        "\n",
        "{u'website': u'hamilton.startupweekend.org', u'city': u'Hamilton', u'vertical': None, u'country': u'Canada', u'facilitators': [{u'last_name': u'Nowak', u'first_name': u'Justin', u'_id': u'5011b56e91ac880200000a7e', u'name': u'Justin Nowak'}], u'id': 261, u'state': u'ON', u'location': {u'lat': 43.25, u'lng': -79.8333333}, u'twitter_hashtag': u'#swhamilton', u'start_date': u'2011-10-21T00:00:00.000Z'}"
       ]
      },
      {
       "output_type": "stream",
       "stream": "stdout",
       "text": [
        "\n",
        "252:Hamilton, ON, Canada -> Hamilton, ON, Canada: (43.25002, -79.86609)"
       ]
      },
      {
       "output_type": "stream",
       "stream": "stdout",
       "text": [
        "\n",
        "{u'website': u'manila.startupweekend.org', u'city': u'Manila', u'vertical': None, u'country': u'Philippines', u'facilitators': [{u'last_name': u'Jensen', u'first_name': u'Darren', u'_id': u'5011b56e91ac880200000ab4', u'name': u'Darren Jensen'}], u'id': 256, u'state': None, u'location': {u'lat': 14.6041667, u'lng': 120.9822222}, u'twitter_hashtag': u'#swmanila', u'start_date': u'2011-10-21T00:00:00.000Z'}"
       ]
      },
      {
       "output_type": "stream",
       "stream": "stdout",
       "text": [
        "\n",
        "253:Manila,  , Philippines -> Manila, Philippines: (14.59951, 120.98422)"
       ]
      },
      {
       "output_type": "stream",
       "stream": "stdout",
       "text": [
        "\n",
        "{u'website': u'providence.startupweekend.org', u'city': u'Providence', u'vertical': None, u'country': u'USA', u'facilitators': [{u'last_name': u'Sanchez', u'first_name': u'Robert', u'_id': u'5029bfad9c398d020000097a', u'name': u'Robert Sanchez'}], u'id': 258, u'state': u'RI', u'location': {u'lat': 41.8238889, u'lng': -71.4133333}, u'twitter_hashtag': u'#swprovidence', u'start_date': u'2011-10-21T00:00:00.000Z'}"
       ]
      },
      {
       "output_type": "stream",
       "stream": "stdout",
       "text": [
        "\n",
        "254:Providence, RI, USA -> Providence, RI, USA: (41.82399, -71.41283)"
       ]
      },
      {
       "output_type": "stream",
       "stream": "stdout",
       "text": [
        "\n",
        "{u'website': u'chihuahua.startupweekend.org', u'city': u'Chihuahua', u'vertical': None, u'country': u'Mexico', u'facilitators': [{u'last_name': u'Zavala', u'first_name': u'Santiago', u'_id': u'5011b56e91ac8802000007e0', u'name': u'Santiago Zavala'}], u'id': 262, u'state': None, u'location': {u'lat': 28.632, u'lng': -106.11}, u'twitter_hashtag': u'#swchihuahua', u'start_date': u'2011-10-21T00:00:00.000Z'}"
       ]
      },
      {
       "output_type": "stream",
       "stream": "stdout",
       "text": [
        "\n",
        "255:Chihuahua,  , Mexico -> Chihuahua, Mexico: (28.63058, -106.07370)"
       ]
      },
      {
       "output_type": "stream",
       "stream": "stdout",
       "text": [
        "\n",
        "{u'website': None, u'city': u'Surabaya', u'vertical': None, u'country': u'Indonesia', u'facilitators': [], u'id': 266, u'state': None, u'location': {u'lat': -7.2491667, u'lng': 112.7508333}, u'twitter_hashtag': None, u'start_date': u'2011-10-21T00:00:00.000Z'}"
       ]
      },
      {
       "output_type": "stream",
       "stream": "stdout",
       "text": [
        "\n",
        "256:Surabaya,  , Indonesia -> Surabaya, Indonesia: (-7.28917, 112.73440)"
       ]
      },
      {
       "output_type": "stream",
       "stream": "stdout",
       "text": [
        "\n",
        "{u'website': u'kalamazoo.startupweekend.org', u'city': u'Kalamazoo', u'vertical': None, u'country': u'USA', u'facilitators': [{u'last_name': u'Goins', u'first_name': u'Ryan', u'_id': u'5011b56e91ac880200000885', u'name': u'Ryan Goins'}], u'id': 255, u'state': u'MI', u'location': {u'lat': 42.299211, u'lng': -85.592635}, u'twitter_hashtag': u'#swkzoo', u'start_date': u'2011-10-21T00:00:00.000Z'}"
       ]
      },
      {
       "output_type": "stream",
       "stream": "stdout",
       "text": [
        "\n",
        "257:Kalamazoo, MI, USA -> Kalamazoo, MI, USA: (42.29171, -85.58723)"
       ]
      },
      {
       "output_type": "stream",
       "stream": "stdout",
       "text": [
        "\n",
        "{u'website': u'recife.startupweekend.org', u'city': u'Recife', u'vertical': None, u'country': u'Brazil', u'facilitators': [{u'last_name': u'Zeba', u'first_name': u'Leo', u'_id': u'5011b56e91ac880200000d0b', u'name': u'Leo Zeba'}], u'id': 264, u'state': None, u'location': {u'lat': -8.05, u'lng': -34.9}, u'twitter_hashtag': u'#swrecife', u'start_date': u'2011-10-21T00:00:00.000Z'}"
       ]
      },
      {
       "output_type": "stream",
       "stream": "stdout",
       "text": [
        "\n",
        "258:Recife,  , Brazil -> Recife - Pernambuco, Brazil: (-8.05428, -34.88126)"
       ]
      },
      {
       "output_type": "stream",
       "stream": "stdout",
       "text": [
        "\n",
        "{u'website': u'http://startupweekendbeijing.com/', u'city': u'Beijing', u'vertical': None, u'country': u'China', u'facilitators': [], u'id': 254, u'state': None, u'location': {}, u'twitter_hashtag': None, u'start_date': u'2011-10-21T00:00:00.000Z'}"
       ]
      },
      {
       "output_type": "stream",
       "stream": "stdout",
       "text": [
        "\n",
        "259:Beijing,  , China -> Beijing, China: (39.90403, 116.40753)"
       ]
      },
      {
       "output_type": "stream",
       "stream": "stdout",
       "text": [
        "\n",
        "{u'website': None, u'city': u'Kota Kinabalu', u'vertical': None, u'country': u'Malaysia', u'facilitators': [], u'id': 260, u'state': None, u'location': {u'lat': 5.9833333, u'lng': 116.0666667}, u'twitter_hashtag': None, u'start_date': u'2011-10-21T00:00:00.000Z'}"
       ]
      },
      {
       "output_type": "stream",
       "stream": "stdout",
       "text": [
        "\n",
        "260:Kota Kinabalu,  , Malaysia -> Kota Kinabalu, Sabah, Malaysia: (5.97647, 116.11578)"
       ]
      },
      {
       "output_type": "stream",
       "stream": "stdout",
       "text": [
        "\n",
        "{u'website': u'reunion.startupweekend.org', u'city': u'Reunion', u'vertical': None, u'country': u'Reunion', u'facilitators': [{u'last_name': u'Dorsaz', u'first_name': u'Cyril', u'_id': u'5011b56e91ac8802000008ec', u'name': u'Cyril Dorsaz'}], u'id': 259, u'state': None, u'location': {u'lat': -20.8761848, u'lng': 55.45215039999994}, u'twitter_hashtag': u'#startup974', u'start_date': u'2011-10-21T00:00:00.000Z'}"
       ]
      },
      {
       "output_type": "stream",
       "stream": "stdout",
       "text": [
        "\n",
        "261:Reunion,  , Reunion -> Reunion: (-21.11514, 55.53638)"
       ]
      },
      {
       "output_type": "stream",
       "stream": "stdout",
       "text": [
        "\n",
        "{u'website': u'brussels.startupweekend.org', u'city': u'Brussels', u'vertical': None, u'country': u'Belgium', u'facilitators': [{u'last_name': u'Exter', u'first_name': u'Leo', u'_id': u'5011b56e91ac8802000008e6', u'name': u'Leo Exter'}], u'id': 263, u'state': None, u'location': {u'lat': 50.8333333, u'lng': 4.3333333}, u'twitter_hashtag': u'#swbru', u'start_date': u'2011-10-21T00:00:00.000Z'}"
       ]
      },
      {
       "output_type": "stream",
       "stream": "stdout",
       "text": [
        "\n",
        "262:Brussels,  , Belgium -> City of Brussels, Belgium: (50.85034, 4.35171)"
       ]
      },
      {
       "output_type": "stream",
       "stream": "stdout",
       "text": [
        "\n",
        "{u'website': u'tulsa.startupweekend.org', u'city': u'Tulsa', u'vertical': None, u'country': u'USA', u'facilitators': [{u'last_name': u'Phillips', u'first_name': u'Scott', u'_id': u'5011b56e91ac880200000b2e', u'name': u'Scott Phillips'}], u'id': 265, u'state': u'OK', u'location': {u'lat': 36.1538889, u'lng': -95.9925}, u'twitter_hashtag': None, u'start_date': u'2011-10-21T00:00:00.000Z'}"
       ]
      },
      {
       "output_type": "stream",
       "stream": "stdout",
       "text": [
        "\n",
        "263:Tulsa, OK, USA -> Tulsa, OK, USA: (36.15398, -95.99278)"
       ]
      },
      {
       "output_type": "stream",
       "stream": "stdout",
       "text": [
        "\n",
        "{u'website': u'dcedu.startupweekend.org', u'city': u'WASHINGTON, D.C.', u'vertical': u'EDU', u'country': u'USA', u'facilitators': [{u'last_name': u'Smith', u'first_name': u'Khalid', u'_id': u'5011b56e91ac8802000009d6', u'name': u'Khalid Smith'}], u'id': 257, u'state': u'DC', u'location': {u'lat': 38.893311, u'lng': -77.014647}, u'twitter_hashtag': u'#swdcedu', u'start_date': u'2011-10-21T00:00:00.000Z'}"
       ]
      },
      {
       "output_type": "stream",
       "stream": "stdout",
       "text": [
        "\n",
        "264:WASHINGTON, D.C., DC, USA -> Washington, DC, USA: (38.89511, -77.03637)"
       ]
      },
      {
       "output_type": "stream",
       "stream": "stdout",
       "text": [
        "\n",
        "{u'website': u'brescia.startupweekend.org', u'city': u'Brescia', u'vertical': None, u'country': u'Italy', u'facilitators': [{u'last_name': u'Ergul', u'first_name': u'Tugce', u'_id': u'5011b56e91ac8802000007d0', u'name': u'Tugce Ergul'}], u'id': 272, u'state': None, u'location': {u'lat': 45.55, u'lng': 10.25}, u'twitter_hashtag': None, u'start_date': u'2011-10-28T00:00:00.000Z'}"
       ]
      },
      {
       "output_type": "stream",
       "stream": "stdout",
       "text": [
        "\n",
        "265:Brescia,  , Italy -> Brescia Province of Brescia, Italy: (45.54119, 10.21944)"
       ]
      },
      {
       "output_type": "stream",
       "stream": "stdout",
       "text": [
        "\n",
        "{u'website': u'eindhoven.startupweekend.org', u'city': u'Eindhoven', u'vertical': None, u'country': u'Netherlands', u'facilitators': [{u'last_name': u'Ritzen', u'first_name': u'Don', u'_id': u'5011b56e91ac8802000007d6', u'name': u'Don Ritzen'}], u'id': 269, u'location': {u'lat': 51.45, u'lng': 5.4666667}, u'twitter_hashtag': None, u'start_date': u'2011-10-28T00:00:00.000Z'}"
       ]
      },
      {
       "output_type": "stream",
       "stream": "stdout",
       "text": [
        "\n",
        "266:Eindhoven,  , Netherlands -> Eindhoven, The Netherlands: (51.44164, 5.46972)"
       ]
      },
      {
       "output_type": "stream",
       "stream": "stdout",
       "text": [
        "\n",
        "{u'website': u'szczecin.startupweekend.org', u'city': u'Szczecin', u'vertical': None, u'country': u'Poland', u'facilitators': [], u'id': 268, u'location': {u'lat': 53.4166667, u'lng': 14.5833333}, u'twitter_hashtag': u'#swszczecin', u'start_date': u'2011-10-28T00:00:00.000Z'}"
       ]
      },
      {
       "output_type": "stream",
       "stream": "stdout",
       "text": [
        "\n",
        "267:Szczecin,  , Poland -> Szczecin, Poland: (53.42854, 14.55281)"
       ]
      },
      {
       "output_type": "stream",
       "stream": "stdout",
       "text": [
        "\n",
        "{u'website': u'hangzhou.startupweekend.org', u'city': u'Hangzhou', u'vertical': None, u'country': u'China', u'facilitators': [], u'id': 271, u'state': None, u'location': {u'lat': 30.2552778, u'lng': 120.1688889}, u'twitter_hashtag': None, u'start_date': u'2011-10-28T00:00:00.000Z'}"
       ]
      },
      {
       "output_type": "stream",
       "stream": "stdout",
       "text": [
        "\n",
        "268:Hangzhou,  , China -> Hangzhou, Zhejiang, China: (30.27409, 120.15507)"
       ]
      },
      {
       "output_type": "stream",
       "stream": "stdout",
       "text": [
        "\n",
        "{u'website': None, u'city': u'Skudai', u'vertical': None, u'country': u'Malaysia', u'facilitators': [], u'id': 267, u'state': None, u'location': {u'lat': 1.533333, u'lng': 103.666667}, u'twitter_hashtag': None, u'start_date': u'2011-10-28T00:00:00.000Z'}"
       ]
      },
      {
       "ename": "GQueryError",
       "evalue": "The geocode was successful but returned no results. This may occur if the geocode was passed a non-existent address or a latlng in a remote location.",
       "output_type": "pyerr",
       "traceback": [
        "\u001b[0;31m---------------------------------------------------------------------------\u001b[0m\n\u001b[0;31mGQueryError\u001b[0m                               Traceback (most recent call last)",
        "\u001b[0;32m<ipython-input-5-b2e56b5d124b>\u001b[0m in \u001b[0;36m<module>\u001b[0;34m()\u001b[0m\n\u001b[1;32m     14\u001b[0m     \u001b[0mplace_in\u001b[0m\u001b[0;34m=\u001b[0m\u001b[0mevent\u001b[0m\u001b[0;34m[\u001b[0m\u001b[0;34m\"city\"\u001b[0m\u001b[0;34m]\u001b[0m\u001b[0;34m+\u001b[0m\u001b[0;34m\", \"\u001b[0m\u001b[0;34m+\u001b[0m\u001b[0;34m(\u001b[0m\u001b[0mevent\u001b[0m\u001b[0;34m[\u001b[0m\u001b[0;34m\"state\"\u001b[0m\u001b[0;34m]\u001b[0m \u001b[0;32mor\u001b[0m \u001b[0;34mu\" \"\u001b[0m\u001b[0;34m)\u001b[0m\u001b[0;34m+\u001b[0m\u001b[0;34m\", \"\u001b[0m\u001b[0;34m+\u001b[0m\u001b[0mevent\u001b[0m\u001b[0;34m[\u001b[0m\u001b[0;34m\"country\"\u001b[0m\u001b[0;34m]\u001b[0m\u001b[0;34m\u001b[0m\u001b[0m\n\u001b[1;32m     15\u001b[0m         \u001b[0;31m#place, (lat, lng) = y.geocode(place_in) #Hack for more than one return needed\u001b[0m\u001b[0;34m\u001b[0m\u001b[0;34m\u001b[0m\u001b[0m\n\u001b[0;32m---> 16\u001b[0;31m     \u001b[0mplace\u001b[0m\u001b[0;34m,\u001b[0m \u001b[0;34m(\u001b[0m\u001b[0mlat\u001b[0m\u001b[0;34m,\u001b[0m \u001b[0mlng\u001b[0m\u001b[0;34m)\u001b[0m \u001b[0;34m=\u001b[0m \u001b[0my\u001b[0m\u001b[0;34m.\u001b[0m\u001b[0mgeocode\u001b[0m\u001b[0;34m(\u001b[0m\u001b[0mplace_in\u001b[0m\u001b[0;34m,\u001b[0m \u001b[0mexactly_one\u001b[0m\u001b[0;34m=\u001b[0m\u001b[0mFalse\u001b[0m\u001b[0;34m)\u001b[0m\u001b[0;34m[\u001b[0m\u001b[0;36m0\u001b[0m\u001b[0;34m]\u001b[0m\u001b[0;34m\u001b[0m\u001b[0m\n\u001b[0m\u001b[1;32m     17\u001b[0m     \u001b[0mevent\u001b[0m\u001b[0;34m[\u001b[0m\u001b[0;34m'lat'\u001b[0m\u001b[0;34m]\u001b[0m\u001b[0;34m=\u001b[0m\u001b[0mlat\u001b[0m\u001b[0;34m\u001b[0m\u001b[0m\n\u001b[1;32m     18\u001b[0m     \u001b[0mevent\u001b[0m\u001b[0;34m[\u001b[0m\u001b[0;34m\"lon\"\u001b[0m\u001b[0;34m]\u001b[0m\u001b[0;34m=\u001b[0m\u001b[0mlng\u001b[0m\u001b[0;34m\u001b[0m\u001b[0m\n",
        "\u001b[0;32m/usr/local/Cellar/python/2.7.3/Frameworks/Python.framework/Versions/2.7/lib/python2.7/site-packages/geopy-0.95.1-py2.7.egg/geopy/geocoders/googlev3.pyc\u001b[0m in \u001b[0;36mgeocode\u001b[0;34m(self, string, bounds, region, language, sensor, exactly_one)\u001b[0m\n\u001b[1;32m    133\u001b[0m             \u001b[0murl\u001b[0m \u001b[0;34m=\u001b[0m \u001b[0mself\u001b[0m\u001b[0;34m.\u001b[0m\u001b[0mget_signed_url\u001b[0m\u001b[0;34m(\u001b[0m\u001b[0mparams\u001b[0m\u001b[0;34m)\u001b[0m\u001b[0;34m\u001b[0m\u001b[0m\n\u001b[1;32m    134\u001b[0m \u001b[0;34m\u001b[0m\u001b[0m\n\u001b[0;32m--> 135\u001b[0;31m         \u001b[0;32mreturn\u001b[0m \u001b[0mself\u001b[0m\u001b[0;34m.\u001b[0m\u001b[0mgeocode_url\u001b[0m\u001b[0;34m(\u001b[0m\u001b[0murl\u001b[0m\u001b[0;34m,\u001b[0m \u001b[0mexactly_one\u001b[0m\u001b[0;34m)\u001b[0m\u001b[0;34m\u001b[0m\u001b[0m\n\u001b[0m\u001b[1;32m    136\u001b[0m \u001b[0;34m\u001b[0m\u001b[0m\n\u001b[1;32m    137\u001b[0m     \u001b[0;32mdef\u001b[0m \u001b[0mreverse\u001b[0m\u001b[0;34m(\u001b[0m\u001b[0mself\u001b[0m\u001b[0;34m,\u001b[0m \u001b[0mpoint\u001b[0m\u001b[0;34m,\u001b[0m \u001b[0mlanguage\u001b[0m\u001b[0;34m=\u001b[0m\u001b[0mNone\u001b[0m\u001b[0;34m,\u001b[0m \u001b[0msensor\u001b[0m\u001b[0;34m=\u001b[0m\u001b[0mFalse\u001b[0m\u001b[0;34m,\u001b[0m \u001b[0mexactly_one\u001b[0m\u001b[0;34m=\u001b[0m\u001b[0mFalse\u001b[0m\u001b[0;34m)\u001b[0m\u001b[0;34m:\u001b[0m\u001b[0;34m\u001b[0m\u001b[0m\n",
        "\u001b[0;32m/usr/local/Cellar/python/2.7.3/Frameworks/Python.framework/Versions/2.7/lib/python2.7/site-packages/geopy-0.95.1-py2.7.egg/geopy/geocoders/googlev3.pyc\u001b[0m in \u001b[0;36mgeocode_url\u001b[0;34m(self, url, exactly_one)\u001b[0m\n\u001b[1;32m     89\u001b[0m         \u001b[0mpage\u001b[0m \u001b[0;34m=\u001b[0m \u001b[0murlopen\u001b[0m\u001b[0;34m(\u001b[0m\u001b[0murl\u001b[0m\u001b[0;34m)\u001b[0m\u001b[0;34m\u001b[0m\u001b[0m\n\u001b[1;32m     90\u001b[0m \u001b[0;34m\u001b[0m\u001b[0m\n\u001b[0;32m---> 91\u001b[0;31m         \u001b[0;32mreturn\u001b[0m \u001b[0mself\u001b[0m\u001b[0;34m.\u001b[0m\u001b[0mparse_json\u001b[0m\u001b[0;34m(\u001b[0m\u001b[0mpage\u001b[0m\u001b[0;34m,\u001b[0m \u001b[0mexactly_one\u001b[0m\u001b[0;34m)\u001b[0m\u001b[0;34m\u001b[0m\u001b[0m\n\u001b[0m\u001b[1;32m     92\u001b[0m \u001b[0;34m\u001b[0m\u001b[0m\n\u001b[1;32m     93\u001b[0m     def geocode(self, string, bounds=None, region=None,\n",
        "\u001b[0;32m/usr/local/Cellar/python/2.7.3/Frameworks/Python.framework/Versions/2.7/lib/python2.7/site-packages/geopy-0.95.1-py2.7.egg/geopy/geocoders/googlev3.pyc\u001b[0m in \u001b[0;36mparse_json\u001b[0;34m(self, page, exactly_one)\u001b[0m\n\u001b[1;32m    173\u001b[0m \u001b[0;34m\u001b[0m\u001b[0m\n\u001b[1;32m    174\u001b[0m         \u001b[0;32mif\u001b[0m \u001b[0;32mnot\u001b[0m \u001b[0mplaces\u001b[0m\u001b[0;34m:\u001b[0m\u001b[0;34m\u001b[0m\u001b[0m\n\u001b[0;32m--> 175\u001b[0;31m             \u001b[0mcheck_status\u001b[0m\u001b[0;34m(\u001b[0m\u001b[0mself\u001b[0m\u001b[0;34m.\u001b[0m\u001b[0mdoc\u001b[0m\u001b[0;34m.\u001b[0m\u001b[0mget\u001b[0m\u001b[0;34m(\u001b[0m\u001b[0;34m'status'\u001b[0m\u001b[0;34m)\u001b[0m\u001b[0;34m)\u001b[0m\u001b[0;34m\u001b[0m\u001b[0m\n\u001b[0m\u001b[1;32m    176\u001b[0m             \u001b[0;32mreturn\u001b[0m \u001b[0mNone\u001b[0m\u001b[0;34m\u001b[0m\u001b[0m\n\u001b[1;32m    177\u001b[0m         \u001b[0;32melif\u001b[0m \u001b[0mexactly_one\u001b[0m \u001b[0;32mand\u001b[0m \u001b[0mlen\u001b[0m\u001b[0;34m(\u001b[0m\u001b[0mplaces\u001b[0m\u001b[0;34m)\u001b[0m \u001b[0;34m!=\u001b[0m \u001b[0;36m1\u001b[0m\u001b[0;34m:\u001b[0m\u001b[0;34m\u001b[0m\u001b[0m\n",
        "\u001b[0;32m/usr/local/Cellar/python/2.7.3/Frameworks/Python.framework/Versions/2.7/lib/python2.7/site-packages/geopy-0.95.1-py2.7.egg/geopy/geocoders/googlev3.pyc\u001b[0m in \u001b[0;36mcheck_status\u001b[0;34m(status)\u001b[0m\n\u001b[1;32m    195\u001b[0m     \u001b[0;32mif\u001b[0m \u001b[0mstatus\u001b[0m \u001b[0;34m==\u001b[0m \u001b[0;34m'ZERO_RESULTS'\u001b[0m\u001b[0;34m:\u001b[0m\u001b[0;34m\u001b[0m\u001b[0m\n\u001b[1;32m    196\u001b[0m         raise GQueryError(\n\u001b[0;32m--> 197\u001b[0;31m             \u001b[0;34m'The geocode was successful but returned no results. This may'\u001b[0m\u001b[0;34m\u001b[0m\u001b[0m\n\u001b[0m\u001b[1;32m    198\u001b[0m             \u001b[0;34m' occur if the geocode was passed a non-existent address or a'\u001b[0m\u001b[0;34m\u001b[0m\u001b[0m\n\u001b[1;32m    199\u001b[0m             ' latlng in a remote location.')\n",
        "\u001b[0;31mGQueryError\u001b[0m: The geocode was successful but returned no results. This may occur if the geocode was passed a non-existent address or a latlng in a remote location."
       ]
      },
      {
       "output_type": "stream",
       "stream": "stdout",
       "text": [
        "\n"
       ]
      }
     ],
     "prompt_number": 5
    },
    {
     "cell_type": "code",
     "collapsed": false,
     "input": [
      "from ago import human\n",
      "#Save a valid GeoJson\n",
      "\n",
      "# the template. where data from the csv will be formatted to geojson\n",
      "template = \\\n",
      "    ''' \\\n",
      "    { \"type\" : \"Feature\",\n",
      "      \"geometry\" : {\"type\" : \"Point\", \"coordinates\" : [%s,%s]},\n",
      "        \"properties\" : { \n",
      "            \"marker-color\": \"%s\",\n",
      "            \"marker-symbol\": \"star-stroked\",\n",
      "            \"marker-size\": \"small\",\n",
      "            \"title\" : \"%s\", \n",
      "            \"description\" : \"%s\",\n",
      "            \"website\" : \"%s\",\n",
      "            \"date\": \"%s\",\n",
      "            \"twitter\": \"%s\",\n",
      "            \"location\": %s\n",
      "            }\n",
      "        }\n",
      "    '''\n",
      " \n",
      "# the head of the geojson file\n",
      "output = \\\n",
      "    ''' \\\n",
      "{ \"type\" : \"Feature Collection\",\n",
      "    \"features\" : [\n",
      "    '''\n",
      "i=0\n",
      "for row in data:\n",
      "    if (i != 0): \n",
      "        output += \",\"\n",
      "    i+=1\n",
      "    date=parser.parse(row[\"start_date\"])\n",
      "    \n",
      "    #colorize by year\n",
      "    colors = ['#345F94',\"#15DAFD\",\"EC8713\",\"#F74700\"]\n",
      "    step = 4. / len(colors)\n",
      "    year=int(date.strftime(\"%Y\"))\n",
      "    color = colors[0-math.trunc((2013-year) / step)]\n",
      "    \n",
      "    #fix links\n",
      "    if (row[\"website\"]!= None):\n",
      "        if row[\"website\"].count(\"http://\")==0:\n",
      "            row[\"website\"]=\"http://\"+row[\"website\"]\n",
      "    \n",
      "    #order is color,lat,lon,name,website,date\n",
      "    output += template % (row[\"lon\"], row[\"lat\"], color,row[\"city\"], \n",
      "               date.strftime(\"%b %d, %Y\"),row[\"website\"],row[\"start_date\"],\n",
      "                row[\"twitter_hashtag\"],row[\"full_loc\"])\n",
      "# the tail of the geojson file\n",
      "#remove last comma\n",
      "output=output[0:-1]\n",
      "output += \\\n",
      "    ''' \\\n",
      "    ]\n",
      "}\n",
      "    '''\n",
      " \n",
      "# opens an geoJSON file to write the output to\n",
      "outFileHandle = open(\"events.geojson\", \"wb\")\n",
      "outFileHandle.write(output.encode(\"UTF-8\"))\n",
      "outFileHandle.close()\n"
     ],
     "language": "python",
     "metadata": {},
     "outputs": [],
     "prompt_number": 84
    },
    {
     "cell_type": "code",
     "collapsed": false,
     "input": [
      "data[15][\"website\"]\n"
     ],
     "language": "python",
     "metadata": {},
     "outputs": [
      {
       "output_type": "pyout",
       "prompt_number": 81,
       "text": [
        "u'dallas.startupweekend.org'"
       ]
      }
     ],
     "prompt_number": 81
    },
    {
     "cell_type": "code",
     "collapsed": false,
     "input": [
      "parser.parse(t).strftime(\"%b %d, %Y\")"
     ],
     "language": "python",
     "metadata": {},
     "outputs": [
      {
       "output_type": "pyout",
       "prompt_number": 55,
       "text": [
        "'Feb 26, 2010'"
       ]
      }
     ],
     "prompt_number": 55
    },
    {
     "cell_type": "code",
     "collapsed": false,
     "input": [
      "\n",
      "                  "
     ],
     "language": "python",
     "metadata": {},
     "outputs": []
    }
   ],
   "metadata": {}
  }
 ]
}