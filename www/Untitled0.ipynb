{
 "metadata": {
  "name": "Untitled0"
 },
 "nbformat": 3,
 "nbformat_minor": 0,
 "worksheets": [
  {
   "cells": [
    {
     "cell_type": "code",
     "collapsed": false,
     "input": [
      "import json \n",
      "\n",
      "#Load Json file:\n",
      "json_file=\"events.json\"\n",
      "json_data=open(json_file).read()\n",
      "\n",
      "data = json.loads(json_data)"
     ],
     "language": "python",
     "metadata": {},
     "outputs": [],
     "prompt_number": 1
    },
    {
     "cell_type": "code",
     "collapsed": false,
     "input": [
      "data[0]"
     ],
     "language": "python",
     "metadata": {},
     "outputs": [
      {
       "output_type": "pyout",
       "prompt_number": 2,
       "text": [
        "{u'city': u'West Michigan',\n",
        " u'country': u'USA',\n",
        " u'facilitators': [{u'_id': u'5011b56e91ac880200000977',\n",
        "   u'first_name': u'Marc',\n",
        "   u'last_name': u'Nager',\n",
        "   u'name': u'Marc Nager'}],\n",
        " u'id': 1,\n",
        " u'location': {},\n",
        " u'start_date': u'2010-02-26T00:00:00.000Z',\n",
        " u'state': u'MI',\n",
        " u'twitter_hashtag': None,\n",
        " u'vertical': None,\n",
        " u'website': u'wmi.startupweekend.org'}"
       ]
      }
     ],
     "prompt_number": 2
    },
    {
     "cell_type": "code",
     "collapsed": false,
     "input": [
      "#Geocode\n",
      "from geopy import geocoders\n",
      "import time\n",
      "#y = geocoders.GoogleV3()\n",
      "y = geocoders.Yahoo('NO_NEED_FOR_ID')\n",
      "i=0\n",
      "for event in data:\n",
      "    time.sleep(0.5)\n",
      "    i+=1\n",
      "    print event\n",
      "    #hack for missing state\n",
      "    place_in=event[\"city\"]+\", \"+(event[\"state\"] or u\" \")+\", \"+event[\"country\"]\n",
      "    if 'lat' not in event:\n",
      "        if \"state\" not in event:\n",
      "            event[\"state\"]=\"\"\n",
      "        #place, (lat, lng) = y.geocode(place_in) #Hack for more than one return needed\n",
      "        place, (lat, lng) = y.geocode(place_in, exactly_one=False)[0] \n",
      "        event['lat']=lat\n",
      "        event[\"lon\"]=lng\n",
      "    event[\"full_loc\"]=place.replace(\",  ,\",\", \")\n",
      "    print \"%i:%s -> %s: (%.5f, %.5f)\" % (i,place_in, place, lat, lng)  \n",
      "    "
     ],
     "language": "python",
     "metadata": {},
     "outputs": [
      {
       "output_type": "stream",
       "stream": "stdout",
       "text": [
        "{u'website': u'wmi.startupweekend.org', u'city': u'West Michigan', u'vertical': None, u'country': u'USA', 'lon': -85.60236429999999, u'facilitators': [{u'last_name': u'Nager', u'first_name': u'Marc', u'_id': u'5011b56e91ac880200000977', u'name': u'Marc Nager'}], u'id': 1, u'state': u'MI', 'full_loc': u'Michigan, USA', u'location': {}, u'twitter_hashtag': None, 'lat': 44.3148443, u'start_date': u'2010-02-26T00:00:00.000Z'}\n",
        "1:West Michigan, MI, USA -> Stockholm, Sweden: (59.32893, 18.06491)\n",
        "{u'website': u'okc.startupweekend.org', u'city': u'Oklahoma City', u'vertical': None, u'country': u'USA', 'lon': -97.5164276, u'facilitators': [{u'last_name': u'Nelsen', u'first_name': u'Clint', u'_id': u'5029bfad9c398d0200000891', u'name': u'Clint Nelsen'}], u'id': 4, u'state': u'OK', 'full_loc': u'Oklahoma City, OK, USA', u'location': {}, u'twitter_hashtag': u'#swou', 'lat': 35.4675602, u'start_date': u'2010-03-05T00:00:00.000Z'}"
       ]
      },
      {
       "output_type": "stream",
       "stream": "stdout",
       "text": [
        "\n",
        "2:Oklahoma City, OK, USA -> Stockholm, Sweden: (59.32893, 18.06491)\n",
        "{u'website': u'iowa.startupweekend.org', u'city': u'Des Moines', u'vertical': None, u'country': u'USA', 'lon': -93.6091064, u'facilitators': [{u'last_name': u'Reiser', u'first_name': u'Shane', u'_id': u'5029bfad9c398d02000008a2', u'name': u'Shane Reiser'}], u'id': 2, u'state': u'IA', 'full_loc': u'Des Moines, IA, USA', u'location': {}, u'twitter_hashtag': None, 'lat': 41.6005448, u'start_date': u'2010-03-05T00:00:00.000Z'}"
       ]
      },
      {
       "output_type": "stream",
       "stream": "stdout",
       "text": [
        "\n",
        "3:Des Moines, IA, USA -> Stockholm, Sweden: (59.32893, 18.06491)\n",
        "{u'website': u'portland.startupweekend.org', u'city': u'Portland', u'vertical': None, u'country': u'USA', 'lon': -122.6762071, u'facilitators': [{u'last_name': u'Nager', u'first_name': u'Marc', u'_id': u'5011b56e91ac880200000977', u'name': u'Marc Nager'}], u'id': 3, u'state': u'OR', 'full_loc': u'Portland, OR, USA', u'location': {}, u'twitter_hashtag': None, 'lat': 45.5234515, u'start_date': u'2010-03-05T00:00:00.000Z'}"
       ]
      },
      {
       "output_type": "stream",
       "stream": "stdout",
       "text": [
        "\n",
        "4:Portland, OR, USA -> Stockholm, Sweden: (59.32893, 18.06491)\n",
        "{u'website': u'omaha.startupweekend.org', u'city': u'Omaha', u'vertical': None, u'country': u'USA', 'lon': -95.99798829999999, u'facilitators': [{u'last_name': u'Reiser', u'first_name': u'Shane', u'_id': u'5029bfad9c398d02000008a2', u'name': u'Shane Reiser'}], u'id': 5, u'state': u'NE', 'full_loc': u'Omaha, NE, USA', u'location': {}, u'twitter_hashtag': None, 'lat': 41.2523634, u'start_date': u'2010-03-19T00:00:00.000Z'}"
       ]
      },
      {
       "output_type": "stream",
       "stream": "stdout",
       "text": [
        "\n",
        "5:Omaha, NE, USA -> Stockholm, Sweden: (59.32893, 18.06491)\n",
        "{u'website': u'seattle.startupweekend.org', u'city': u'Seattle', u'vertical': None, u'country': u'USA', 'lon': -122.3320708, u'facilitators': [{u'last_name': u'Lightsmith', u'first_name': u'Jeremy', u'_id': u'5029bfad9c398d02000008b1', u'name': u'Jeremy Lightsmith'}], u'id': 7, u'state': u'WA', 'full_loc': u'Seattle, WA, USA', u'location': {}, u'twitter_hashtag': None, 'lat': 47.6062095, u'start_date': u'2010-03-19T00:00:00.000Z'}"
       ]
      },
      {
       "output_type": "stream",
       "stream": "stdout",
       "text": [
        "\n",
        "6:Seattle, WA, USA -> Stockholm, Sweden: (59.32893, 18.06491)\n",
        "{u'website': u'miami.startupweekend.org', u'city': u'Miami', u'vertical': None, u'country': u'USA', 'lon': -80.2264393, u'facilitators': [{u'last_name': u'Nager', u'first_name': u'Marc', u'_id': u'5011b56e91ac880200000977', u'name': u'Marc Nager'}], u'id': 6, u'state': u'FL', 'full_loc': u'Miami, FL, USA', u'location': {}, u'twitter_hashtag': None, 'lat': 25.7889689, u'start_date': u'2010-03-19T00:00:00.000Z'}"
       ]
      },
      {
       "output_type": "stream",
       "stream": "stdout",
       "text": [
        "\n",
        "7:Miami, FL, USA -> Stockholm, Sweden: (59.32893, 18.06491)\n",
        "{u'website': u'newbrunswick.startupweekend.org', u'city': u'New Brunswick', u'vertical': None, u'country': u'USA', 'lon': -74.4518188, u'facilitators': [], u'id': 8, u'state': u'NJ', 'full_loc': u'New Brunswick, NJ, USA', u'location': {}, u'twitter_hashtag': None, 'lat': 40.4862157, u'start_date': u'2010-03-26T00:00:00.000Z'}"
       ]
      },
      {
       "output_type": "stream",
       "stream": "stdout",
       "text": [
        "\n",
        "8:New Brunswick, NJ, USA -> Stockholm, Sweden: (59.32893, 18.06491)\n",
        "{u'website': u'lund.startupweekend.org', u'city': u'Lund', u'vertical': None, u'country': u'Sweden', 'lon': 13.1910073, u'facilitators': [], u'id': 11, u'state': None, 'full_loc': u'Lund, Sweden', u'location': {}, u'twitter_hashtag': None, 'lat': 55.7046601, u'start_date': u'2010-04-09T00:00:00.000Z'}"
       ]
      },
      {
       "output_type": "stream",
       "stream": "stdout",
       "text": [
        "\n",
        "9:Lund,  , Sweden -> Stockholm, Sweden: (59.32893, 18.06491)\n",
        "{u'website': u'copenhagen.startupweekend.org', u'city': u'Copenhagen', u'vertical': None, u'country': u'Denmark', 'lon': 12.5683371, u'facilitators': [{u'last_name': u'Nelsen', u'first_name': u'Clint', u'_id': u'5029bfad9c398d0200000891', u'name': u'Clint Nelsen'}], u'id': 9, u'state': None, 'full_loc': u'Copenhagen, Denmark', u'location': {}, u'twitter_hashtag': None, 'lat': 55.6760968, u'start_date': u'2010-04-09T00:00:00.000Z'}"
       ]
      },
      {
       "output_type": "stream",
       "stream": "stdout",
       "text": [
        "\n",
        "10:Copenhagen,  , Denmark -> Stockholm, Sweden: (59.32893, 18.06491)\n",
        "{u'website': u'oslo.startupweekend.org', u'city': u'Oslo', u'vertical': None, u'country': u'Norway', 'lon': 10.7522454, u'facilitators': [{u'last_name': u'Sechrest', u'first_name': u'John', u'_id': u'5011b56e91ac88020000081e', u'name': u'John Sechrest'}], u'id': 10, u'state': None, 'full_loc': u'Oslo, Norway', u'location': {}, u'twitter_hashtag': None, 'lat': 59.9138688, u'start_date': u'2010-04-09T00:00:00.000Z'}"
       ]
      },
      {
       "output_type": "stream",
       "stream": "stdout",
       "text": [
        "\n",
        "11:Oslo,  , Norway -> Stockholm, Sweden: (59.32893, 18.06491)\n",
        "{u'website': u'vilnius.startupweekend.org', u'city': u'Vilnius', u'vertical': None, u'country': u'Lithuania', 'lon': 25.2796514, u'facilitators': [{u'last_name': u'Seguin', u'first_name': u'Nick', u'_id': u'5011b56e91ac88020000096f', u'name': u'Nick Seguin'}], u'id': 12, u'state': None, 'full_loc': u'Vilnius, Lithuania', u'location': {}, u'twitter_hashtag': None, 'lat': 54.6871555, u'start_date': u'2010-04-09T00:00:00.000Z'}"
       ]
      },
      {
       "output_type": "stream",
       "stream": "stdout",
       "text": [
        "\n",
        "12:Vilnius,  , Lithuania -> Stockholm, Sweden: (59.32893, 18.06491)\n",
        "{u'website': u'kansascity.startupweekend.com', u'city': u'Kansas City', u'vertical': None, u'country': u'USA', 'lon': -94.5785667, u'facilitators': [], u'id': 14, u'state': u'MO', 'full_loc': u'Kansas City, MO, USA', u'location': {}, u'twitter_hashtag': None, 'lat': 39.0997265, u'start_date': u'2010-04-16T00:00:00.000Z'}"
       ]
      },
      {
       "output_type": "stream",
       "stream": "stdout",
       "text": [
        "\n",
        "13:Kansas City, MO, USA -> Stockholm, Sweden: (59.32893, 18.06491)\n",
        "{u'website': u'boulder.startupweekend.org', u'city': u'Boulder', u'vertical': None, u'country': u'USA', 'lon': -105.5005483, u'facilitators': [{u'last_name': u'Agarwal', u'first_name': u'Ayush', u'_id': u'5029bfad9c398d02000008b5', u'name': u'Ayush Agarwal'}], u'id': 17, u'state': u'CO', 'full_loc': u'Boulder, CO, USA', u'location': {}, u'twitter_hashtag': None, 'lat': 40.1512114, u'start_date': u'2010-04-16T00:00:00.000Z'}"
       ]
      },
      {
       "output_type": "stream",
       "stream": "stdout",
       "text": [
        "\n",
        "14:Boulder, CO, USA -> Stockholm, Sweden: (59.32893, 18.06491)\n",
        "{u'website': u'istanbul.startupweekend.org', u'city': u'Istanbul', u'vertical': None, u'country': u'Turkey', 'lon': 28.97696, u'facilitators': [{u'last_name': u'Nelsen', u'first_name': u'Clint', u'_id': u'5029bfad9c398d0200000891', u'name': u'Clint Nelsen'}], u'id': 13, u'state': None, 'full_loc': u'Istanbul, Turkey', u'location': {}, u'twitter_hashtag': None, 'lat': 41.00527, u'start_date': u'2010-04-16T00:00:00.000Z'}"
       ]
      },
      {
       "output_type": "stream",
       "stream": "stdout",
       "text": [
        "\n",
        "15:Istanbul,  , Turkey -> Stockholm, Sweden: (59.32893, 18.06491)\n",
        "{u'website': u'dallas.startupweekend.org', u'city': u'Dallas', u'vertical': None, u'country': u'USA', 'lon': -96.80045109999999, u'facilitators': [{u'last_name': u'Nager', u'first_name': u'Marc', u'_id': u'5011b56e91ac880200000977', u'name': u'Marc Nager'}], u'id': 16, u'state': u'TX', 'full_loc': u'Dallas, TX, USA', u'location': {}, u'twitter_hashtag': None, 'lat': 32.7801399, u'start_date': u'2010-04-16T00:00:00.000Z'}"
       ]
      },
      {
       "output_type": "stream",
       "stream": "stdout",
       "text": [
        "\n",
        "16:Dallas, TX, USA -> Stockholm, Sweden: (59.32893, 18.06491)\n",
        "{u'website': u'http://stockholm.startupweekend.org/', u'city': u'Stockholm', u'vertical': None, u'country': u'Sweden', 'lon': 18.06491, u'facilitators': [], u'id': 15, u'state': None, 'full_loc': u'Stockholm, Sweden', u'location': {}, u'twitter_hashtag': None, 'lat': 59.32893000000001, u'start_date': u'2010-04-16T00:00:00.000Z'}"
       ]
      },
      {
       "output_type": "stream",
       "stream": "stdout",
       "text": [
        "\n",
        "17:Stockholm,  , Sweden -> Stockholm, Sweden: (59.32893, 18.06491)\n",
        "{u'website': u'columbus.startupweekend.org', u'city': u'Columbus', u'vertical': None, u'country': u'USA', u'facilitators': [{u'last_name': u'Seguin', u'first_name': u'Nick', u'_id': u'5011b56e91ac88020000096f', u'name': u'Nick Seguin'}], u'id': 18, u'state': u'OH', u'location': {}, u'twitter_hashtag': None, u'start_date': u'2010-04-23T00:00:00.000Z'}"
       ]
      },
      {
       "output_type": "stream",
       "stream": "stdout",
       "text": [
        "\n",
        "18:Columbus, OH, USA -> Columbus, OH, USA: (39.96118, -82.99879)"
       ]
      },
      {
       "output_type": "stream",
       "stream": "stdout",
       "text": [
        "\n",
        "{u'website': u'la.startupweekend.org', u'city': u'Los Angeles', u'vertical': None, u'country': u'USA', u'facilitators': [{u'last_name': u'Nager', u'first_name': u'Marc', u'_id': u'5011b56e91ac880200000977', u'name': u'Marc Nager'}], u'id': 19, u'state': u'CA', u'location': {}, u'twitter_hashtag': None, u'start_date': u'2010-04-30T00:00:00.000Z'}"
       ]
      },
      {
       "output_type": "stream",
       "stream": "stdout",
       "text": [
        "\n",
        "19:Los Angeles, CA, USA -> Los Angeles, CA, USA: (34.05223, -118.24368)"
       ]
      },
      {
       "output_type": "stream",
       "stream": "stdout",
       "text": [
        "\n",
        "{u'website': u'paris.startupweekend.org', u'city': u'Paris', u'vertical': None, u'country': u'France', u'facilitators': [{u'last_name': u'Bostoni', u'first_name': u'Sacha', u'_id': u'5011b56e91ac880200000906', u'name': u'Sacha Bostoni'}], u'id': 23, u'state': None, u'location': {}, u'twitter_hashtag': None, u'start_date': u'2010-05-07T00:00:00.000Z'}"
       ]
      },
      {
       "output_type": "stream",
       "stream": "stdout",
       "text": [
        "\n",
        "20:Paris,  , France -> Paris, France: (48.85661, 2.35222)"
       ]
      },
      {
       "output_type": "stream",
       "stream": "stdout",
       "text": [
        "\n",
        "{u'website': u'uw.startupweekend.org', u'city': u'Seattle', u'vertical': None, u'country': u'USA', u'facilitators': [{u'last_name': u'Nager', u'first_name': u'Marc', u'_id': u'5011b56e91ac880200000977', u'name': u'Marc Nager'}], u'id': 22, u'state': u'WA', u'location': {}, u'twitter_hashtag': None, u'start_date': u'2010-05-07T00:00:00.000Z'}"
       ]
      },
      {
       "output_type": "stream",
       "stream": "stdout",
       "text": [
        "\n",
        "21:Seattle, WA, USA -> Seattle, WA, USA: (47.60621, -122.33207)"
       ]
      },
      {
       "output_type": "stream",
       "stream": "stdout",
       "text": [
        "\n",
        "{u'website': u'dublin.startupweekend.org', u'city': u'Dublin', u'vertical': None, u'country': u'Ireland', u'facilitators': [{u'last_name': u'Nelsen', u'first_name': u'Clint', u'_id': u'5029bfad9c398d0200000891', u'name': u'Clint Nelsen'}], u'id': 21, u'state': None, u'location': {}, u'twitter_hashtag': None, u'start_date': u'2010-05-07T00:00:00.000Z'}"
       ]
      },
      {
       "output_type": "stream",
       "stream": "stdout",
       "text": [
        "\n",
        "22:Dublin,  , Ireland -> Dublin, Co. Dublin, Ireland: (53.34981, -6.26031)"
       ]
      },
      {
       "output_type": "stream",
       "stream": "stdout",
       "text": [
        "\n",
        "{u'website': u'detroit.startupweekend.org', u'city': u'Detroit', u'vertical': None, u'country': u'USA', u'facilitators': [{u'last_name': u'Nouyrigat', u'first_name': u'Franck', u'_id': u'5011b56e91ac88020000093e', u'name': u'Franck Nouyrigat'}], u'id': 25, u'state': u'MI', u'location': {}, u'twitter_hashtag': None, u'start_date': u'2010-05-14T00:00:00.000Z'}"
       ]
      },
      {
       "output_type": "stream",
       "stream": "stdout",
       "text": [
        "\n",
        "23:Detroit, MI, USA -> Detroit, MI, USA: (42.33143, -83.04575)"
       ]
      },
      {
       "output_type": "stream",
       "stream": "stdout",
       "text": [
        "\n",
        "{u'website': u'venice.startupweekend.org', u'city': u'Venice', u'vertical': None, u'country': u'Italy', u'facilitators': [{u'last_name': u'Nelsen', u'first_name': u'Clint', u'_id': u'5029bfad9c398d0200000891', u'name': u'Clint Nelsen'}], u'id': 24, u'state': None, u'location': {}, u'twitter_hashtag': None, u'start_date': u'2010-05-14T00:00:00.000Z'}"
       ]
      },
      {
       "output_type": "stream",
       "stream": "stdout",
       "text": [
        "\n",
        "24:Venice,  , Italy -> Venice, Italy: (45.44085, 12.31552)"
       ]
      },
      {
       "output_type": "stream",
       "stream": "stdout",
       "text": [
        "\n",
        "{u'website': u'charlotte.startupweekend.org', u'city': u'Charlotte', u'vertical': None, u'country': u'USA', u'facilitators': [{u'last_name': u'Seguin', u'first_name': u'Nick', u'_id': u'5011b56e91ac88020000096f', u'name': u'Nick Seguin'}], u'id': 26, u'state': u'NC', u'location': {}, u'twitter_hashtag': None, u'start_date': u'2010-05-14T00:00:00.000Z'}"
       ]
      },
      {
       "output_type": "stream",
       "stream": "stdout",
       "text": [
        "\n",
        "25:Charlotte, NC, USA -> Charlotte, NC, USA: (35.22709, -80.84313)"
       ]
      },
      {
       "output_type": "stream",
       "stream": "stdout",
       "text": [
        "\n",
        "{u'website': u'madrid.startupweekend.org', u'city': u'Madrid', u'vertical': None, u'country': u'Spain', u'facilitators': [], u'id': 28, u'state': None, u'location': {}, u'twitter_hashtag': None, u'start_date': u'2010-05-21T00:00:00.000Z'}"
       ]
      },
      {
       "output_type": "stream",
       "stream": "stdout",
       "text": [
        "\n",
        "26:Madrid,  , Spain -> Madrid, Spain: (40.41678, -3.70379)"
       ]
      },
      {
       "output_type": "stream",
       "stream": "stdout",
       "text": [
        "\n",
        "{u'website': u'idaho.startupweekend.org', u'city': u'Boise', u'vertical': None, u'country': u'USA', u'facilitators': [{u'last_name': u'Comerford', u'first_name': u'Thubten', u'_id': u'5029bfad9c398d02000008bf', u'name': u'Thubten Comerford'}], u'id': 27, u'state': u'ID', u'location': {}, u'twitter_hashtag': None, u'start_date': u'2010-05-21T00:00:00.000Z'}"
       ]
      },
      {
       "output_type": "stream",
       "stream": "stdout",
       "text": [
        "\n",
        "27:Boise, ID, USA -> Boise, ID, USA: (43.61871, -116.21461)"
       ]
      },
      {
       "output_type": "stream",
       "stream": "stdout",
       "text": [
        "\n",
        "{u'website': u'seoul.startupweekend.org', u'city': u'Seoul', u'vertical': None, u'country': u'South Korea', u'facilitators': [{u'last_name': u'Li', u'first_name': u'Jonny', u'_id': u'5011b56e91ac8802000009d2', u'name': u'Jonny Li'}], u'id': 29, u'state': None, u'location': {}, u'twitter_hashtag': None, u'start_date': u'2010-05-28T00:00:00.000Z'}"
       ]
      },
      {
       "output_type": "stream",
       "stream": "stdout",
       "text": [
        "\n",
        "28:Seoul,  , South Korea -> Seoul, South Korea: (37.56654, 126.97797)"
       ]
      },
      {
       "output_type": "stream",
       "stream": "stdout",
       "text": [
        "\n",
        "{u'website': u'boston.startupweekend.org', u'city': u'Boston', u'vertical': None, u'country': u'USA', u'facilitators': [{u'last_name': u'Nager', u'first_name': u'Marc', u'_id': u'5011b56e91ac880200000977', u'name': u'Marc Nager'}], u'id': 32, u'state': u'MA', u'location': {}, u'twitter_hashtag': None, u'start_date': u'2010-06-04T00:00:00.000Z'}"
       ]
      },
      {
       "output_type": "stream",
       "stream": "stdout",
       "text": [
        "\n",
        "29:Boston, MA, USA -> Boston, MA, USA: (42.35843, -71.05977)"
       ]
      },
      {
       "output_type": "stream",
       "stream": "stdout",
       "text": [
        "\n",
        "{u'website': u'galicia.startupweekend.org', u'city': u'Galicia', u'vertical': None, u'country': u'Spain', u'facilitators': [], u'id': 33, u'state': None, u'location': {}, u'twitter_hashtag': None, u'start_date': u'2010-06-04T00:00:00.000Z'}"
       ]
      },
      {
       "output_type": "stream",
       "stream": "stdout",
       "text": [
        "\n",
        "30:Galicia,  , Spain -> Galicia, Spain: (42.57506, -8.13386)"
       ]
      },
      {
       "output_type": "stream",
       "stream": "stdout",
       "text": [
        "\n",
        "{u'website': u'indianapolis.startupweekend.org', u'city': u'Indianapolis', u'vertical': None, u'country': u'USA', u'facilitators': [], u'id': 30, u'state': u'IN', u'location': {}, u'twitter_hashtag': u'#swindy', u'start_date': u'2010-06-04T00:00:00.000Z'}"
       ]
      },
      {
       "output_type": "stream",
       "stream": "stdout",
       "text": [
        "\n",
        "31:Indianapolis, IN, USA -> Indianapolis, IN, USA: (39.76840, -86.15807)"
       ]
      },
      {
       "output_type": "stream",
       "stream": "stdout",
       "text": [
        "\n",
        "{u'website': u'london.startupweekend.org', u'city': u'London', u'vertical': None, u'country': u'UK', u'facilitators': [{u'last_name': u'Saunders', u'first_name': u'Damien', u'_id': u'5029bfad9c398d02000008c0', u'name': u'Damien Saunders'}], u'id': 31, u'state': None, u'location': {u'lat': 51.5073346, u'lng': -0.12768310000001293}, u'twitter_hashtag': None, u'start_date': u'2010-06-04T00:00:00.000Z'}"
       ]
      },
      {
       "output_type": "stream",
       "stream": "stdout",
       "text": [
        "\n",
        "32:London,  , UK -> London, UK: (51.51121, -0.11982)"
       ]
      },
      {
       "output_type": "stream",
       "stream": "stdout",
       "text": [
        "\n",
        "{u'website': u'nyc.startupweekend.org', u'city': u'New York City', u'vertical': None, u'country': u'USA', u'facilitators': [{u'last_name': u'Reiser', u'first_name': u'Shane', u'_id': u'5029bfad9c398d02000008a2', u'name': u'Shane Reiser'}], u'id': 34, u'state': u'NY', u'location': {}, u'twitter_hashtag': None, u'start_date': u'2010-06-11T00:00:00.000Z'}"
       ]
      },
      {
       "output_type": "stream",
       "stream": "stdout",
       "text": [
        "\n",
        "33:New York City, NY, USA -> New York, NY, USA: (40.71435, -74.00597)"
       ]
      },
      {
       "output_type": "stream",
       "stream": "stdout",
       "text": [
        "\n",
        "{u'website': u'edmonton.startupweekend.org', u'city': u'Edmonton', u'vertical': None, u'country': u'Canada', u'facilitators': [{u'last_name': u'Pomerenke', u'first_name': u'Joey', u'_id': u'5011b56e91ac8802000008f6', u'name': u'Joey Pomerenke'}], u'id': 35, u'state': u'AB', u'location': {}, u'twitter_hashtag': None, u'start_date': u'2010-06-25T00:00:00.000Z'}"
       ]
      },
      {
       "output_type": "stream",
       "stream": "stdout",
       "text": [
        "\n",
        "34:Edmonton, AB, Canada -> Edmonton, AB, Canada: (53.54439, -113.49093)"
       ]
      },
      {
       "output_type": "stream",
       "stream": "stdout",
       "text": [
        "\n",
        "{u'website': u'chicago.startupweekend.org', u'city': u'Chicago', u'vertical': None, u'country': u'USA', u'facilitators': [{u'last_name': u'Seguin', u'first_name': u'Nick', u'_id': u'5011b56e91ac88020000096f', u'name': u'Nick Seguin'}], u'id': 36, u'state': u'IL', u'location': {}, u'twitter_hashtag': None, u'start_date': u'2010-06-25T00:00:00.000Z'}"
       ]
      },
      {
       "output_type": "stream",
       "stream": "stdout",
       "text": [
        "\n",
        "35:Chicago, IL, USA -> Chicago, IL, USA: (41.87811, -87.62980)"
       ]
      },
      {
       "output_type": "stream",
       "stream": "stdout",
       "text": [
        "\n",
        "{u'website': u'tel-aviv.startupweekend.org', u'city': u'Tel Aviv', u'vertical': None, u'country': u'Israel', u'facilitators': [], u'id': 37, u'state': None, u'location': {}, u'twitter_hashtag': None, u'start_date': u'2010-07-16T00:00:00.000Z'}"
       ]
      },
      {
       "output_type": "stream",
       "stream": "stdout",
       "text": [
        "\n",
        "36:Tel Aviv,  , Israel -> Tel Aviv, Israel: (32.06616, 34.77782)"
       ]
      },
      {
       "output_type": "stream",
       "stream": "stdout",
       "text": [
        "\n",
        "{u'website': u'bayarea.startupweekend.org', u'city': u'San Francisco', u'vertical': None, u'country': u'USA', u'facilitators': [{u'last_name': u'Nager', u'first_name': u'Marc', u'_id': u'5011b56e91ac880200000977', u'name': u'Marc Nager'}], u'id': 38, u'state': u'CA', u'location': {}, u'twitter_hashtag': None, u'start_date': u'2010-07-23T00:00:00.000Z'}"
       ]
      },
      {
       "output_type": "stream",
       "stream": "stdout",
       "text": [
        "\n",
        "37:San Francisco, CA, USA -> San Francisco, CA, USA: (37.77493, -122.41942)"
       ]
      },
      {
       "output_type": "stream",
       "stream": "stdout",
       "text": [
        "\n",
        "{u'website': u'oman.startupweekend.org', u'city': u'Oman', u'vertical': None, u'country': u'Oman', u'facilitators': [], u'id': 39, u'state': None, u'location': {}, u'twitter_hashtag': None, u'start_date': u'2010-07-30T00:00:00.000Z'}"
       ]
      },
      {
       "output_type": "stream",
       "stream": "stdout",
       "text": [
        "\n",
        "38:Oman,  , Oman -> Oman: (21.51258, 55.92325)"
       ]
      },
      {
       "output_type": "stream",
       "stream": "stdout",
       "text": [
        "\n",
        "{u'website': u'dc.startupweekend.org', u'city': u'Washington D.C.', u'vertical': None, u'country': u'USA', u'facilitators': [{u'last_name': u'Seguin', u'first_name': u'Nick', u'_id': u'5011b56e91ac88020000096f', u'name': u'Nick Seguin'}], u'id': 40, u'state': u'DC', u'location': {}, u'twitter_hashtag': None, u'start_date': u'2010-08-13T00:00:00.000Z'}"
       ]
      },
      {
       "output_type": "stream",
       "stream": "stdout",
       "text": [
        "\n",
        "39:Washington D.C., DC, USA -> Washington, DC, USA: (38.89511, -77.03637)"
       ]
      },
      {
       "output_type": "stream",
       "stream": "stdout",
       "text": [
        "\n",
        "{u'website': u'sandiego.startupweekend.org', u'city': u'San Diego', u'vertical': None, u'country': u'USA', u'facilitators': [{u'last_name': u'Bryant', u'first_name': u'Julian', u'_id': u'5011b56e91ac880200000b85', u'name': u'Julian Bryant'}], u'id': 41, u'state': u'CA', u'location': {}, u'twitter_hashtag': None, u'start_date': u'2010-08-20T00:00:00.000Z'}"
       ]
      },
      {
       "output_type": "stream",
       "stream": "stdout",
       "text": [
        "\n",
        "40:San Diego, CA, USA -> San Diego, CA, USA: (32.71533, -117.15726)"
       ]
      },
      {
       "output_type": "stream",
       "stream": "stdout",
       "text": [
        "\n",
        "{u'website': None, u'city': u'San Francisco', u'vertical': u'EDU', u'country': u'USA', u'facilitators': [{u'last_name': u'Nouyrigat', u'first_name': u'Franck', u'_id': u'5011b56e91ac88020000093e', u'name': u'Franck Nouyrigat'}], u'id': 42, u'state': u'CA', u'location': {u'lat': 37.78265469999999, u'lng': -122.38769530000002}, u'twitter_hashtag': None, u'start_date': u'2010-08-27T00:00:00.000Z'}"
       ]
      },
      {
       "output_type": "stream",
       "stream": "stdout",
       "text": [
        "\n",
        "41:San Francisco, CA, USA -> San Francisco, CA, USA: (37.77493, -122.41942)"
       ]
      },
      {
       "output_type": "stream",
       "stream": "stdout",
       "text": [
        "\n",
        "{u'website': u'austin.startupweekend.org', u'city': u'Austin', u'vertical': None, u'country': u'USA', u'facilitators': [{u'last_name': u'Pomerenke', u'first_name': u'Joey', u'_id': u'5011b56e91ac8802000008f6', u'name': u'Joey Pomerenke'}], u'id': 43, u'state': u'TX', u'location': {}, u'twitter_hashtag': None, u'start_date': u'2010-09-10T00:00:00.000Z'}"
       ]
      },
      {
       "output_type": "stream",
       "stream": "stdout",
       "text": [
        "\n",
        "42:Austin, TX, USA -> Austin, TX, USA: (30.26715, -97.74306)"
       ]
      },
      {
       "output_type": "stream",
       "stream": "stdout",
       "text": [
        "\n",
        "{u'website': u'omaha.startupweekend.org', u'city': u'Omaha', u'vertical': None, u'country': u'USA', u'facilitators': [{u'last_name': u'Cross', u'first_name': u'Sterling', u'_id': u'5029bfad9c398d02000008cb', u'name': u'Sterling Cross'}], u'id': 44, u'state': u'NE', u'location': {}, u'twitter_hashtag': None, u'start_date': u'2010-09-10T00:00:00.000Z'}"
       ]
      },
      {
       "output_type": "stream",
       "stream": "stdout",
       "text": [
        "\n",
        "43:Omaha, NE, USA -> Omaha, NE, USA: (41.25236, -95.99799)"
       ]
      },
      {
       "output_type": "stream",
       "stream": "stdout",
       "text": [
        "\n",
        "{u'website': u'nyc.startupweekend.org', u'city': u'New York City', u'vertical': None, u'country': u'USA', u'facilitators': [{u'last_name': u'Reiser', u'first_name': u'Shane', u'_id': u'5029bfad9c398d02000008a2', u'name': u'Shane Reiser'}], u'id': 45, u'state': u'NY', u'location': {}, u'twitter_hashtag': None, u'start_date': u'2010-09-10T00:00:00.000Z'}"
       ]
      },
      {
       "output_type": "stream",
       "stream": "stdout",
       "text": [
        "\n",
        "44:New York City, NY, USA -> New York, NY, USA: (40.71435, -74.00597)"
       ]
      },
      {
       "output_type": "stream",
       "stream": "stdout",
       "text": [
        "\n",
        "{u'website': u'twincities.startupweekend.org', u'city': u'Twin Cities', u'vertical': None, u'country': u'USA', u'facilitators': [{u'last_name': u'Reiser', u'first_name': u'Shane', u'_id': u'5029bfad9c398d02000008a2', u'name': u'Shane Reiser'}], u'id': 46, u'state': u'MN', u'location': {}, u'twitter_hashtag': None, u'start_date': u'2010-09-17T00:00:00.000Z'}"
       ]
      },
      {
       "output_type": "stream",
       "stream": "stdout",
       "text": [
        "\n",
        "45:Twin Cities, MN, USA -> Twin Cities, MN, USA: (44.93748, -93.20100)"
       ]
      },
      {
       "output_type": "stream",
       "stream": "stdout",
       "text": [
        "\n",
        "{u'website': u'toronto.startupweekend.org', u'city': u'Toronto', u'vertical': None, u'country': u'Canada', u'facilitators': [{u'last_name': u'Eben', u'first_name': u'Chris', u'_id': u'5011b56e91ac880200000950', u'name': u'Chris Eben'}], u'id': 47, u'state': u'ON', u'location': {}, u'twitter_hashtag': None, u'start_date': u'2010-09-24T00:00:00.000Z'}"
       ]
      },
      {
       "output_type": "stream",
       "stream": "stdout",
       "text": [
        "\n",
        "46:Toronto, ON, Canada -> Toronto, ON, Canada: (43.65323, -79.38318)"
       ]
      },
      {
       "output_type": "stream",
       "stream": "stdout",
       "text": [
        "\n",
        "{u'website': u'amsterdam.startupweekend.org', u'city': u'Amsterdam', u'vertical': None, u'country': u'Netherlands', u'facilitators': [{u'last_name': u'Digby', u'first_name': u'James', u'_id': u'5011b56e91ac880200000800', u'name': u'James Digby'}], u'id': 48, u'state': None, u'location': {}, u'twitter_hashtag': None, u'start_date': u'2010-09-24T00:00:00.000Z'}"
       ]
      },
      {
       "output_type": "stream",
       "stream": "stdout",
       "text": [
        "\n",
        "47:Amsterdam,  , Netherlands -> Amsterdam, The Netherlands: (52.37022, 4.89517)"
       ]
      },
      {
       "output_type": "stream",
       "stream": "stdout",
       "text": [
        "\n",
        "{u'website': u'newbrunswick.startupweekend.org', u'city': u'New Brunswick', u'vertical': None, u'country': u'USA', u'facilitators': [], u'id': 50, u'state': u'NJ', u'location': {}, u'twitter_hashtag': None, u'start_date': u'2010-09-24T00:00:00.000Z'}"
       ]
      },
      {
       "output_type": "stream",
       "stream": "stdout",
       "text": [
        "\n",
        "48:New Brunswick, NJ, USA -> New Brunswick, NJ, USA: (40.48622, -74.45182)"
       ]
      },
      {
       "output_type": "stream",
       "stream": "stdout",
       "text": [
        "\n",
        "{u'website': u'stuttgart.startupweekend.org', u'city': u'Stuttgart', u'vertical': None, u'country': u'Germany', u'facilitators': [{u'last_name': u'Nouyrigat', u'first_name': u'Franck', u'_id': u'5011b56e91ac88020000093e', u'name': u'Franck Nouyrigat'}], u'id': 49, u'state': None, u'location': {}, u'twitter_hashtag': None, u'start_date': u'2010-09-24T00:00:00.000Z'}"
       ]
      },
      {
       "output_type": "stream",
       "stream": "stdout",
       "text": [
        "\n",
        "49:Stuttgart,  , Germany -> Stuttgart, Germany: (48.77542, 9.18176)"
       ]
      }
     ],
     "prompt_number": "*"
    },
    {
     "cell_type": "code",
     "collapsed": false,
     "input": [
      "from ago import human\n",
      "#Save a valid GeoJson\n",
      "\n",
      "# the template. where data from the csv will be formatted to geojson\n",
      "template = \\\n",
      "    ''' \\\n",
      "    { \"type\" : \"Feature\",\n",
      "      \"geometry\" : {\"type\" : \"Point\", \"coordinates\" : [%s,%s]},\n",
      "        \"properties\" : { \n",
      "            \"marker-color\": \"%s\",\n",
      "            \"marker-symbol\": \"star-stroked\",\n",
      "            \"marker-size\": \"small\",\n",
      "            \"title\" : \"%s\", \n",
      "            \"description\" : \"%s\",\n",
      "            \"website\" : \"%s\",\n",
      "            \"date\": \"%s\",\n",
      "            \"twitter\": \"%s\",\n",
      "            \"location\": %s\n",
      "            }\n",
      "        }\n",
      "    '''\n",
      " \n",
      "# the head of the geojson file\n",
      "output = \\\n",
      "    ''' \\\n",
      "{ \"type\" : \"Feature Collection\",\n",
      "    \"features\" : [\n",
      "    '''\n",
      "i=0\n",
      "for row in data:\n",
      "    if (i != 0): \n",
      "        output += \",\"\n",
      "    i+=1\n",
      "    date=parser.parse(row[\"start_date\"])\n",
      "    \n",
      "    #colorize by year\n",
      "    colors = ['#345F94',\"#15DAFD\",\"EC8713\",\"#F74700\"]\n",
      "    step = 4. / len(colors)\n",
      "    year=int(date.strftime(\"%Y\"))\n",
      "    color = colors[0-math.trunc((2013-year) / step)]\n",
      "    \n",
      "    #fix links\n",
      "    if (row[\"website\"]!= None):\n",
      "        if row[\"website\"].count(\"http://\")==0:\n",
      "            row[\"website\"]=\"http://\"+row[\"website\"]\n",
      "    \n",
      "    #order is color,lat,lon,name,website,date\n",
      "    output += template % (row[\"lon\"], row[\"lat\"], color,row[\"city\"], \n",
      "               date.strftime(\"%b %d, %Y\"),row[\"website\"],row[\"start_date\"],\n",
      "                row[\"twitter_hashtag\"],row[\"full_loc\"])\n",
      "# the tail of the geojson file\n",
      "#remove last comma\n",
      "output=output[0:-1]\n",
      "output += \\\n",
      "    ''' \\\n",
      "    ]\n",
      "}\n",
      "    '''\n",
      " \n",
      "# opens an geoJSON file to write the output to\n",
      "outFileHandle = open(\"events.geojson\", \"wb\")\n",
      "outFileHandle.write(output.encode(\"UTF-8\"))\n",
      "outFileHandle.close()\n"
     ],
     "language": "python",
     "metadata": {},
     "outputs": [],
     "prompt_number": 84
    },
    {
     "cell_type": "code",
     "collapsed": false,
     "input": [
      "data[15][\"website\"]\n"
     ],
     "language": "python",
     "metadata": {},
     "outputs": [
      {
       "output_type": "pyout",
       "prompt_number": 81,
       "text": [
        "u'dallas.startupweekend.org'"
       ]
      }
     ],
     "prompt_number": 81
    },
    {
     "cell_type": "code",
     "collapsed": false,
     "input": [
      "parser.parse(t).strftime(\"%b %d, %Y\")"
     ],
     "language": "python",
     "metadata": {},
     "outputs": [
      {
       "output_type": "pyout",
       "prompt_number": 55,
       "text": [
        "'Feb 26, 2010'"
       ]
      }
     ],
     "prompt_number": 55
    },
    {
     "cell_type": "code",
     "collapsed": false,
     "input": [
      "\n",
      "                  "
     ],
     "language": "python",
     "metadata": {},
     "outputs": []
    }
   ],
   "metadata": {}
  }
 ]
}