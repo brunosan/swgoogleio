{
 "metadata": {
  "name": "Untitled0"
 },
 "nbformat": 3,
 "nbformat_minor": 0,
 "worksheets": [
  {
   "cells": [
    {
     "cell_type": "code",
     "collapsed": false,
     "input": [
      "import json \n",
      "\n",
      "#Load Json file:\n",
      "json_file=\"events.json\"\n",
      "json_data=open(json_file).read()\n",
      "\n",
      "data = json.loads(json_data)"
     ],
     "language": "python",
     "metadata": {},
     "outputs": [],
     "prompt_number": 1
    },
    {
     "cell_type": "code",
     "collapsed": false,
     "input": [
      "data[0]"
     ],
     "language": "python",
     "metadata": {},
     "outputs": [
      {
       "output_type": "pyout",
       "prompt_number": 2,
       "text": [
        "{u'city': u'West Michigan',\n",
        " u'country': u'USA',\n",
        " u'facilitators': [{u'_id': u'5011b56e91ac880200000977',\n",
        "   u'first_name': u'Marc',\n",
        "   u'last_name': u'Nager',\n",
        "   u'name': u'Marc Nager'}],\n",
        " u'id': 1,\n",
        " u'location': {},\n",
        " u'start_date': u'2010-02-26T00:00:00.000Z',\n",
        " u'state': u'MI',\n",
        " u'twitter_hashtag': None,\n",
        " u'vertical': None,\n",
        " u'website': u'wmi.startupweekend.org'}"
       ]
      }
     ],
     "prompt_number": 2
    },
    {
     "cell_type": "code",
     "collapsed": false,
     "input": [
      "#Geocode\n",
      "from geopy import geocoders\n",
      "y = geocoders.Yahoo('NO_NEED_FOR_ID')\n",
      "i=0\n",
      "for event in data:\n",
      "    i+=1\n",
      "    #hack for missing state\n",
      "    if \"state\" not in event:\n",
      "        event[\"state\"]=\"\"\n",
      "    place_in=event[\"city\"]+\", \"+(event[\"state\"] or u\" \")+\", \"+event[\"country\"]\n",
      "    #place, (lat, lng) = y.geocode(place_in) #Hack for more than one return needed\n",
      "    place, (lat, lng) = y.geocode(place_in, exactly_one=False)[0] \n",
      "    event['lat']=lat\n",
      "    event[\"lon\"]=lng\n",
      "    print \"%i:%s -> %s: (%.5f, %.5f)\" % (i,place_in, place, lat, lng)  \n",
      "    "
     ],
     "language": "python",
     "metadata": {},
     "outputs": [
      {
       "output_type": "stream",
       "stream": "stdout",
       "text": [
        "1:West Michigan, MI, USA -> West, MI 48503, United States, Flint, United States: (43.02647, -83.70839)\n",
        "2:Oklahoma City, OK, USA -> Oklahoma City, OK, United States, Oklahoma City, United States: (35.47203, -97.52107)"
       ]
      },
      {
       "output_type": "stream",
       "stream": "stdout",
       "text": [
        "\n",
        "3:Des Moines, IA, USA -> Des Moines, IA, United States, Des Moines, United States: (41.58976, -93.61565)"
       ]
      },
      {
       "output_type": "stream",
       "stream": "stdout",
       "text": [
        "\n",
        "4:Portland, OR, USA -> Portland, OR, United States, Portland, United States: (45.51179, -122.67563)"
       ]
      },
      {
       "output_type": "stream",
       "stream": "stdout",
       "text": [
        "\n",
        "5:Omaha, NE, USA -> Omaha, NE, United States, Omaha, United States: (41.26069, -95.94059)"
       ]
      },
      {
       "output_type": "stream",
       "stream": "stdout",
       "text": [
        "\n",
        "6:Seattle, WA, USA -> Seattle, WA, United States, Seattle, United States: (47.60356, -122.32944)"
       ]
      },
      {
       "output_type": "stream",
       "stream": "stdout",
       "text": [
        "\n",
        "7:Miami, FL, USA -> Miami, FL, United States, Miami, United States: (25.77481, -80.19773)"
       ]
      },
      {
       "output_type": "stream",
       "stream": "stdout",
       "text": [
        "\n",
        "8:New Brunswick, NJ, USA -> New Brunswick, NJ, United States, New Brunswick, United States: (40.49477, -74.44381)"
       ]
      },
      {
       "output_type": "stream",
       "stream": "stdout",
       "text": [
        "\n",
        "9:Lund,  , Sweden -> Lund (Lund), Sweden, Lund, Sweden: (55.70622, 13.18762)"
       ]
      },
      {
       "output_type": "stream",
       "stream": "stdout",
       "text": [
        "\n",
        "10:Copenhagen,  , Denmark -> Copenhagen, Denmark, Copenhagen, Denmark: (55.67566, 12.56761)"
       ]
      },
      {
       "output_type": "stream",
       "stream": "stdout",
       "text": [
        "\n",
        "11:Oslo,  , Norway -> Oslo, Norway, Oslo, Norway: (59.91231, 10.74998)"
       ]
      },
      {
       "output_type": "stream",
       "stream": "stdout",
       "text": [
        "\n",
        "12:Vilnius,  , Lithuania -> Vilnius, Lithuania, Vilnius, Lithuania: (54.69058, 25.26980)"
       ]
      },
      {
       "output_type": "stream",
       "stream": "stdout",
       "text": [
        "\n",
        "13:Kansas City, MO, USA -> Kansas City, MO, United States, Kansas City, United States: (39.10295, -94.58306)"
       ]
      },
      {
       "output_type": "stream",
       "stream": "stdout",
       "text": [
        "\n",
        "14:Boulder, CO, USA -> Boulder, CO, United States, Boulder, United States: (40.01574, -105.27924)"
       ]
      },
      {
       "output_type": "stream",
       "stream": "stdout",
       "text": [
        "\n",
        "15:Istanbul,  , Turkey -> Istanbul, Turkey, Istanbul, Turkey: (41.04001, 28.98999)"
       ]
      },
      {
       "output_type": "stream",
       "stream": "stdout",
       "text": [
        "\n",
        "16:Dallas, TX, USA -> Dallas, TX, United States, Dallas, United States: (32.77815, -96.79540)"
       ]
      },
      {
       "output_type": "stream",
       "stream": "stdout",
       "text": [
        "\n",
        "17:Stockholm,  , Sweden -> Stockholm, Sweden, Stockholm, Sweden: (59.33230, 18.06294)"
       ]
      },
      {
       "output_type": "stream",
       "stream": "stdout",
       "text": [
        "\n",
        "18:Columbus, OH, USA -> Columbus, OH, United States, Columbus, United States: (39.96199, -83.00275)"
       ]
      },
      {
       "output_type": "stream",
       "stream": "stdout",
       "text": [
        "\n",
        "19:Los Angeles, CA, USA -> Los Angeles, CA, United States, Los Angeles, United States: (34.05349, -118.24532)"
       ]
      },
      {
       "output_type": "stream",
       "stream": "stdout",
       "text": [
        "\n",
        "20:Paris,  , France -> Paris, France, Paris, France: (48.85693, 2.34120)"
       ]
      },
      {
       "output_type": "stream",
       "stream": "stdout",
       "text": [
        "\n",
        "21:Seattle, WA, USA -> Seattle, WA, United States, Seattle, United States: (47.60356, -122.32944)"
       ]
      },
      {
       "output_type": "stream",
       "stream": "stdout",
       "text": [
        "\n",
        "22:Dublin,  , Ireland -> DUBLIN, IRELAND, Dublin, Ireland: (53.34807, -6.24827)"
       ]
      },
      {
       "output_type": "stream",
       "stream": "stdout",
       "text": [
        "\n",
        "23:Detroit, MI, USA -> Detroit, MI, United States, Detroit, United States: (42.33168, -83.04792)"
       ]
      },
      {
       "output_type": "stream",
       "stream": "stdout",
       "text": [
        "\n",
        "24:Venice,  , Italy -> Venice VE, Italy, Venice, Italy: (45.43811, 12.31817)"
       ]
      },
      {
       "output_type": "stream",
       "stream": "stdout",
       "text": [
        "\n",
        "25:Charlotte, NC, USA -> Charlotte, NC, United States, Charlotte, United States: (35.22286, -80.83796)"
       ]
      },
      {
       "output_type": "stream",
       "stream": "stdout",
       "text": [
        "\n",
        "26:Madrid,  , Spain -> Madrid, Spain, Madrid, Spain: (40.42030, -3.70577)"
       ]
      },
      {
       "output_type": "stream",
       "stream": "stdout",
       "text": [
        "\n",
        "27:Boise, ID, USA -> Boise, ID, United States, Boise, United States: (43.60698, -116.19341)"
       ]
      },
      {
       "output_type": "stream",
       "stream": "stdout",
       "text": [
        "\n",
        "28:Seoul,  , South Korea -> Seoul, South Korea, Seoul, South Korea: (37.51502, 127.01647)"
       ]
      },
      {
       "output_type": "stream",
       "stream": "stdout",
       "text": [
        "\n",
        "29:Boston, MA, USA -> Boston, MA, United States, Boston, United States: (42.35866, -71.05674)"
       ]
      },
      {
       "output_type": "stream",
       "stream": "stdout",
       "text": [
        "\n",
        "30:Galicia,  , Spain -> Galicia, Spain, Spain: (42.87681, -8.54431)"
       ]
      },
      {
       "output_type": "stream",
       "stream": "stdout",
       "text": [
        "\n",
        "31:Indianapolis, IN, USA -> Indianapolis, IN, United States, Indianapolis, United States: (39.76691, -86.14996)"
       ]
      },
      {
       "output_type": "stream",
       "stream": "stdout",
       "text": [
        "\n",
        "32:London,  , UK -> London, United Kingdom, London, United Kingdom: (51.50632, -0.12714)"
       ]
      },
      {
       "output_type": "stream",
       "stream": "stdout",
       "text": [
        "\n",
        "33:New York City, NY, USA -> New York, NY, United States, New York, United States: (40.71455, -74.00712)"
       ]
      },
      {
       "output_type": "stream",
       "stream": "stdout",
       "text": [
        "\n",
        "34:Edmonton, AB, Canada -> Edmonton, AB, Canada, Edmonton, Canada: (53.54621, -113.49036)"
       ]
      },
      {
       "output_type": "stream",
       "stream": "stdout",
       "text": [
        "\n",
        "35:Chicago, IL, USA -> Chicago, IL, United States, Chicago, United States: (41.88425, -87.63245)"
       ]
      },
      {
       "output_type": "stream",
       "stream": "stdout",
       "text": [
        "\n",
        "36:Tel Aviv,  , Israel -> Tel Aviv, Israel, Tel Aviv, Israel: (32.08327, 34.80921)"
       ]
      },
      {
       "output_type": "stream",
       "stream": "stdout",
       "text": [
        "\n",
        "37:San Francisco, CA, USA -> San Francisco, CA, United States, San Francisco, United States: (37.77712, -122.41964)"
       ]
      },
      {
       "output_type": "stream",
       "stream": "stdout",
       "text": [
        "\n",
        "38:Oman,  , Oman -> Oman, 8727 Oman, Bulgaria, Bolyarovo, Bulgaria: (42.26767, 26.92067)"
       ]
      },
      {
       "output_type": "stream",
       "stream": "stdout",
       "text": [
        "\n",
        "39:Washington D.C., DC, USA -> Washington, DC, United States, Washington, United States: (38.89037, -77.03196)"
       ]
      },
      {
       "output_type": "stream",
       "stream": "stdout",
       "text": [
        "\n",
        "40:San Diego, CA, USA -> San Diego, CA, United States, San Diego, United States: (32.71569, -117.16172)"
       ]
      },
      {
       "output_type": "stream",
       "stream": "stdout",
       "text": [
        "\n",
        "41:San Francisco, CA, USA -> San Francisco, CA, United States, San Francisco, United States: (37.77712, -122.41964)"
       ]
      },
      {
       "output_type": "stream",
       "stream": "stdout",
       "text": [
        "\n",
        "42:Austin, TX, USA -> Austin, TX, United States, Austin, United States: (30.26760, -97.74298)"
       ]
      },
      {
       "output_type": "stream",
       "stream": "stdout",
       "text": [
        "\n",
        "43:Omaha, NE, USA -> Omaha, NE, United States, Omaha, United States: (41.26069, -95.94059)"
       ]
      },
      {
       "output_type": "stream",
       "stream": "stdout",
       "text": [
        "\n",
        "44:New York City, NY, USA -> New York, NY, United States, New York, United States: (40.71455, -74.00712)"
       ]
      },
      {
       "output_type": "stream",
       "stream": "stdout",
       "text": [
        "\n",
        "45:Twin Cities, MN, USA -> Minneapolis, MN, United States, Minneapolis, United States: (44.97903, -93.26493)"
       ]
      },
      {
       "output_type": "stream",
       "stream": "stdout",
       "text": [
        "\n",
        "46:Toronto, ON, Canada -> Toronto, ON, Canada, Toronto, Canada: (43.64858, -79.38529)"
       ]
      },
      {
       "output_type": "stream",
       "stream": "stdout",
       "text": [
        "\n",
        "47:Amsterdam,  , Netherlands -> Amsterdam, Netherlands, Amsterdam, Netherlands: (52.37308, 4.89333)"
       ]
      },
      {
       "output_type": "stream",
       "stream": "stdout",
       "text": [
        "\n",
        "48:New Brunswick, NJ, USA -> New Brunswick, NJ, United States, New Brunswick, United States: (40.49477, -74.44381)"
       ]
      },
      {
       "output_type": "stream",
       "stream": "stdout",
       "text": [
        "\n",
        "49:Stuttgart,  , Germany -> Stuttgart, Germany, Stuttgart, Germany: (48.76767, 9.17192)"
       ]
      },
      {
       "output_type": "stream",
       "stream": "stdout",
       "text": [
        "\n",
        "50:Paris,  , France -> Paris, France, Paris, France: (48.85693, 2.34120)"
       ]
      },
      {
       "output_type": "stream",
       "stream": "stdout",
       "text": [
        "\n",
        "51:Vancouver, BC, Canada -> Vancouver, BC, Canada, Vancouver, Canada: (49.26041, -123.11335)"
       ]
      },
      {
       "output_type": "stream",
       "stream": "stdout",
       "text": [
        "\n",
        "52:Berlin,  , Germany -> Berlin, Germany, Berlin, Germany: (52.51607, 13.37698)"
       ]
      },
      {
       "output_type": "stream",
       "stream": "stdout",
       "text": [
        "\n",
        "53:Los Angeles, CA, USA -> Los Angeles, CA, United States, Los Angeles, United States: (34.05349, -118.24532)"
       ]
      },
      {
       "output_type": "stream",
       "stream": "stdout",
       "text": [
        "\n",
        "54:Milan,  , Italy -> Milan MI, Italy, Milan, Italy: (45.46894, 9.18103)"
       ]
      },
      {
       "output_type": "stream",
       "stream": "stdout",
       "text": [
        "\n",
        "55:Denver, CO, USA -> Denver, CO, United States, Denver, United States: (39.74001, -104.99230)"
       ]
      },
      {
       "output_type": "stream",
       "stream": "stdout",
       "text": [
        "\n",
        "56:New England, RI, USA -> Rhode Island, United States, United States: (41.58258, -71.50360)"
       ]
      },
      {
       "output_type": "stream",
       "stream": "stdout",
       "text": [
        "\n",
        "57:Olympia, WA, USA -> Olympia, WA, United States, Olympia, United States: (47.03923, -122.89136)"
       ]
      },
      {
       "output_type": "stream",
       "stream": "stdout",
       "text": [
        "\n",
        "58:Las Vegas, NV, USA -> Las Vegas, NV, United States, Las Vegas, United States: (36.17191, -115.13997)"
       ]
      },
      {
       "output_type": "stream",
       "stream": "stdout",
       "text": [
        "\n",
        "59:Barcelona,  , Spain -> Barcelona, Spain, Barcelona, Spain: (41.38558, 2.16874)"
       ]
      },
      {
       "output_type": "stream",
       "stream": "stdout",
       "text": [
        "\n",
        "60:Phoenix, AZ, USA -> Phoenix, AZ, United States, Phoenix, United States: (33.44826, -112.07577)"
       ]
      },
      {
       "output_type": "stream",
       "stream": "stdout",
       "text": [
        "\n",
        "61:Kuala Lumpur,  , Malaysia -> Kuala Lumpur, Malaysia, Kuala Lumpur, Malaysia: (3.10477, 101.69200)"
       ]
      },
      {
       "output_type": "stream",
       "stream": "stdout",
       "text": [
        "\n",
        "62:Rome,  , Italy -> Rome RM, Italy, Rome, Italy: (41.90305, 12.49580)"
       ]
      },
      {
       "output_type": "stream",
       "stream": "stdout",
       "text": [
        "\n",
        "63:Seoul,  , South Korea -> Seoul, South Korea, Seoul, South Korea: (37.51502, 127.01647)"
       ]
      },
      {
       "output_type": "stream",
       "stream": "stdout",
       "text": [
        "\n",
        "64:Singapore,  , Singapore -> Singapore, Singapore, Singapore, Singapore: (1.29016, 103.85200)"
       ]
      },
      {
       "output_type": "stream",
       "stream": "stdout",
       "text": [
        "\n",
        "65:Kansas City, MO, USA -> Kansas City, MO, United States, Kansas City, United States: (39.10295, -94.58306)"
       ]
      },
      {
       "output_type": "stream",
       "stream": "stdout",
       "text": [
        "\n",
        "66:Lansing, MI, USA -> Lansing, MI, United States, Lansing, United States: (42.73194, -84.55225)"
       ]
      },
      {
       "output_type": "stream",
       "stream": "stdout",
       "text": [
        "\n",
        "67:Geneva,  , Switzerland -> Geneva, Switzerland, Geneva, Switzerland: (46.20835, 6.14275)"
       ]
      },
      {
       "output_type": "stream",
       "stream": "stdout",
       "text": [
        "\n",
        "68:Chicago, IL, USA -> Chicago, IL, United States, Chicago, United States: (41.88425, -87.63245)"
       ]
      },
      {
       "output_type": "stream",
       "stream": "stdout",
       "text": [
        "\n",
        "69:Beirut,  , Lebanon -> Beirut, Lebanon, Beirut, Lebanon: (33.89607, 35.50678)"
       ]
      },
      {
       "output_type": "stream",
       "stream": "stdout",
       "text": [
        "\n",
        "70:Indianapolis, IN, USA -> Indianapolis, IN, United States, Indianapolis, United States: (39.76691, -86.14996)"
       ]
      },
      {
       "output_type": "stream",
       "stream": "stdout",
       "text": [
        "\n",
        "71:Lexington, KY, USA -> Lexington, KY, United States, Lexington, United States: (38.04859, -84.50032)"
       ]
      },
      {
       "output_type": "stream",
       "stream": "stdout",
       "text": [
        "\n",
        "72:Sofia,  , Bulgaria -> Sofia, Bulgaria, Sofia, Bulgaria: (42.69719, 23.32437)"
       ]
      },
      {
       "output_type": "stream",
       "stream": "stdout",
       "text": [
        "\n",
        "73:Cleveland, OH, USA -> Cleveland, OH, United States, Cleveland, United States: (41.50475, -81.69072)"
       ]
      },
      {
       "output_type": "stream",
       "stream": "stdout",
       "text": [
        "\n",
        "74:Boise, ID, USA -> Boise, ID, United States, Boise, United States: (43.60698, -116.19341)"
       ]
      },
      {
       "output_type": "stream",
       "stream": "stdout",
       "text": [
        "\n",
        "75:Portland, OR, USA -> Portland, OR, United States, Portland, United States: (45.51179, -122.67563)"
       ]
      },
      {
       "output_type": "stream",
       "stream": "stdout",
       "text": [
        "\n",
        "76:Boston, MA, USA -> Boston, MA, United States, Boston, United States: (42.35866, -71.05674)"
       ]
      },
      {
       "output_type": "stream",
       "stream": "stdout",
       "text": [
        "\n",
        "77:Seattle, WA, USA -> Seattle, WA, United States, Seattle, United States: (47.60356, -122.32944)"
       ]
      },
      {
       "output_type": "stream",
       "stream": "stdout",
       "text": [
        "\n",
        "78:Detroit, MI, USA -> Detroit, MI, United States, Detroit, United States: (42.33168, -83.04792)"
       ]
      },
      {
       "output_type": "stream",
       "stream": "stdout",
       "text": [
        "\n",
        "79:Tulsa, OK, USA -> Tulsa, OK, United States, Tulsa, United States: (36.14974, -95.99333)"
       ]
      },
      {
       "output_type": "stream",
       "stream": "stdout",
       "text": [
        "\n",
        "80:New York City, NY, USA -> New York, NY, United States, New York, United States: (40.71455, -74.00712)"
       ]
      },
      {
       "output_type": "stream",
       "stream": "stdout",
       "text": [
        "\n",
        "81:Dallas, TX, USA -> Dallas, TX, United States, Dallas, United States: (32.77815, -96.79540)"
       ]
      },
      {
       "output_type": "stream",
       "stream": "stdout",
       "text": [
        "\n",
        "82:Athens,  , Greece -> Athens, Greece, Athens, Greece: (37.97615, 23.73641)"
       ]
      },
      {
       "output_type": "stream",
       "stream": "stdout",
       "text": [
        "\n",
        "83:San Francisco, CA, USA -> San Francisco, CA, United States, San Francisco, United States: (37.77712, -122.41964)"
       ]
      },
      {
       "output_type": "stream",
       "stream": "stdout",
       "text": [
        "\n",
        "84:Beijing,  , China -> Beijing, Beijing, People's Republic of China, Beijing, People's Republic of China: (39.90468, 116.40707)"
       ]
      },
      {
       "output_type": "stream",
       "stream": "stdout",
       "text": [
        "\n",
        "85:Miami, FL, USA -> Miami, FL, United States, Miami, United States: (25.77481, -80.19773)"
       ]
      },
      {
       "output_type": "stream",
       "stream": "stdout",
       "text": [
        "\n",
        "86:Chihuahua,  , Mexico -> Chihuahua, Mexico, Chihuahua, Mexico: (28.63972, -106.07195)"
       ]
      },
      {
       "output_type": "stream",
       "stream": "stdout",
       "text": [
        "\n",
        "87:Reykjavik,  , Iceland -> Reykjavik, Iceland, Reykjavik, Iceland: (64.14741, -21.93399)"
       ]
      },
      {
       "output_type": "stream",
       "stream": "stdout",
       "text": [
        "\n",
        "88:Sao Paulo,  , Brazil -> Sao Paulo, Brazil, Sao Paulo, Brazil: (-23.56284, -46.65464)"
       ]
      },
      {
       "output_type": "stream",
       "stream": "stdout",
       "text": [
        "\n",
        "89:Minneapolis, MN, USA -> Minneapolis, MN, United States, Minneapolis, United States: (44.97903, -93.26493)"
       ]
      },
      {
       "output_type": "stream",
       "stream": "stdout",
       "text": [
        "\n",
        "90:Bucharest,  , Romania -> Bucharest, Romania, Bucharest, Romania: (44.43429, 26.10296)"
       ]
      },
      {
       "output_type": "stream",
       "stream": "stdout",
       "text": [
        "\n",
        "91:Toulouse,  , France -> Toulouse, France, Toulouse, France: (43.60573, 1.44869)"
       ]
      },
      {
       "output_type": "stream",
       "stream": "stdout",
       "text": [
        "\n",
        "92:Marseille,  , France -> Marseille, France, Marseille, France: (43.29370, 5.37247)"
       ]
      },
      {
       "output_type": "stream",
       "stream": "stdout",
       "text": [
        "\n",
        "93:Moscow,  , Russia -> Moscow, Russia, Moscow, Russia: (55.75697, 37.61502)"
       ]
      },
      {
       "output_type": "stream",
       "stream": "stdout",
       "text": [
        "\n",
        "94:Santiago,  , Chile -> Santiago, Chile, Santiago, Chile: (-33.43721, -70.65002)"
       ]
      },
      {
       "output_type": "stream",
       "stream": "stdout",
       "text": [
        "\n",
        "95:Redmond, CA, USA -> California, United States, United States: (37.27188, -119.27023)"
       ]
      },
      {
       "output_type": "stream",
       "stream": "stdout",
       "text": [
        "\n",
        "96:Columbus, OH, USA -> Columbus, OH, United States, Columbus, United States: (39.96199, -83.00275)"
       ]
      },
      {
       "output_type": "stream",
       "stream": "stdout",
       "text": [
        "\n",
        "97:West Michigan, MI, USA -> West, MI 48503, United States, Flint, United States: (43.02647, -83.70839)"
       ]
      },
      {
       "output_type": "stream",
       "stream": "stdout",
       "text": [
        "\n",
        "98:Ann Arbor, MI, USA -> Ann Arbor, MI, United States, Ann Arbor, United States: (42.28210, -83.74847)"
       ]
      },
      {
       "output_type": "stream",
       "stream": "stdout",
       "text": [
        "\n",
        "99:Brussels,  , Belgium -> Brussels, Belgium, Brussels, Belgium: (50.84838, 4.34968)"
       ]
      },
      {
       "output_type": "stream",
       "stream": "stdout",
       "text": [
        "\n",
        "100:Philadelphia, PA, USA -> Philadelphia, PA, United States, Philadelphia, United States: (39.95228, -75.16245)"
       ]
      },
      {
       "output_type": "stream",
       "stream": "stdout",
       "text": [
        "\n",
        "101:Oslo,  , Norway -> Oslo, Norway, Oslo, Norway: (59.91231, 10.74998)"
       ]
      },
      {
       "output_type": "stream",
       "stream": "stdout",
       "text": [
        "\n",
        "102:Aarhus,  , Denmark -> Aarhus, Denmark, Aarhus, Denmark: (56.15300, 10.20452)"
       ]
      },
      {
       "output_type": "stream",
       "stream": "stdout",
       "text": [
        "\n",
        "103:Edmonton, AB, Canada -> Edmonton, AB, Canada, Edmonton, Canada: (53.54621, -113.49036)"
       ]
      },
      {
       "output_type": "stream",
       "stream": "stdout",
       "text": [
        "\n",
        "104:Oklahoma City, OK, USA -> Oklahoma City, OK, United States, Oklahoma City, United States: (35.47203, -97.52107)"
       ]
      },
      {
       "output_type": "stream",
       "stream": "stdout",
       "text": [
        "\n",
        "105:Nantes,  , France -> Nantes, France, Nantes, France: (47.21811, -1.55306)"
       ]
      },
      {
       "output_type": "stream",
       "stream": "stdout",
       "text": [
        "\n",
        "106:Lyon,  , France -> Lyon, France, Lyon, France: (45.75939, 4.82898)"
       ]
      },
      {
       "output_type": "stream",
       "stream": "stdout",
       "text": [
        "\n",
        "107:Los Angeles, CA, USA -> Los Angeles, CA, United States, Los Angeles, United States: (34.05349, -118.24532)"
       ]
      },
      {
       "output_type": "stream",
       "stream": "stdout",
       "text": [
        "\n",
        "108:Eindhoven,  , Netherlands -> Eindhoven, Netherlands, Eindhoven, Netherlands: (51.43445, 5.48411)"
       ]
      },
      {
       "output_type": "stream",
       "stream": "stdout",
       "text": [
        "\n",
        "109:Tel Aviv,  , Israel -> Tel Aviv, Israel, Tel Aviv, Israel: (32.08327, 34.80921)"
       ]
      },
      {
       "output_type": "stream",
       "stream": "stdout",
       "text": [
        "\n",
        "110:Dublin,  , Ireland -> DUBLIN, IRELAND, Dublin, Ireland: (53.34807, -6.24827)"
       ]
      },
      {
       "output_type": "stream",
       "stream": "stdout",
       "text": [
        "\n",
        "111:San Diego, CA, USA -> San Diego, CA, United States, San Diego, United States: (32.71569, -117.16172)"
       ]
      },
      {
       "output_type": "stream",
       "stream": "stdout",
       "text": [
        "\n",
        "112:Austin, TX, USA -> Austin, TX, United States, Austin, United States: (30.26760, -97.74298)"
       ]
      },
      {
       "output_type": "stream",
       "stream": "stdout",
       "text": [
        "\n",
        "113:Tunis,  , Tunisia -> Tunis, Tunisia, Tunis, Tunisia: (36.81486, 10.15913)"
       ]
      },
      {
       "output_type": "stream",
       "stream": "stdout",
       "text": [
        "\n",
        "114:Boulder, CO, USA -> Boulder, CO, United States, Boulder, United States: (40.01574, -105.27924)"
       ]
      },
      {
       "output_type": "stream",
       "stream": "stdout",
       "text": [
        "\n",
        "115:Houston, TX, USA -> Houston, TX, United States, Houston, United States: (29.76045, -95.36978)"
       ]
      },
      {
       "output_type": "stream",
       "stream": "stdout",
       "text": [
        "\n",
        "116:Copenhagen,  , Denmark -> Copenhagen, Denmark, Copenhagen, Denmark: (55.67566, 12.56761)"
       ]
      },
      {
       "output_type": "stream",
       "stream": "stdout",
       "text": [
        "\n",
        "117:Delhi,  , India -> Delhi, Central, Delhi, India, Delhi, India: (28.64498, 77.21643)"
       ]
      },
      {
       "output_type": "stream",
       "stream": "stdout",
       "text": [
        "\n",
        "118:Des Moines, IA, USA -> Des Moines, IA, United States, Des Moines, United States: (41.58976, -93.61565)"
       ]
      },
      {
       "output_type": "stream",
       "stream": "stdout",
       "text": [
        "\n",
        "119:Torino,  , Italy -> Turin TO, Italy, Turin, Italy: (45.06968, 7.70493)"
       ]
      },
      {
       "output_type": "stream",
       "stream": "stdout",
       "text": [
        "\n",
        "120:Cambridge,  , UK -> Cambridge, United Kingdom, Cambridge, United Kingdom: (52.20980, 0.11147)"
       ]
      },
      {
       "output_type": "stream",
       "stream": "stdout",
       "text": [
        "\n",
        "121:Lille,  , France -> Lille, France, Lille, France: (50.63715, 3.06283)"
       ]
      },
      {
       "output_type": "stream",
       "stream": "stdout",
       "text": [
        "\n",
        "122:Bangalore,  , India -> Bengaluru, Karnataka, India, Bengaluru, India: (12.96697, 77.58728)"
       ]
      },
      {
       "output_type": "stream",
       "stream": "stdout",
       "text": [
        "\n",
        "123:San Pedro,  , Costa Rica -> San Pedro (Montes de Oca), Costa Rica, San Pedro, Costa Rica: (9.93300, -84.05504)"
       ]
      },
      {
       "output_type": "stream",
       "stream": "stdout",
       "text": [
        "\n",
        "124:Lausanne,  , Switzerland -> Lausanne, Switzerland, Lausanne, Switzerland: (46.51960, 6.63222)"
       ]
      },
      {
       "output_type": "stream",
       "stream": "stdout",
       "text": [
        "\n",
        "125:Novosibirsk, Siberia, Russia -> Novosibirsk, Russia, Novosibirsk, Russia: (55.04110, 82.93440)"
       ]
      },
      {
       "output_type": "stream",
       "stream": "stdout",
       "text": [
        "\n",
        "126:Nice-Sophia Antipolis,  , France -> 06560 Sophia Antipolis, France, Valbonne, France: (43.60218, 7.06511)"
       ]
      },
      {
       "output_type": "stream",
       "stream": "stdout",
       "text": [
        "\n",
        "127:Moscow,  , Russia -> Moscow, Russia, Moscow, Russia: (55.75697, 37.61502)"
       ]
      },
      {
       "output_type": "stream",
       "stream": "stdout",
       "text": [
        "\n",
        "128:Istanbul,  , Turkey -> Istanbul, Turkey, Istanbul, Turkey: (41.04001, 28.98999)"
       ]
      },
      {
       "output_type": "stream",
       "stream": "stdout",
       "text": [
        "\n",
        "129:Kalamazoo, MI, USA -> Kalamazoo, MI, United States, Kalamazoo, United States: (42.29243, -85.60111)"
       ]
      },
      {
       "output_type": "stream",
       "stream": "stdout",
       "text": [
        "\n",
        "130:Budapest,  , Hungary -> Budapest, Hungary, Budapest, Hungary: (47.50622, 19.06482)"
       ]
      },
      {
       "output_type": "stream",
       "stream": "stdout",
       "text": [
        "\n",
        "131:Portland, OR, USA -> Portland, OR, United States, Portland, United States: (45.51179, -122.67563)"
       ]
      },
      {
       "output_type": "stream",
       "stream": "stdout",
       "text": [
        "\n",
        "132:Auckland,  , New Zealand -> Auckland, New Zealand, Auckland, New Zealand: (-36.88411, 174.77042)"
       ]
      },
      {
       "output_type": "stream",
       "stream": "stdout",
       "text": [
        "\n",
        "133:Ekaterinburg, Urals, Russia -> Yekaterinburg, Russia, Yekaterinburg, Russia: (56.85750, 60.61250)"
       ]
      },
      {
       "output_type": "stream",
       "stream": "stdout",
       "text": [
        "\n",
        "134:Baton Rouge, LA, USA -> Baton Rouge, LA, United States, Baton Rouge, United States: (30.44334, -91.18699)"
       ]
      },
      {
       "output_type": "stream",
       "stream": "stdout",
       "text": [
        "\n",
        "135:Kaunas,  , Lithuania -> Kaunas, Lithuania, Kaunas, Lithuania: (54.89449, 23.90994)"
       ]
      },
      {
       "output_type": "stream",
       "stream": "stdout",
       "text": [
        "\n",
        "136:Lansing, MI, USA -> Lansing, MI, United States, Lansing, United States: (42.73194, -84.55225)"
       ]
      },
      {
       "output_type": "stream",
       "stream": "stdout",
       "text": [
        "\n",
        "137:Indianapolis, IN, USA -> Indianapolis, IN, United States, Indianapolis, United States: (39.76691, -86.14996)"
       ]
      },
      {
       "output_type": "stream",
       "stream": "stdout",
       "text": [
        "\n",
        "138:New York City, NY, USA -> New York, NY, United States, New York, United States: (40.71455, -74.00712)"
       ]
      },
      {
       "output_type": "stream",
       "stream": "stdout",
       "text": [
        "\n",
        "139:Montpellier,  , France -> Montpellier, France, Montpellier, France: (43.61085, 3.87609)"
       ]
      },
      {
       "output_type": "stream",
       "stream": "stdout",
       "text": [
        "\n",
        "140:Baltimore, MD, USA -> Baltimore, MD, United States, Baltimore, United States: (39.29058, -76.60926)"
       ]
      },
      {
       "output_type": "stream",
       "stream": "stdout",
       "text": [
        "\n",
        "141:Kansas City, MO, USA -> Kansas City, MO, United States, Kansas City, United States: (39.10295, -94.58306)"
       ]
      },
      {
       "output_type": "stream",
       "stream": "stdout",
       "text": [
        "\n",
        "142:Saint Petersburg,  , Russia -> Saint Petersburg, Russia, Saint Petersburg, Russia: (59.93318, 30.30603)"
       ]
      },
      {
       "output_type": "stream",
       "stream": "stdout",
       "text": [
        "\n",
        "143:San Jose, CA, USA -> San Jose, CA, United States, San Jose, United States: (37.33858, -121.88557)"
       ]
      },
      {
       "output_type": "stream",
       "stream": "stdout",
       "text": [
        "\n",
        "144:Alger,  , Algeria -> Algiers, Algeria, Algiers, Algeria: (36.76581, 3.03193)"
       ]
      },
      {
       "output_type": "stream",
       "stream": "stdout",
       "text": [
        "\n",
        "145:Paris,  , France -> Paris, France, Paris, France: (48.85693, 2.34120)"
       ]
      },
      {
       "output_type": "stream",
       "stream": "stdout",
       "text": [
        "\n",
        "146:Casablanca,  , Morocco -> Casablanca, Morocco, Casablanca, Morocco: (33.59656, -7.61889)"
       ]
      },
      {
       "output_type": "stream",
       "stream": "stdout",
       "text": [
        "\n",
        "147:Cairo,  , Egypt -> Cairo, Egypt, Cairo, Egypt: (30.04998, 31.24860)"
       ]
      },
      {
       "output_type": "stream",
       "stream": "stdout",
       "text": [
        "\n",
        "148:Singapore,  , Singapore -> Singapore, Singapore, Singapore, Singapore: (1.29016, 103.85200)"
       ]
      },
      {
       "output_type": "stream",
       "stream": "stdout",
       "text": [
        "\n",
        "149:Melbourne,  , Australia -> MELBOURNE, VIC, AUSTRALIA, Melbourne, Australia: (-37.81753, 144.96715)"
       ]
      },
      {
       "output_type": "stream",
       "stream": "stdout",
       "text": [
        "\n",
        "150:Charlotte, NC, USA -> Charlotte, NC, United States, Charlotte, United States: (35.22286, -80.83796)"
       ]
      },
      {
       "output_type": "stream",
       "stream": "stdout",
       "text": [
        "\n",
        "151:San Francisco, CA, USA -> San Francisco, CA, United States, San Francisco, United States: (37.77712, -122.41964)"
       ]
      },
      {
       "output_type": "stream",
       "stream": "stdout",
       "text": [
        "\n",
        "152:Kuala Lumpur,  , Malaysia -> Kuala Lumpur, Malaysia, Kuala Lumpur, Malaysia: (3.10477, 101.69200)"
       ]
      },
      {
       "output_type": "stream",
       "stream": "stdout",
       "text": [
        "\n",
        "153:Porto,  , Portugal -> Porto, Portugal, Porto, Portugal: (41.14946, -8.61031)"
       ]
      },
      {
       "output_type": "stream",
       "stream": "stdout",
       "text": [
        "\n",
        "154:Campinas,  , Brazil -> Campinas, Brazil, Campinas, Brazil: (-22.90905, -47.06459)"
       ]
      },
      {
       "output_type": "stream",
       "stream": "stdout",
       "text": [
        "\n",
        "155:Warsaw,  , Poland -> Warsaw, Poland, Warsaw, Poland: (52.22875, 21.00625)"
       ]
      },
      {
       "output_type": "stream",
       "stream": "stdout",
       "text": [
        "\n",
        "156:Seoul,  , South Korea -> Seoul, South Korea, Seoul, South Korea: (37.51502, 127.01647)"
       ]
      },
      {
       "output_type": "stream",
       "stream": "stdout",
       "text": [
        "\n",
        "157:Toulouse,  , France -> Toulouse, France, Toulouse, France: (43.60573, 1.44869)"
       ]
      },
      {
       "output_type": "stream",
       "stream": "stdout",
       "text": [
        "\n",
        "158:Kota Kinabalu,  , Malaysia -> Kota Kinabalu, Malaysia, Kota Kinabalu, Malaysia: (5.98138, 116.07429)"
       ]
      },
      {
       "output_type": "stream",
       "stream": "stdout",
       "text": [
        "\n",
        "159:Tokyo,  , Japan -> Tokyo, Japan, Tokyo, Japan: (35.68321, 139.80894)"
       ]
      },
      {
       "output_type": "stream",
       "stream": "stdout",
       "text": [
        "\n",
        "160:Jakarta,  , Indonesia -> Jakarta, Indonesia, Jakarta, Indonesia: (-6.16999, 106.82999)"
       ]
      },
      {
       "output_type": "stream",
       "stream": "stdout",
       "text": [
        "\n",
        "161:Coimbra,  , Portugal -> Coimbra, Portugal, Coimbra, Portugal: (40.21081, -8.41632)"
       ]
      },
      {
       "output_type": "stream",
       "stream": "stdout",
       "text": [
        "\n",
        "162:Kazan,  , Russia -> Kazan', Russia, Kazan', Russia: (55.73300, 49.14550)"
       ]
      },
      {
       "output_type": "stream",
       "stream": "stdout",
       "text": [
        "\n",
        "163:Bordeaux,  , France -> Bordeaux, France, Bordeaux, France: (44.83663, -0.58105)"
       ]
      },
      {
       "output_type": "stream",
       "stream": "stdout",
       "text": [
        "\n",
        "164:Miami, FL, USA -> Miami, FL, United States, Miami, United States: (25.77481, -80.19773)"
       ]
      },
      {
       "output_type": "stream",
       "stream": "stdout",
       "text": [
        "\n",
        "165:Ulaanbaatar,  , Mongolia -> Ulan Bator, Mongolia, Ulan Bator, Mongolia: (47.92850, 106.91231)"
       ]
      },
      {
       "output_type": "stream",
       "stream": "stdout",
       "text": [
        "\n",
        "166:Hamburg,  , Germany -> Hamburg, Germany, Hamburg, Germany: (53.55334, 9.99247)"
       ]
      },
      {
       "output_type": "stream",
       "stream": "stdout",
       "text": [
        "\n",
        "167:Toronto, ON, Canada -> Toronto, ON, Canada, Toronto, Canada: (43.64858, -79.38529)"
       ]
      },
      {
       "output_type": "stream",
       "stream": "stdout",
       "text": [
        "\n",
        "168:Marseille,  , France -> Marseille, France, Marseille, France: (43.29370, 5.37247)"
       ]
      },
      {
       "output_type": "stream",
       "stream": "stdout",
       "text": [
        "\n",
        "169:Madrid,  , Spain -> Madrid, Spain, Madrid, Spain: (40.42030, -3.70577)"
       ]
      },
      {
       "output_type": "stream",
       "stream": "stdout",
       "text": [
        "\n",
        "170:Denver, CO, USA -> Denver, CO, United States, Denver, United States: (39.74001, -104.99230)"
       ]
      },
      {
       "output_type": "stream",
       "stream": "stdout",
       "text": [
        "\n",
        "171:San Francisco, CA, USA -> San Francisco, CA, United States, San Francisco, United States: (37.77712, -122.41964)"
       ]
      },
      {
       "output_type": "stream",
       "stream": "stdout",
       "text": [
        "\n",
        "172:Boston, MA, USA -> Boston, MA, United States, Boston, United States: (42.35866, -71.05674)"
       ]
      },
      {
       "output_type": "stream",
       "stream": "stdout",
       "text": [
        "\n",
        "173:Raleigh-Durham, NC, USA -> Durham International Airport, Morrisville, NC 27560, United States, Morrisville, United States: (35.87380, -78.79120)"
       ]
      },
      {
       "output_type": "stream",
       "stream": "stdout",
       "text": [
        "\n",
        "174:New York City, NY, USA -> New York, NY, United States, New York, United States: (40.71455, -74.00712)"
       ]
      },
      {
       "output_type": "stream",
       "stream": "stdout",
       "text": [
        "\n",
        "175:Mexico City,  , Mexico -> Mexico City, Mexico, Mexico City, Mexico: (19.43001, -99.13001)"
       ]
      },
      {
       "output_type": "stream",
       "stream": "stdout",
       "text": [
        "\n",
        "176:Bentonville, AR, USA -> Bentonville, AR, United States, Bentonville, United States: (36.37232, -94.20962)"
       ]
      },
      {
       "output_type": "stream",
       "stream": "stdout",
       "text": [
        "\n",
        "177:Seattle, WA, USA -> Seattle, WA, United States, Seattle, United States: (47.60356, -122.32944)"
       ]
      },
      {
       "output_type": "stream",
       "stream": "stdout",
       "text": [
        "\n",
        "178:Moscow,  , Russia -> Moscow, Russia, Moscow, Russia: (55.75697, 37.61502)"
       ]
      },
      {
       "output_type": "stream",
       "stream": "stdout",
       "text": [
        "\n",
        "179:Dallas, TX, USA -> Dallas, TX, United States, Dallas, United States: (32.77815, -96.79540)"
       ]
      },
      {
       "output_type": "stream",
       "stream": "stdout",
       "text": [
        "\n",
        "180:Skopje,  , Macedonia -> Skopje, Macedonia, Skopje, Macedonia: (41.99600, 21.43130)"
       ]
      },
      {
       "output_type": "stream",
       "stream": "stdout",
       "text": [
        "\n",
        "181:Rio de Janeiro,  , Brazil -> Rio de Janeiro, Brazil, Rio de Janeiro, Brazil: (-22.97667, -43.19475)"
       ]
      },
      {
       "output_type": "stream",
       "stream": "stdout",
       "text": [
        "\n",
        "182:Guadalajara,  , Mexico -> Guadalajara, Mexico, Guadalajara, Mexico: (20.68760, -103.35111)"
       ]
      },
      {
       "output_type": "stream",
       "stream": "stdout",
       "text": [
        "\n",
        "183:Copenhagen,  , Denmark -> Copenhagen, Denmark, Copenhagen, Denmark: (55.67566, 12.56761)"
       ]
      },
      {
       "output_type": "stream",
       "stream": "stdout",
       "text": [
        "\n",
        "184:Las Vegas, NV, USA -> Las Vegas, NV, United States, Las Vegas, United States: (36.17191, -115.13997)"
       ]
      },
      {
       "output_type": "stream",
       "stream": "stdout",
       "text": [
        "\n",
        "185:Beijing,  , China -> Beijing, Beijing, People's Republic of China, Beijing, People's Republic of China: (39.90468, 116.40707)"
       ]
      },
      {
       "output_type": "stream",
       "stream": "stdout",
       "text": [
        "\n",
        "186:Bellingham, WA, USA -> Bellingham, WA, United States, Bellingham, United States: (48.75235, -122.47122)"
       ]
      },
      {
       "output_type": "stream",
       "stream": "stdout",
       "text": [
        "\n",
        "187:Chandler, AZ, USA -> Chandler, AZ, United States, Chandler, United States: (33.30338, -111.84083)"
       ]
      },
      {
       "output_type": "stream",
       "stream": "stdout",
       "text": [
        "\n",
        "188:Munich,  , Germany -> Munich, Germany, Munich, Germany: (48.13641, 11.57753)"
       ]
      },
      {
       "output_type": "stream",
       "stream": "stdout",
       "text": [
        "\n",
        "189:Galicia,  , Spain -> Galicia, Spain, Spain: (42.87681, -8.54431)"
       ]
      },
      {
       "output_type": "stream",
       "stream": "stdout",
       "text": [
        "\n",
        "190:Amsterdam,  , Netherlands -> Amsterdam, Netherlands, Amsterdam, Netherlands: (52.37308, 4.89333)"
       ]
      },
      {
       "output_type": "stream",
       "stream": "stdout",
       "text": [
        "\n",
        "191:Tampa, FL, USA -> Tampa, FL, United States, Tampa, United States: (27.94653, -82.45927)"
       ]
      },
      {
       "output_type": "stream",
       "stream": "stdout",
       "text": [
        "\n",
        "192:Cape Town,  , South Africa -> Cape Town, South Africa, Cape Town, South Africa: (-33.91909, 18.42199)"
       ]
      },
      {
       "output_type": "stream",
       "stream": "stdout",
       "text": [
        "\n",
        "193:Shanghai,  , China -> Shanghai, Shanghai, People's Republic of China, Shanghai, People's Republic of China: (31.23037, 121.47489)"
       ]
      },
      {
       "output_type": "stream",
       "stream": "stdout",
       "text": [
        "\n",
        "194:Chicago, IL, USA -> Chicago, IL, United States, Chicago, United States: (41.88425, -87.63245)"
       ]
      },
      {
       "output_type": "stream",
       "stream": "stdout",
       "text": [
        "\n",
        "195:Sydney,  , Australia -> SYDNEY, NSW, AUSTRALIA, Sydney, Australia: (-33.86960, 151.20695)"
       ]
      },
      {
       "output_type": "stream",
       "stream": "stdout",
       "text": [
        "\n",
        "196:Johannesburg,  , South Africa -> Johannesburg, South Africa, Johannesburg, South Africa: (-26.20492, 28.04002)"
       ]
      },
      {
       "output_type": "stream",
       "stream": "stdout",
       "text": [
        "\n",
        "197:Palo Alto, CA, USA -> Palo Alto, CA, United States, Palo Alto, United States: (37.44466, -122.16079)"
       ]
      },
      {
       "output_type": "stream",
       "stream": "stdout",
       "text": [
        "\n",
        "198:Kyoto,  , Japan -> Kyoto-shi, Japan, Kyoto-shi, Japan: (35.09813, 135.71893)"
       ]
      },
      {
       "output_type": "stream",
       "stream": "stdout",
       "text": [
        "\n",
        "199:Seoul,  , South Korea -> Seoul, South Korea, Seoul, South Korea: (37.51502, 127.01647)"
       ]
      },
      {
       "output_type": "stream",
       "stream": "stdout",
       "text": [
        "\n",
        "200:New York City, NY, USA -> New York, NY, United States, New York, United States: (40.71455, -74.00712)"
       ]
      },
      {
       "output_type": "stream",
       "stream": "stdout",
       "text": [
        "\n",
        "201:Taipei,  , Taiwan -> Taipei, Taiwan, Taipei, Taiwan: (25.03933, 121.51294)"
       ]
      },
      {
       "output_type": "stream",
       "stream": "stdout",
       "text": [
        "\n",
        "202:Tokyo,  , Japan -> Tokyo, Japan, Tokyo, Japan: (35.68321, 139.80894)"
       ]
      },
      {
       "output_type": "stream",
       "stream": "stdout",
       "text": [
        "\n",
        "203:Tucson, AZ, USA -> Tucson, AZ, United States, Tucson, United States: (32.22155, -110.96976)"
       ]
      },
      {
       "output_type": "stream",
       "stream": "stdout",
       "text": [
        "\n",
        "204:Los Angeles, CA, USA -> Los Angeles, CA, United States, Los Angeles, United States: (34.05349, -118.24532)"
       ]
      },
      {
       "output_type": "stream",
       "stream": "stdout",
       "text": [
        "\n",
        "205:Fukuoka,  , Japan -> Fukuoka-shi, Japan, Fukuoka-shi, Japan: (33.56870, 130.34636)"
       ]
      },
      {
       "output_type": "stream",
       "stream": "stdout",
       "text": [
        "\n",
        "206:Hyderabad,  , India -> Hyderabad, Andhra Pradesh, India, Hyderabad, India: (17.34725, 78.42818)"
       ]
      },
      {
       "output_type": "stream",
       "stream": "stdout",
       "text": [
        "\n",
        "207:Monterrey,  , Mexico -> Monterrey, Mexico, Monterrey, Mexico: (25.67097, -100.30998)"
       ]
      },
      {
       "output_type": "stream",
       "stream": "stdout",
       "text": [
        "\n",
        "208:Moscow,  , Russia -> Moscow, Russia, Moscow, Russia: (55.75697, 37.61502)"
       ]
      },
      {
       "output_type": "stream",
       "stream": "stdout",
       "text": [
        "\n",
        "209:Mountain View, CA, USA -> Mountain View, CA, United States, Mountain View, United States: (37.38967, -122.08160)"
       ]
      },
      {
       "output_type": "stream",
       "stream": "stdout",
       "text": [
        "\n",
        "210:Phnom Penh,  , Cambodia -> Phnom Penh, Cambodia, Phnom Penh, Cambodia: (11.55227, 104.87691)"
       ]
      },
      {
       "output_type": "stream",
       "stream": "stdout",
       "text": [
        "\n",
        "211:Boise, ID, USA -> Boise, ID, United States, Boise, United States: (43.60698, -116.19341)"
       ]
      },
      {
       "output_type": "stream",
       "stream": "stdout",
       "text": [
        "\n",
        "212:Shanghai,  , China -> Shanghai, Shanghai, People's Republic of China, Shanghai, People's Republic of China: (31.23037, 121.47489)"
       ]
      },
      {
       "output_type": "stream",
       "stream": "stdout",
       "text": [
        "\n",
        "213:London,  , UK -> London, United Kingdom, London, United Kingdom: (51.50632, -0.12714)"
       ]
      },
      {
       "output_type": "stream",
       "stream": "stdout",
       "text": [
        "\n",
        "214:Lagos,  , Nigeria -> Lagos,  STATE, Nigeria, Lagos, Nigeria: (6.45410, 3.38943)"
       ]
      },
      {
       "output_type": "stream",
       "stream": "stdout",
       "text": [
        "\n",
        "215:Delaware, DE, USA -> Delaware City, DE, United States, Delaware City, United States: (39.57351, -75.59419)"
       ]
      },
      {
       "output_type": "stream",
       "stream": "stdout",
       "text": [
        "\n",
        "216:London,  , UK -> London, United Kingdom, London, United Kingdom: (51.50632, -0.12714)"
       ]
      },
      {
       "output_type": "stream",
       "stream": "stdout",
       "text": [
        "\n",
        "217:Honolulu, HI, USA -> Honolulu, HI, United States, Honolulu, United States: (21.30485, -157.85776)"
       ]
      },
      {
       "output_type": "stream",
       "stream": "stdout",
       "text": [
        "\n",
        "218:Ulaanbaatar,  , Mongolia -> Ulan Bator, Mongolia, Ulan Bator, Mongolia: (47.92850, 106.91231)"
       ]
      },
      {
       "output_type": "stream",
       "stream": "stdout",
       "text": [
        "\n",
        "219:Omaha, NE, USA -> Omaha, NE, United States, Omaha, United States: (41.26069, -95.94059)"
       ]
      },
      {
       "output_type": "stream",
       "stream": "stdout",
       "text": [
        "\n",
        "220:Seattle, WA, USA -> Seattle, WA, United States, Seattle, United States: (47.60356, -122.32944)"
       ]
      },
      {
       "output_type": "stream",
       "stream": "stdout",
       "text": [
        "\n",
        "221:Alexandria,  , Egypt -> Alexandria, Egypt, Alexandria, Egypt: (31.21045, 29.91245)"
       ]
      },
      {
       "output_type": "stream",
       "stream": "stdout",
       "text": [
        "\n",
        "222:Auckland,  , New Zealand -> Auckland, New Zealand, Auckland, New Zealand: (-36.88411, 174.77042)"
       ]
      },
      {
       "output_type": "stream",
       "stream": "stdout",
       "text": [
        "\n",
        "223:Oslo,  , Norway -> Oslo, Norway, Oslo, Norway: (59.91231, 10.74998)"
       ]
      },
      {
       "output_type": "stream",
       "stream": "stdout",
       "text": [
        "\n",
        "224:Ithaca, NY, USA -> Ithaca, NY, United States, Ithaca, United States: (42.44051, -76.49546)"
       ]
      },
      {
       "output_type": "stream",
       "stream": "stdout",
       "text": [
        "\n",
        "225:Hartford, CT, USA -> Hartford, CT, United States, Hartford, United States: (41.76331, -72.67408)"
       ]
      },
      {
       "output_type": "stream",
       "stream": "stdout",
       "text": [
        "\n",
        "226:Los Angeles, CA, USA -> Los Angeles, CA, United States, Los Angeles, United States: (34.05349, -118.24532)"
       ]
      },
      {
       "output_type": "stream",
       "stream": "stdout",
       "text": [
        "\n",
        "227:Nantes,  , France -> Nantes, France, Nantes, France: (47.21811, -1.55306)"
       ]
      },
      {
       "output_type": "stream",
       "stream": "stdout",
       "text": [
        "\n",
        "228:Columbia, MO, USA -> Columbia, MO, United States, Columbia, United States: (38.95217, -92.33415)"
       ]
      },
      {
       "output_type": "stream",
       "stream": "stdout",
       "text": [
        "\n",
        "229:Sudurnes,  , Iceland -> Iceland, Iceland: (65.20194, -18.88940)"
       ]
      },
      {
       "output_type": "stream",
       "stream": "stdout",
       "text": [
        "\n",
        "230:Iowa City, IA, USA -> Iowa City, IA, United States, Iowa City, United States: (41.65782, -91.52653)"
       ]
      },
      {
       "output_type": "stream",
       "stream": "stdout",
       "text": [
        "\n",
        "231:Seattle, WA, USA -> Seattle, WA, United States, Seattle, United States: (47.60356, -122.32944)"
       ]
      },
      {
       "output_type": "stream",
       "stream": "stdout",
       "text": [
        "\n",
        "232:Tallahassee, FL, USA -> Tallahassee, FL, United States, Tallahassee, United States: (30.43977, -84.28065)"
       ]
      },
      {
       "output_type": "stream",
       "stream": "stdout",
       "text": [
        "\n",
        "233:Minsk,  , Belarus -> Minsk, Belarus, Minsk, Belarus: (53.90255, 27.56310)"
       ]
      },
      {
       "output_type": "stream",
       "stream": "stdout",
       "text": [
        "\n",
        "234:Bogota,  , Colombia -> Bogota, D.C., Colombia, Bogota, D.C., Colombia: (4.61495, -74.06938)"
       ]
      },
      {
       "output_type": "stream",
       "stream": "stdout",
       "text": [
        "\n",
        "235:Poznan,  , Poland -> Poznan (Poznan), Poland, Poznan, Poland: (52.40947, 16.93828)"
       ]
      },
      {
       "output_type": "stream",
       "stream": "stdout",
       "text": [
        "\n",
        "236:Lyon,  , France -> Lyon, France, Lyon, France: (45.75939, 4.82898)"
       ]
      },
      {
       "output_type": "stream",
       "stream": "stdout",
       "text": [
        "\n",
        "237:Columbus, OH, USA -> Columbus, OH, United States, Columbus, United States: (39.96199, -83.00275)"
       ]
      },
      {
       "output_type": "stream",
       "stream": "stdout",
       "text": [
        "\n",
        "238:Riyadh,  , Saudi Arabia -> Riyadh, Saudi Arabia, Riyadh, Saudi Arabia: (24.64745, 46.71453)"
       ]
      },
      {
       "output_type": "stream",
       "stream": "stdout",
       "text": [
        "\n",
        "239:San Juan,  , Puerto Rico -> San Juan, PR, United States, San Juan, United States: (18.46564, -66.11719)"
       ]
      },
      {
       "output_type": "stream",
       "stream": "stdout",
       "text": [
        "\n",
        "240:Singapore,  , Singapore -> Singapore, Singapore, Singapore, Singapore: (1.29016, 103.85200)"
       ]
      },
      {
       "output_type": "stream",
       "stream": "stdout",
       "text": [
        "\n",
        "241:San Francisco, CA, USA -> San Francisco, CA, United States, San Francisco, United States: (37.77712, -122.41964)"
       ]
      },
      {
       "output_type": "stream",
       "stream": "stdout",
       "text": [
        "\n",
        "242:San Diego, CA, USA -> San Diego, CA, United States, San Diego, United States: (32.71569, -117.16172)"
       ]
      },
      {
       "output_type": "stream",
       "stream": "stdout",
       "text": [
        "\n",
        "243:Boston, MA, USA -> Boston, MA, United States, Boston, United States: (42.35866, -71.05674)"
       ]
      },
      {
       "output_type": "stream",
       "stream": "stdout",
       "text": [
        "\n",
        "244:Philadelphia, PA, USA -> Philadelphia, PA, United States, Philadelphia, United States: (39.95228, -75.16245)"
       ]
      },
      {
       "output_type": "stream",
       "stream": "stdout",
       "text": [
        "\n",
        "245:Hermosillo,  , Mexico -> Hermosillo, Mexico, Hermosillo, Mexico: (29.07904, -110.94695)"
       ]
      },
      {
       "output_type": "stream",
       "stream": "stdout",
       "text": [
        "\n",
        "246:Chicago, IL, USA -> Chicago, IL, United States, Chicago, United States: (41.88425, -87.63245)"
       ]
      },
      {
       "output_type": "stream",
       "stream": "stdout",
       "text": [
        "\n",
        "247:Bratislava,  , Slovakia -> Bratislava, Slovakia, Bratislava, Slovakia: (48.14925, 17.10701)"
       ]
      },
      {
       "output_type": "stream",
       "stream": "stdout",
       "text": [
        "\n",
        "248:Kuching,  , Malaysia -> Kuching, Malaysia, Kuching, Malaysia: (1.52018, 110.35365)"
       ]
      },
      {
       "output_type": "stream",
       "stream": "stdout",
       "text": [
        "\n",
        "249:Portland, OR, USA -> Portland, OR, United States, Portland, United States: (45.51179, -122.67563)"
       ]
      },
      {
       "output_type": "stream",
       "stream": "stdout",
       "text": [
        "\n",
        "250:Dubai,  , United Arab Emirates -> Dubai, United Arab Emirates, Dubai, United Arab Emirates: (25.26948, 55.30883)"
       ]
      },
      {
       "output_type": "stream",
       "stream": "stdout",
       "text": [
        "\n",
        "251:Karachi,  , Pakistan -> Karachi, Pakistan, Karachi, Pakistan: (24.92671, 67.03437)"
       ]
      },
      {
       "output_type": "stream",
       "stream": "stdout",
       "text": [
        "\n",
        "252:Hamilton, ON, Canada -> Hamilton (Hamilton), ON, Canada, Hamilton, Canada: (43.26197, -79.88796)"
       ]
      },
      {
       "output_type": "stream",
       "stream": "stdout",
       "text": [
        "\n",
        "253:Manila,  , Philippines -> Manila, Philippines, Manila, Philippines: (14.60190, 120.98491)"
       ]
      },
      {
       "output_type": "stream",
       "stream": "stdout",
       "text": [
        "\n",
        "254:Providence, RI, USA -> Providence, RI, United States, Providence, United States: (41.82387, -71.41199)"
       ]
      },
      {
       "output_type": "stream",
       "stream": "stdout",
       "text": [
        "\n",
        "255:Chihuahua,  , Mexico -> Chihuahua, Mexico, Chihuahua, Mexico: (28.63972, -106.07195)"
       ]
      },
      {
       "output_type": "stream",
       "stream": "stdout",
       "text": [
        "\n",
        "256:Surabaya,  , Indonesia -> Surabaya (Surabaya Kota), Indonesia, Surabaya, Indonesia: (-7.25857, 112.74669)"
       ]
      },
      {
       "output_type": "stream",
       "stream": "stdout",
       "text": [
        "\n",
        "257:Kalamazoo, MI, USA -> Kalamazoo, MI, United States, Kalamazoo, United States: (42.29243, -85.60111)"
       ]
      },
      {
       "output_type": "stream",
       "stream": "stdout",
       "text": [
        "\n",
        "258:Recife,  , Brazil -> Recife, Brazil, Recife, Brazil: (-8.05537, -34.87201)"
       ]
      },
      {
       "output_type": "stream",
       "stream": "stdout",
       "text": [
        "\n",
        "259:Beijing,  , China -> Beijing, Beijing, People's Republic of China, Beijing, People's Republic of China: (39.90468, 116.40707)"
       ]
      },
      {
       "output_type": "stream",
       "stream": "stdout",
       "text": [
        "\n",
        "260:Kota Kinabalu,  , Malaysia -> Kota Kinabalu, Malaysia, Kota Kinabalu, Malaysia: (5.98138, 116.07429)"
       ]
      },
      {
       "output_type": "stream",
       "stream": "stdout",
       "text": [
        "\n",
        "261:Reunion,  , Reunion -> 97438 Reunion, Reunion, Sainte-Marie, Reunion: (-20.88330, 55.53330)"
       ]
      },
      {
       "output_type": "stream",
       "stream": "stdout",
       "text": [
        "\n",
        "262:Brussels,  , Belgium -> Brussels, Belgium, Brussels, Belgium: (50.84838, 4.34968)"
       ]
      },
      {
       "output_type": "stream",
       "stream": "stdout",
       "text": [
        "\n",
        "263:Tulsa, OK, USA -> Tulsa, OK, United States, Tulsa, United States: (36.14974, -95.99333)"
       ]
      },
      {
       "output_type": "stream",
       "stream": "stdout",
       "text": [
        "\n",
        "264:WASHINGTON, D.C., DC, USA -> Washington, DC, United States, Washington, United States: (38.89037, -77.03196)"
       ]
      },
      {
       "output_type": "stream",
       "stream": "stdout",
       "text": [
        "\n",
        "265:Brescia,  , Italy -> Brescia BS, Italy, Brescia, Italy: (45.53661, 10.23202)"
       ]
      },
      {
       "output_type": "stream",
       "stream": "stdout",
       "text": [
        "\n",
        "266:Eindhoven,  , Netherlands -> Eindhoven, Netherlands, Eindhoven, Netherlands: (51.43445, 5.48411)"
       ]
      },
      {
       "output_type": "stream",
       "stream": "stdout",
       "text": [
        "\n",
        "267:Szczecin,  , Poland -> Szczecin, Poland, Szczecin, Poland: (53.42521, 14.55549)"
       ]
      },
      {
       "output_type": "stream",
       "stream": "stdout",
       "text": [
        "\n",
        "268:Hangzhou,  , China -> Hangzhou, Zhejiang, People's Republic of China, Hangzhou, People's Republic of China: (30.27301, 120.15462)"
       ]
      },
      {
       "output_type": "stream",
       "stream": "stdout",
       "text": [
        "\n",
        "269:Skudai,  , Malaysia -> 81400 Sekudai, Malaysia, Senai, Malaysia: (1.53101, 103.66166)"
       ]
      },
      {
       "output_type": "stream",
       "stream": "stdout",
       "text": [
        "\n",
        "270:Bretagne,  , France -> Bretagne (Territoire de Belfort), France, Bretagne, France: (47.59715, 6.99878)"
       ]
      },
      {
       "output_type": "stream",
       "stream": "stdout",
       "text": [
        "\n",
        "271:Marrakech,  , Morocco -> Marrakech, Morocco, Marrakech, Morocco: (31.63382, -8.00223)"
       ]
      },
      {
       "output_type": "stream",
       "stream": "stdout",
       "text": [
        "\n",
        "272:Murcia,  , Spain -> Murcia, Spain, Murcia, Spain: (37.98302, -1.13072)"
       ]
      },
      {
       "output_type": "stream",
       "stream": "stdout",
       "text": [
        "\n",
        "273:Groningen,  , Netherlands -> Groningen, Netherlands, Groningen, Netherlands: (53.21715, 6.57360)"
       ]
      },
      {
       "output_type": "stream",
       "stream": "stdout",
       "text": [
        "\n",
        "274:Grenoble,  , France -> Grenoble, France, Grenoble, France: (45.19400, 5.73201)"
       ]
      },
      {
       "output_type": "stream",
       "stream": "stdout",
       "text": [
        "\n",
        "275:Melbourne,  , Australia -> MELBOURNE, VIC, AUSTRALIA, Melbourne, Australia: (-37.81753, 144.96715)"
       ]
      },
      {
       "output_type": "stream",
       "stream": "stdout",
       "text": [
        "\n",
        "276:Syracuse, NY, USA -> Syracuse, NY, United States, Syracuse, United States: (43.04999, -76.14739)"
       ]
      },
      {
       "output_type": "stream",
       "stream": "stdout",
       "text": [
        "\n",
        "277:Charlotte, NC, USA -> Charlotte, NC, United States, Charlotte, United States: (35.22286, -80.83796)"
       ]
      },
      {
       "output_type": "stream",
       "stream": "stdout",
       "text": [
        "\n",
        "278:Aalborg,  , Denmark -> Aalborg, Denmark, Aalborg, Denmark: (57.04934, 9.91632)"
       ]
      },
      {
       "output_type": "stream",
       "stream": "stdout",
       "text": [
        "\n",
        "279:Paris,  , France -> Paris, France, Paris, France: (48.85693, 2.34120)"
       ]
      },
      {
       "output_type": "stream",
       "stream": "stdout",
       "text": [
        "\n",
        "280:Wellington,  , New Zealand -> Wellington (Wellington City), New Zealand, Wellington, New Zealand: (-41.28431, 174.77766)"
       ]
      },
      {
       "output_type": "stream",
       "stream": "stdout",
       "text": [
        "\n",
        "281:Buenos Aires,  , Argentina -> Buenos Aires (Ciudad de Buenos Aires), Argentina, Buenos Aires, Argentina: (-34.60852, -58.37354)"
       ]
      },
      {
       "output_type": "stream",
       "stream": "stdout",
       "text": [
        "\n",
        "282:Seattle, WA, USA -> Seattle, WA, United States, Seattle, United States: (47.60356, -122.32944)"
       ]
      },
      {
       "output_type": "stream",
       "stream": "stdout",
       "text": [
        "\n",
        "283:Mexico City,  , Mexico -> Mexico City, Mexico, Mexico City, Mexico: (19.43001, -99.13001)"
       ]
      },
      {
       "output_type": "stream",
       "stream": "stdout",
       "text": [
        "\n",
        "284:Cambridge, MA, USA -> Cambridge, MA, United States, Cambridge, United States: (42.36679, -71.10601)"
       ]
      },
      {
       "output_type": "stream",
       "stream": "stdout",
       "text": [
        "\n",
        "285:Aarhus,  , Denmark -> Aarhus, Denmark, Aarhus, Denmark: (56.15300, 10.20452)"
       ]
      },
      {
       "output_type": "stream",
       "stream": "stdout",
       "text": [
        "\n",
        "286:Kuantan,  , Malaysia -> Kuantan, Malaysia, Kuantan, Malaysia: (3.81528, 103.32269)"
       ]
      },
      {
       "output_type": "stream",
       "stream": "stdout",
       "text": [
        "\n",
        "287:Shenzhen,  , China -> Shenzhen, Guangdong, People's Republic of China, Shenzhen, People's Republic of China: (22.54273, 114.05797)"
       ]
      },
      {
       "output_type": "stream",
       "stream": "stdout",
       "text": [
        "\n",
        "288:Princeton, NJ, USA -> Princeton, NJ, United States, Princeton, United States: (40.34992, -74.65873)"
       ]
      },
      {
       "output_type": "stream",
       "stream": "stdout",
       "text": [
        "\n",
        "289:Gurgaon,  , India -> Gurgaon, Haryana, India, Gurgaon, India: (28.47017, 77.06069)"
       ]
      },
      {
       "output_type": "stream",
       "stream": "stdout",
       "text": [
        "\n",
        "290:Trondheim,  , Norway -> Trondheim, Norway, Trondheim, Norway: (63.43102, 10.39213)"
       ]
      },
      {
       "output_type": "stream",
       "stream": "stdout",
       "text": [
        "\n",
        "291:Ho Chi Minh City,  , Vietnam -> Ho Chi Minh City, Vietnam, Ho Chi Minh City, Vietnam: (10.75741, 106.67344)"
       ]
      },
      {
       "output_type": "stream",
       "stream": "stdout",
       "text": [
        "\n",
        "292:Baton Rouge, LA, USA -> Baton Rouge, LA, United States, Baton Rouge, United States: (30.44334, -91.18699)"
       ]
      },
      {
       "output_type": "stream",
       "stream": "stdout",
       "text": [
        "\n",
        "293:Denver, CO, USA -> Denver, CO, United States, Denver, United States: (39.74001, -104.99230)"
       ]
      },
      {
       "output_type": "stream",
       "stream": "stdout",
       "text": [
        "\n",
        "294:Skopje,  , Macedonia -> Skopje, Macedonia, Skopje, Macedonia: (41.99600, 21.43130)"
       ]
      },
      {
       "output_type": "stream",
       "stream": "stdout",
       "text": [
        "\n",
        "295:Champaign, IL, USA -> Champaign, IL, United States, Champaign, United States: (40.11420, -88.24350)"
       ]
      },
      {
       "output_type": "stream",
       "stream": "stdout",
       "text": [
        "\n",
        "296:Chisinau,  , Moldova -> Kishinev, Moldova, Kishinev, Moldova: (47.02461, 28.83244)"
       ]
      },
      {
       "output_type": "stream",
       "stream": "stdout",
       "text": [
        "\n",
        "297:Kansas City, MO, USA -> Kansas City, MO, United States, Kansas City, United States: (39.10295, -94.58306)"
       ]
      },
      {
       "output_type": "stream",
       "stream": "stdout",
       "text": [
        "\n",
        "298:New Haven, CT, USA -> New Haven, CT, United States, New Haven, United States: (41.30713, -72.92498)"
       ]
      },
      {
       "output_type": "stream",
       "stream": "stdout",
       "text": [
        "\n",
        "299:Bucharest,  , Romania -> Bucharest, Romania, Bucharest, Romania: (44.43429, 26.10296)"
       ]
      },
      {
       "output_type": "stream",
       "stream": "stdout",
       "text": [
        "\n",
        "300:Utrecht,  , Netherlands -> Utrecht, Netherlands, Utrecht, Netherlands: (52.08896, 5.11542)"
       ]
      },
      {
       "output_type": "stream",
       "stream": "stdout",
       "text": [
        "\n",
        "301:Banja Luka,  , Bosnia and Herzegovina -> Banja Luka, Bosnia And Herzegovina, Banja Luka, Bosnia And Herzegovina: (44.77032, 17.18917)"
       ]
      },
      {
       "output_type": "stream",
       "stream": "stdout",
       "text": [
        "\n",
        "302:Haifa,  , Israel -> Haifa, Israel, Haifa, Israel: (32.80123, 35.00326)"
       ]
      },
      {
       "output_type": "stream",
       "stream": "stdout",
       "text": [
        "\n",
        "303:Muscat,  , Oman -> Muscat, Oman, Muscat, Oman: (23.61519, 58.59119)"
       ]
      },
      {
       "output_type": "stream",
       "stream": "stdout",
       "text": [
        "\n",
        "304:Algiers,  , Algeria -> Algiers, Algeria, Algiers, Algeria: (36.78056, 3.03901)"
       ]
      },
      {
       "output_type": "stream",
       "stream": "stdout",
       "text": [
        "\n",
        "305:Hamala,  , Bahrain -> Al Hamala, Bahrain, Al Hamala, Bahrain: (26.14396, 50.45846)"
       ]
      },
      {
       "output_type": "stream",
       "stream": "stdout",
       "text": [
        "\n",
        "306:Bogota,  , Colombia -> Bogota, D.C., Colombia, Bogota, D.C., Colombia: (4.61495, -74.06938)"
       ]
      },
      {
       "output_type": "stream",
       "stream": "stdout",
       "text": [
        "\n",
        "307:Medellin,  , Colombia -> Medellin, Colombia, Medellin, Colombia: (6.24578, -75.57456)"
       ]
      },
      {
       "output_type": "stream",
       "stream": "stdout",
       "text": [
        "\n",
        "308:Lexington, KY, USA -> Lexington, KY, United States, Lexington, United States: (38.04859, -84.50032)"
       ]
      },
      {
       "output_type": "stream",
       "stream": "stdout",
       "text": [
        "\n",
        "309:Toronto, ON, Canada -> Toronto, ON, Canada, Toronto, Canada: (43.64858, -79.38529)"
       ]
      },
      {
       "output_type": "stream",
       "stream": "stdout",
       "text": [
        "\n",
        "310:Copenhagen,  , Denmark -> Copenhagen, Denmark, Copenhagen, Denmark: (55.67566, 12.56761)"
       ]
      },
      {
       "output_type": "stream",
       "stream": "stdout",
       "text": [
        "\n",
        "311:Sao Paulo,  , Brazil -> Sao Paulo, Brazil, Sao Paulo, Brazil: (-23.56284, -46.65464)"
       ]
      },
      {
       "output_type": "stream",
       "stream": "stdout",
       "text": [
        "\n",
        "312:Tokyo,  , Japan -> Tokyo, Japan, Tokyo, Japan: (35.68321, 139.80894)"
       ]
      },
      {
       "output_type": "stream",
       "stream": "stdout",
       "text": [
        "\n",
        "313:Lisbon,  , Portugal -> Lisbon, Portugal, Lisbon, Portugal: (38.72572, -9.15025)"
       ]
      },
      {
       "output_type": "stream",
       "stream": "stdout",
       "text": [
        "\n",
        "314:Kyoto,  , Japan -> Kyoto-shi, Japan, Kyoto-shi, Japan: (35.09813, 135.71893)"
       ]
      },
      {
       "output_type": "stream",
       "stream": "stdout",
       "text": [
        "\n",
        "315:Sfax,  , Tunisia -> Safaqis, Tunisia, Safaqis, Tunisia: (34.74516, 10.76130)"
       ]
      },
      {
       "output_type": "stream",
       "stream": "stdout",
       "text": [
        "\n",
        "316:San Francisco, CA, USA -> San Francisco, CA, United States, San Francisco, United States: (37.77712, -122.41964)"
       ]
      },
      {
       "output_type": "stream",
       "stream": "stdout",
       "text": [
        "\n",
        "317:Bloomington, IN, USA -> Bloomington, IN, United States, Bloomington, United States: (39.16659, -86.53424)"
       ]
      },
      {
       "output_type": "stream",
       "stream": "stdout",
       "text": [
        "\n",
        "318:La Paz,  , Bolivia -> La Paz, Bolivia, La Paz, Bolivia: (-16.49890, -68.13312)"
       ]
      },
      {
       "output_type": "stream",
       "stream": "stdout",
       "text": [
        "\n",
        "319:Indianapolis, IN, USA -> Indianapolis, IN, United States, Indianapolis, United States: (39.76691, -86.14996)"
       ]
      },
      {
       "output_type": "stream",
       "stream": "stdout",
       "text": [
        "\n",
        "320:Hofn,  , Iceland -> Hofn i Hornafirdi, Iceland, Hofn i Hornafirdi, Iceland: (64.25595, -15.20759)"
       ]
      },
      {
       "output_type": "stream",
       "stream": "stdout",
       "text": [
        "\n",
        "321:Warsaw,  , Poland -> Warsaw, Poland, Warsaw, Poland: (52.22875, 21.00625)"
       ]
      },
      {
       "output_type": "stream",
       "stream": "stdout",
       "text": [
        "\n",
        "322:Ulaanbaatar,  , Mongolia -> Ulan Bator, Mongolia, Ulan Bator, Mongolia: (47.92850, 106.91231)"
       ]
      },
      {
       "output_type": "stream",
       "stream": "stdout",
       "text": [
        "\n",
        "323:New York City, NY, USA -> New York, NY, United States, New York, United States: (40.71455, -74.00712)"
       ]
      },
      {
       "output_type": "stream",
       "stream": "stdout",
       "text": [
        "\n",
        "324:Vancouver, BC, Canada -> Vancouver, BC, Canada, Vancouver, Canada: (49.26041, -123.11335)"
       ]
      },
      {
       "output_type": "stream",
       "stream": "stdout",
       "text": [
        "\n",
        "325:Geneva,  , Switzerland -> Geneva, Switzerland, Geneva, Switzerland: (46.20835, 6.14275)"
       ]
      },
      {
       "output_type": "stream",
       "stream": "stdout",
       "text": [
        "\n",
        "326:Strasbourg,  , France -> Strasbourg, France, Strasbourg, France: (48.58506, 7.73642)"
       ]
      },
      {
       "output_type": "stream",
       "stream": "stdout",
       "text": [
        "\n",
        "327:Las Vegas, NV, USA -> Las Vegas, NV, United States, Las Vegas, United States: (36.17191, -115.13997)"
       ]
      },
      {
       "output_type": "stream",
       "stream": "stdout",
       "text": [
        "\n",
        "328:Orange County, CA, USA -> Orange County, CA, United States, United States: (33.66710, -117.76505)"
       ]
      },
      {
       "output_type": "stream",
       "stream": "stdout",
       "text": [
        "\n",
        "329:Dallas, TX, USA -> Dallas, TX, United States, Dallas, United States: (32.77815, -96.79540)"
       ]
      },
      {
       "output_type": "stream",
       "stream": "stdout",
       "text": [
        "\n",
        "330:Hong Kong,  , China -> Hong Kong, Hong Kong: (22.35810, 114.13844)"
       ]
      },
      {
       "output_type": "stream",
       "stream": "stdout",
       "text": [
        "\n",
        "331:Stuttgart,  , Germany -> Stuttgart, Germany, Stuttgart, Germany: (48.76767, 9.17192)"
       ]
      },
      {
       "output_type": "stream",
       "stream": "stdout",
       "text": [
        "\n",
        "332:Accra,  , Ghana -> Accra, Ghana, Accra, Ghana: (5.55856, -0.20092)"
       ]
      },
      {
       "output_type": "stream",
       "stream": "stdout",
       "text": [
        "\n",
        "333:Shanghai,  , China -> Shanghai, Shanghai, People's Republic of China, Shanghai, People's Republic of China: (31.23037, 121.47489)"
       ]
      },
      {
       "output_type": "stream",
       "stream": "stdout",
       "text": [
        "\n",
        "334:Houston, TX, USA -> Houston, TX, United States, Houston, United States: (29.76045, -95.36978)"
       ]
      },
      {
       "output_type": "stream",
       "stream": "stdout",
       "text": [
        "\n",
        "335:Halifax, NS, Canada -> Halifax, NS, Canada, Halifax, Canada: (44.64546, -63.57657)"
       ]
      },
      {
       "output_type": "stream",
       "stream": "stdout",
       "text": [
        "\n",
        "336:Washington D.C., DC, USA -> Washington, DC, United States, Washington, United States: (38.89037, -77.03196)"
       ]
      },
      {
       "output_type": "stream",
       "stream": "stdout",
       "text": [
        "\n",
        "337:London,  , UK -> London, United Kingdom, London, United Kingdom: (51.50632, -0.12714)"
       ]
      },
      {
       "output_type": "stream",
       "stream": "stdout",
       "text": [
        "\n",
        "338:Puebla,  , Mexico -> Puebla, Mexico, Puebla, Mexico: (19.05102, -98.17510)"
       ]
      },
      {
       "output_type": "stream",
       "stream": "stdout",
       "text": [
        "\n",
        "339:Montevideo,  , Uruguay -> Montevideo, Uruguay, Montevideo, Uruguay: (-34.87416, -56.16302)"
       ]
      },
      {
       "output_type": "stream",
       "stream": "stdout",
       "text": [
        "\n",
        "340:Tlemcen,  , Algeria -> Tlemcen, Algeria, Tlemcen, Algeria: (34.88628, -1.31144)"
       ]
      },
      {
       "output_type": "stream",
       "stream": "stdout",
       "text": [
        "\n",
        "341:Prishtina,  , Kosovo -> Pristina, Serbia, Pristina, Serbia: (42.67182, 21.16243)"
       ]
      },
      {
       "output_type": "stream",
       "stream": "stdout",
       "text": [
        "\n",
        "342:Shah Alam,  , Malaysia -> Shah Alam, Malaysia, Shah Alam, Malaysia: (3.09202, 101.49037)"
       ]
      },
      {
       "output_type": "stream",
       "stream": "stdout",
       "text": [
        "\n",
        "343:Marseille,  , France -> Marseille, France, Marseille, France: (43.29370, 5.37247)"
       ]
      },
      {
       "output_type": "stream",
       "stream": "stdout",
       "text": [
        "\n",
        "344:Hsinchu City,  , Taiwan -> Hsinchu City, Taiwan, Hsinchu City, Taiwan: (24.80626, 120.96890)"
       ]
      },
      {
       "output_type": "stream",
       "stream": "stdout",
       "text": [
        "\n",
        "345:Yerevan,  , Armenia -> Yerevan (Armenia), Armenia, Yerevan, Armenia: (40.20744, 44.55605)"
       ]
      },
      {
       "output_type": "stream",
       "stream": "stdout",
       "text": [
        "\n",
        "346:Gaza,  , Palestinian Territories -> Gaza City, Palestine, Gaza City, Palestine: (31.52410, 34.44570)"
       ]
      },
      {
       "output_type": "stream",
       "stream": "stdout",
       "text": [
        "\n",
        "347:Penang,  , Malaysia -> Penang, Malaysia, Malaysia: (5.35389, 100.36298)"
       ]
      },
      {
       "output_type": "stream",
       "stream": "stdout",
       "text": [
        "\n",
        "348:Saint Petersburg,  , Russia -> Saint Petersburg, Russia, Saint Petersburg, Russia: (59.93318, 30.30603)"
       ]
      },
      {
       "output_type": "stream",
       "stream": "stdout",
       "text": [
        "\n",
        "349:Lille,  , France -> Lille, France, Lille, France: (50.63715, 3.06283)"
       ]
      },
      {
       "output_type": "stream",
       "stream": "stdout",
       "text": [
        "\n",
        "350:Delhi,  , India -> Delhi, Central, Delhi, India, Delhi, India: (28.64498, 77.21643)"
       ]
      },
      {
       "output_type": "stream",
       "stream": "stdout",
       "text": [
        "\n",
        "351:Bangkok,  , Thailand -> Bangkok, Thailand, Bangkok, Thailand: (13.72001, 100.62999)"
       ]
      },
      {
       "output_type": "stream",
       "stream": "stdout",
       "text": [
        "\n",
        "352:Tunis,  , Tunisia -> Tunis, Tunisia, Tunis, Tunisia: (36.81486, 10.15913)"
       ]
      },
      {
       "output_type": "stream",
       "stream": "stdout",
       "text": [
        "\n",
        "353:Beijing,  , China -> Beijing, Beijing, People's Republic of China, Beijing, People's Republic of China: (39.90468, 116.40707)"
       ]
      },
      {
       "output_type": "stream",
       "stream": "stdout",
       "text": [
        "\n",
        "354:Reykjavik,  , Iceland -> Reykjavik, Iceland, Reykjavik, Iceland: (64.14741, -21.93399)"
       ]
      },
      {
       "output_type": "stream",
       "stream": "stdout",
       "text": [
        "\n",
        "355:Northern Kentucky, KY, USA -> Northern, KY 41622, United States, Eastern, United States: (37.50867, -82.81404)"
       ]
      },
      {
       "output_type": "stream",
       "stream": "stdout",
       "text": [
        "\n",
        "356:Seattle, WA, USA -> Seattle, WA, United States, Seattle, United States: (47.60356, -122.32944)"
       ]
      },
      {
       "output_type": "stream",
       "stream": "stdout",
       "text": [
        "\n",
        "357:West Michigan, MI, USA -> West, MI 48503, United States, Flint, United States: (43.02647, -83.70839)"
       ]
      },
      {
       "output_type": "stream",
       "stream": "stdout",
       "text": [
        "\n",
        "358:Cairo,  , Egypt -> Cairo, Egypt, Cairo, Egypt: (30.04998, 31.24860)"
       ]
      },
      {
       "output_type": "stream",
       "stream": "stdout",
       "text": [
        "\n",
        "359:Bangalore,  , India -> Bengaluru, Karnataka, India, Bengaluru, India: (12.96697, 77.58728)"
       ]
      },
      {
       "output_type": "stream",
       "stream": "stdout",
       "text": [
        "\n",
        "360:Jacksonville, FL, USA -> Jacksonville, FL, United States, Jacksonville, United States: (30.33147, -81.65622)"
       ]
      },
      {
       "output_type": "stream",
       "stream": "stdout",
       "text": [
        "\n",
        "361:Rabat,  , Morocco -> Rabat, Morocco, Rabat, Morocco: (34.02089, -6.84164)"
       ]
      },
      {
       "output_type": "stream",
       "stream": "stdout",
       "text": [
        "\n",
        "362:Palo Alto, CA, USA -> Palo Alto, CA, United States, Palo Alto, United States: (37.44466, -122.16079)"
       ]
      },
      {
       "output_type": "stream",
       "stream": "stdout",
       "text": [
        "\n",
        "363:Ann Arbor, MI, USA -> Ann Arbor, MI, United States, Ann Arbor, United States: (42.28210, -83.74847)"
       ]
      },
      {
       "output_type": "stream",
       "stream": "stdout",
       "text": [
        "\n",
        "364:San Luis Obispo, CA, USA -> San Luis Obispo, CA, United States, San Luis Obispo, United States: (35.28552, -120.66252)"
       ]
      },
      {
       "output_type": "stream",
       "stream": "stdout",
       "text": [
        "\n",
        "365:New York City, NY, USA -> New York, NY, United States, New York, United States: (40.71455, -74.00712)"
       ]
      },
      {
       "output_type": "stream",
       "stream": "stdout",
       "text": [
        "\n",
        "366:Krakow,  , Poland -> Cracow, Poland, Cracow, Poland: (50.06046, 19.93240)"
       ]
      },
      {
       "output_type": "stream",
       "stream": "stdout",
       "text": [
        "\n",
        "367:San Jose, CA, USA -> San Jose, CA, United States, San Jose, United States: (37.33858, -121.88557)"
       ]
      },
      {
       "output_type": "stream",
       "stream": "stdout",
       "text": [
        "\n",
        "368:Nice,  , France -> Nice, France, Nice, France: (43.70153, 7.27824)"
       ]
      },
      {
       "output_type": "stream",
       "stream": "stdout",
       "text": [
        "\n",
        "369:Bergen,  , Norway -> Bergen, Norway, Bergen, Norway: (60.39068, 5.33277)"
       ]
      },
      {
       "output_type": "stream",
       "stream": "stdout",
       "text": [
        "\n",
        "370:San Luis Potos\u00ed,  , Mexico -> San Luis Potosi, Mexico, San Luis Potosi, Mexico: (22.15272, -100.97662)"
       ]
      },
      {
       "output_type": "stream",
       "stream": "stdout",
       "text": [
        "\n",
        "371:Storrs, CT, USA -> Storrs, CT, United States, Storrs, United States: (41.81534, -72.25381)"
       ]
      },
      {
       "output_type": "stream",
       "stream": "stdout",
       "text": [
        "\n",
        "372:St. Louis, MO, USA -> St Louis, MO, United States, St Louis, United States: (38.62774, -90.19951)"
       ]
      },
      {
       "output_type": "stream",
       "stream": "stdout",
       "text": [
        "\n",
        "373:Minsk,  , Belarus -> Minsk, Belarus, Minsk, Belarus: (53.90255, 27.56310)"
       ]
      },
      {
       "output_type": "stream",
       "stream": "stdout",
       "text": [
        "\n",
        "374:Salt Lake City, UT, USA -> Salt Lake City, UT, United States, Salt Lake City, United States: (40.76004, -111.88822)"
       ]
      },
      {
       "output_type": "stream",
       "stream": "stdout",
       "text": [
        "\n",
        "375:Enschede,  , Netherlands -> Enschede, Netherlands, Enschede, Netherlands: (52.22354, 6.89534)"
       ]
      },
      {
       "output_type": "stream",
       "stream": "stdout",
       "text": [
        "\n",
        "376:Brasilia,  , Brazil -> Brasilia, Brazil, Brasilia, Brazil: (-15.77839, -47.92863)"
       ]
      },
      {
       "output_type": "stream",
       "stream": "stdout",
       "text": [
        "\n",
        "377:Calgary, AB, Canada -> Calgary, AB, Canada, Calgary, Canada: (51.04522, -114.06298)"
       ]
      },
      {
       "output_type": "stream",
       "stream": "stdout",
       "text": [
        "\n",
        "378:Montreal, QC, Canada -> Montreal, QC, Canada, Montreal, Canada: (45.51243, -73.55466)"
       ]
      },
      {
       "output_type": "stream",
       "stream": "stdout",
       "text": [
        "\n",
        "379:New York City, NY, USA -> New York, NY, United States, New York, United States: (40.71455, -74.00712)"
       ]
      },
      {
       "output_type": "stream",
       "stream": "stdout",
       "text": [
        "\n",
        "380:Anchorage, AK, USA -> Anchorage, AK, United States, Anchorage, United States: (61.21755, -149.85838)"
       ]
      },
      {
       "output_type": "stream",
       "stream": "stdout",
       "text": [
        "\n",
        "381:Mumbai,  , India -> Mumbai, Maharashtra, India, Mumbai, India: (19.07619, 72.87588)"
       ]
      },
      {
       "output_type": "stream",
       "stream": "stdout",
       "text": [
        "\n",
        "382:Valencia,  , Spain -> Valencia, Spain, Valencia, Spain: (39.46899, -0.37686)"
       ]
      },
      {
       "output_type": "stream",
       "stream": "stdout",
       "text": [
        "\n",
        "383:Astana,  , Kazakhstan -> Astana, Kazakhstan, Astana, Kazakhstan: (51.12876, 71.41362)"
       ]
      },
      {
       "output_type": "stream",
       "stream": "stdout",
       "text": [
        "\n",
        "384:Greater Lafayette, IN, USA -> Lafayette, IN, United States, Lafayette, United States: (40.40372, -86.85821)"
       ]
      },
      {
       "output_type": "stream",
       "stream": "stdout",
       "text": [
        "\n",
        "385:Twin Cities, MN, USA -> Minneapolis, MN, United States, Minneapolis, United States: (44.97903, -93.26493)"
       ]
      },
      {
       "output_type": "stream",
       "stream": "stdout",
       "text": [
        "\n",
        "386:Athens,  , Greece -> Athens, Greece, Athens, Greece: (37.97615, 23.73641)"
       ]
      },
      {
       "output_type": "stream",
       "stream": "stdout",
       "text": [
        "\n",
        "387:Norman, OK, USA -> Norman, OK, United States, Norman, United States: (35.22076, -97.44660)"
       ]
      },
      {
       "output_type": "stream",
       "stream": "stdout",
       "text": [
        "\n",
        "388:Jackson, MS, USA -> Jackson, MS, United States, Jackson, United States: (32.29869, -90.18049)"
       ]
      },
      {
       "output_type": "stream",
       "stream": "stdout",
       "text": [
        "\n",
        "389:Amman,  , Jordan -> Amman, Jordan, Amman, Jordan: (31.95180, 35.94042)"
       ]
      },
      {
       "output_type": "stream",
       "stream": "stdout",
       "text": [
        "\n",
        "390:Columbus, OH, USA -> Columbus, OH, United States, Columbus, United States: (39.96199, -83.00275)"
       ]
      },
      {
       "output_type": "stream",
       "stream": "stdout",
       "text": [
        "\n",
        "391:Miami of Ohio, OH, USA -> Miami University, Miami University, OH 45056, United States, Miami University, United States: (39.51012, -84.73443)"
       ]
      },
      {
       "output_type": "stream",
       "stream": "stdout",
       "text": [
        "\n",
        "392:Guadalajara,  , Mexico -> Guadalajara, Mexico, Guadalajara, Mexico: (20.68760, -103.35111)"
       ]
      },
      {
       "output_type": "stream",
       "stream": "stdout",
       "text": [
        "\n",
        "393:Detroit, MI, USA -> Detroit, MI, United States, Detroit, United States: (42.33168, -83.04792)"
       ]
      },
      {
       "output_type": "stream",
       "stream": "stdout",
       "text": [
        "\n",
        "394:Daejeon,  , South Korea -> Daejon, South Korea, South Korea: (36.33656, 127.40590)"
       ]
      },
      {
       "output_type": "stream",
       "stream": "stdout",
       "text": [
        "\n",
        "395:Moscow,  , Russia -> Moscow, Russia, Moscow, Russia: (55.75697, 37.61502)"
       ]
      },
      {
       "output_type": "stream",
       "stream": "stdout",
       "text": [
        "\n",
        "396:Cluj-Napoca,  , Romania -> Cluj-Napoca, Romania, Cluj-Napoca, Romania: (46.76860, 23.58506)"
       ]
      },
      {
       "output_type": "stream",
       "stream": "stdout",
       "text": [
        "\n",
        "397:Redmond, WA, USA -> Redmond, WA, United States, Redmond, United States: (47.67857, -122.13099)"
       ]
      },
      {
       "output_type": "stream",
       "stream": "stdout",
       "text": [
        "\n",
        "398:Lahore,  , Pakistan -> Lahore, Pakistan, Lahore, Pakistan: (31.53945, 74.30348)"
       ]
      },
      {
       "output_type": "stream",
       "stream": "stdout",
       "text": [
        "\n",
        "399:Evansville, IN, USA -> Evansville, IN, United States, Evansville, United States: (37.97708, -87.56405)"
       ]
      },
      {
       "output_type": "stream",
       "stream": "stdout",
       "text": [
        "\n",
        "400:Galicia,  , Spain -> Galicia, Spain, Spain: (42.87681, -8.54431)"
       ]
      },
      {
       "output_type": "stream",
       "stream": "stdout",
       "text": [
        "\n",
        "401:Akureyri,  , Iceland -> Akureyri, Iceland, Akureyri, Iceland: (65.68386, -18.11046)"
       ]
      },
      {
       "output_type": "stream",
       "stream": "stdout",
       "text": [
        "\n",
        "402:Nairobi,  , Kenya -> Nairobi, Kenya, Nairobi, Kenya: (-1.28352, 36.82379)"
       ]
      },
      {
       "output_type": "stream",
       "stream": "stdout",
       "text": [
        "\n",
        "403:San Francisco, CA, USA -> San Francisco, CA, United States, San Francisco, United States: (37.77712, -122.41964)"
       ]
      },
      {
       "output_type": "stream",
       "stream": "stdout",
       "text": [
        "\n",
        "404:Christchurch,  , New Zealand -> Christchurch (Christchurch City), New Zealand, Christchurch, New Zealand: (-43.53101, 172.63779)"
       ]
      },
      {
       "output_type": "stream",
       "stream": "stdout",
       "text": [
        "\n",
        "405:Los Angeles, CA, USA -> Los Angeles, CA, United States, Los Angeles, United States: (34.05349, -118.24532)"
       ]
      },
      {
       "output_type": "stream",
       "stream": "stdout",
       "text": [
        "\n",
        "406:Boston, MA, USA -> Boston, MA, United States, Boston, United States: (42.35866, -71.05674)"
       ]
      },
      {
       "output_type": "stream",
       "stream": "stdout",
       "text": [
        "\n",
        "407:Bogota,  , Colombia -> Bogota, D.C., Colombia, Bogota, D.C., Colombia: (4.61495, -74.06938)"
       ]
      },
      {
       "output_type": "stream",
       "stream": "stdout",
       "text": [
        "\n",
        "408:Lansing, MI, USA -> Lansing, MI, United States, Lansing, United States: (42.73194, -84.55225)"
       ]
      },
      {
       "output_type": "stream",
       "stream": "stdout",
       "text": [
        "\n",
        "409:Constantine,  , Algeria -> Constantine, Algeria, Constantine, Algeria: (36.35736, 6.60804)"
       ]
      },
      {
       "output_type": "stream",
       "stream": "stdout",
       "text": [
        "\n",
        "410:Olympia, WA, USA -> Olympia, WA, United States, Olympia, United States: (47.03923, -122.89136)"
       ]
      },
      {
       "output_type": "stream",
       "stream": "stdout",
       "text": [
        "\n",
        "411:Tech Valley, NY, USA -> Lapeer, NY, United States, Lapeer, United States: (42.44180, -76.09757)"
       ]
      },
      {
       "output_type": "stream",
       "stream": "stdout",
       "text": [
        "\n",
        "412:Toulouse,  , France -> Toulouse, France, Toulouse, France: (43.60573, 1.44869)"
       ]
      },
      {
       "output_type": "stream",
       "stream": "stdout",
       "text": [
        "\n",
        "413:Lausanne,  , Switzerland -> Lausanne, Switzerland, Lausanne, Switzerland: (46.51960, 6.63222)"
       ]
      },
      {
       "output_type": "stream",
       "stream": "stdout",
       "text": [
        "\n",
        "414:Des Moines, IA, USA -> Des Moines, IA, United States, Des Moines, United States: (41.58976, -93.61565)"
       ]
      },
      {
       "output_type": "stream",
       "stream": "stdout",
       "text": [
        "\n",
        "415:Okanagan, BC, Canada -> Okanagan, BC, Canada, Okanagan, Canada: (50.36670, -119.35000)"
       ]
      },
      {
       "output_type": "stream",
       "stream": "stdout",
       "text": [
        "\n",
        "416:San Francisco, CA, USA -> San Francisco, CA, United States, San Francisco, United States: (37.77712, -122.41964)"
       ]
      },
      {
       "output_type": "stream",
       "stream": "stdout",
       "text": [
        "\n",
        "417:Dublin,  , Ireland -> DUBLIN, IRELAND, Dublin, Ireland: (53.34807, -6.24827)"
       ]
      },
      {
       "output_type": "stream",
       "stream": "stdout",
       "text": [
        "\n",
        "418:Singapore,  , Singapore -> Singapore, Singapore, Singapore, Singapore: (1.29016, 103.85200)"
       ]
      },
      {
       "output_type": "stream",
       "stream": "stdout",
       "text": [
        "\n",
        "419:Bretagne,  , France -> Bretagne (Territoire de Belfort), France, Bretagne, France: (47.59715, 6.99878)"
       ]
      },
      {
       "output_type": "stream",
       "stream": "stdout",
       "text": [
        "\n",
        "420:Cordoba,  , Argentina -> Cordoba, Argentina, Cordoba, Argentina: (-31.40716, -64.18567)"
       ]
      },
      {
       "output_type": "stream",
       "stream": "stdout",
       "text": [
        "\n",
        "421:Orlando, FL, USA -> Orlando, FL, United States, Orlando, United States: (28.53823, -81.37739)"
       ]
      },
      {
       "output_type": "stream",
       "stream": "stdout",
       "text": [
        "\n",
        "422:Trento,  , Italy -> Trento TN, Italy, Trento, Italy: (46.07000, 11.11886)"
       ]
      },
      {
       "output_type": "stream",
       "stream": "stdout",
       "text": [
        "\n",
        "423:Las Palmas,  , Spain -> Las Palmas of Gran Canaria, Spain, Las Palmas of Gran Canaria, Spain: (28.13025, -15.43972)"
       ]
      },
      {
       "output_type": "stream",
       "stream": "stdout",
       "text": [
        "\n",
        "424:Copenhagen,  , Denmark -> Copenhagen, Denmark, Copenhagen, Denmark: (55.67566, 12.56761)"
       ]
      },
      {
       "output_type": "stream",
       "stream": "stdout",
       "text": [
        "\n",
        "425:Oslo,  , Norway -> Oslo, Norway, Oslo, Norway: (59.91231, 10.74998)"
       ]
      },
      {
       "output_type": "stream",
       "stream": "stdout",
       "text": [
        "\n",
        "426:Nabeul,  , Tunisia -> Nabul, Tunisia, Nabul, Tunisia: (36.43675, 10.69395)"
       ]
      },
      {
       "output_type": "stream",
       "stream": "stdout",
       "text": [
        "\n",
        "427:Martinique,  , Martinique -> Martinique, French-Martinique, French-Martinique: (14.60621, -61.06264)"
       ]
      },
      {
       "output_type": "stream",
       "stream": "stdout",
       "text": [
        "\n",
        "428:Rouen,  , France -> Rouen, France, Rouen, France: (49.44014, 1.08941)"
       ]
      },
      {
       "output_type": "stream",
       "stream": "stdout",
       "text": [
        "\n",
        "429:London,  , UK -> London, United Kingdom, London, United Kingdom: (51.50632, -0.12714)"
       ]
      },
      {
       "output_type": "stream",
       "stream": "stdout",
       "text": [
        "\n",
        "430:Charlottesville, VA, USA -> Charlottesville, VA, United States, Charlottesville, United States: (38.03213, -78.47753)"
       ]
      },
      {
       "output_type": "stream",
       "stream": "stdout",
       "text": [
        "\n",
        "431:Aguascalientes,  , Mexico -> Aguascalientes, Mexico, Aguascalientes, Mexico: (21.88231, -102.29418)"
       ]
      },
      {
       "output_type": "stream",
       "stream": "stdout",
       "text": [
        "\n",
        "432:Halifax, NS, Canada -> Halifax, NS, Canada, Halifax, Canada: (44.64546, -63.57657)"
       ]
      },
      {
       "output_type": "stream",
       "stream": "stdout",
       "text": [
        "\n",
        "433:Pittsburgh, PA, USA -> Pittsburgh, PA, United States, Pittsburgh, United States: (40.43833, -79.99746)"
       ]
      },
      {
       "output_type": "stream",
       "stream": "stdout",
       "text": [
        "\n",
        "434:Nablus,  , Palestinian Territories -> Nablus, Palestine, Nablus, Palestine: (32.22411, 35.27151)"
       ]
      },
      {
       "output_type": "stream",
       "stream": "stdout",
       "text": [
        "\n",
        "435:Adelaide,  , Australia -> ADELAIDE, SA, AUSTRALIA, Adelaide, Australia: (-34.92610, 138.59988)"
       ]
      },
      {
       "output_type": "stream",
       "stream": "stdout",
       "text": [
        "\n",
        "436:Taipei,  , Taiwan -> Taipei, Taiwan, Taipei, Taiwan: (25.03933, 121.51294)"
       ]
      },
      {
       "output_type": "stream",
       "stream": "stdout",
       "text": [
        "\n",
        "437:Paris,  , France -> Paris, France, Paris, France: (48.85693, 2.34120)"
       ]
      },
      {
       "output_type": "stream",
       "stream": "stdout",
       "text": [
        "\n",
        "438:Austin, TX, USA -> Austin, TX, United States, Austin, United States: (30.26760, -97.74298)"
       ]
      },
      {
       "output_type": "stream",
       "stream": "stdout",
       "text": [
        "\n",
        "439:Budapest,  , Hungary -> Budapest, Hungary, Budapest, Hungary: (47.50622, 19.06482)"
       ]
      },
      {
       "output_type": "stream",
       "stream": "stdout",
       "text": [
        "\n",
        "440:Stamford, CT, USA -> Stamford, CT, United States, Stamford, United States: (41.05182, -73.54223)"
       ]
      },
      {
       "output_type": "stream",
       "stream": "stdout",
       "text": [
        "\n",
        "441:Orange County, CA, USA -> Orange County, CA, United States, United States: (33.66710, -117.76505)"
       ]
      },
      {
       "output_type": "stream",
       "stream": "stdout",
       "text": [
        "\n",
        "442:Kaunas,  , Lithuania -> Kaunas, Lithuania, Kaunas, Lithuania: (54.89449, 23.90994)"
       ]
      },
      {
       "output_type": "stream",
       "stream": "stdout",
       "text": [
        "\n",
        "443:Dakar,  , Senegal -> Dakar, Senegal, Dakar, Senegal: (14.69527, -17.45048)"
       ]
      },
      {
       "output_type": "stream",
       "stream": "stdout",
       "text": [
        "\n",
        "444:Shenzhen,  , China -> Shenzhen, Guangdong, People's Republic of China, Shenzhen, People's Republic of China: (22.54273, 114.05797)"
       ]
      },
      {
       "output_type": "stream",
       "stream": "stdout",
       "text": [
        "\n",
        "445:Delhi,  , India -> Delhi, Central, Delhi, India, Delhi, India: (28.64498, 77.21643)"
       ]
      },
      {
       "output_type": "stream",
       "stream": "stdout",
       "text": [
        "\n",
        "446:Stavanger,  , Norway -> Stavanger, Norway, Stavanger, Norway: (58.97103, 5.73066)"
       ]
      },
      {
       "output_type": "stream",
       "stream": "stdout",
       "text": [
        "\n",
        "447:Notre Dame, IN, USA -> University of Notre Dame, University of Notre Dame, IN 46556, United States, University of Notre Dame, United States: (41.70075, -86.23919)"
       ]
      },
      {
       "output_type": "stream",
       "stream": "stdout",
       "text": [
        "\n",
        "448:Kansas City, MO, USA -> Kansas City, MO, United States, Kansas City, United States: (39.10295, -94.58306)"
       ]
      },
      {
       "output_type": "stream",
       "stream": "stdout",
       "text": [
        "\n",
        "449:Mountain View, CA, USA -> Mountain View, CA, United States, Mountain View, United States: (37.38967, -122.08160)"
       ]
      },
      {
       "output_type": "stream",
       "stream": "stdout",
       "text": [
        "\n",
        "450:Tampa, FL, USA -> Tampa, FL, United States, Tampa, United States: (27.94653, -82.45927)"
       ]
      },
      {
       "output_type": "stream",
       "stream": "stdout",
       "text": [
        "\n",
        "451:Raleigh-Durham, NC, USA -> Durham International Airport, Morrisville, NC 27560, United States, Morrisville, United States: (35.87380, -78.79120)"
       ]
      },
      {
       "output_type": "stream",
       "stream": "stdout",
       "text": [
        "\n",
        "452:Lyon,  , France -> Lyon, France, Lyon, France: (45.75939, 4.82898)"
       ]
      },
      {
       "output_type": "stream",
       "stream": "stdout",
       "text": [
        "\n",
        "453:Algiers,  , Algeria -> Algiers, Algeria, Algiers, Algeria: (36.78056, 3.03901)"
       ]
      },
      {
       "output_type": "stream",
       "stream": "stdout",
       "text": [
        "\n",
        "454:Spokane, WA, USA -> Spokane, WA, United States, Spokane, United States: (47.65726, -117.41228)"
       ]
      },
      {
       "output_type": "stream",
       "stream": "stdout",
       "text": [
        "\n",
        "455:Porto Alegre,  , Brazil -> Porto Alegre, Brazil, Porto Alegre, Brazil: (-30.03415, -51.22801)"
       ]
      },
      {
       "output_type": "stream",
       "stream": "stdout",
       "text": [
        "\n",
        "456:Sfax,  , Tunisia -> Safaqis, Tunisia, Safaqis, Tunisia: (34.74516, 10.76130)"
       ]
      },
      {
       "output_type": "stream",
       "stream": "stdout",
       "text": [
        "\n",
        "457:Morelia,  , Mexico -> Morelia, Mexico, Morelia, Mexico: (19.70292, -101.19365)"
       ]
      },
      {
       "output_type": "stream",
       "stream": "stdout",
       "text": [
        "\n",
        "458:Prague,  , Czech Republic -> Prague, Czech Republic, Prague, Czech Republic: (50.07908, 14.43322)"
       ]
      },
      {
       "output_type": "stream",
       "stream": "stdout",
       "text": [
        "\n",
        "459:Tirana,  , Albania -> Tirana, Albania, Tirana, Albania: (41.32232, 19.82515)"
       ]
      },
      {
       "output_type": "stream",
       "stream": "stdout",
       "text": [
        "\n",
        "460:Athens, OH, USA -> Athens, OH, United States, Athens, United States: (39.32850, -82.10444)"
       ]
      },
      {
       "output_type": "stream",
       "stream": "stdout",
       "text": [
        "\n",
        "461:Atlanta, GA, USA -> Atlanta, GA, United States, Atlanta, United States: (33.74831, -84.39111)"
       ]
      },
      {
       "output_type": "stream",
       "stream": "stdout",
       "text": [
        "\n",
        "462:Minsk,  , Belarus -> Minsk, Belarus, Minsk, Belarus: (53.90255, 27.56310)"
       ]
      },
      {
       "output_type": "stream",
       "stream": "stdout",
       "text": [
        "\n",
        "463:Santiago,  , Chile -> Santiago, Chile, Santiago, Chile: (-33.43721, -70.65002)"
       ]
      },
      {
       "output_type": "stream",
       "stream": "stdout",
       "text": [
        "\n",
        "464:Newcastle,  , UK -> Newcastle upon Tyne, United Kingdom, Newcastle upon Tyne, United Kingdom: (54.97794, -1.61162)"
       ]
      },
      {
       "output_type": "stream",
       "stream": "stdout",
       "text": [
        "\n",
        "465:Philadelphia, PA, USA -> Philadelphia, PA, United States, Philadelphia, United States: (39.95228, -75.16245)"
       ]
      },
      {
       "output_type": "stream",
       "stream": "stdout",
       "text": [
        "\n",
        "466:Hamilton, ON, Canada -> Hamilton (Hamilton), ON, Canada, Hamilton, Canada: (43.26197, -79.88796)"
       ]
      },
      {
       "output_type": "stream",
       "stream": "stdout",
       "text": [
        "\n",
        "467:Honolulu, HI, USA -> Honolulu, HI, United States, Honolulu, United States: (21.30485, -157.85776)"
       ]
      },
      {
       "output_type": "stream",
       "stream": "stdout",
       "text": [
        "\n",
        "468:Manila,  , Philippines -> Manila, Philippines, Manila, Philippines: (14.60190, 120.98491)"
       ]
      },
      {
       "output_type": "stream",
       "stream": "stdout",
       "text": [
        "\n",
        "469:Aarhus,  , Denmark -> Aarhus, Denmark, Aarhus, Denmark: (56.15300, 10.20452)"
       ]
      },
      {
       "output_type": "stream",
       "stream": "stdout",
       "text": [
        "\n",
        "470:Istanbul,  , Turkey -> Istanbul, Turkey, Istanbul, Turkey: (41.04001, 28.98999)"
       ]
      },
      {
       "output_type": "stream",
       "stream": "stdout",
       "text": [
        "\n",
        "471:Trojmiasto,  , Poland -> Poland, Poland: (51.91892, 19.13430)"
       ]
      },
      {
       "output_type": "stream",
       "stream": "stdout",
       "text": [
        "\n",
        "472:Akranes,  , Iceland -> Skipaskagi, Iceland, Skipaskagi, Iceland: (64.32235, -22.07443)"
       ]
      },
      {
       "output_type": "stream",
       "stream": "stdout",
       "text": [
        "\n",
        "473:Kampala,  , Uganda -> Kampala (Kampala), Uganda, Kampala, Uganda: (0.32541, 32.58699)"
       ]
      },
      {
       "output_type": "stream",
       "stream": "stdout",
       "text": [
        "\n",
        "474:Sydney,  , Australia -> SYDNEY, NSW, AUSTRALIA, Sydney, Australia: (-33.86960, 151.20695)"
       ]
      },
      {
       "output_type": "stream",
       "stream": "stdout",
       "text": [
        "\n",
        "475:Madison, WI, USA -> Madison, WI, United States, Madison, United States: (43.07295, -89.38669)"
       ]
      },
      {
       "output_type": "stream",
       "stream": "stdout",
       "text": [
        "\n",
        "476:Portland, OR, USA -> Portland, OR, United States, Portland, United States: (45.51179, -122.67563)"
       ]
      },
      {
       "output_type": "stream",
       "stream": "stdout",
       "text": [
        "\n",
        "477:Ottawa, ON, Canada -> Ottawa, ON, Canada, Ottawa, Canada: (45.42175, -75.69116)"
       ]
      },
      {
       "output_type": "stream",
       "stream": "stdout",
       "text": [
        "\n",
        "478:Seattle, WA, USA -> Seattle, WA, United States, Seattle, United States: (47.60356, -122.32944)"
       ]
      },
      {
       "output_type": "stream",
       "stream": "stdout",
       "text": [
        "\n",
        "479:Boston, MA, USA -> Boston, MA, United States, Boston, United States: (42.35866, -71.05674)"
       ]
      },
      {
       "output_type": "stream",
       "stream": "stdout",
       "text": [
        "\n",
        "480:Rochester, NY, USA -> Rochester, NY, United States, Rochester, United States: (43.15580, -77.61632)"
       ]
      },
      {
       "output_type": "stream",
       "stream": "stdout",
       "text": [
        "\n",
        "481:New York City, NY, USA -> New York, NY, United States, New York, United States: (40.71455, -74.00712)"
       ]
      },
      {
       "output_type": "stream",
       "stream": "stdout",
       "text": [
        "\n",
        "482:Kalamazoo, MI, USA -> Kalamazoo, MI, United States, Kalamazoo, United States: (42.29243, -85.60111)"
       ]
      },
      {
       "output_type": "stream",
       "stream": "stdout",
       "text": [
        "\n",
        "483:Berlin,  , Germany -> Berlin, Germany, Berlin, Germany: (52.51607, 13.37698)"
       ]
      },
      {
       "output_type": "stream",
       "stream": "stdout",
       "text": [
        "\n",
        "484:Tijuana,  , Mexico -> Tijuana, Mexico, Tijuana, Mexico: (32.53130, -117.03811)"
       ]
      },
      {
       "output_type": "stream",
       "stream": "stdout",
       "text": [
        "\n",
        "485:Madrid,  , Spain -> Madrid, Spain, Madrid, Spain: (40.42030, -3.70577)"
       ]
      },
      {
       "output_type": "stream",
       "stream": "stdout",
       "text": [
        "\n",
        "486:Bloomington, IN, USA -> Bloomington, IN, United States, Bloomington, United States: (39.16659, -86.53424)"
       ]
      },
      {
       "output_type": "stream",
       "stream": "stdout",
       "text": [
        "\n",
        "487:Charlotte, NC, USA -> Charlotte, NC, United States, Charlotte, United States: (35.22286, -80.83796)"
       ]
      },
      {
       "output_type": "stream",
       "stream": "stdout",
       "text": [
        "\n",
        "488:Ulaanbaatar,  , Mongolia -> Ulan Bator, Mongolia, Ulan Bator, Mongolia: (47.92850, 106.91231)"
       ]
      },
      {
       "output_type": "stream",
       "stream": "stdout",
       "text": [
        "\n",
        "489:Dubai,  , United Arab Emirates -> Dubai, United Arab Emirates, Dubai, United Arab Emirates: (25.26948, 55.30883)"
       ]
      },
      {
       "output_type": "stream",
       "stream": "stdout",
       "text": [
        "\n",
        "490:Tokyo,  , Japan -> Tokyo, Japan, Tokyo, Japan: (35.68321, 139.80894)"
       ]
      },
      {
       "output_type": "stream",
       "stream": "stdout",
       "text": [
        "\n",
        "491:Luzern,  , Switzerland -> Lucerne, Switzerland, Lucerne, Switzerland: (47.04954, 8.30437)"
       ]
      },
      {
       "output_type": "stream",
       "stream": "stdout",
       "text": [
        "\n",
        "492:Mexico City,  , Mexico -> Mexico City, Mexico, Mexico City, Mexico: (19.43001, -99.13001)"
       ]
      },
      {
       "output_type": "stream",
       "stream": "stdout",
       "text": [
        "\n",
        "493:Jura,  , Switzerland -> Canton of Jura, Switzerland, Switzerland: (47.32742, 7.19955)"
       ]
      },
      {
       "output_type": "stream",
       "stream": "stdout",
       "text": [
        "\n",
        "494:Seoul,  , South Korea -> Seoul, South Korea, Seoul, South Korea: (37.51502, 127.01647)"
       ]
      },
      {
       "output_type": "stream",
       "stream": "stdout",
       "text": [
        "\n",
        "495:Cebu,  , Philippines -> Cebu, Philippines, Cebu, Philippines: (10.31009, 123.89464)"
       ]
      },
      {
       "output_type": "stream",
       "stream": "stdout",
       "text": [
        "\n",
        "496:Naples,  , Italy -> Naples NA, Italy, Naples, Italy: (40.83999, 14.25176)"
       ]
      },
      {
       "output_type": "stream",
       "stream": "stdout",
       "text": [
        "\n",
        "497:Copenhagen,  , Denmark -> Copenhagen, Denmark, Copenhagen, Denmark: (55.67566, 12.56761)"
       ]
      },
      {
       "output_type": "stream",
       "stream": "stdout",
       "text": [
        "\n",
        "498:Fjardabyggd,  , Iceland -> Fjar\u00c3\u00b0abygg\u00c3\u00b0, Iceland, Fjar\u00c3\u00b0abygg\u00c3\u00b0, Iceland: (65.03264, -14.21526)"
       ]
      },
      {
       "output_type": "stream",
       "stream": "stdout",
       "text": [
        "\n",
        "499:Burgos,  , Spain -> Burgos, Spain, Burgos, Spain: (42.34126, -3.69992)"
       ]
      },
      {
       "output_type": "stream",
       "stream": "stdout",
       "text": [
        "\n",
        "500:Montpellier,  , France -> Montpellier, France, Montpellier, France: (43.61085, 3.87609)"
       ]
      },
      {
       "output_type": "stream",
       "stream": "stdout",
       "text": [
        "\n",
        "501:Bratislava,  , Slovakia -> Bratislava, Slovakia, Bratislava, Slovakia: (48.14925, 17.10701)"
       ]
      },
      {
       "output_type": "stream",
       "stream": "stdout",
       "text": [
        "\n",
        "502:Lille,  , France -> Lille, France, Lille, France: (50.63715, 3.06283)"
       ]
      },
      {
       "output_type": "stream",
       "stream": "stdout",
       "text": [
        "\n",
        "503:Boise, ID, USA -> Boise, ID, United States, Boise, United States: (43.60698, -116.19341)"
       ]
      },
      {
       "output_type": "stream",
       "stream": "stdout",
       "text": [
        "\n",
        "504:Monterrey,  , Mexico -> Monterrey, Mexico, Monterrey, Mexico: (25.67097, -100.30998)"
       ]
      },
      {
       "output_type": "stream",
       "stream": "stdout",
       "text": [
        "\n",
        "505:Sofia,  , Bulgaria -> Sofia, Bulgaria, Sofia, Bulgaria: (42.69719, 23.32437)"
       ]
      },
      {
       "output_type": "stream",
       "stream": "stdout",
       "text": [
        "\n",
        "506:Seattle, WA, USA -> Seattle, WA, United States, Seattle, United States: (47.60356, -122.32944)"
       ]
      },
      {
       "output_type": "stream",
       "stream": "stdout",
       "text": [
        "\n",
        "507:Hong Kong,  , China -> Hong Kong, Hong Kong: (22.35810, 114.13844)"
       ]
      },
      {
       "output_type": "stream",
       "stream": "stdout",
       "text": [
        "\n",
        "508:Jerusalem,  , Israel -> Jerusalem, Israel, Jerusalem, Israel: (31.78232, 35.20852)"
       ]
      },
      {
       "output_type": "stream",
       "stream": "stdout",
       "text": [
        "\n",
        "509:Abu Dhabi,  , UAE -> Abu Dhabi, United Arab Emirates, Abu Dhabi, United Arab Emirates: (24.44393, 54.41905)"
       ]
      },
      {
       "output_type": "stream",
       "stream": "stdout",
       "text": [
        "\n",
        "510:Paris,  , France -> Paris, France, Paris, France: (48.85693, 2.34120)"
       ]
      },
      {
       "output_type": "stream",
       "stream": "stdout",
       "text": [
        "\n",
        "511:Wroclaw,  , Poland -> Wroclaw, Poland, Wroclaw, Poland: (51.10825, 17.02691)"
       ]
      },
      {
       "output_type": "stream",
       "stream": "stdout",
       "text": [
        "\n",
        "512:Murcia,  , Spain -> Murcia, Spain, Murcia, Spain: (37.98302, -1.13072)"
       ]
      },
      {
       "output_type": "stream",
       "stream": "stdout",
       "text": [
        "\n",
        "513:Catania,  , Italy -> Catania CT, Italy, Catania, Italy: (37.51146, 15.06744)"
       ]
      },
      {
       "output_type": "stream",
       "stream": "stdout",
       "text": [
        "\n",
        "514:Prishtina,  , Kosovo -> Pristina, Serbia, Pristina, Serbia: (42.67182, 21.16243)"
       ]
      },
      {
       "output_type": "stream",
       "stream": "stdout",
       "text": [
        "\n",
        "515:Glasgow,  , UK -> Glasgow, United Kingdom, Glasgow, United Kingdom: (55.85781, -4.24253)"
       ]
      },
      {
       "output_type": "stream",
       "stream": "stdout",
       "text": [
        "\n",
        "516:Chicago, IL, USA -> Chicago, IL, United States, Chicago, United States: (41.88425, -87.63245)"
       ]
      },
      {
       "output_type": "stream",
       "stream": "stdout",
       "text": [
        "\n",
        "517:Eindhoven,  , Netherlands -> Eindhoven, Netherlands, Eindhoven, Netherlands: (51.43445, 5.48411)"
       ]
      },
      {
       "output_type": "stream",
       "stream": "stdout",
       "text": [
        "\n",
        "518:Frankfurt,  , Germany -> Frankfurt am Main, Germany, Frankfurt am Main, Germany: (50.11208, 8.68341)"
       ]
      },
      {
       "output_type": "stream",
       "stream": "stdout",
       "text": [
        "\n",
        "519:Chisinau,  , Moldova -> Kishinev, Moldova, Kishinev, Moldova: (47.02461, 28.83244)"
       ]
      },
      {
       "output_type": "stream",
       "stream": "stdout",
       "text": [
        "\n",
        "520:Philadelphia, PA, USA -> Philadelphia, PA, United States, Philadelphia, United States: (39.95228, -75.16245)"
       ]
      },
      {
       "output_type": "stream",
       "stream": "stdout",
       "text": [
        "\n",
        "521:Alexandria, LA, USA -> Alexandria, LA, United States, Alexandria, United States: (31.31266, -92.44568)"
       ]
      },
      {
       "output_type": "stream",
       "stream": "stdout",
       "text": [
        "\n",
        "522:Guangzhou,  , China -> Guangzhou, Guangdong, People's Republic of China, Guangzhou, People's Republic of China: (23.12886, 113.26545)"
       ]
      },
      {
       "output_type": "stream",
       "stream": "stdout",
       "text": [
        "\n",
        "523:Lima,  , Peru -> Lima, Peru, Lima, Peru: (-12.05614, -77.02680)"
       ]
      },
      {
       "output_type": "stream",
       "stream": "stdout",
       "text": [
        "\n",
        "524:Santa Barbara, CA, USA -> Santa Barbara, CA, United States, Santa Barbara, United States: (34.41938, -119.69905)"
       ]
      },
      {
       "output_type": "stream",
       "stream": "stdout",
       "text": [
        "\n",
        "525:Northern Virginia, VA, USA -> Northern Virginia, Virginia, United States, United States: (38.91255, -77.49706)"
       ]
      },
      {
       "output_type": "stream",
       "stream": "stdout",
       "text": [
        "\n",
        "526:Torino,  , Italy -> Turin TO, Italy, Turin, Italy: (45.06968, 7.70493)"
       ]
      },
      {
       "output_type": "stream",
       "stream": "stdout",
       "text": [
        "\n",
        "527:Medellin,  , Colombia -> Medellin, Colombia, Medellin, Colombia: (6.24578, -75.57456)"
       ]
      },
      {
       "output_type": "stream",
       "stream": "stdout",
       "text": [
        "\n",
        "528:Bath,  , UK -> Bath, United Kingdom, Bath, United Kingdom: (51.38503, -2.36132)"
       ]
      },
      {
       "output_type": "stream",
       "stream": "stdout",
       "text": [
        "\n",
        "529:Zagreb,  , Croatia -> Zagreb, Croatia, Zagreb, Croatia: (45.80721, 15.96757)"
       ]
      },
      {
       "output_type": "stream",
       "stream": "stdout",
       "text": [
        "\n",
        "530:Hamburg,  , Germany -> Hamburg, Germany, Hamburg, Germany: (53.55334, 9.99247)"
       ]
      },
      {
       "output_type": "stream",
       "stream": "stdout",
       "text": [
        "\n",
        "531:San Diego, CA, USA -> San Diego, CA, United States, San Diego, United States: (32.71569, -117.16172)"
       ]
      },
      {
       "output_type": "stream",
       "stream": "stdout",
       "text": [
        "\n",
        "532:Trondheim,  , Norway -> Trondheim, Norway, Trondheim, Norway: (63.43102, 10.39213)"
       ]
      },
      {
       "output_type": "stream",
       "stream": "stdout",
       "text": [
        "\n",
        "533:Washington D.C., DC, USA -> Washington, DC, United States, Washington, United States: (38.89037, -77.03196)"
       ]
      },
      {
       "output_type": "stream",
       "stream": "stdout",
       "text": [
        "\n",
        "534:Fes,  , Morocco -> Fez, Morocco, Fez, Morocco: (34.03641, -5.00316)"
       ]
      },
      {
       "output_type": "stream",
       "stream": "stdout",
       "text": [
        "\n",
        "535:Auckland,  , New Zealand -> Auckland, New Zealand, Auckland, New Zealand: (-36.88411, 174.77042)"
       ]
      },
      {
       "output_type": "stream",
       "stream": "stdout",
       "text": [
        "\n",
        "536:Copenhagen,  , Denmark -> Copenhagen, Denmark, Copenhagen, Denmark: (55.67566, 12.56761)"
       ]
      },
      {
       "output_type": "stream",
       "stream": "stdout",
       "text": [
        "\n",
        "537:Ulaanbaatar,  , Mongolia -> Ulan Bator, Mongolia, Ulan Bator, Mongolia: (47.92850, 106.91231)"
       ]
      },
      {
       "output_type": "stream",
       "stream": "stdout",
       "text": [
        "\n",
        "538:Melbourne,  , Australia -> MELBOURNE, VIC, AUSTRALIA, Melbourne, Australia: (-37.81753, 144.96715)"
       ]
      },
      {
       "output_type": "stream",
       "stream": "stdout",
       "text": [
        "\n",
        "539:Phnom Penh,  , Cambodia -> Phnom Penh, Cambodia, Phnom Penh, Cambodia: (11.55227, 104.87691)"
       ]
      },
      {
       "output_type": "stream",
       "stream": "stdout",
       "text": [
        "\n",
        "540:Dallas, TX, USA -> Dallas, TX, United States, Dallas, United States: (32.77815, -96.79540)"
       ]
      },
      {
       "output_type": "stream",
       "stream": "stdout",
       "text": [
        "\n",
        "541:Kaohsiung,  , Taiwan -> Kaohsiung City, Taiwan, Kaohsiung City, Taiwan: (22.62030, 120.31283)"
       ]
      },
      {
       "output_type": "stream",
       "stream": "stdout",
       "text": [
        "\n",
        "542:Bordeaux,  , France -> Bordeaux, France, Bordeaux, France: (44.83663, -0.58105)"
       ]
      },
      {
       "output_type": "stream",
       "stream": "stdout",
       "text": [
        "\n",
        "543:London,  , UK -> London, United Kingdom, London, United Kingdom: (51.50632, -0.12714)"
       ]
      },
      {
       "output_type": "stream",
       "stream": "stdout",
       "text": [
        "\n",
        "544:Paris,  , France -> Paris, France, Paris, France: (48.85693, 2.34120)"
       ]
      },
      {
       "output_type": "stream",
       "stream": "stdout",
       "text": [
        "\n",
        "545:Barcelona,  , Spain -> Barcelona, Spain, Barcelona, Spain: (41.38558, 2.16874)"
       ]
      },
      {
       "output_type": "stream",
       "stream": "stdout",
       "text": [
        "\n",
        "546:Columbus, OH, USA -> Columbus, OH, United States, Columbus, United States: (39.96199, -83.00275)"
       ]
      },
      {
       "output_type": "stream",
       "stream": "stdout",
       "text": [
        "\n",
        "547:Beirut,  , Lebanon -> Beirut, Lebanon, Beirut, Lebanon: (33.89607, 35.50678)"
       ]
      },
      {
       "output_type": "stream",
       "stream": "stdout",
       "text": [
        "\n",
        "548:Amsterdam,  , Netherlands -> Amsterdam, Netherlands, Amsterdam, Netherlands: (52.37308, 4.89333)"
       ]
      },
      {
       "output_type": "stream",
       "stream": "stdout",
       "text": [
        "\n",
        "549:Cochabamba,  , Bolivia -> Cochabamba (Cercado), Bolivia, Cochabamba, Bolivia: (-17.39004, -66.16045)"
       ]
      },
      {
       "output_type": "stream",
       "stream": "stdout",
       "text": [
        "\n",
        "550:Pavlodar,  , Kazakhstan -> Pavlodarskiy Rayon, Kazakhstan, Pavlodarskiy Rayon, Kazakhstan: (52.29190, 77.02694)"
       ]
      },
      {
       "output_type": "stream",
       "stream": "stdout",
       "text": [
        "\n",
        "551:Las Vegas, NV, USA -> Las Vegas, NV, United States, Las Vegas, United States: (36.17191, -115.13997)"
       ]
      },
      {
       "output_type": "stream",
       "stream": "stdout",
       "text": [
        "\n",
        "552:Hyderabad,  , India -> Hyderabad, Andhra Pradesh, India, Hyderabad, India: (17.34725, 78.42818)"
       ]
      },
      {
       "output_type": "stream",
       "stream": "stdout",
       "text": [
        "\n",
        "553:Seattle, WA, USA -> Seattle, WA, United States, Seattle, United States: (47.60356, -122.32944)"
       ]
      },
      {
       "output_type": "stream",
       "stream": "stdout",
       "text": [
        "\n",
        "554:Warsaw,  , Poland -> Warsaw, Poland, Warsaw, Poland: (52.22875, 21.00625)"
       ]
      },
      {
       "output_type": "stream",
       "stream": "stdout",
       "text": [
        "\n",
        "555:Abidjan,  , Cote d'Ivoire -> Abidjan, Cote d'Ivoire (Ivory Coast), Abidjan, Cote d'Ivoire (Ivory Coast): (5.35806, -4.01619)"
       ]
      },
      {
       "output_type": "stream",
       "stream": "stdout",
       "text": [
        "\n",
        "556:Los Angeles, CA, USA -> Los Angeles, CA, United States, Los Angeles, United States: (34.05349, -118.24532)"
       ]
      },
      {
       "output_type": "stream",
       "stream": "stdout",
       "text": [
        "\n",
        "557:San Antonio, TX, USA -> San Antonio, TX, United States, San Antonio, United States: (29.42458, -98.49461)"
       ]
      },
      {
       "output_type": "stream",
       "stream": "stdout",
       "text": [
        "\n",
        "558:Portimao,  , Portugal -> Portim\u00c3\u00a3o, Portugal, Portim\u00c3\u00a3o, Portugal: (37.13993, -8.53248)"
       ]
      },
      {
       "output_type": "stream",
       "stream": "stdout",
       "text": [
        "\n",
        "559:M\u00e9rida, YUC, Mexico -> 970 Merida, Mexico, Merida, Mexico: (20.96692, -89.62254)"
       ]
      },
      {
       "output_type": "stream",
       "stream": "stdout",
       "text": [
        "\n",
        "560:Memphis, TN, USA -> Memphis, TN, United States, Memphis, United States: (35.14976, -90.04925)"
       ]
      },
      {
       "output_type": "stream",
       "stream": "stdout",
       "text": [
        "\n",
        "561:Buenos Aires,  , Argentina -> Buenos Aires (Ciudad de Buenos Aires), Argentina, Buenos Aires, Argentina: (-34.60852, -58.37354)"
       ]
      },
      {
       "output_type": "stream",
       "stream": "stdout",
       "text": [
        "\n",
        "562:Ishinomaki,  , Japan -> Ishinomaki-Shi, Japan, Ishinomaki-Shi, Japan: (38.42876, 141.30061)"
       ]
      },
      {
       "output_type": "stream",
       "stream": "stdout",
       "text": [
        "\n",
        "563:Wellington,  , New Zealand -> Wellington (Wellington City), New Zealand, Wellington, New Zealand: (-41.28431, 174.77766)"
       ]
      },
      {
       "output_type": "stream",
       "stream": "stdout",
       "text": [
        "\n",
        "564:Houston, TX, USA -> Houston, TX, United States, Houston, United States: (29.76045, -95.36978)"
       ]
      },
      {
       "output_type": "stream",
       "stream": "stdout",
       "text": [
        "\n",
        "565:Puebla, PUE, Mexico -> Puebla, Mexico, Puebla, Mexico: (19.05102, -98.17510)"
       ]
      },
      {
       "output_type": "stream",
       "stream": "stdout",
       "text": [
        "\n",
        "566:Cincinnati, OH, USA -> Cincinnati, OH, United States, Cincinnati, United States: (39.10713, -84.50413)"
       ]
      },
      {
       "output_type": "stream",
       "stream": "stdout",
       "text": [
        "\n",
        "567:Chandler, AZ, USA -> Chandler, AZ, United States, Chandler, United States: (33.30338, -111.84083)"
       ]
      },
      {
       "output_type": "stream",
       "stream": "stdout",
       "text": [
        "\n",
        "568:San Francisco, CA, USA -> San Francisco, CA, United States, San Francisco, United States: (37.77712, -122.41964)"
       ]
      },
      {
       "output_type": "stream",
       "stream": "stdout",
       "text": [
        "\n",
        "569:Kyoto,  , Japan -> Kyoto-shi, Japan, Kyoto-shi, Japan: (35.09813, 135.71893)"
       ]
      },
      {
       "output_type": "stream",
       "stream": "stdout",
       "text": [
        "\n",
        "570:Orlando, FL, USA -> Orlando, FL, United States, Orlando, United States: (28.53823, -81.37739)"
       ]
      },
      {
       "output_type": "stream",
       "stream": "stdout",
       "text": [
        "\n",
        "571:Flagstaff, AZ, USA -> Flagstaff, AZ, United States, Flagstaff, United States: (35.19820, -111.65130)"
       ]
      },
      {
       "output_type": "stream",
       "stream": "stdout",
       "text": [
        "\n",
        "572:Karaganda,  , Kazakhstan -> Qaraghandy, Kazakhstan, Qaraghandy, Kazakhstan: (49.87921, 73.20263)"
       ]
      },
      {
       "output_type": "stream",
       "stream": "stdout",
       "text": [
        "\n",
        "573:Winnipeg,  , Manitoba -> Winnipeg, MB, Canada, Winnipeg, Canada: (49.89956, -97.14110)"
       ]
      },
      {
       "output_type": "stream",
       "stream": "stdout",
       "text": [
        "\n",
        "574:San Diego, CA, USA -> San Diego, CA, United States, San Diego, United States: (32.71569, -117.16172)"
       ]
      },
      {
       "output_type": "stream",
       "stream": "stdout",
       "text": [
        "\n",
        "575:Vancouver, BC, Canada -> Vancouver, BC, Canada, Vancouver, Canada: (49.26041, -123.11335)"
       ]
      },
      {
       "output_type": "stream",
       "stream": "stdout",
       "text": [
        "\n",
        "576:Salvador,  , Brazil -> Salvador, Brazil, Salvador, Brazil: (-12.97060, -38.51265)"
       ]
      },
      {
       "output_type": "stream",
       "stream": "stdout",
       "text": [
        "\n",
        "577:Airport,  , Germany -> Hamburg Airport, 22335 Hamburg, Germany, Hamburg, Germany: (53.63523, 10.00874)"
       ]
      },
      {
       "output_type": "stream",
       "stream": "stdout",
       "text": [
        "\n",
        "578:Asheville, NC, USA -> Asheville, NC, United States, Asheville, United States: (35.59846, -82.55314)"
       ]
      },
      {
       "output_type": "stream",
       "stream": "stdout",
       "text": [
        "\n",
        "579:Palmerston North,  , New Zealand -> Palmerston North (Palmerston North City), New Zealand, Palmerston North, New Zealand: (-40.35727, 175.60854)"
       ]
      },
      {
       "output_type": "stream",
       "stream": "stdout",
       "text": [
        "\n",
        "580:Amman,  , Jordan -> Amman, Jordan, Amman, Jordan: (31.95180, 35.94042)"
       ]
      },
      {
       "output_type": "stream",
       "stream": "stdout",
       "text": [
        "\n",
        "581:Cape Town,  , South Africa -> Cape Town, South Africa, Cape Town, South Africa: (-33.91909, 18.42199)"
       ]
      },
      {
       "output_type": "stream",
       "stream": "stdout",
       "text": [
        "\n",
        "582:Tokyo,  , Japan -> Tokyo, Japan, Tokyo, Japan: (35.68321, 139.80894)"
       ]
      },
      {
       "output_type": "stream",
       "stream": "stdout",
       "text": [
        "\n",
        "583:Concepcion,  , Chile -> Concepcion, Chile, Concepcion, Chile: (-36.81888, -73.05059)"
       ]
      },
      {
       "output_type": "stream",
       "stream": "stdout",
       "text": [
        "\n",
        "584:Tehran,  , Iran -> Tehran, Iran, Tehran, Iran: (34.64398, 50.89100)"
       ]
      },
      {
       "output_type": "stream",
       "stream": "stdout",
       "text": [
        "\n",
        "585:Mexico City, D.F., Mexico -> Mexico City, Mexico, Mexico City, Mexico: (19.43190, -99.13285)"
       ]
      },
      {
       "output_type": "stream",
       "stream": "stdout",
       "text": [
        "\n",
        "586:Tucson, AZ, USA -> Tucson, AZ, United States, Tucson, United States: (32.22155, -110.96976)"
       ]
      },
      {
       "output_type": "stream",
       "stream": "stdout",
       "text": [
        "\n",
        "587:Kuala Lumpur,  , Malaysia -> Kuala Lumpur, Malaysia, Kuala Lumpur, Malaysia: (3.10477, 101.69200)"
       ]
      },
      {
       "output_type": "stream",
       "stream": "stdout",
       "text": [
        "\n",
        "588:Perth,  , Australia -> PERTH, WA, AUSTRALIA, Perth, Australia: (-31.95264, 115.85741)"
       ]
      },
      {
       "output_type": "stream",
       "stream": "stdout",
       "text": [
        "\n",
        "589:Richmond, VA, USA -> Richmond, VA, United States, Richmond, United States: (37.54070, -77.43365)"
       ]
      },
      {
       "output_type": "stream",
       "stream": "stdout",
       "text": [
        "\n",
        "590:Lincoln, NE, USA -> Lincoln, NE, United States, Lincoln, United States: (40.81362, -96.70774)"
       ]
      },
      {
       "output_type": "stream",
       "stream": "stdout",
       "text": [
        "\n",
        "591:Santiago,  , Dominican Republic -> 51000 Santiago de los Caballeros, Dominican Republic, La Lomota, Dominican Republic: (19.45565, -70.70719)"
       ]
      },
      {
       "output_type": "stream",
       "stream": "stdout",
       "text": [
        "\n",
        "592:Martinsville, IN, USA -> Martinsville, IN, United States, Martinsville, United States: (39.42786, -86.42671)"
       ]
      },
      {
       "output_type": "stream",
       "stream": "stdout",
       "text": [
        "\n",
        "593:Montevideo,  , Uruguay -> Montevideo, Uruguay, Montevideo, Uruguay: (-34.87416, -56.16302)"
       ]
      },
      {
       "output_type": "stream",
       "stream": "stdout",
       "text": [
        "\n",
        "594:Bangalore,  , India -> Bengaluru, Karnataka, India, Bengaluru, India: (12.96697, 77.58728)"
       ]
      },
      {
       "output_type": "stream",
       "stream": "stdout",
       "text": [
        "\n",
        "595:Kostanai,  , Kazakhstan -> Qostanay, Kazakhstan, Qostanay, Kazakhstan: (53.20227, 63.60978)"
       ]
      },
      {
       "output_type": "stream",
       "stream": "stdout",
       "text": [
        "\n",
        "596:Toledo, OH, USA -> Toledo, OH, United States, Toledo, United States: (41.65381, -83.53626)"
       ]
      },
      {
       "output_type": "stream",
       "stream": "stdout",
       "text": [
        "\n",
        "597:Nantes,  , France -> Nantes, France, Nantes, France: (47.21811, -1.55306)"
       ]
      },
      {
       "output_type": "stream",
       "stream": "stdout",
       "text": [
        "\n",
        "598:Louisville, KY, USA -> Louisville, KY, United States, Louisville, United States: (38.25486, -85.76640)"
       ]
      },
      {
       "output_type": "stream",
       "stream": "stdout",
       "text": [
        "\n",
        "599:Ho Chi Minh City,  , Vietnam -> Ho Chi Minh City, Vietnam, Ho Chi Minh City, Vietnam: (10.75741, 106.67344)"
       ]
      },
      {
       "output_type": "stream",
       "stream": "stdout",
       "text": [
        "\n",
        "600:Taipei,  , Taiwan -> Taipei, Taiwan, Taipei, Taiwan: (25.03933, 121.51294)"
       ]
      },
      {
       "output_type": "stream",
       "stream": "stdout",
       "text": [
        "\n",
        "601:Blacksburg, VA, USA -> Blacksburg, VA, United States, Blacksburg, United States: (37.22626, -80.41058)"
       ]
      },
      {
       "output_type": "stream",
       "stream": "stdout",
       "text": [
        "\n",
        "602:London,  , UK -> London, United Kingdom, London, United Kingdom: (51.50632, -0.12714)"
       ]
      },
      {
       "output_type": "stream",
       "stream": "stdout",
       "text": [
        "\n",
        "603:Tauranga,  , New Zealand -> Tauranga, New Zealand, Tauranga, New Zealand: (-37.68614, 176.16647)"
       ]
      },
      {
       "output_type": "stream",
       "stream": "stdout",
       "text": [
        "\n",
        "604:Seattle, WA, USA -> Seattle, WA, United States, Seattle, United States: (47.60356, -122.32944)"
       ]
      },
      {
       "output_type": "stream",
       "stream": "stdout",
       "text": [
        "\n",
        "605:Saltillo, COAH, Mexico -> Saltillo, Mexico, Saltillo, Mexico: (25.42429, -101.00263)"
       ]
      },
      {
       "output_type": "stream",
       "stream": "stdout",
       "text": [
        "\n",
        "606:Moscow,  , Russian Federation -> Moscow, Russia, Moscow, Russia: (55.75695, 37.61497)"
       ]
      },
      {
       "output_type": "stream",
       "stream": "stdout",
       "text": [
        "\n",
        "607:Sofia,  , Bulgaria -> Sofia, Bulgaria, Sofia, Bulgaria: (42.69719, 23.32437)"
       ]
      },
      {
       "output_type": "stream",
       "stream": "stdout",
       "text": [
        "\n",
        "608:Minsk,  , Belarus -> Minsk, Belarus, Minsk, Belarus: (53.90255, 27.56310)"
       ]
      },
      {
       "output_type": "stream",
       "stream": "stdout",
       "text": [
        "\n",
        "609:Anchorage, AK, USA -> Anchorage, AK, United States, Anchorage, United States: (61.21755, -149.85838)"
       ]
      },
      {
       "output_type": "stream",
       "stream": "stdout",
       "text": [
        "\n",
        "610:Penang,  , Malaysia -> Penang, Malaysia, Malaysia: (5.35389, 100.36298)"
       ]
      },
      {
       "output_type": "stream",
       "stream": "stdout",
       "text": [
        "\n",
        "611:New York City, NY, USA -> New York, NY, United States, New York, United States: (40.71455, -74.00712)"
       ]
      },
      {
       "output_type": "stream",
       "stream": "stdout",
       "text": [
        "\n",
        "612:Delhi,  , India -> Delhi, Central, Delhi, India, Delhi, India: (28.64498, 77.21643)"
       ]
      },
      {
       "output_type": "stream",
       "stream": "stdout",
       "text": [
        "\n",
        "613:Hartford, CT, USA -> Hartford, CT, United States, Hartford, United States: (41.76331, -72.67408)"
       ]
      },
      {
       "output_type": "stream",
       "stream": "stdout",
       "text": [
        "\n",
        "614:Mountain View, CA, USA -> Mountain View, CA, United States, Mountain View, United States: (37.38967, -122.08160)"
       ]
      },
      {
       "output_type": "stream",
       "stream": "stdout",
       "text": [
        "\n",
        "615:Pittsburgh, PA, USA -> Pittsburgh, PA, United States, Pittsburgh, United States: (40.43833, -79.99746)"
       ]
      },
      {
       "output_type": "stream",
       "stream": "stdout",
       "text": [
        "\n",
        "616:Omaha, NE, USA -> Omaha, NE, United States, Omaha, United States: (41.26069, -95.94059)"
       ]
      },
      {
       "output_type": "stream",
       "stream": "stdout",
       "text": [
        "\n",
        "617:Villahermosa, TAB, Mexico -> Villahermosa, Mexico, Villahermosa, Mexico: (17.99811, -92.90322)"
       ]
      },
      {
       "output_type": "stream",
       "stream": "stdout",
       "text": [
        "\n",
        "618:Paris,  , France -> Paris, France, Paris, France: (48.85693, 2.34120)"
       ]
      },
      {
       "output_type": "stream",
       "stream": "stdout",
       "text": [
        "\n",
        "619:San Francisco, CA, USA -> San Francisco, CA, United States, San Francisco, United States: (37.77712, -122.41964)"
       ]
      },
      {
       "output_type": "stream",
       "stream": "stdout",
       "text": [
        "\n",
        "620:Alexandria,  , Egypt -> Alexandria, Egypt, Alexandria, Egypt: (31.21045, 29.91245)"
       ]
      },
      {
       "output_type": "stream",
       "stream": "stdout",
       "text": [
        "\n",
        "621:Sharjah,  , UAE -> Sharjah, United Arab Emirates, Sharjah, United Arab Emirates: (25.35233, 55.39220)"
       ]
      },
      {
       "output_type": "stream",
       "stream": "stdout",
       "text": [
        "\n",
        "622:Kiev,  , Ukraine -> Kiev, Ukraine, Kiev, Ukraine: (50.45057, 30.52427)"
       ]
      },
      {
       "output_type": "stream",
       "stream": "stdout",
       "text": [
        "\n",
        "623:Elko, NV, USA -> Elko, NV, United States, Elko, United States: (40.83568, -115.76754)"
       ]
      },
      {
       "output_type": "stream",
       "stream": "stdout",
       "text": [
        "\n",
        "624:Spokane, WA, USA -> Spokane, WA, United States, Spokane, United States: (47.65726, -117.41228)"
       ]
      },
      {
       "output_type": "stream",
       "stream": "stdout",
       "text": [
        "\n",
        "625:Los Angeles, USC, CA, USA -> University of Southern California, Los Angeles, CA 90089, United States, Los Angeles, United States: (34.01892, -118.28320)"
       ]
      },
      {
       "output_type": "stream",
       "stream": "stdout",
       "text": [
        "\n",
        "626:Columbia, MO, USA -> Columbia, MO, United States, Columbia, United States: (38.95217, -92.33415)"
       ]
      },
      {
       "output_type": "stream",
       "stream": "stdout",
       "text": [
        "\n",
        "627:Gainesville, FL, USA -> Gainesville, FL, United States, Gainesville, United States: (29.65195, -82.32318)"
       ]
      },
      {
       "output_type": "stream",
       "stream": "stdout",
       "text": [
        "\n",
        "628:Honolulu, HI, USA -> Honolulu, HI, United States, Honolulu, United States: (21.30485, -157.85776)"
       ]
      },
      {
       "output_type": "stream",
       "stream": "stdout",
       "text": [
        "\n",
        "629:Philadelphia, PA, USA -> Philadelphia, PA, United States, Philadelphia, United States: (39.95228, -75.16245)"
       ]
      },
      {
       "output_type": "stream",
       "stream": "stdout",
       "text": [
        "\n",
        "630:Basel,  , Switzerland -> Basel, Switzerland, Basel, Switzerland: (47.54880, 7.58781)"
       ]
      },
      {
       "output_type": "stream",
       "stream": "stdout",
       "text": [
        "\n",
        "631:Baltimore, MD, USA -> Baltimore, MD, United States, Baltimore, United States: (39.29058, -76.60926)"
       ]
      },
      {
       "output_type": "stream",
       "stream": "stdout",
       "text": [
        "\n",
        "632:Bari,  , Italy -> Bari BA, Italy, Bari, Italy: (41.12587, 16.86664)"
       ]
      },
      {
       "output_type": "stream",
       "stream": "stdout",
       "text": [
        "\n",
        "633:Manila,  , Philippines -> Manila, Philippines, Manila, Philippines: (14.60190, 120.98491)"
       ]
      },
      {
       "output_type": "stream",
       "stream": "stdout",
       "text": [
        "\n",
        "634:Ithaca, Cornell, NY, USA -> Cornell University, Ithaca College, NY 14850, United States, Ithaca College, United States: (42.44411, -76.50885)"
       ]
      },
      {
       "output_type": "stream",
       "stream": "stdout",
       "text": [
        "\n",
        "635:Athens,  , Greece -> Athens, Greece, Athens, Greece: (37.97615, 23.73641)"
       ]
      },
      {
       "output_type": "stream",
       "stream": "stdout",
       "text": [
        "\n",
        "636:Saint-Etienne,  , France -> Saint-\u00c3\u0089tienne, France, Saint-\u00c3\u0089tienne, France: (45.43988, 4.39553)"
       ]
      },
      {
       "output_type": "stream",
       "stream": "stdout",
       "text": [
        "\n",
        "637:Ankara,  , Turkey -> Ankara, Turkey, Ankara, Turkey: (39.94001, 32.85999)"
       ]
      },
      {
       "output_type": "stream",
       "stream": "stdout",
       "text": [
        "\n",
        "638:Santa Clarita, CA, USA -> Santa Clarita, CA, United States, Santa Clarita, United States: (34.41347, -118.55188)"
       ]
      },
      {
       "output_type": "stream",
       "stream": "stdout",
       "text": [
        "\n",
        "639:Kosice,  , Slovakia -> Kosice, Slovakia, Kosice, Slovakia: (48.71662, 21.25333)"
       ]
      },
      {
       "output_type": "stream",
       "stream": "stdout",
       "text": [
        "\n",
        "640:Lansing, MI, USA -> Lansing, MI, United States, Lansing, United States: (42.73194, -84.55225)"
       ]
      },
      {
       "output_type": "stream",
       "stream": "stdout",
       "text": [
        "\n",
        "641:Kota Kinabalu,  , Malaysia -> Kota Kinabalu, Malaysia, Kota Kinabalu, Malaysia: (5.98138, 116.07429)"
       ]
      },
      {
       "output_type": "stream",
       "stream": "stdout",
       "text": [
        "\n",
        "642:Providence, RI, USA -> Providence, RI, United States, Providence, United States: (41.82387, -71.41199)"
       ]
      },
      {
       "output_type": "stream",
       "stream": "stdout",
       "text": [
        "\n",
        "643:Hsinchu City,  , Taiwan -> Hsinchu City, Taiwan, Hsinchu City, Taiwan: (24.80626, 120.96890)"
       ]
      },
      {
       "output_type": "stream",
       "stream": "stdout",
       "text": [
        "\n",
        "644:Portland, OR, USA -> Portland, OR, United States, Portland, United States: (45.51179, -122.67563)"
       ]
      },
      {
       "output_type": "stream",
       "stream": "stdout",
       "text": [
        "\n",
        "645:Boulder, CO, USA -> Boulder, CO, United States, Boulder, United States: (40.01574, -105.27924)"
       ]
      },
      {
       "output_type": "stream",
       "stream": "stdout",
       "text": [
        "\n",
        "646:Iowa City, IA, USA -> Iowa City, IA, United States, Iowa City, United States: (41.65782, -91.52653)"
       ]
      },
      {
       "output_type": "stream",
       "stream": "stdout",
       "text": [
        "\n",
        "647:Crane, IN, USA -> Crane, IN, United States, Crane, United States: (38.89091, -86.90304)"
       ]
      },
      {
       "output_type": "stream",
       "stream": "stdout",
       "text": [
        "\n",
        "648:Caen,  , France -> Caen, France, Caen, France: (49.18437, -0.36109)"
       ]
      },
      {
       "output_type": "stream",
       "stream": "stdout",
       "text": [
        "\n",
        "649:Atyray,  , Kazakhstan -> Atyrau, Kazakhstan, Atyrau, Kazakhstan: (47.10163, 51.91329)"
       ]
      },
      {
       "output_type": "stream",
       "stream": "stdout",
       "text": [
        "\n",
        "650:Sidibouzid,  , Tunisia -> Tunisia, Tunisia: (33.90378, 9.56154)"
       ]
      },
      {
       "output_type": "stream",
       "stream": "stdout",
       "text": [
        "\n",
        "651:Neuchatel,  , Switzerland -> Neuchatel, Switzerland, Neuchatel, Switzerland: (46.99034, 6.93112)"
       ]
      },
      {
       "output_type": "stream",
       "stream": "stdout",
       "text": [
        "\n",
        "652:Miami, FL, USA -> Miami, FL, United States, Miami, United States: (25.77481, -80.19773)"
       ]
      },
      {
       "output_type": "stream",
       "stream": "stdout",
       "text": [
        "\n",
        "653:Eugene, OR, USA -> Eugene, OR, United States, Eugene, United States: (44.04992, -123.08854)"
       ]
      },
      {
       "output_type": "stream",
       "stream": "stdout",
       "text": [
        "\n",
        "654:Johor,  , Malaysia -> Johore, Malaysia, Malaysia: (1.46482, 103.75736)"
       ]
      },
      {
       "output_type": "stream",
       "stream": "stdout",
       "text": [
        "\n",
        "655:Barranquilla,  , Colombia -> Barranquilla, Colombia, Barranquilla, Colombia: (10.98217, -74.83002)"
       ]
      },
      {
       "output_type": "stream",
       "stream": "stdout",
       "text": [
        "\n",
        "656:Tijuana,  , Mexico -> Tijuana, Mexico, Tijuana, Mexico: (32.53130, -117.03811)"
       ]
      },
      {
       "output_type": "stream",
       "stream": "stdout",
       "text": [
        "\n",
        "657:Boca Raton, FL, USA -> Boca Raton, FL, United States, Boca Raton, United States: (26.35049, -80.08900)"
       ]
      },
      {
       "output_type": "stream",
       "stream": "stdout",
       "text": [
        "\n",
        "658:Volos, Thessalia, Greece -> Volos, Greece, Volos, Greece: (39.37413, 22.95775)"
       ]
      },
      {
       "output_type": "stream",
       "stream": "stdout",
       "text": [
        "\n",
        "659:Culiac\u00e1n,  , Mexico -> Culiacan, Mexico, Culiacan, Mexico: (24.80764, -107.39445)"
       ]
      },
      {
       "output_type": "stream",
       "stream": "stdout",
       "text": [
        "\n",
        "660:Zacatecas, ZAC, Mexico -> Zacatecas, Mexico, Zacatecas, Mexico: (22.77246, -102.57377)"
       ]
      },
      {
       "output_type": "stream",
       "stream": "stdout",
       "text": [
        "\n",
        "661:Moscow,  , Russian Federation -> Moscow, Russia, Moscow, Russia: (55.75695, 37.61497)"
       ]
      },
      {
       "output_type": "stream",
       "stream": "stdout",
       "text": [
        "\n",
        "662:Gaza,  , Palestinian Territories -> Gaza City, Palestine, Gaza City, Palestine: (31.52410, 34.44570)"
       ]
      },
      {
       "output_type": "stream",
       "stream": "stdout",
       "text": [
        "\n",
        "663:Brescia,  , Italy -> Brescia BS, Italy, Brescia, Italy: (45.53661, 10.23202)"
       ]
      },
      {
       "output_type": "stream",
       "stream": "stdout",
       "text": [
        "\n",
        "664:Denver, CO, USA -> Denver, CO, United States, Denver, United States: (39.74001, -104.99230)"
       ]
      },
      {
       "output_type": "stream",
       "stream": "stdout",
       "text": [
        "\n",
        "665:Lima,  , Peru -> Lima, Peru, Lima, Peru: (-12.05614, -77.02680)"
       ]
      },
      {
       "output_type": "stream",
       "stream": "stdout",
       "text": [
        "\n",
        "666:Oslo,  , Norway -> Oslo, Norway, Oslo, Norway: (59.91231, 10.74998)"
       ]
      },
      {
       "output_type": "stream",
       "stream": "stdout",
       "text": [
        "\n",
        "667:Phoenix, AZ, USA -> Phoenix, AZ, United States, Phoenix, United States: (33.44826, -112.07577)"
       ]
      },
      {
       "output_type": "stream",
       "stream": "stdout",
       "text": [
        "\n",
        "668:San Juan, EDP,  , Puerto Rico -> San Juan, 3334 Puerto Rico, Argentina, Puerto Rico, Argentina: (-26.79822, -55.02252)"
       ]
      },
      {
       "output_type": "stream",
       "stream": "stdout",
       "text": [
        "\n",
        "669:Peel, ON, Canada -> Peel, ON, Canada, Canada: (43.58826, -79.64370)"
       ]
      },
      {
       "output_type": "stream",
       "stream": "stdout",
       "text": [
        "\n",
        "670:Seattle, WA, USA -> Seattle, WA, United States, Seattle, United States: (47.60356, -122.32944)"
       ]
      },
      {
       "output_type": "stream",
       "stream": "stdout",
       "text": [
        "\n",
        "671:Banja Luka,  , Bosnia and Herzegovina -> Banja Luka, Bosnia And Herzegovina, Banja Luka, Bosnia And Herzegovina: (44.77032, 17.18917)"
       ]
      },
      {
       "output_type": "stream",
       "stream": "stdout",
       "text": [
        "\n",
        "672:Mons,  , Belgium -> Mons, Belgium, Mons, Belgium: (50.45472, 3.95225)"
       ]
      },
      {
       "output_type": "stream",
       "stream": "stdout",
       "text": [
        "\n",
        "673:Braga,  , Portugal -> Braga, Portugal, Braga, Portugal: (41.55161, -8.42915)"
       ]
      },
      {
       "output_type": "stream",
       "stream": "stdout",
       "text": [
        "\n",
        "674:Lueneburg,  , Germany -> Lunenburg, Germany, Lunenburg, Germany: (53.24758, 10.41414)"
       ]
      },
      {
       "output_type": "stream",
       "stream": "stdout",
       "text": [
        "\n",
        "675:St Gallen,  , Switzerland -> St. Gallen, Switzerland, St. Gallen, Switzerland: (47.42638, 9.37369)"
       ]
      },
      {
       "output_type": "stream",
       "stream": "stdout",
       "text": [
        "\n",
        "676:Canc\u00fan, QROO, Mexico -> Cancun, Mexico, Cancun, Mexico: (21.09563, -86.76759)"
       ]
      },
      {
       "output_type": "stream",
       "stream": "stdout",
       "text": [
        "\n",
        "677:Reunion,  , Reunion -> 97438 Reunion, Reunion, Sainte-Marie, Reunion: (-20.88330, 55.53330)"
       ]
      },
      {
       "output_type": "stream",
       "stream": "stdout",
       "text": [
        "\n",
        "678:Shreveport, LA, USA -> Shreveport, LA, United States, Shreveport, United States: (32.51461, -93.74727)"
       ]
      },
      {
       "output_type": "stream",
       "stream": "stdout",
       "text": [
        "\n",
        "679:Palo Alto, CA, USA -> Palo Alto, CA, United States, Palo Alto, United States: (37.44466, -122.16079)"
       ]
      },
      {
       "output_type": "stream",
       "stream": "stdout",
       "text": [
        "\n",
        "680:Nancy,  , France -> Nancy, France, Nancy, France: (48.68954, 6.18335)"
       ]
      },
      {
       "output_type": "stream",
       "stream": "stdout",
       "text": [
        "\n",
        "681:Ciudad Obreg\u00f3n, SON, Mexico -> Ciudad Obregon, Mexico, Ciudad Obregon, Mexico: (27.51559, -109.91597)"
       ]
      },
      {
       "output_type": "stream",
       "stream": "stdout",
       "text": [
        "\n",
        "682:Charlottesville, VA, USA -> Charlottesville, VA, United States, Charlottesville, United States: (38.03213, -78.47753)"
       ]
      },
      {
       "output_type": "stream",
       "stream": "stdout",
       "text": [
        "\n",
        "683:Mansoura,  , Egypt -> Mansoura, Egypt, Mansoura, Egypt: (31.04247, 31.37460)"
       ]
      },
      {
       "output_type": "stream",
       "stream": "stdout",
       "text": [
        "\n",
        "684:Ogden, UT, USA -> Ogden, UT, United States, Ogden, United States: (41.22236, -111.97048)"
       ]
      },
      {
       "output_type": "stream",
       "stream": "stdout",
       "text": [
        "\n",
        "685:Orange County, CA, USA -> Orange County, CA, United States, United States: (33.66710, -117.76505)"
       ]
      },
      {
       "output_type": "stream",
       "stream": "stdout",
       "text": [
        "\n",
        "686:Lehigh Valley, PA, USA -> Lehigh Valley, PA, United States, Lehigh Valley, United States: (40.58296, -75.47685)"
       ]
      },
      {
       "output_type": "stream",
       "stream": "stdout",
       "text": [
        "\n",
        "687:Bath,  , UK -> Bath, United Kingdom, Bath, United Kingdom: (51.38503, -2.36132)"
       ]
      },
      {
       "output_type": "stream",
       "stream": "stdout",
       "text": [
        "\n",
        "688:Minneapolis, MN, USA -> Minneapolis, MN, United States, Minneapolis, United States: (44.97903, -93.26493)"
       ]
      },
      {
       "output_type": "stream",
       "stream": "stdout",
       "text": [
        "\n",
        "689:Groningen,  , Netherlands -> Groningen, Netherlands, Groningen, Netherlands: (53.21715, 6.57360)"
       ]
      },
      {
       "output_type": "stream",
       "stream": "stdout",
       "text": [
        "\n",
        "690:Santa Barbara, CA, USA -> Santa Barbara, CA, United States, Santa Barbara, United States: (34.41938, -119.69905)"
       ]
      },
      {
       "output_type": "stream",
       "stream": "stdout",
       "text": [
        "\n",
        "691:Torre\u00f3n,  , Mexico -> Torre\u00c3\u00b3n, Mexico, Torre\u00c3\u00b3n, Mexico: (25.55030, -103.41201)"
       ]
      },
      {
       "output_type": "stream",
       "stream": "stdout",
       "text": [
        "\n",
        "692:Vancouver, UBC, BC, Canada -> Ubc, BC V6T, Canada, Vancouver, Canada: (49.26824, -123.24727)"
       ]
      },
      {
       "output_type": "stream",
       "stream": "stdout",
       "text": [
        "\n",
        "693:San Luis Potos\u00ed, SLP, Mexico -> S. Luis Potosi, Mexico, S. Luis Potosi, Mexico: (22.14855, -100.96518)"
       ]
      },
      {
       "output_type": "stream",
       "stream": "stdout",
       "text": [
        "\n",
        "694:London,  , UK -> London, United Kingdom, London, United Kingdom: (51.50632, -0.12714)"
       ]
      },
      {
       "output_type": "stream",
       "stream": "stdout",
       "text": [
        "\n",
        "695:Lima,  , Peru -> Lima, Peru, Lima, Peru: (-12.05614, -77.02680)"
       ]
      },
      {
       "output_type": "stream",
       "stream": "stdout",
       "text": [
        "\n",
        "696:Seoul,  , South Korea -> Seoul, South Korea, Seoul, South Korea: (37.51502, 127.01647)"
       ]
      },
      {
       "output_type": "stream",
       "stream": "stdout",
       "text": [
        "\n",
        "697:Guadalajara,  , Mexico -> Guadalajara, Mexico, Guadalajara, Mexico: (20.68760, -103.35111)"
       ]
      },
      {
       "output_type": "stream",
       "stream": "stdout",
       "text": [
        "\n",
        "698:Osaka,  , Japan -> Osaka-shi, Japan, Osaka-shi, Japan: (34.67747, 135.50323)"
       ]
      },
      {
       "output_type": "stream",
       "stream": "stdout",
       "text": [
        "\n",
        "699:Prishtina,  , Republic of Kosovo -> Pristina, Serbia, Pristina, Serbia: (42.67182, 21.16243)"
       ]
      },
      {
       "output_type": "stream",
       "stream": "stdout",
       "text": [
        "\n",
        "700:Tulsa, OK, USA -> Tulsa, OK, United States, Tulsa, United States: (36.14974, -95.99333)"
       ]
      },
      {
       "output_type": "stream",
       "stream": "stdout",
       "text": [
        "\n",
        "701:Bucharest,  , Romania -> Bucharest, Romania, Bucharest, Romania: (44.43429, 26.10296)"
       ]
      },
      {
       "output_type": "stream",
       "stream": "stdout",
       "text": [
        "\n",
        "702:Winnipeg, MB, Canada -> Winnipeg, MB, Canada, Winnipeg, Canada: (49.89956, -97.14110)"
       ]
      },
      {
       "output_type": "stream",
       "stream": "stdout",
       "text": [
        "\n",
        "703:Davao,  , Philippines -> Davao City, Philippines, Davao City, Philippines: (7.07996, 125.61277)"
       ]
      },
      {
       "output_type": "stream",
       "stream": "stdout",
       "text": [
        "\n",
        "704:Hermosillo,  , Mexico -> Hermosillo, Mexico, Hermosillo, Mexico: (29.07904, -110.94695)"
       ]
      },
      {
       "output_type": "stream",
       "stream": "stdout",
       "text": [
        "\n",
        "705:Southampton,  , UK -> Southampton, United Kingdom, Southampton, United Kingdom: (50.90992, -1.40733)"
       ]
      },
      {
       "output_type": "stream",
       "stream": "stdout",
       "text": [
        "\n",
        "706:Cambridge,  , UK -> Cambridge, United Kingdom, Cambridge, United Kingdom: (52.20980, 0.11147)"
       ]
      },
      {
       "output_type": "stream",
       "stream": "stdout",
       "text": [
        "\n",
        "707:Hamala,  , Bahrain -> Al Hamala, Bahrain, Al Hamala, Bahrain: (26.14396, 50.45846)"
       ]
      },
      {
       "output_type": "stream",
       "stream": "stdout",
       "text": [
        "\n",
        "708:Perm,  , Russian Federation -> Perm', Russia, Perm', Russia: (58.00736, 56.22815)"
       ]
      },
      {
       "output_type": "stream",
       "stream": "stdout",
       "text": [
        "\n",
        "709:Taraz,  , Kazakhstan -> Zhambyl, Kazakhstan, Zhambyl, Kazakhstan: (42.90000, 71.36670)"
       ]
      },
      {
       "output_type": "stream",
       "stream": "stdout",
       "text": [
        "\n",
        "710:Zilina,  , Slovakia -> Zilina, Slovakia, Zilina, Slovakia: (49.22381, 18.74765)"
       ]
      },
      {
       "output_type": "stream",
       "stream": "stdout",
       "text": [
        "\n",
        "711:Shenzhen,  , China -> Shenzhen, Guangdong, People's Republic of China, Shenzhen, People's Republic of China: (22.54273, 114.05797)"
       ]
      },
      {
       "output_type": "stream",
       "stream": "stdout",
       "text": [
        "\n",
        "712:Hong Kong,  , China -> Hong Kong, Hong Kong: (22.35810, 114.13844)"
       ]
      },
      {
       "output_type": "stream",
       "stream": "stdout",
       "text": [
        "\n",
        "713:Bishkek,  , Kyrgyzstan -> Bishkek, Kyrgyzstan, Bishkek, Kyrgyzstan: (42.88416, 74.60266)"
       ]
      },
      {
       "output_type": "stream",
       "stream": "stdout",
       "text": [
        "\n",
        "714:Fukuoka,  , Japan -> Fukuoka-shi, Japan, Fukuoka-shi, Japan: (33.56870, 130.34636)"
       ]
      },
      {
       "output_type": "stream",
       "stream": "stdout",
       "text": [
        "\n",
        "715:Toronto, ON, Canada -> Toronto, ON, Canada, Toronto, Canada: (43.64858, -79.38529)"
       ]
      },
      {
       "output_type": "stream",
       "stream": "stdout",
       "text": [
        "\n",
        "716:Tehran,  , Iran -> Tehran, Iran, Tehran, Iran: (34.64398, 50.89100)"
       ]
      },
      {
       "output_type": "stream",
       "stream": "stdout",
       "text": [
        "\n",
        "717:Nazareth,  , Israel -> Nazareth, Israel, Nazareth, Israel: (32.69360, 35.31130)"
       ]
      },
      {
       "output_type": "stream",
       "stream": "stdout",
       "text": [
        "\n",
        "718:Sheffield,  , UK -> Sheffield, United Kingdom, Sheffield, United Kingdom: (53.38311, -1.46454)"
       ]
      },
      {
       "output_type": "stream",
       "stream": "stdout",
       "text": [
        "\n",
        "719:Quer\u00e9taro, QRO, Mexico -> Queretaro, Mexico, Queretaro, Mexico: (20.59214, -100.39605)"
       ]
      },
      {
       "output_type": "stream",
       "stream": "stdout",
       "text": [
        "\n",
        "720:Trojmiasto,  , Poland -> Poland, Poland: (51.91892, 19.13430)"
       ]
      },
      {
       "output_type": "stream",
       "stream": "stdout",
       "text": [
        "\n",
        "721:Manchester, England, UK -> Manchester, United Kingdom, Manchester, United Kingdom: (53.47959, -2.24874)"
       ]
      },
      {
       "output_type": "stream",
       "stream": "stdout",
       "text": [
        "\n",
        "722:Saint Louis,  , Senegal -> Saint-Louis, Senegal, Saint-Louis, Senegal: (16.01850, -16.48935)"
       ]
      },
      {
       "output_type": "stream",
       "stream": "stdout",
       "text": [
        "\n",
        "723:Liege,  , Belgium -> Li\u00c3\u00a8ge, Belgium, Li\u00c3\u00a8ge, Belgium: (50.64550, 5.57250)"
       ]
      },
      {
       "output_type": "stream",
       "stream": "stdout",
       "text": [
        "\n",
        "724:St. Louis, MO, USA -> St Louis, MO, United States, St Louis, United States: (38.62774, -90.19951)"
       ]
      },
      {
       "output_type": "stream",
       "stream": "stdout",
       "text": [
        "\n",
        "725:Greater Lafayette, IN, USA -> Lafayette, IN, United States, Lafayette, United States: (40.40372, -86.85821)"
       ]
      },
      {
       "output_type": "stream",
       "stream": "stdout",
       "text": [
        "\n",
        "726:Kirkland, WA, USA -> Kirkland, WA, United States, Kirkland, United States: (47.67885, -122.20666)"
       ]
      },
      {
       "output_type": "stream",
       "stream": "stdout",
       "text": [
        "\n",
        "727:Bretagne,  , France -> Bretagne (Territoire de Belfort), France, Bretagne, France: (47.59715, 6.99878)"
       ]
      },
      {
       "output_type": "stream",
       "stream": "stdout",
       "text": [
        "\n",
        "728:Guatemala City,  , Guatemala -> Guatemala, Guatemala, Guatemala, Guatemala: (14.63172, -90.46744)"
       ]
      },
      {
       "output_type": "stream",
       "stream": "stdout",
       "text": [
        "\n",
        "729:Boston, MA, USA -> Boston, MA, United States, Boston, United States: (42.35866, -71.05674)"
       ]
      },
      {
       "output_type": "stream",
       "stream": "stdout",
       "text": [
        "\n",
        "730:Buenos Aires,  , Argentina -> Buenos Aires (Ciudad de Buenos Aires), Argentina, Buenos Aires, Argentina: (-34.60852, -58.37354)"
       ]
      },
      {
       "output_type": "stream",
       "stream": "stdout",
       "text": [
        "\n",
        "731:Houston, TX, USA -> Houston, TX, United States, Houston, United States: (29.76045, -95.36978)"
       ]
      },
      {
       "output_type": "stream",
       "stream": "stdout",
       "text": [
        "\n",
        "732:Istanbul,  , Turkey -> Istanbul, Turkey, Istanbul, Turkey: (41.04001, 28.98999)"
       ]
      },
      {
       "output_type": "stream",
       "stream": "stdout",
       "text": [
        "\n",
        "733:Sydney,  , Australia -> SYDNEY, NSW, AUSTRALIA, Sydney, Australia: (-33.86960, 151.20695)"
       ]
      },
      {
       "output_type": "stream",
       "stream": "stdout",
       "text": [
        "\n",
        "734:New Haven, CT, USA -> New Haven, CT, United States, New Haven, United States: (41.30713, -72.92498)"
       ]
      },
      {
       "output_type": "stream",
       "stream": "stdout",
       "text": [
        "\n",
        "735:Trondheim,  , Norway -> Trondheim, Norway, Trondheim, Norway: (63.43102, 10.39213)"
       ]
      },
      {
       "output_type": "stream",
       "stream": "stdout",
       "text": [
        "\n",
        "736:Orlando, FL, USA -> Orlando, FL, United States, Orlando, United States: (28.53823, -81.37739)"
       ]
      },
      {
       "output_type": "stream",
       "stream": "stdout",
       "text": [
        "\n",
        "737:Sendai,  , Japan -> Sendai-shi, Japan, Sendai-shi, Japan: (38.31436, 140.75819)"
       ]
      },
      {
       "output_type": "stream",
       "stream": "stdout",
       "text": [
        "\n",
        "738:Praia,  , Cape Verde -> Praia, Cape Verde, Praia, Cape Verde: (14.92901, -23.53477)"
       ]
      },
      {
       "output_type": "stream",
       "stream": "stdout",
       "text": [
        "\n",
        "739:Plano, TX, USA -> Plano, TX, United States, Plano, United States: (33.02079, -96.69925)"
       ]
      },
      {
       "output_type": "stream",
       "stream": "stdout",
       "text": [
        "\n",
        "740:Mexico City,  , Mexico -> Mexico City, Mexico, Mexico City, Mexico: (19.43001, -99.13001)"
       ]
      },
      {
       "output_type": "stream",
       "stream": "stdout",
       "text": [
        "\n",
        "741:Mexico City,  , Mexico -> Mexico City, Mexico, Mexico City, Mexico: (19.43001, -99.13001)"
       ]
      },
      {
       "output_type": "stream",
       "stream": "stdout",
       "text": [
        "\n",
        "742:Victoria, BC, Canada -> Victoria, BC, Canada, Victoria, Canada: (48.42831, -123.36445)"
       ]
      },
      {
       "output_type": "stream",
       "stream": "stdout",
       "text": [
        "\n",
        "743:Ottawa, ON, Canada -> Ottawa, ON, Canada, Ottawa, Canada: (45.42175, -75.69116)"
       ]
      },
      {
       "output_type": "stream",
       "stream": "stdout",
       "text": [
        "\n",
        "744:Atlanta, GA, USA -> Atlanta, GA, United States, Atlanta, United States: (33.74831, -84.39111)"
       ]
      },
      {
       "output_type": "stream",
       "stream": "stdout",
       "text": [
        "\n",
        "745:Bloomington, IN, USA -> Bloomington, IN, United States, Bloomington, United States: (39.16659, -86.53424)"
       ]
      },
      {
       "output_type": "stream",
       "stream": "stdout",
       "text": [
        "\n",
        "746:Milwaukee, WI, USA -> Milwaukee, WI, United States, Milwaukee, United States: (43.04181, -87.90684)"
       ]
      },
      {
       "output_type": "stream",
       "stream": "stdout",
       "text": [
        "\n",
        "747:South Bend, IN, USA -> South Bend, IN, United States, South Bend, United States: (41.67905, -86.25404)"
       ]
      },
      {
       "output_type": "stream",
       "stream": "stdout",
       "text": [
        "\n",
        "748:Binghamton, NY, USA -> Binghamton, NY, United States, Binghamton, United States: (42.09868, -75.91130)"
       ]
      },
      {
       "output_type": "stream",
       "stream": "stdout",
       "text": [
        "\n",
        "749:Caracas,  , Venezuela -> Caracas, Venezuela, Caracas, Venezuela: (10.50000, -66.91666)"
       ]
      },
      {
       "output_type": "stream",
       "stream": "stdout",
       "text": [
        "\n",
        "750:Columbus, OH, USA -> Columbus, OH, United States, Columbus, United States: (39.96199, -83.00275)"
       ]
      },
      {
       "output_type": "stream",
       "stream": "stdout",
       "text": [
        "\n",
        "751:Goiania,  , Brazil -> Goi\u00c3\u00a2nia, Brazil, Goi\u00c3\u00a2nia, Brazil: (-16.67931, -49.25632)"
       ]
      },
      {
       "output_type": "stream",
       "stream": "stdout",
       "text": [
        "\n",
        "752:Aguascalientes, AGS, Mexico -> Aguascalientes, Mexico, Aguascalientes, Mexico: (21.88232, -102.29412)"
       ]
      },
      {
       "output_type": "stream",
       "stream": "stdout",
       "text": [
        "\n",
        "753:Cincinnati, OH, USA -> Cincinnati, OH, United States, Cincinnati, United States: (39.10713, -84.50413)"
       ]
      },
      {
       "output_type": "stream",
       "stream": "stdout",
       "text": [
        "\n",
        "754:Bern,  , Switzerland -> Berne, Switzerland, Berne, Switzerland: (46.94843, 7.44046)"
       ]
      },
      {
       "output_type": "stream",
       "stream": "stdout",
       "text": [
        "\n",
        "755:Bangkok,  , Thailand -> Bangkok, Thailand, Bangkok, Thailand: (13.72001, 100.62999)"
       ]
      },
      {
       "output_type": "stream",
       "stream": "stdout",
       "text": [
        "\n",
        "756:Burgos,  , Spain -> Burgos, Spain, Burgos, Spain: (42.34126, -3.69992)"
       ]
      },
      {
       "output_type": "stream",
       "stream": "stdout",
       "text": [
        "\n",
        "757:Algiers,  , Algeria -> Algiers, Algeria, Algiers, Algeria: (36.78056, 3.03901)"
       ]
      },
      {
       "output_type": "stream",
       "stream": "stdout",
       "text": [
        "\n",
        "758:Pachuca,  , Mexico -> Pachuca, Mexico, Pachuca, Mexico: (20.12160, -98.73314)"
       ]
      },
      {
       "output_type": "stream",
       "stream": "stdout",
       "text": [
        "\n",
        "759:Morelia, Michoac\u00e1n, Mexico -> Morelia, Mexico, Morelia, Mexico: (19.70292, -101.19365)"
       ]
      },
      {
       "output_type": "stream",
       "stream": "stdout",
       "text": [
        "\n",
        "760:Halifax, NS, Canada -> Halifax, NS, Canada, Halifax, Canada: (44.64546, -63.57657)"
       ]
      },
      {
       "output_type": "stream",
       "stream": "stdout",
       "text": [
        "\n",
        "761:Mount-Lebanon,  , Lebanon -> Mt Lebanon, PA, United States, Mt Lebanon, United States: (40.38359, -80.04381)"
       ]
      },
      {
       "output_type": "stream",
       "stream": "stdout",
       "text": [
        "\n",
        "762:Kyoto,  , Japan -> Kyoto-shi, Japan, Kyoto-shi, Japan: (35.09813, 135.71893)"
       ]
      },
      {
       "output_type": "stream",
       "stream": "stdout",
       "text": [
        "\n",
        "763:San Diego, CA, USA -> San Diego, CA, United States, San Diego, United States: (32.71569, -117.16172)"
       ]
      },
      {
       "output_type": "stream",
       "stream": "stdout",
       "text": [
        "\n",
        "764:Annaba,  , Algeria -> Annaba, Algeria, Annaba, Algeria: (36.90690, 7.75017)"
       ]
      },
      {
       "output_type": "stream",
       "stream": "stdout",
       "text": [
        "\n",
        "765:Cape Town,  , South Africa -> Cape Town, South Africa, Cape Town, South Africa: (-33.91909, 18.42199)"
       ]
      },
      {
       "output_type": "stream",
       "stream": "stdout",
       "text": [
        "\n",
        "766:Karachi,  , Pakistan -> Karachi, Pakistan, Karachi, Pakistan: (24.92671, 67.03437)"
       ]
      },
      {
       "output_type": "stream",
       "stream": "stdout",
       "text": [
        "\n",
        "767:Recife,  , Brazil -> Recife, Brazil, Recife, Brazil: (-8.05537, -34.87201)"
       ]
      },
      {
       "output_type": "stream",
       "stream": "stdout",
       "text": [
        "\n",
        "768:Hyderabad,  , India -> Hyderabad, Andhra Pradesh, India, Hyderabad, India: (17.34725, 78.42818)"
       ]
      },
      {
       "output_type": "stream",
       "stream": "stdout",
       "text": [
        "\n",
        "769:Utrecht,  , The Netherlands -> Utrecht, Netherlands, Utrecht, Netherlands: (52.08893, 5.11540)"
       ]
      },
      {
       "output_type": "stream",
       "stream": "stdout",
       "text": [
        "\n",
        "770:Bend, OR, USA -> Bend, OR, United States, Bend, United States: (44.05739, -121.31581)"
       ]
      },
      {
       "output_type": "stream",
       "stream": "stdout",
       "text": [
        "\n",
        "771:Abidjan,  , C\u00f4te d'Ivoire -> Abidjan, Cote d'Ivoire (Ivory Coast), Abidjan, Cote d'Ivoire (Ivory Coast): (5.35806, -4.01619)"
       ]
      },
      {
       "output_type": "stream",
       "stream": "stdout",
       "text": [
        "\n",
        "772:Lisbon,  , Portugal -> Lisbon, Portugal, Lisbon, Portugal: (38.72572, -9.15025)"
       ]
      },
      {
       "output_type": "stream",
       "stream": "stdout",
       "text": [
        "\n",
        "773:Strasbourg,  , France -> Strasbourg, France, Strasbourg, France: (48.58506, 7.73642)"
       ]
      },
      {
       "output_type": "stream",
       "stream": "stdout",
       "text": [
        "\n",
        "774:Lexington, KY, USA -> Lexington, KY, United States, Lexington, United States: (38.04859, -84.50032)"
       ]
      },
      {
       "output_type": "stream",
       "stream": "stdout",
       "text": [
        "\n",
        "775:Dar es Salaam,  , Tanzania -> Dar Es Salaam (Kinondoni), Tanzania, Dar Es Salaam, Tanzania: (-6.78320, 39.26767)"
       ]
      },
      {
       "output_type": "stream",
       "stream": "stdout",
       "text": [
        "\n",
        "776:Bratislava,  , Slovakia -> Bratislava, Slovakia, Bratislava, Slovakia: (48.14925, 17.10701)"
       ]
      },
      {
       "output_type": "stream",
       "stream": "stdout",
       "text": [
        "\n",
        "777:Islamabad,  , Pakistan -> Islamabad, Pakistan, Islamabad, Pakistan: (33.70768, 73.07047)"
       ]
      },
      {
       "output_type": "stream",
       "stream": "stdout",
       "text": [
        "\n",
        "778:Accra,  , Ghana -> Accra, Ghana, Accra, Ghana: (5.55856, -0.20092)"
       ]
      },
      {
       "output_type": "stream",
       "stream": "stdout",
       "text": [
        "\n",
        "779:Verona,  , Italy -> Verona VR, Italy, Verona, Italy: (45.43811, 10.99150)"
       ]
      },
      {
       "output_type": "stream",
       "stream": "stdout",
       "text": [
        "\n",
        "780:Ciudad Ju\u00e1rez, Chihuahua, Mexico -> Ciudad Juarez, Mexico, Ciudad Juarez, Mexico: (31.75774, -106.50904)"
       ]
      },
      {
       "output_type": "stream",
       "stream": "stdout",
       "text": [
        "\n",
        "781:San Jose,  , Costa Rica -> San Jose, Costa Rica, San Jose, Costa Rica: (9.92975, -84.08569)"
       ]
      },
      {
       "output_type": "stream",
       "stream": "stdout",
       "text": [
        "\n",
        "782:Bordeaux,  , France -> Bordeaux, France, Bordeaux, France: (44.83663, -0.58105)"
       ]
      },
      {
       "output_type": "stream",
       "stream": "stdout",
       "text": [
        "\n",
        "783:Stuttgart,  , Germany -> Stuttgart, Germany, Stuttgart, Germany: (48.76767, 9.17192)"
       ]
      },
      {
       "output_type": "stream",
       "stream": "stdout",
       "text": [
        "\n",
        "784:Cebu City,  , Philippines -> Cebu, Philippines, Cebu, Philippines: (10.31009, 123.89464)"
       ]
      },
      {
       "output_type": "stream",
       "stream": "stdout",
       "text": [
        "\n",
        "785:Edinburgh,  , UK -> Edinburgh, United Kingdom, Edinburgh, United Kingdom: (55.95415, -3.20277)"
       ]
      },
      {
       "output_type": "stream",
       "stream": "stdout",
       "text": [
        "\n",
        "786:Adelaide,  , Australia -> ADELAIDE, SA, AUSTRALIA, Adelaide, Australia: (-34.92610, 138.59988)"
       ]
      },
      {
       "output_type": "stream",
       "stream": "stdout",
       "text": [
        "\n",
        "787:Aarhus,  , Denmark -> Aarhus, Denmark, Aarhus, Denmark: (56.15300, 10.20452)"
       ]
      },
      {
       "output_type": "stream",
       "stream": "stdout",
       "text": [
        "\n",
        "788:Santo Domingo,  , Dominican Republic -> Santo Domingo, Dominican Republic, Santo Domingo, Dominican Republic: (18.47188, -69.89142)"
       ]
      },
      {
       "output_type": "stream",
       "stream": "stdout",
       "text": [
        "\n",
        "789:Stavanger,  , Norway -> Stavanger, Norway, Stavanger, Norway: (58.97103, 5.73066)"
       ]
      },
      {
       "output_type": "stream",
       "stream": "stdout",
       "text": [
        "\n",
        "790:Vilnius,  , Lithuania -> Vilnius, Lithuania, Vilnius, Lithuania: (54.69058, 25.26980)"
       ]
      },
      {
       "output_type": "stream",
       "stream": "stdout",
       "text": [
        "\n",
        "791:Ulaanbaatar,  , Mongolia -> Ulan Bator, Mongolia, Ulan Bator, Mongolia: (47.92850, 106.91231)"
       ]
      },
      {
       "output_type": "stream",
       "stream": "stdout",
       "text": [
        "\n",
        "792:Los Angeles, CA, USA -> Los Angeles, CA, United States, Los Angeles, United States: (34.05349, -118.24532)"
       ]
      },
      {
       "output_type": "stream",
       "stream": "stdout",
       "text": [
        "\n",
        "793:Seattle, WA, USA -> Seattle, WA, United States, Seattle, United States: (47.60356, -122.32944)"
       ]
      },
      {
       "output_type": "stream",
       "stream": "stdout",
       "text": [
        "\n",
        "794:Chicago, IL, USA -> Chicago, IL, United States, Chicago, United States: (41.88425, -87.63245)"
       ]
      },
      {
       "output_type": "stream",
       "stream": "stdout",
       "text": [
        "\n",
        "795:Kansas City, MO, USA -> Kansas City, MO, United States, Kansas City, United States: (39.10295, -94.58306)"
       ]
      },
      {
       "output_type": "stream",
       "stream": "stdout",
       "text": [
        "\n",
        "796:Brisbane,  , Australia -> BRISBANE, QLD, AUSTRALIA, Brisbane, Australia: (-27.46846, 153.02342)"
       ]
      },
      {
       "output_type": "stream",
       "stream": "stdout",
       "text": [
        "\n",
        "797:Luxembourg,  , Luxembourg -> Luxembourg, Luxembourg, Luxembourg, Luxembourg: (49.60959, 6.12969)"
       ]
      },
      {
       "output_type": "stream",
       "stream": "stdout",
       "text": [
        "\n",
        "798:Sarajevo,  , Bosnia and Herzegovina -> 71210 Sarajevo, Bosnia and Herzegovina, Ilidza, Bosnia and Herzegovina: (43.85316, 18.38493)"
       ]
      },
      {
       "output_type": "stream",
       "stream": "stdout",
       "text": [
        "\n",
        "799:C\u00f3rdoba,  , Argentina -> Cordoba, Argentina, Cordoba, Argentina: (-31.40716, -64.18567)"
       ]
      },
      {
       "output_type": "stream",
       "stream": "stdout",
       "text": [
        "\n",
        "800:Johnson City, TN, USA -> Johnson City, TN, United States, Johnson City, United States: (36.32008, -82.34528)"
       ]
      },
      {
       "output_type": "stream",
       "stream": "stdout",
       "text": [
        "\n",
        "801:Armenia,  , Colombia -> Armenia (Quindio), Colombia, Armenia, Colombia: (4.53004, -75.68836)"
       ]
      },
      {
       "output_type": "stream",
       "stream": "stdout",
       "text": [
        "\n",
        "802:Des Moines, IA, USA -> Des Moines, IA, United States, Des Moines, United States: (41.58976, -93.61565)"
       ]
      },
      {
       "output_type": "stream",
       "stream": "stdout",
       "text": [
        "\n",
        "803:Casablanca,  , Morocco -> Casablanca, Morocco, Casablanca, Morocco: (33.59656, -7.61889)"
       ]
      },
      {
       "output_type": "stream",
       "stream": "stdout",
       "text": [
        "\n",
        "804:Tampa, FL, USA -> Tampa, FL, United States, Tampa, United States: (27.94653, -82.45927)"
       ]
      },
      {
       "output_type": "stream",
       "stream": "stdout",
       "text": [
        "\n",
        "805:Tokyo,  , Japan -> Tokyo, Japan, Tokyo, Japan: (35.68321, 139.80894)"
       ]
      },
      {
       "output_type": "stream",
       "stream": "stdout",
       "text": [
        "\n",
        "806:Chisinau,  , Moldova -> Kishinev, Moldova, Kishinev, Moldova: (47.02461, 28.83244)"
       ]
      },
      {
       "output_type": "stream",
       "stream": "stdout",
       "text": [
        "\n",
        "807:Indianapolis, IN, USA -> Indianapolis, IN, United States, Indianapolis, United States: (39.76691, -86.14996)"
       ]
      },
      {
       "output_type": "stream",
       "stream": "stdout",
       "text": [
        "\n",
        "808:Grenoble,  , France -> Grenoble, France, Grenoble, France: (45.19400, 5.73201)"
       ]
      },
      {
       "output_type": "stream",
       "stream": "stdout",
       "text": [
        "\n",
        "809:Buffalo, NY, USA -> Buffalo, NY, United States, Buffalo, United States: (42.88544, -78.87846)"
       ]
      },
      {
       "output_type": "stream",
       "stream": "stdout",
       "text": [
        "\n",
        "810:Honolulu, UH, HI, USA -> Hawaii, United States, United States: (20.57365, -157.52686)"
       ]
      },
      {
       "output_type": "stream",
       "stream": "stdout",
       "text": [
        "\n",
        "811:Budapest,  , Hungary -> Budapest, Hungary, Budapest, Hungary: (47.50622, 19.06482)"
       ]
      },
      {
       "output_type": "stream",
       "stream": "stdout",
       "text": [
        "\n",
        "812:Poznan,  , Poland -> Poznan (Poznan), Poland, Poznan, Poland: (52.40947, 16.93828)"
       ]
      },
      {
       "output_type": "stream",
       "stream": "stdout",
       "text": [
        "\n",
        "813:Aalborg,  , Denmark -> Aalborg, Denmark, Aalborg, Denmark: (57.04934, 9.91632)"
       ]
      },
      {
       "output_type": "stream",
       "stream": "stdout",
       "text": [
        "\n",
        "814:Lyon,  , France -> Lyon, France, Lyon, France: (45.75939, 4.82898)"
       ]
      },
      {
       "output_type": "stream",
       "stream": "stdout",
       "text": [
        "\n",
        "815:Copenhagen,  , Denmark -> Copenhagen, Denmark, Copenhagen, Denmark: (55.67566, 12.56761)"
       ]
      },
      {
       "output_type": "stream",
       "stream": "stdout",
       "text": [
        "\n",
        "816:Zagreb,  , Croatia -> Zagreb, Croatia, Zagreb, Croatia: (45.80721, 15.96757)"
       ]
      },
      {
       "output_type": "stream",
       "stream": "stdout",
       "text": [
        "\n",
        "817:Paris,  , France -> Paris, France, Paris, France: (48.85693, 2.34120)"
       ]
      },
      {
       "output_type": "stream",
       "stream": "stdout",
       "text": [
        "\n",
        "818:Bogota,  , Colombia -> Bogota, D.C., Colombia, Bogota, D.C., Colombia: (4.61495, -74.06938)"
       ]
      },
      {
       "output_type": "stream",
       "stream": "stdout",
       "text": [
        "\n",
        "819:Portland, OR, USA -> Portland, OR, United States, Portland, United States: (45.51179, -122.67563)"
       ]
      },
      {
       "output_type": "stream",
       "stream": "stdout",
       "text": [
        "\n",
        "820:Quebec City, QC, Canada -> Quebec City, QC, Canada, Quebec City, Canada: (46.81278, -71.21935)"
       ]
      },
      {
       "output_type": "stream",
       "stream": "stdout",
       "text": [
        "\n",
        "821:Nizhny Novgorod,  , Russian Federation -> Novgorod, Russia, Novgorod, Russia: (58.54101, 31.28978)"
       ]
      },
      {
       "output_type": "stream",
       "stream": "stdout",
       "text": [
        "\n",
        "822:Belfort,  , France -> Belfort, France, Belfort, France: (47.63925, 6.86364)"
       ]
      },
      {
       "output_type": "stream",
       "stream": "stdout",
       "text": [
        "\n",
        "823:Singapore,  , Singapore -> Singapore, Singapore, Singapore, Singapore: (1.29016, 103.85200)"
       ]
      },
      {
       "output_type": "stream",
       "stream": "stdout",
       "text": [
        "\n",
        "824:Palmas de Gran Canaria,  , Spain -> Las Palmas, Spain, Las Palmas, Spain: (28.13022, -15.43971)"
       ]
      },
      {
       "output_type": "stream",
       "stream": "stdout",
       "text": [
        "\n",
        "825:Doha,  , Qatar -> Doha, Qatar, Doha, Qatar: (25.29457, 51.51944)"
       ]
      },
      {
       "output_type": "stream",
       "stream": "stdout",
       "text": [
        "\n",
        "826:Baltimore, MD, USA -> Baltimore, MD, United States, Baltimore, United States: (39.29058, -76.60926)"
       ]
      },
      {
       "output_type": "stream",
       "stream": "stdout",
       "text": [
        "\n",
        "827:Syracuse, NY, USA -> Syracuse, NY, United States, Syracuse, United States: (43.04999, -76.14739)"
       ]
      },
      {
       "output_type": "stream",
       "stream": "stdout",
       "text": [
        "\n",
        "828:Sao Paulo,  , Brazil -> Sao Paulo, Brazil, Sao Paulo, Brazil: (-23.56284, -46.65464)"
       ]
      },
      {
       "output_type": "stream",
       "stream": "stdout",
       "text": [
        "\n",
        "829:Johannesburg,  , South Africa -> Johannesburg, South Africa, Johannesburg, South Africa: (-26.20492, 28.04002)"
       ]
      },
      {
       "output_type": "stream",
       "stream": "stdout",
       "text": [
        "\n",
        "830:Marseille,  , France -> Marseille, France, Marseille, France: (43.29370, 5.37247)"
       ]
      },
      {
       "output_type": "stream",
       "stream": "stdout",
       "text": [
        "\n",
        "831:Be'er Sheva,  , Israel -> Be'er Sheva, Israel, Be'er Sheva, Israel: (31.23614, 34.79085)"
       ]
      },
      {
       "output_type": "stream",
       "stream": "stdout",
       "text": [
        "\n",
        "832:Constantine,  , Algeria -> Constantine, Algeria, Constantine, Algeria: (36.35736, 6.60804)"
       ]
      },
      {
       "output_type": "stream",
       "stream": "stdout",
       "text": [
        "\n",
        "833:New Delhi,  , India -> New Delhi, Delhi, India, New Delhi, India: (28.61382, 77.21068)"
       ]
      },
      {
       "output_type": "stream",
       "stream": "stdout",
       "text": [
        "\n",
        "834:New York City, NY, USA -> New York, NY, United States, New York, United States: (40.71455, -74.00712)"
       ]
      },
      {
       "output_type": "stream",
       "stream": "stdout",
       "text": [
        "\n",
        "835:Lille,  , France -> Lille, France, Lille, France: (50.63715, 3.06283)"
       ]
      },
      {
       "output_type": "stream",
       "stream": "stdout",
       "text": [
        "\n",
        "836:Rio de Janeiro,  , Brazil -> Rio de Janeiro, Brazil, Rio de Janeiro, Brazil: (-22.97667, -43.19475)"
       ]
      },
      {
       "output_type": "stream",
       "stream": "stdout",
       "text": [
        "\n",
        "837:San Francisco, CA, USA -> San Francisco, CA, United States, San Francisco, United States: (37.77712, -122.41964)"
       ]
      },
      {
       "output_type": "stream",
       "stream": "stdout",
       "text": [
        "\n",
        "838:Okinawa,  , Japan -> Okinawa Prefecture, Japan, Japan: (25.96579, 127.13288)"
       ]
      },
      {
       "output_type": "stream",
       "stream": "stdout",
       "text": [
        "\n",
        "839:Cordoba,  , Spain -> C\u00c3\u00b3rdoba, Spain, C\u00c3\u00b3rdoba, Spain: (37.86972, -4.77927)"
       ]
      },
      {
       "output_type": "stream",
       "stream": "stdout",
       "text": [
        "\n",
        "840:Shanghai,  , China -> Shanghai, Shanghai, People's Republic of China, Shanghai, People's Republic of China: (31.23037, 121.47489)"
       ]
      },
      {
       "output_type": "stream",
       "stream": "stdout",
       "text": [
        "\n",
        "841:Marrakech,  , Morocco -> Marrakech, Morocco, Marrakech, Morocco: (31.63382, -8.00223)"
       ]
      },
      {
       "output_type": "stream",
       "stream": "stdout",
       "text": [
        "\n",
        "842:Tripoli,  , Libya -> Tripoli, Libya, Tripoli, Libya: (32.86393, 13.15886)"
       ]
      },
      {
       "output_type": "stream",
       "stream": "stdout",
       "text": [
        "\n",
        "843:Las Vegas, NV, USA -> Las Vegas, NV, United States, Las Vegas, United States: (36.17191, -115.13997)"
       ]
      },
      {
       "output_type": "stream",
       "stream": "stdout",
       "text": [
        "\n",
        "844:Dhaka,  , Bangladesh -> Dhaka, Bangladesh, Dhaka, Bangladesh: (23.71323, 90.39957)"
       ]
      },
      {
       "output_type": "stream",
       "stream": "stdout",
       "text": [
        "\n",
        "845:Jackson, MS, USA -> Jackson, MS, United States, Jackson, United States: (32.29869, -90.18049)"
       ]
      },
      {
       "output_type": "stream",
       "stream": "stdout",
       "text": [
        "\n",
        "846:Orlando, FL, USA -> Orlando, FL, United States, Orlando, United States: (28.53823, -81.37739)"
       ]
      },
      {
       "output_type": "stream",
       "stream": "stdout",
       "text": [
        "\n",
        "847:Denton, TX, USA -> Denton, TX, United States, Denton, United States: (33.21656, -97.13098)"
       ]
      },
      {
       "output_type": "stream",
       "stream": "stdout",
       "text": [
        "\n",
        "848:Woodland Hills, CA, USA -> Woodland Hills, CA, United States, Woodland Hills, United States: (34.16880, -118.61092)"
       ]
      },
      {
       "output_type": "stream",
       "stream": "stdout",
       "text": [
        "\n",
        "849:Grand Rapids, MI, USA -> Grand Rapids, MI, United States, Grand Rapids, United States: (42.96641, -85.67118)"
       ]
      },
      {
       "output_type": "stream",
       "stream": "stdout",
       "text": [
        "\n",
        "850:Missoula, MT, USA -> Missoula, MT, United States, Missoula, United States: (46.87278, -113.99623)"
       ]
      },
      {
       "output_type": "stream",
       "stream": "stdout",
       "text": [
        "\n",
        "851:Nablus,  , Palestinian Territories -> Nablus, Palestine, Nablus, Palestine: (32.22411, 35.27151)"
       ]
      },
      {
       "output_type": "stream",
       "stream": "stdout",
       "text": [
        "\n",
        "852:London,  , UK -> London, United Kingdom, London, United Kingdom: (51.50632, -0.12714)"
       ]
      },
      {
       "output_type": "stream",
       "stream": "stdout",
       "text": [
        "\n",
        "853:Corvallis, Willamette Valley, OR, USA -> Willamette Park, Corvallis, OR 97333, United States, Corvallis, United States: (44.53811, -123.25156)"
       ]
      },
      {
       "output_type": "stream",
       "stream": "stdout",
       "text": [
        "\n",
        "854:Charlotte, NC, USA -> Charlotte, NC, United States, Charlotte, United States: (35.22286, -80.83796)"
       ]
      },
      {
       "output_type": "stream",
       "stream": "stdout",
       "text": [
        "\n",
        "855:Athens, OH, USA -> Athens, OH, United States, Athens, United States: (39.32850, -82.10444)"
       ]
      },
      {
       "output_type": "stream",
       "stream": "stdout",
       "text": [
        "\n",
        "856:Jacksonville, FL, USA -> Jacksonville, FL, United States, Jacksonville, United States: (30.33147, -81.65622)"
       ]
      },
      {
       "output_type": "stream",
       "stream": "stdout",
       "text": [
        "\n",
        "857:Cologne,  , Germany -> Cologne, Germany, Cologne, Germany: (50.94167, 6.95516)"
       ]
      },
      {
       "output_type": "stream",
       "stream": "stdout",
       "text": [
        "\n",
        "858:Tainan,  , Taiwan -> Tainan City, Taiwan, Tainan City, Taiwan: (22.98154, 120.19472)"
       ]
      },
      {
       "output_type": "stream",
       "stream": "stdout",
       "text": [
        "\n",
        "859:New York City, NY, USA -> New York, NY, United States, New York, United States: (40.71455, -74.00712)"
       ]
      },
      {
       "output_type": "stream",
       "stream": "stdout",
       "text": [
        "\n",
        "860:Seattle, WA, USA -> Seattle, WA, United States, Seattle, United States: (47.60356, -122.32944)"
       ]
      },
      {
       "output_type": "stream",
       "stream": "stdout",
       "text": [
        "\n",
        "861:Seaside, CA, USA -> Seaside, CA, United States, Seaside, United States: (36.60388, -121.85266)"
       ]
      },
      {
       "output_type": "stream",
       "stream": "stdout",
       "text": [
        "\n",
        "862:San Luis Obispo, Cal Poly, CA, USA -> Pony Pl, Arroyo Grande, CA 93420, United States, Arroyo Grande, United States: (35.07655, -120.58335)"
       ]
      },
      {
       "output_type": "stream",
       "stream": "stdout",
       "text": [
        "\n",
        "863:Riyadh,  , Saudi Arabia -> Riyadh, Saudi Arabia, Riyadh, Saudi Arabia: (24.64745, 46.71453)"
       ]
      },
      {
       "output_type": "stream",
       "stream": "stdout",
       "text": [
        "\n",
        "864:Kuwait City,  , Kuwait -> Kuwait City, Kuwait, Kuwait City, Kuwait: (29.37321, 47.97142)"
       ]
      },
      {
       "output_type": "stream",
       "stream": "stdout",
       "text": [
        "\n",
        "865:Sulaimanya,  , Iraq -> As Sulaymaniyah, Iraq, Iraq: (35.56527, 45.43015)"
       ]
      },
      {
       "output_type": "stream",
       "stream": "stdout",
       "text": [
        "\n",
        "866:Bergen,  , Norway -> Bergen, Norway, Bergen, Norway: (60.39068, 5.33277)"
       ]
      },
      {
       "output_type": "stream",
       "stream": "stdout",
       "text": [
        "\n",
        "867:San Francisco, CA, USA -> San Francisco, CA, United States, San Francisco, United States: (37.77712, -122.41964)"
       ]
      },
      {
       "output_type": "stream",
       "stream": "stdout",
       "text": [
        "\n",
        "868:Klagenfurt,  , Austria -> Klagenfurt, Austria, Klagenfurt, Austria: (46.62056, 14.31069)"
       ]
      },
      {
       "output_type": "stream",
       "stream": "stdout",
       "text": [
        "\n",
        "869:Tenerife,  , Spain -> Tenerife Island, Santa Cruz de Tenerife, Spain, Spain: (28.29328, -16.52266)"
       ]
      },
      {
       "output_type": "stream",
       "stream": "stdout",
       "text": [
        "\n",
        "870:Milan,  , Italy -> Milan MI, Italy, Milan, Italy: (45.46894, 9.18103)"
       ]
      },
      {
       "output_type": "stream",
       "stream": "stdout",
       "text": [
        "\n",
        "871:Irvine, UCI, CA, USA -> University of California Irvine, Irvine, CA 92697, United States, Irvine, United States: (33.64630, -117.84200)"
       ]
      },
      {
       "output_type": "stream",
       "stream": "stdout",
       "text": [
        "\n",
        "872:Ann Arbor, MI, USA -> Ann Arbor, MI, United States, Ann Arbor, United States: (42.28210, -83.74847)"
       ]
      },
      {
       "output_type": "stream",
       "stream": "stdout",
       "text": [
        "\n",
        "873:Flagstaff, AZ, USA -> Flagstaff, AZ, United States, Flagstaff, United States: (35.19820, -111.65130)"
       ]
      },
      {
       "output_type": "stream",
       "stream": "stdout",
       "text": [
        "\n",
        "874:Norman, OK, USA -> Norman, OK, United States, Norman, United States: (35.22076, -97.44660)"
       ]
      },
      {
       "output_type": "stream",
       "stream": "stdout",
       "text": [
        "\n",
        "875:Kathmandu,  , Nepal -> Kathmandu, Nepal, Kathmandu, Nepal: (27.69335, 85.32232)"
       ]
      },
      {
       "output_type": "stream",
       "stream": "stdout",
       "text": [
        "\n",
        "876:Montreal, QC, Canada -> Montreal, QC, Canada, Montreal, Canada: (45.51243, -73.55466)"
       ]
      },
      {
       "output_type": "stream",
       "stream": "stdout",
       "text": [
        "\n",
        "877:Terre Haute, IN, USA -> Terre Haute, IN, United States, Terre Haute, United States: (39.46649, -87.41323)"
       ]
      },
      {
       "output_type": "stream",
       "stream": "stdout",
       "text": [
        "\n",
        "878:Tokyo,  , Japan -> Tokyo, Japan, Tokyo, Japan: (35.68321, 139.80894)"
       ]
      },
      {
       "output_type": "stream",
       "stream": "stdout",
       "text": [
        "\n",
        "879:Oxford, OH, USA -> Oxford, OH, United States, Oxford, United States: (39.51049, -84.74275)"
       ]
      },
      {
       "output_type": "stream",
       "stream": "stdout",
       "text": [
        "\n",
        "880:Calgary, AB, Canada -> Calgary, AB, Canada, Calgary, Canada: (51.04522, -114.06298)"
       ]
      },
      {
       "output_type": "stream",
       "stream": "stdout",
       "text": [
        "\n",
        "881:London, ON, Canada -> London, ON, Canada, London, Canada: (42.98691, -81.24618)"
       ]
      },
      {
       "output_type": "stream",
       "stream": "stdout",
       "text": [
        "\n",
        "882:Paris,  , France -> Paris, France, Paris, France: (48.85693, 2.34120)"
       ]
      },
      {
       "output_type": "stream",
       "stream": "stdout",
       "text": [
        "\n",
        "883:Athens,  , Greece -> Athens, Greece, Athens, Greece: (37.97615, 23.73641)"
       ]
      },
      {
       "output_type": "stream",
       "stream": "stdout",
       "text": [
        "\n",
        "884:San Francisco, CA, USA -> San Francisco, CA, United States, San Francisco, United States: (37.77712, -122.41964)"
       ]
      },
      {
       "output_type": "stream",
       "stream": "stdout",
       "text": [
        "\n",
        "885:Philadelphia, PA, USA -> Philadelphia, PA, United States, Philadelphia, United States: (39.95228, -75.16245)"
       ]
      },
      {
       "output_type": "stream",
       "stream": "stdout",
       "text": [
        "\n",
        "886:Pasadena, CA, USA -> Pasadena, CA, United States, Pasadena, United States: (34.14745, -118.14427)"
       ]
      },
      {
       "output_type": "stream",
       "stream": "stdout",
       "text": [
        "\n",
        "887:Krakow,  , Poland -> Cracow, Poland, Cracow, Poland: (50.06046, 19.93240)"
       ]
      },
      {
       "output_type": "stream",
       "stream": "stdout",
       "text": [
        "\n",
        "888:Mexico City,  , Mexico -> Mexico City, Mexico, Mexico City, Mexico: (19.43001, -99.13001)"
       ]
      },
      {
       "output_type": "stream",
       "stream": "stdout",
       "text": [
        "\n",
        "889:Wellington,  , New Zealand -> Wellington (Wellington City), New Zealand, Wellington, New Zealand: (-41.28431, 174.77766)"
       ]
      },
      {
       "output_type": "stream",
       "stream": "stdout",
       "text": [
        "\n",
        "890:Blida,  , Algeria -> Blida, Algeria, Blida, Algeria: (36.48249, 2.83544)"
       ]
      },
      {
       "output_type": "stream",
       "stream": "stdout",
       "text": [
        "\n",
        "891:Evansville, IN, USA -> Evansville, IN, United States, Evansville, United States: (37.97708, -87.56405)"
       ]
      },
      {
       "output_type": "stream",
       "stream": "stdout",
       "text": [
        "\n",
        "892:Port-au-Prince,  , Haiti -> Port-au-Prince, Haiti, Port-au-Prince, Haiti: (18.54362, -72.33971)"
       ]
      },
      {
       "output_type": "stream",
       "stream": "stdout",
       "text": [
        "\n",
        "893:Bangalore,  , India -> Bengaluru, Karnataka, India, Bengaluru, India: (12.96697, 77.58728)"
       ]
      },
      {
       "output_type": "stream",
       "stream": "stdout",
       "text": [
        "\n",
        "894:Reno, NV, USA -> Reno, NV, United States, Reno, United States: (39.52738, -119.81344)"
       ]
      },
      {
       "output_type": "stream",
       "stream": "stdout",
       "text": [
        "\n",
        "895:Chiapas, CHIS, Mexico -> Chiapas, 301 Tzimol, Mexico, Tzimol, Mexico: (16.50000, -91.75000)"
       ]
      },
      {
       "output_type": "stream",
       "stream": "stdout",
       "text": [
        "\n",
        "896:Lahore,  , Pakistan -> Lahore, Pakistan, Lahore, Pakistan: (31.53945, 74.30348)"
       ]
      },
      {
       "output_type": "stream",
       "stream": "stdout",
       "text": [
        "\n",
        "897:Lansing, MI, USA -> Lansing, MI, United States, Lansing, United States: (42.73194, -84.55225)"
       ]
      },
      {
       "output_type": "stream",
       "stream": "stdout",
       "text": [
        "\n",
        "898:Lausanne,  , Switzerland -> Lausanne, Switzerland, Lausanne, Switzerland: (46.51960, 6.63222)"
       ]
      },
      {
       "output_type": "stream",
       "stream": "stdout",
       "text": [
        "\n",
        "899:Brasilia,  , Brazil -> Brasilia, Brazil, Brasilia, Brazil: (-15.77839, -47.92863)"
       ]
      },
      {
       "output_type": "stream",
       "stream": "stdout",
       "text": [
        "\n",
        "900:Lancaster, PA, USA -> Lancaster, PA, United States, Lancaster, United States: (40.03805, -76.30127)"
       ]
      },
      {
       "output_type": "stream",
       "stream": "stdout",
       "text": [
        "\n",
        "901:Tehran,  , Iran -> Tehran, Iran, Tehran, Iran: (34.64398, 50.89100)"
       ]
      },
      {
       "output_type": "stream",
       "stream": "stdout",
       "text": [
        "\n",
        "902:New York City, NY, USA -> New York, NY, United States, New York, United States: (40.71455, -74.00712)"
       ]
      },
      {
       "output_type": "stream",
       "stream": "stdout",
       "text": [
        "\n",
        "903:Tunis,  , Tunisia -> Tunis, Tunisia, Tunis, Tunisia: (36.81486, 10.15913)"
       ]
      },
      {
       "output_type": "stream",
       "stream": "stdout",
       "text": [
        "\n",
        "904:Izmir,  , Turkey -> Izmir, Turkey, Izmir, Turkey: (38.42514, 27.14230)"
       ]
      },
      {
       "output_type": "stream",
       "stream": "stdout",
       "text": [
        "\n",
        "905:Kiev,  , Ukraine -> Kiev, Ukraine, Kiev, Ukraine: (50.45057, 30.52427)"
       ]
      },
      {
       "output_type": "stream",
       "stream": "stdout",
       "text": [
        "\n",
        "906:Eindhoven,  , The Netherlands -> Eindhoven, Netherlands, Eindhoven, Netherlands: (51.43447, 5.48410)"
       ]
      },
      {
       "output_type": "stream",
       "stream": "stdout",
       "text": [
        "\n",
        "907:Cartagena,  , Spain -> Cartagena, Spain, Cartagena, Spain: (37.60673, -0.98800)"
       ]
      },
      {
       "output_type": "stream",
       "stream": "stdout",
       "text": [
        "\n",
        "908:Santiago,  , Dominican Republic -> 51000 Santiago de los Caballeros, Dominican Republic, La Lomota, Dominican Republic: (19.45565, -70.70719)"
       ]
      },
      {
       "output_type": "stream",
       "stream": "stdout",
       "text": [
        "\n",
        "909:London,  , UK -> London, United Kingdom, London, United Kingdom: (51.50632, -0.12714)"
       ]
      },
      {
       "output_type": "stream",
       "stream": "stdout",
       "text": [
        "\n",
        "910:Ahmedabad,  , India -> Ahmedabad, Gujarat, India, Ahmedabad, India: (23.01930, 72.58174)"
       ]
      },
      {
       "output_type": "stream",
       "stream": "stdout",
       "text": [
        "\n",
        "911:Buffalo, NY, USA -> Buffalo, NY, United States, Buffalo, United States: (42.88544, -78.87846)"
       ]
      },
      {
       "output_type": "stream",
       "stream": "stdout",
       "text": [
        "\n",
        "912:Storrs, CT, USA -> Storrs, CT, United States, Storrs, United States: (41.81534, -72.25381)"
       ]
      },
      {
       "output_type": "stream",
       "stream": "stdout",
       "text": [
        "\n",
        "913:Spokane, WA, USA -> Spokane, WA, United States, Spokane, United States: (47.65726, -117.41228)"
       ]
      },
      {
       "output_type": "stream",
       "stream": "stdout",
       "text": [
        "\n",
        "914:Santa Fe, NM, USA -> Santa Fe, NM, United States, Santa Fe, United States: (35.69168, -105.93796)"
       ]
      },
      {
       "output_type": "stream",
       "stream": "stdout",
       "text": [
        "\n",
        "915:Cluj-Napoca,  , Romania -> Cluj-Napoca, Romania, Cluj-Napoca, Romania: (46.76860, 23.58506)"
       ]
      },
      {
       "output_type": "stream",
       "stream": "stdout",
       "text": [
        "\n",
        "916:Louisville, KY, USA -> Louisville, KY, United States, Louisville, United States: (38.25486, -85.76640)"
       ]
      },
      {
       "output_type": "stream",
       "stream": "stdout",
       "text": [
        "\n",
        "917:Byblos,  , Lebanon -> Jubayl, Lebanon, Jubayl, Lebanon: (34.12316, 35.65449)"
       ]
      },
      {
       "output_type": "stream",
       "stream": "stdout",
       "text": [
        "\n",
        "918:Prince George, BC, Canada -> Prince George, BC, Canada, Prince George, Canada: (53.91242, -122.74463)"
       ]
      },
      {
       "output_type": "stream",
       "stream": "stdout",
       "text": [
        "\n",
        "919:Orange, CA, USA -> Orange, CA, United States, Orange, United States: (33.78786, -117.85040)"
       ]
      },
      {
       "output_type": "stream",
       "stream": "stdout",
       "text": [
        "\n",
        "920:Columbus, OH, USA -> Columbus, OH, United States, Columbus, United States: (39.96199, -83.00275)"
       ]
      },
      {
       "output_type": "stream",
       "stream": "stdout",
       "text": [
        "\n",
        "921:Saratoga, NY, USA -> Saratoga, NY, United States, Saratoga, United States: (43.06974, -73.63661)"
       ]
      },
      {
       "output_type": "stream",
       "stream": "stdout",
       "text": [
        "\n",
        "922:Haifa,  , Israel -> Haifa, Israel, Haifa, Israel: (32.80123, 35.00326)"
       ]
      },
      {
       "output_type": "stream",
       "stream": "stdout",
       "text": [
        "\n",
        "923:Lincoln, NE, USA -> Lincoln, NE, United States, Lincoln, United States: (40.81362, -96.70774)"
       ]
      },
      {
       "output_type": "stream",
       "stream": "stdout",
       "text": [
        "\n",
        "924:Raleigh-Durham, NC, USA -> Durham International Airport, Morrisville, NC 27560, United States, Morrisville, United States: (35.87380, -78.79120)"
       ]
      },
      {
       "output_type": "stream",
       "stream": "stdout",
       "text": [
        "\n",
        "925:Fargo, ND, USA -> Fargo, ND, United States, Fargo, United States: (46.87591, -96.78176)"
       ]
      },
      {
       "output_type": "stream",
       "stream": "stdout",
       "text": [
        "\n",
        "926:Fairbanks, AK, USA -> Fairbanks, AK, United States, Fairbanks, United States: (64.84508, -147.72206)"
       ]
      },
      {
       "output_type": "stream",
       "stream": "stdout",
       "text": [
        "\n",
        "927:Kelowna, BC, Canada -> Kelowna, BC, Canada, Kelowna, Canada: (49.88682, -119.49656)"
       ]
      },
      {
       "output_type": "stream",
       "stream": "stdout",
       "text": [
        "\n",
        "928:Boston, MA, USA -> Boston, MA, United States, Boston, United States: (42.35866, -71.05674)"
       ]
      },
      {
       "output_type": "stream",
       "stream": "stdout",
       "text": [
        "\n",
        "929:Perth,  , Australia -> PERTH, WA, AUSTRALIA, Perth, Australia: (-31.95264, 115.85741)"
       ]
      },
      {
       "output_type": "stream",
       "stream": "stdout",
       "text": [
        "\n",
        "930:Cape Cod, MA, USA -> Cape Cod, Massachusetts, United States, United States: (41.79912, -70.31420)"
       ]
      },
      {
       "output_type": "stream",
       "stream": "stdout",
       "text": [
        "\n",
        "931:Cleveland, OH, USA -> Cleveland, OH, United States, Cleveland, United States: (41.50475, -81.69072)"
       ]
      },
      {
       "output_type": "stream",
       "stream": "stdout",
       "text": [
        "\n",
        "932:Valencia,  , Spain -> Valencia, Spain, Valencia, Spain: (39.46899, -0.37686)"
       ]
      },
      {
       "output_type": "stream",
       "stream": "stdout",
       "text": [
        "\n",
        "933:Hyderabad,  , India -> Hyderabad, Andhra Pradesh, India, Hyderabad, India: (17.34725, 78.42818)"
       ]
      },
      {
       "output_type": "stream",
       "stream": "stdout",
       "text": [
        "\n",
        "934:Reykjavik,  , Iceland -> Reykjavik, Iceland, Reykjavik, Iceland: (64.14741, -21.93399)"
       ]
      },
      {
       "output_type": "stream",
       "stream": "stdout",
       "text": [
        "\n",
        "935:Nice,  , France -> Nice, France, Nice, France: (43.70153, 7.27824)"
       ]
      },
      {
       "output_type": "stream",
       "stream": "stdout",
       "text": [
        "\n",
        "936:Madison, NJ, USA -> Madison, NJ, United States, Madison, United States: (40.75712, -74.41601)"
       ]
      },
      {
       "output_type": "stream",
       "stream": "stdout",
       "text": [
        "\n",
        "937:Enschede,  , The Netherlands -> Enschede, Netherlands, Enschede, Netherlands: (52.22357, 6.89537)"
       ]
      },
      {
       "output_type": "stream",
       "stream": "stdout",
       "text": [
        "\n",
        "938:Okinawa,  , Japan -> Okinawa Prefecture, Japan, Japan: (25.96579, 127.13288)"
       ]
      },
      {
       "output_type": "stream",
       "stream": "stdout",
       "text": [
        "\n",
        "939:Torino,  , Italy -> Turin TO, Italy, Turin, Italy: (45.06968, 7.70493)"
       ]
      },
      {
       "output_type": "stream",
       "stream": "stdout",
       "text": [
        "\n",
        "940:Portland, ME, USA -> Portland, ME, United States, Portland, United States: (43.65914, -70.25665)"
       ]
      },
      {
       "output_type": "stream",
       "stream": "stdout",
       "text": [
        "\n",
        "941:San Francisco, CA, USA -> San Francisco, CA, United States, San Francisco, United States: (37.77712, -122.41964)"
       ]
      },
      {
       "output_type": "stream",
       "stream": "stdout",
       "text": [
        "\n",
        "942:Eskisehir,  , Turkey -> Eskisehir, Turkey, Turkey: (39.61951, 31.01921)"
       ]
      },
      {
       "output_type": "stream",
       "stream": "stdout",
       "text": [
        "\n",
        "943:Santiago,  , Chile -> Santiago, Chile, Santiago, Chile: (-33.43721, -70.65002)"
       ]
      },
      {
       "output_type": "stream",
       "stream": "stdout",
       "text": [
        "\n",
        "944:Fredericton, NB, Canada -> Fredericton, NB, Canada, Fredericton, Canada: (45.96062, -66.63909)"
       ]
      },
      {
       "output_type": "stream",
       "stream": "stdout",
       "text": [
        "\n",
        "945:Toulouse,  , France -> Toulouse, France, Toulouse, France: (43.60573, 1.44869)"
       ]
      },
      {
       "output_type": "stream",
       "stream": "stdout",
       "text": [
        "\n",
        "946:Belgrade,  , Serbia -> Belgrade, Serbia, Belgrade, Serbia: (44.81282, 20.46334)"
       ]
      },
      {
       "output_type": "stream",
       "stream": "stdout",
       "text": [
        "\n",
        "947:Vancouver, UBC, BC, Canada -> Ubc, BC V6T, Canada, Vancouver, Canada: (49.26824, -123.24727)"
       ]
      },
      {
       "output_type": "stream",
       "stream": "stdout",
       "text": [
        "\n",
        "948:Dunedin,  , New Zealand -> Dunedin, New Zealand, Dunedin, New Zealand: (-45.87449, 170.50385)"
       ]
      },
      {
       "output_type": "stream",
       "stream": "stdout",
       "text": [
        "\n",
        "949:Florianopolis,  , Brazil -> Florian\u00c3\u00b3polis, Brazil, Florian\u00c3\u00b3polis, Brazil: (-27.59780, -48.54818)"
       ]
      },
      {
       "output_type": "stream",
       "stream": "stdout",
       "text": [
        "\n",
        "950:Jeddah,  , Saudi Arabia -> Jiddah, Saudi Arabia, Jiddah, Saudi Arabia: (21.48168, 39.18286)"
       ]
      },
      {
       "output_type": "stream",
       "stream": "stdout",
       "text": [
        "\n",
        "951:Assiut,  , Egypt -> Asyut, Egypt, Asyut, Egypt: (27.18252, 31.18321)"
       ]
      },
      {
       "output_type": "stream",
       "stream": "stdout",
       "text": [
        "\n",
        "952:Taipei,  , Taiwan -> Taipei, Taiwan, Taipei, Taiwan: (25.03933, 121.51294)"
       ]
      },
      {
       "output_type": "stream",
       "stream": "stdout",
       "text": [
        "\n",
        "953:Ramallah,  , Palestinian Territories -> Ram Allah, Palestine, Ram Allah, Palestine: (31.89851, 35.20050)"
       ]
      },
      {
       "output_type": "stream",
       "stream": "stdout",
       "text": [
        "\n",
        "954:Cork,  , Ireland -> CORK, IRELAND, Cork, Ireland: (51.89834, -8.47277)"
       ]
      },
      {
       "output_type": "stream",
       "stream": "stdout",
       "text": [
        "\n",
        "955:Kitchener, ON, Canada -> Kitchener, ON, Canada, Kitchener, Canada: (43.45126, -80.49303)"
       ]
      },
      {
       "output_type": "stream",
       "stream": "stdout",
       "text": [
        "\n",
        "956:London,  , UK -> London, United Kingdom, London, United Kingdom: (51.50632, -0.12714)"
       ]
      },
      {
       "output_type": "stream",
       "stream": "stdout",
       "text": [
        "\n",
        "957:Sofia,  , Bulgaria -> Sofia, Bulgaria, Sofia, Bulgaria: (42.69719, 23.32437)"
       ]
      },
      {
       "output_type": "stream",
       "stream": "stdout",
       "text": [
        "\n",
        "958:Johnson City, TN, USA -> Johnson City, TN, United States, Johnson City, United States: (36.32008, -82.34528)"
       ]
      },
      {
       "output_type": "stream",
       "stream": "stdout",
       "text": [
        "\n",
        "959:Monterrey, NL, Mexico -> Monterrey, Mexico, Monterrey, Mexico: (25.67084, -100.30953)"
       ]
      },
      {
       "output_type": "stream",
       "stream": "stdout",
       "text": [
        "\n"
       ]
      }
     ],
     "prompt_number": 3
    },
    {
     "cell_type": "code",
     "collapsed": false,
     "input": [
      "from ago import human\n",
      "#Save a valid GeoJson\n",
      "\n",
      "# the template. where data from the csv will be formatted to geojson\n",
      "template = \\\n",
      "    ''' \\\n",
      "    { \"type\" : \"Feature\",\n",
      "      \"geometry\" : {\"type\" : \"Point\", \"coordinates\" : [%s,%s]},\n",
      "        \"properties\" : { \n",
      "            \"marker-color\": \"%s\",\n",
      "            \"marker-symbol\": \"star-stroked\",\n",
      "            \"marker-size\": \"small\",\n",
      "            \"title\" : \"%s\", \n",
      "            \"description\" : \"%s\",\n",
      "            \"website\" : \"%s\",\n",
      "            \"date\": \"%s\"\n",
      "            }\n",
      "        }\n",
      "    '''\n",
      " \n",
      "# the head of the geojson file\n",
      "output = \\\n",
      "    ''' \\\n",
      "{ \"type\" : \"Feature Collection\",\n",
      "    \"features\" : [\n",
      "    '''\n",
      "i=0\n",
      "for row in data:\n",
      "    if (i != 0): \n",
      "        output += \",\"\n",
      "    i+=1\n",
      "    date=parser.parse(row[\"start_date\"])\n",
      "    \n",
      "    #colorize by year\n",
      "    colors = ['#345F94',\"#15DAFD\",\"EC8713\",\"#F74700\"]\n",
      "    step = 4. / len(colors)\n",
      "    year=int(date.strftime(\"%Y\"))\n",
      "    color = colors[0-math.trunc((2013-year) / step)]\n",
      "    \n",
      "    #fix links\n",
      "    if (row[\"website\"]!= None):\n",
      "        if row[\"website\"].count(\"http://\")==0:\n",
      "            row[\"website\"]=\"http://\"+row[\"website\"]\n",
      "    \n",
      "    #order is color,lat,lon,name,website,date\n",
      "    output += template % (row[\"lon\"], row[\"lat\"], color,row[\"city\"], date.strftime(\"%b %d, %Y\"),row[\"website\"],row[\"start_date\"])\n",
      "# the tail of the geojson file\n",
      "#remove last comma\n",
      "output=output[0:-1]\n",
      "output += \\\n",
      "    ''' \\\n",
      "    ]\n",
      "}\n",
      "    '''\n",
      " \n",
      "# opens an geoJSON file to write the output to\n",
      "outFileHandle = open(\"events.geojson\", \"wb\")\n",
      "outFileHandle.write(output.encode(\"UTF-8\"))\n",
      "outFileHandle.close()\n"
     ],
     "language": "python",
     "metadata": {},
     "outputs": [],
     "prompt_number": 84
    },
    {
     "cell_type": "code",
     "collapsed": false,
     "input": [
      "data[15][\"website\"]\n"
     ],
     "language": "python",
     "metadata": {},
     "outputs": [
      {
       "output_type": "pyout",
       "prompt_number": 81,
       "text": [
        "u'dallas.startupweekend.org'"
       ]
      }
     ],
     "prompt_number": 81
    },
    {
     "cell_type": "code",
     "collapsed": false,
     "input": [
      "parser.parse(t).strftime(\"%b %d, %Y\")"
     ],
     "language": "python",
     "metadata": {},
     "outputs": [
      {
       "output_type": "pyout",
       "prompt_number": 55,
       "text": [
        "'Feb 26, 2010'"
       ]
      }
     ],
     "prompt_number": 55
    },
    {
     "cell_type": "code",
     "collapsed": false,
     "input": [
      "\n",
      "                  "
     ],
     "language": "python",
     "metadata": {},
     "outputs": []
    }
   ],
   "metadata": {}
  }
 ]
}