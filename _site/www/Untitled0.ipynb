{
 "metadata": {
  "name": "Untitled0"
 },
 "nbformat": 3,
 "nbformat_minor": 0,
 "worksheets": [
  {
   "cells": [
    {
     "cell_type": "code",
     "collapsed": false,
     "input": [
      "import json \n",
      "\n",
      "#Load Json file:\n",
      "json_file=\"events.json\"\n",
      "json_data=open(json_file).read()\n",
      "\n",
      "data = json.loads(json_data)"
     ],
     "language": "python",
     "metadata": {},
     "outputs": [],
     "prompt_number": 1
    },
    {
     "cell_type": "code",
     "collapsed": false,
     "input": [
      "data[0]"
     ],
     "language": "python",
     "metadata": {},
     "outputs": [
      {
       "output_type": "pyout",
       "prompt_number": 2,
       "text": [
        "{u'city': u'West Michigan',\n",
        " u'country': u'USA',\n",
        " u'facilitators': [{u'_id': u'5011b56e91ac880200000977',\n",
        "   u'first_name': u'Marc',\n",
        "   u'last_name': u'Nager',\n",
        "   u'name': u'Marc Nager'}],\n",
        " u'id': 1,\n",
        " u'location': {},\n",
        " u'start_date': u'2010-02-26T00:00:00.000Z',\n",
        " u'state': u'MI',\n",
        " u'twitter_hashtag': None,\n",
        " u'vertical': None,\n",
        " u'website': u'wmi.startupweekend.org'}"
       ]
      }
     ],
     "prompt_number": 2
    },
    {
     "cell_type": "code",
     "collapsed": false,
     "input": [
      "#Geocode\n",
      "from geopy import geocoders\n",
      "import time\n",
      "import thread\n",
      "y = geocoders.GoogleV3()\n",
      "#y = geocoders.Yahoo('NO_NEED_FOR_ID')\n",
      "i=0\n",
      "\n",
      "def th_geocode(event,i,place_in, place):\n",
      "    #time.sleep(0.5)\n",
      "    try:\n",
      "     place, (lat, lng) = y.geocode(place_in, exactly_one=False)[0] \n",
      "     print \"%i:%s -> %s: (%.5f, %.5f)\" % (i,place_in, place, lat, lng) \n",
      "    except :\n",
      "     place=''\n",
      "     lat=''\n",
      "     lng=''\n",
      "            \n",
      "    event['lat']=lat\n",
      "    event[\"lon\"]=lng\n",
      "    event[\"full_loc\"]=place.replace(\",  ,\",\", \")\n",
      "     \n",
      "\n",
      "for event in data:\n",
      "    i+=1\n",
      "    #hack for missing state\n",
      "    if \"state\" not in event:\n",
      "            event[\"state\"]=\"\"\n",
      "    place_in=event[\"city\"]+\", \"+(event[\"state\"] or u\" \")+\", \"+event[\"country\"]\n",
      "    th_geocode(event,i,place_in, place)\n",
      "    #thread.start_new_thread( th_geocode, (event,i,place_in, place) )\n",
      "\n",
      "    "
     ],
     "language": "python",
     "metadata": {},
     "outputs": [
      {
       "output_type": "stream",
       "stream": "stdout",
       "text": [
        "1:West Michigan, MI, USA -> Michigan, USA: (44.31484, -85.60236)\n",
        "2:Oklahoma City, OK, USA -> Oklahoma City, OK, USA: (35.46756, -97.51643)"
       ]
      },
      {
       "output_type": "stream",
       "stream": "stdout",
       "text": [
        "\n",
        "3:Des Moines, IA, USA -> Des Moines, IA, USA: (41.60054, -93.60911)"
       ]
      },
      {
       "output_type": "stream",
       "stream": "stdout",
       "text": [
        "\n",
        "4:Portland, OR, USA -> Portland, OR, USA: (45.52345, -122.67621)"
       ]
      },
      {
       "output_type": "stream",
       "stream": "stdout",
       "text": [
        "\n",
        "5:Omaha, NE, USA -> Omaha, NE, USA: (41.25236, -95.99799)"
       ]
      },
      {
       "output_type": "stream",
       "stream": "stdout",
       "text": [
        "\n",
        "6:Seattle, WA, USA -> Seattle, WA, USA: (47.60621, -122.33207)"
       ]
      },
      {
       "output_type": "stream",
       "stream": "stdout",
       "text": [
        "\n",
        "7:Miami, FL, USA -> Miami, FL, USA: (25.78897, -80.22644)"
       ]
      },
      {
       "output_type": "stream",
       "stream": "stdout",
       "text": [
        "\n",
        "8:New Brunswick, NJ, USA -> New Brunswick, NJ, USA: (40.48622, -74.45182)"
       ]
      },
      {
       "output_type": "stream",
       "stream": "stdout",
       "text": [
        "\n",
        "9:Lund,  , Sweden -> Lund, Sweden: (55.70466, 13.19101)"
       ]
      },
      {
       "output_type": "stream",
       "stream": "stdout",
       "text": [
        "\n",
        "10:Copenhagen,  , Denmark -> Copenhagen, Denmark: (55.67610, 12.56834)"
       ]
      },
      {
       "output_type": "stream",
       "stream": "stdout",
       "text": [
        "\n",
        "11:Oslo,  , Norway -> Oslo, Norway: (59.91387, 10.75225)"
       ]
      },
      {
       "output_type": "stream",
       "stream": "stdout",
       "text": [
        "\n",
        "22:Dublin,  , Ireland -> Dublin, Co. Dublin, Ireland: (53.34981, -6.26031)"
       ]
      },
      {
       "output_type": "stream",
       "stream": "stdout",
       "text": [
        "\n",
        "23:Detroit, MI, USA -> Detroit, MI, USA: (42.33143, -83.04575)"
       ]
      },
      {
       "output_type": "stream",
       "stream": "stdout",
       "text": [
        "\n",
        "24:Venice,  , Italy -> Venice, Italy: (45.44085, 12.31552)"
       ]
      },
      {
       "output_type": "stream",
       "stream": "stdout",
       "text": [
        "\n",
        "25:Charlotte, NC, USA -> Charlotte, NC, USA: (35.22709, -80.84313)"
       ]
      },
      {
       "output_type": "stream",
       "stream": "stdout",
       "text": [
        "\n",
        "26:Madrid,  , Spain -> Madrid, Spain: (40.41678, -3.70379)"
       ]
      },
      {
       "output_type": "stream",
       "stream": "stdout",
       "text": [
        "\n",
        "27:Boise, ID, USA -> Boise, ID, USA: (43.61871, -116.21461)"
       ]
      },
      {
       "output_type": "stream",
       "stream": "stdout",
       "text": [
        "\n",
        "28:Seoul,  , South Korea -> Seoul, South Korea: (37.56654, 126.97797)"
       ]
      },
      {
       "output_type": "stream",
       "stream": "stdout",
       "text": [
        "\n",
        "29:Boston, MA, USA -> Boston, MA, USA: (42.35843, -71.05977)"
       ]
      },
      {
       "output_type": "stream",
       "stream": "stdout",
       "text": [
        "\n",
        "30:Galicia,  , Spain -> Galicia, Spain: (42.57506, -8.13386)"
       ]
      },
      {
       "output_type": "stream",
       "stream": "stdout",
       "text": [
        "\n",
        "31:Indianapolis, IN, USA -> Indianapolis, IN, USA: (39.76840, -86.15807)"
       ]
      },
      {
       "output_type": "stream",
       "stream": "stdout",
       "text": [
        "\n",
        "41:San Francisco, CA, USA -> San Francisco, CA, USA: (37.77493, -122.41942)"
       ]
      },
      {
       "output_type": "stream",
       "stream": "stdout",
       "text": [
        "\n",
        "42:Austin, TX, USA -> Austin, TX, USA: (30.26715, -97.74306)"
       ]
      },
      {
       "output_type": "stream",
       "stream": "stdout",
       "text": [
        "\n",
        "43:Omaha, NE, USA -> Omaha, NE, USA: (41.25236, -95.99799)"
       ]
      },
      {
       "output_type": "stream",
       "stream": "stdout",
       "text": [
        "\n",
        "44:New York City, NY, USA -> New York, NY, USA: (40.71435, -74.00597)"
       ]
      },
      {
       "output_type": "stream",
       "stream": "stdout",
       "text": [
        "\n",
        "45:Twin Cities, MN, USA -> Twin Cities, MN, USA: (44.93748, -93.20100)"
       ]
      },
      {
       "output_type": "stream",
       "stream": "stdout",
       "text": [
        "\n",
        "46:Toronto, ON, Canada -> Toronto, ON, Canada: (43.65323, -79.38318)"
       ]
      },
      {
       "output_type": "stream",
       "stream": "stdout",
       "text": [
        "\n",
        "47:Amsterdam,  , Netherlands -> Amsterdam, The Netherlands: (52.37022, 4.89517)"
       ]
      },
      {
       "output_type": "stream",
       "stream": "stdout",
       "text": [
        "\n",
        "48:New Brunswick, NJ, USA -> New Brunswick, NJ, USA: (40.48622, -74.45182)"
       ]
      },
      {
       "output_type": "stream",
       "stream": "stdout",
       "text": [
        "\n",
        "49:Stuttgart,  , Germany -> Stuttgart, Germany: (48.77542, 9.18176)"
       ]
      },
      {
       "output_type": "stream",
       "stream": "stdout",
       "text": [
        "\n",
        "50:Paris,  , France -> Paris, France: (48.85661, 2.35222)"
       ]
      },
      {
       "output_type": "stream",
       "stream": "stdout",
       "text": [
        "\n",
        "58:Las Vegas, NV, USA -> Las Vegas, NV, USA: (36.11465, -115.17282)"
       ]
      },
      {
       "output_type": "stream",
       "stream": "stdout",
       "text": [
        "\n",
        "59:Barcelona,  , Spain -> Barcelona, Spain: (41.38506, 2.17340)"
       ]
      },
      {
       "output_type": "stream",
       "stream": "stdout",
       "text": [
        "\n",
        "60:Phoenix, AZ, USA -> Phoenix, AZ, USA: (33.44838, -112.07404)"
       ]
      },
      {
       "output_type": "stream",
       "stream": "stdout",
       "text": [
        "\n",
        "61:Kuala Lumpur,  , Malaysia -> Kuala Lumpur, Federal Territory of Kuala Lumpur, Malaysia: (3.13900, 101.68685)"
       ]
      },
      {
       "output_type": "stream",
       "stream": "stdout",
       "text": [
        "\n",
        "62:Rome,  , Italy -> Rome, Italy: (41.89292, 12.48252)"
       ]
      },
      {
       "output_type": "stream",
       "stream": "stdout",
       "text": [
        "\n",
        "63:Seoul,  , South Korea -> Seoul, South Korea: (37.56654, 126.97797)"
       ]
      },
      {
       "output_type": "stream",
       "stream": "stdout",
       "text": [
        "\n",
        "64:Singapore,  , Singapore -> Singapore: (1.28009, 103.85095)"
       ]
      },
      {
       "output_type": "stream",
       "stream": "stdout",
       "text": [
        "\n",
        "65:Kansas City, MO, USA -> Kansas City, MO, USA: (39.09973, -94.57857)"
       ]
      },
      {
       "output_type": "stream",
       "stream": "stdout",
       "text": [
        "\n",
        "66:Lansing, MI, USA -> Lansing, MI, USA: (42.73253, -84.55553)"
       ]
      },
      {
       "output_type": "stream",
       "stream": "stdout",
       "text": [
        "\n",
        "67:Geneva,  , Switzerland -> Geneva, Switzerland: (46.19839, 6.14230)"
       ]
      },
      {
       "output_type": "stream",
       "stream": "stdout",
       "text": [
        "\n",
        "78:Detroit, MI, USA -> Detroit, MI, USA: (42.33143, -83.04575)"
       ]
      },
      {
       "output_type": "stream",
       "stream": "stdout",
       "text": [
        "\n",
        "79:Tulsa, OK, USA -> Tulsa, OK, USA: (36.15398, -95.99278)"
       ]
      },
      {
       "output_type": "stream",
       "stream": "stdout",
       "text": [
        "\n",
        "80:New York City, NY, USA -> New York, NY, USA: (40.71435, -74.00597)"
       ]
      },
      {
       "output_type": "stream",
       "stream": "stdout",
       "text": [
        "\n",
        "81:Dallas, TX, USA -> Dallas, TX, USA: (32.78014, -96.80045)"
       ]
      },
      {
       "output_type": "stream",
       "stream": "stdout",
       "text": [
        "\n",
        "82:Athens,  , Greece -> Athens, Greece: (37.98372, 23.72931)"
       ]
      },
      {
       "output_type": "stream",
       "stream": "stdout",
       "text": [
        "\n",
        "83:San Francisco, CA, USA -> San Francisco, CA, USA: (37.77493, -122.41942)"
       ]
      },
      {
       "output_type": "stream",
       "stream": "stdout",
       "text": [
        "\n",
        "84:Beijing,  , China -> Beijing, China: (39.90403, 116.40753)"
       ]
      },
      {
       "output_type": "stream",
       "stream": "stdout",
       "text": [
        "\n",
        "85:Miami, FL, USA -> Miami, FL, USA: (25.78897, -80.22644)"
       ]
      },
      {
       "output_type": "stream",
       "stream": "stdout",
       "text": [
        "\n",
        "86:Chihuahua,  , Mexico -> Chihuahua, Mexico: (28.63058, -106.07370)"
       ]
      },
      {
       "output_type": "stream",
       "stream": "stdout",
       "text": [
        "\n",
        "87:Reykjavik,  , Iceland -> Reykjavik, Iceland: (64.13534, -21.89521)"
       ]
      },
      {
       "output_type": "stream",
       "stream": "stdout",
       "text": [
        "\n",
        "97:West Michigan, MI, USA -> West, Berrien Springs, MI 49103, USA: (41.94748, -86.34453)"
       ]
      },
      {
       "output_type": "stream",
       "stream": "stdout",
       "text": [
        "\n",
        "98:Ann Arbor, MI, USA -> Ann Arbor, MI, USA: (42.28083, -83.74304)"
       ]
      },
      {
       "output_type": "stream",
       "stream": "stdout",
       "text": [
        "\n",
        "99:Brussels,  , Belgium -> City of Brussels, Belgium: (50.85034, 4.35171)"
       ]
      },
      {
       "output_type": "stream",
       "stream": "stdout",
       "text": [
        "\n",
        "100:Philadelphia, PA, USA -> Philadelphia, PA, USA: (39.95233, -75.16379)"
       ]
      },
      {
       "output_type": "stream",
       "stream": "stdout",
       "text": [
        "\n",
        "101:Oslo,  , Norway -> Oslo, Norway: (59.91387, 10.75225)"
       ]
      },
      {
       "output_type": "stream",
       "stream": "stdout",
       "text": [
        "\n",
        "102:Aarhus,  , Denmark -> Aarhus, Denmark: (56.16294, 10.20392)"
       ]
      },
      {
       "output_type": "stream",
       "stream": "stdout",
       "text": [
        "\n",
        "103:Edmonton, AB, Canada -> Edmonton, AB, Canada: (53.54439, -113.49093)"
       ]
      },
      {
       "output_type": "stream",
       "stream": "stdout",
       "text": [
        "\n",
        "104:Oklahoma City, OK, USA -> Oklahoma City, OK, USA: (35.46756, -97.51643)"
       ]
      },
      {
       "output_type": "stream",
       "stream": "stdout",
       "text": [
        "\n",
        "105:Nantes,  , France -> Nantes, France: (47.21837, -1.55362)"
       ]
      },
      {
       "output_type": "stream",
       "stream": "stdout",
       "text": [
        "\n",
        "106:Lyon,  , France -> Lyon, France: (45.76404, 4.83566)"
       ]
      },
      {
       "output_type": "stream",
       "stream": "stdout",
       "text": [
        "\n",
        "116:Copenhagen,  , Denmark -> Copenhagen, Denmark: (55.67610, 12.56834)"
       ]
      },
      {
       "output_type": "stream",
       "stream": "stdout",
       "text": [
        "\n",
        "117:Delhi,  , India -> New Delhi, Delhi, India: (28.63531, 77.22496)"
       ]
      },
      {
       "output_type": "stream",
       "stream": "stdout",
       "text": [
        "\n",
        "118:Des Moines, IA, USA -> Des Moines, IA, USA: (41.60054, -93.60911)"
       ]
      },
      {
       "output_type": "stream",
       "stream": "stdout",
       "text": [
        "\n",
        "119:Torino,  , Italy -> Turin, Italy: (45.07098, 7.68568)"
       ]
      },
      {
       "output_type": "stream",
       "stream": "stdout",
       "text": [
        "\n",
        "120:Cambridge,  , UK -> Cambridge, UK: (52.20534, 0.12182)"
       ]
      },
      {
       "output_type": "stream",
       "stream": "stdout",
       "text": [
        "\n",
        "121:Lille,  , France -> Lille, France: (50.62925, 3.05726)"
       ]
      },
      {
       "output_type": "stream",
       "stream": "stdout",
       "text": [
        "\n",
        "122:Bangalore,  , India -> Bangalore, Karnataka, India: (12.97160, 77.59456)"
       ]
      },
      {
       "output_type": "stream",
       "stream": "stdout",
       "text": [
        "\n",
        "123:San Pedro,  , Costa Rica -> San Pedro, Costa Rica: (9.93333, -84.05000)"
       ]
      },
      {
       "output_type": "stream",
       "stream": "stdout",
       "text": [
        "\n",
        "124:Lausanne,  , Switzerland -> Lausanne, Switzerland: (46.51996, 6.63360)"
       ]
      },
      {
       "output_type": "stream",
       "stream": "stdout",
       "text": [
        "\n",
        "125:Novosibirsk, Siberia, Russia -> Novosibirsk, Novosibirsk Oblast, Russia: (55.01880, 82.93395)"
       ]
      },
      {
       "output_type": "stream",
       "stream": "stdout",
       "text": [
        "\n",
        "134:Baton Rouge, LA, USA -> Baton Rouge, LA, USA: (30.45828, -91.14032)"
       ]
      },
      {
       "output_type": "stream",
       "stream": "stdout",
       "text": [
        "\n",
        "135:Kaunas,  , Lithuania -> Kaunas, Lithuania: (54.89850, 23.90354)"
       ]
      },
      {
       "output_type": "stream",
       "stream": "stdout",
       "text": [
        "\n",
        "136:Lansing, MI, USA -> Lansing, MI, USA: (42.73253, -84.55553)"
       ]
      },
      {
       "output_type": "stream",
       "stream": "stdout",
       "text": [
        "\n",
        "137:Indianapolis, IN, USA -> Indianapolis, IN, USA: (39.76840, -86.15807)"
       ]
      },
      {
       "output_type": "stream",
       "stream": "stdout",
       "text": [
        "\n",
        "138:New York City, NY, USA -> New York, NY, USA: (40.71435, -74.00597)"
       ]
      },
      {
       "output_type": "stream",
       "stream": "stdout",
       "text": [
        "\n",
        "139:Montpellier,  , France -> Montpellier, France: (43.61077, 3.87672)"
       ]
      },
      {
       "output_type": "stream",
       "stream": "stdout",
       "text": [
        "\n",
        "140:Baltimore, MD, USA -> Baltimore, MD, USA: (39.29038, -76.61219)"
       ]
      },
      {
       "output_type": "stream",
       "stream": "stdout",
       "text": [
        "\n",
        "141:Kansas City, MO, USA -> Kansas City, MO, USA: (39.09973, -94.57857)"
       ]
      },
      {
       "output_type": "stream",
       "stream": "stdout",
       "text": [
        "\n",
        "142:Saint Petersburg,  , Russia -> Saint Petersburg, Russia: (59.90802, 30.41000)"
       ]
      },
      {
       "output_type": "stream",
       "stream": "stdout",
       "text": [
        "\n",
        "143:San Jose, CA, USA -> San Jose, CA, USA: (37.33939, -121.89496)"
       ]
      },
      {
       "output_type": "stream",
       "stream": "stdout",
       "text": [
        "\n",
        "153:Porto,  , Portugal -> 4440-452 Oporto, Portugal: (41.15669, -8.62393)"
       ]
      },
      {
       "output_type": "stream",
       "stream": "stdout",
       "text": [
        "\n",
        "154:Campinas,  , Brazil -> Campinas - S\u00e3o Paulo, Brazil: (-22.90710, -47.06324)"
       ]
      },
      {
       "output_type": "stream",
       "stream": "stdout",
       "text": [
        "\n",
        "155:Warsaw,  , Poland -> University of Warsaw, Krakowskie Przedmie\u015bcie 26/28, 00-927 Warsaw, Poland: (52.24040, 21.01921)"
       ]
      },
      {
       "output_type": "stream",
       "stream": "stdout",
       "text": [
        "\n",
        "156:Seoul,  , South Korea -> Seoul, South Korea: (37.56654, 126.97797)"
       ]
      },
      {
       "output_type": "stream",
       "stream": "stdout",
       "text": [
        "\n",
        "157:Toulouse,  , France -> Toulouse, France: (43.60465, 1.44421)"
       ]
      },
      {
       "output_type": "stream",
       "stream": "stdout",
       "text": [
        "\n",
        "158:Kota Kinabalu,  , Malaysia -> Kota Kinabalu, Sabah, Malaysia: (5.97647, 116.11578)"
       ]
      },
      {
       "output_type": "stream",
       "stream": "stdout",
       "text": [
        "\n",
        "159:Tokyo,  , Japan -> Tokyo, Japan: (35.68949, 139.69171)"
       ]
      },
      {
       "output_type": "stream",
       "stream": "stdout",
       "text": [
        "\n",
        "160:Jakarta,  , Indonesia -> Jakarta, Indonesia: (-6.21154, 106.84517)"
       ]
      },
      {
       "output_type": "stream",
       "stream": "stdout",
       "text": [
        "\n",
        "161:Coimbra,  , Portugal -> Coimbra, Portugal: (40.20238, -8.44716)"
       ]
      },
      {
       "output_type": "stream",
       "stream": "stdout",
       "text": [
        "\n",
        "162:Kazan,  , Russia -> Kazan, Republic of Tatarstan, Russia: (55.82487, 49.08609)"
       ]
      },
      {
       "output_type": "stream",
       "stream": "stdout",
       "text": [
        "\n",
        "172:Boston, MA, USA -> Boston, MA, USA: (42.35843, -71.05977)"
       ]
      },
      {
       "output_type": "stream",
       "stream": "stdout",
       "text": [
        "\n",
        "173:Raleigh-Durham, NC, USA -> Raleigh, NC, USA: (35.77210, -78.63861)"
       ]
      },
      {
       "output_type": "stream",
       "stream": "stdout",
       "text": [
        "\n",
        "174:New York City, NY, USA -> New York, NY, USA: (40.71435, -74.00597)"
       ]
      },
      {
       "output_type": "stream",
       "stream": "stdout",
       "text": [
        "\n",
        "175:Mexico City,  , Mexico -> Mexico City, Federal District, Mexico: (19.43261, -99.13321)"
       ]
      },
      {
       "output_type": "stream",
       "stream": "stdout",
       "text": [
        "\n",
        "176:Bentonville, AR, USA -> Bentonville, AR, USA: (36.37285, -94.20882)"
       ]
      },
      {
       "output_type": "stream",
       "stream": "stdout",
       "text": [
        "\n",
        "177:Seattle, WA, USA -> Seattle, WA, USA: (47.60621, -122.33207)"
       ]
      },
      {
       "output_type": "stream",
       "stream": "stdout",
       "text": [
        "\n",
        "178:Moscow,  , Russia -> Moscow, Russia: (55.74965, 37.62368)"
       ]
      },
      {
       "output_type": "stream",
       "stream": "stdout",
       "text": [
        "\n",
        "179:Dallas, TX, USA -> Dallas, TX, USA: (32.78014, -96.80045)"
       ]
      },
      {
       "output_type": "stream",
       "stream": "stdout",
       "text": [
        "\n",
        "180:Skopje,  , Macedonia -> Skopje, Macedonia (FYROM): (41.99735, 21.42800)"
       ]
      },
      {
       "output_type": "stream",
       "stream": "stdout",
       "text": [
        "\n",
        "181:Rio de Janeiro,  , Brazil -> Rio de Janeiro, Brazil: (-22.90354, -43.20959)"
       ]
      },
      {
       "output_type": "stream",
       "stream": "stdout",
       "text": [
        "\n",
        "191:Tampa, FL, USA -> Tampa, FL, USA: (27.95058, -82.45718)"
       ]
      },
      {
       "output_type": "stream",
       "stream": "stdout",
       "text": [
        "\n",
        "192:Cape Town,  , South Africa -> Cape Town, South Africa: (-33.92487, 18.42406)"
       ]
      },
      {
       "output_type": "stream",
       "stream": "stdout",
       "text": [
        "\n",
        "193:Shanghai,  , China -> Shanghai, China: (31.23039, 121.47370)"
       ]
      },
      {
       "output_type": "stream",
       "stream": "stdout",
       "text": [
        "\n",
        "194:Chicago, IL, USA -> Chicago, IL, USA: (41.87811, -87.62980)"
       ]
      },
      {
       "output_type": "stream",
       "stream": "stdout",
       "text": [
        "\n",
        "195:Sydney,  , Australia -> Sydney NSW, Australia: (-33.86749, 151.20699)"
       ]
      },
      {
       "output_type": "stream",
       "stream": "stdout",
       "text": [
        "\n",
        "196:Johannesburg,  , South Africa -> Johannesburg, South Africa: (-26.20410, 28.04731)"
       ]
      },
      {
       "output_type": "stream",
       "stream": "stdout",
       "text": [
        "\n",
        "197:Palo Alto, CA, USA -> Palo Alto, CA, USA: (37.44188, -122.14302)"
       ]
      },
      {
       "output_type": "stream",
       "stream": "stdout",
       "text": [
        "\n",
        "198:Kyoto,  , Japan -> Kyoto, Kyoto Prefecture, Japan: (35.01164, 135.76803)"
       ]
      },
      {
       "output_type": "stream",
       "stream": "stdout",
       "text": [
        "\n",
        "199:Seoul,  , South Korea -> Seoul, South Korea: (37.56654, 126.97797)"
       ]
      },
      {
       "output_type": "stream",
       "stream": "stdout",
       "text": [
        "\n",
        "200:New York City, NY, USA -> New York, NY, USA: (40.71435, -74.00597)"
       ]
      },
      {
       "output_type": "stream",
       "stream": "stdout",
       "text": [
        "\n",
        "211:Boise, ID, USA -> Boise, ID, USA: (43.61871, -116.21461)"
       ]
      },
      {
       "output_type": "stream",
       "stream": "stdout",
       "text": [
        "\n",
        "212:Shanghai,  , China -> Shanghai, China: (31.23039, 121.47370)"
       ]
      },
      {
       "output_type": "stream",
       "stream": "stdout",
       "text": [
        "\n",
        "213:London,  , UK -> London, UK: (51.51121, -0.11982)"
       ]
      },
      {
       "output_type": "stream",
       "stream": "stdout",
       "text": [
        "\n",
        "214:Lagos,  , Nigeria -> Lagos, Nigeria: (6.44116, 3.41798)"
       ]
      },
      {
       "output_type": "stream",
       "stream": "stdout",
       "text": [
        "\n",
        "215:Delaware, DE, USA -> Delaware, USA: (38.91083, -75.52767)"
       ]
      },
      {
       "output_type": "stream",
       "stream": "stdout",
       "text": [
        "\n",
        "216:London,  , UK -> London, UK: (51.51121, -0.11982)"
       ]
      },
      {
       "output_type": "stream",
       "stream": "stdout",
       "text": [
        "\n",
        "217:Honolulu, HI, USA -> Honolulu, HI, USA: (21.30694, -157.85833)"
       ]
      },
      {
       "output_type": "stream",
       "stream": "stdout",
       "text": [
        "\n",
        "218:Ulaanbaatar,  , Mongolia -> Ulaanbaatar, Mongolia: (47.92138, 106.90554)"
       ]
      },
      {
       "output_type": "stream",
       "stream": "stdout",
       "text": [
        "\n",
        "219:Omaha, NE, USA -> Omaha, NE, USA: (41.25236, -95.99799)"
       ]
      },
      {
       "output_type": "stream",
       "stream": "stdout",
       "text": [
        "\n",
        "220:Seattle, WA, USA -> Seattle, WA, USA: (47.60621, -122.33207)"
       ]
      },
      {
       "output_type": "stream",
       "stream": "stdout",
       "text": [
        "\n",
        "231:Seattle, WA, USA -> Seattle, WA, USA: (47.60621, -122.33207)"
       ]
      },
      {
       "output_type": "stream",
       "stream": "stdout",
       "text": [
        "\n",
        "232:Tallahassee, FL, USA -> Tallahassee, FL, USA: (30.43826, -84.28073)"
       ]
      },
      {
       "output_type": "stream",
       "stream": "stdout",
       "text": [
        "\n",
        "233:Minsk,  , Belarus -> Minsk, Belarus: (53.90000, 27.56667)"
       ]
      },
      {
       "output_type": "stream",
       "stream": "stdout",
       "text": [
        "\n",
        "234:Bogota,  , Colombia -> Bogot\u00e1, Bogota, Colombia: (4.59806, -74.07583)"
       ]
      },
      {
       "output_type": "stream",
       "stream": "stdout",
       "text": [
        "\n",
        "235:Poznan,  , Poland -> Pozna\u0144, Poland: (52.40637, 16.92517)"
       ]
      },
      {
       "output_type": "stream",
       "stream": "stdout",
       "text": [
        "\n",
        "236:Lyon,  , France -> Lyon, France: (45.76404, 4.83566)"
       ]
      },
      {
       "output_type": "stream",
       "stream": "stdout",
       "text": [
        "\n",
        "237:Columbus, OH, USA -> Columbus, OH, USA: (39.96118, -82.99879)"
       ]
      },
      {
       "output_type": "stream",
       "stream": "stdout",
       "text": [
        "\n",
        "238:Riyadh,  , Saudi Arabia -> Riyadh Saudi Arabia: (24.71167, 46.72417)"
       ]
      },
      {
       "output_type": "stream",
       "stream": "stdout",
       "text": [
        "\n",
        "239:San Juan,  , Puerto Rico -> San Juan, Puerto Rico: (18.46633, -66.10572)"
       ]
      },
      {
       "output_type": "stream",
       "stream": "stdout",
       "text": [
        "\n",
        "240:Singapore,  , Singapore -> Singapore: (1.28009, 103.85095)"
       ]
      },
      {
       "output_type": "stream",
       "stream": "stdout",
       "text": [
        "\n",
        "250:Dubai,  , United Arab Emirates -> Dubai - United Arab Emirates: (25.27114, 55.30748)"
       ]
      },
      {
       "output_type": "stream",
       "stream": "stdout",
       "text": [
        "\n",
        "251:Karachi,  , Pakistan -> Karachi, Pakistan: (24.89338, 67.02806)"
       ]
      },
      {
       "output_type": "stream",
       "stream": "stdout",
       "text": [
        "\n",
        "252:Hamilton, ON, Canada -> Hamilton, ON, Canada: (43.25002, -79.86609)"
       ]
      },
      {
       "output_type": "stream",
       "stream": "stdout",
       "text": [
        "\n",
        "253:Manila,  , Philippines -> Manila, Philippines: (14.59951, 120.98422)"
       ]
      },
      {
       "output_type": "stream",
       "stream": "stdout",
       "text": [
        "\n",
        "254:Providence, RI, USA -> Providence, RI, USA: (41.82399, -71.41283)"
       ]
      },
      {
       "output_type": "stream",
       "stream": "stdout",
       "text": [
        "\n",
        "255:Chihuahua,  , Mexico -> Chihuahua, Mexico: (28.63058, -106.07370)"
       ]
      },
      {
       "output_type": "stream",
       "stream": "stdout",
       "text": [
        "\n",
        "256:Surabaya,  , Indonesia -> Surabaya, Indonesia: (-7.28917, 112.73440)"
       ]
      },
      {
       "output_type": "stream",
       "stream": "stdout",
       "text": [
        "\n",
        "257:Kalamazoo, MI, USA -> Kalamazoo, MI, USA: (42.29171, -85.58723)"
       ]
      },
      {
       "output_type": "stream",
       "stream": "stdout",
       "text": [
        "\n",
        "258:Recife,  , Brazil -> Recife, Pernambuco, Brazil: (-8.05554, -34.87069)"
       ]
      },
      {
       "output_type": "stream",
       "stream": "stdout",
       "text": [
        "\n",
        "259:Beijing,  , China -> Beijing, China: (39.90403, 116.40753)"
       ]
      },
      {
       "output_type": "stream",
       "stream": "stdout",
       "text": [
        "\n",
        "268:Hangzhou,  , China -> Hangzhou, Zhejiang, China: (30.27409, 120.15507)"
       ]
      },
      {
       "output_type": "stream",
       "stream": "stdout",
       "text": [
        "\n",
        "269:Skudai,  , Malaysia -> Skudai, 81100 Skudai, Johor, Malaysia: (1.53789, 103.66087)"
       ]
      },
      {
       "output_type": "stream",
       "stream": "stdout",
       "text": [
        "\n",
        "270:Bretagne,  , France -> Brittany, France: (48.20205, -2.93264)"
       ]
      },
      {
       "output_type": "stream",
       "stream": "stdout",
       "text": [
        "\n",
        "271:Marrakech,  , Morocco -> Marrakesh, Morocco: (31.63333, -8.00000)"
       ]
      },
      {
       "output_type": "stream",
       "stream": "stdout",
       "text": [
        "\n",
        "272:Murcia,  , Spain -> Murcia, Spain: (37.99233, -1.13046)"
       ]
      },
      {
       "output_type": "stream",
       "stream": "stdout",
       "text": [
        "\n",
        "273:Groningen,  , Netherlands -> Groningen, The Netherlands: (53.21923, 6.57537)"
       ]
      },
      {
       "output_type": "stream",
       "stream": "stdout",
       "text": [
        "\n",
        "274:Grenoble,  , France -> Grenoble, France: (45.18853, 5.72452)"
       ]
      },
      {
       "output_type": "stream",
       "stream": "stdout",
       "text": [
        "\n",
        "275:Melbourne,  , Australia -> Melbourne VIC, Australia: (-37.81411, 144.96328)"
       ]
      },
      {
       "output_type": "stream",
       "stream": "stdout",
       "text": [
        "\n",
        "276:Syracuse, NY, USA -> Syracuse, NY, USA: (43.04812, -76.14742)"
       ]
      },
      {
       "output_type": "stream",
       "stream": "stdout",
       "text": [
        "\n",
        "277:Charlotte, NC, USA -> Charlotte, NC, USA: (35.22709, -80.84313)"
       ]
      },
      {
       "output_type": "stream",
       "stream": "stdout",
       "text": [
        "\n",
        "288:Princeton, NJ, USA -> Princeton, NJ, USA: (40.35730, -74.66722)"
       ]
      },
      {
       "output_type": "stream",
       "stream": "stdout",
       "text": [
        "\n",
        "289:Gurgaon,  , India -> Gurgaon, Haryana, India: (28.45950, 77.02664)"
       ]
      },
      {
       "output_type": "stream",
       "stream": "stdout",
       "text": [
        "\n",
        "290:Trondheim,  , Norway -> Trondheim, Norway: (63.43051, 10.39505)"
       ]
      },
      {
       "output_type": "stream",
       "stream": "stdout",
       "text": [
        "\n",
        "291:Ho Chi Minh City,  , Vietnam -> Ho Chi Minh City, Vietnam: (10.82310, 106.62966)"
       ]
      },
      {
       "output_type": "stream",
       "stream": "stdout",
       "text": [
        "\n",
        "292:Baton Rouge, LA, USA -> Baton Rouge, LA, USA: (30.45828, -91.14032)"
       ]
      },
      {
       "output_type": "stream",
       "stream": "stdout",
       "text": [
        "\n",
        "293:Denver, CO, USA -> Denver, CO, USA: (39.73757, -104.98472)"
       ]
      },
      {
       "output_type": "stream",
       "stream": "stdout",
       "text": [
        "\n",
        "294:Skopje,  , Macedonia -> Skopje, Macedonia (FYROM): (41.99735, 21.42800)"
       ]
      },
      {
       "output_type": "stream",
       "stream": "stdout",
       "text": [
        "\n",
        "295:Champaign, IL, USA -> Champaign, IL, USA: (40.11642, -88.24338)"
       ]
      },
      {
       "output_type": "stream",
       "stream": "stdout",
       "text": [
        "\n",
        "296:Chisinau,  , Moldova -> Chisinau, Moldova: (47.02686, 28.84155)"
       ]
      },
      {
       "output_type": "stream",
       "stream": "stdout",
       "text": [
        "\n",
        "297:Kansas City, MO, USA -> Kansas City, MO, USA: (39.09973, -94.57857)"
       ]
      },
      {
       "output_type": "stream",
       "stream": "stdout",
       "text": [
        "\n",
        "305:Hamala,  , Bahrain -> Hamala, Bahrain: (26.13867, 50.47735)"
       ]
      },
      {
       "output_type": "stream",
       "stream": "stdout",
       "text": [
        "\n",
        "306:Bogota,  , Colombia -> Bogot\u00e1, Bogota, Colombia: (4.59806, -74.07583)"
       ]
      },
      {
       "output_type": "stream",
       "stream": "stdout",
       "text": [
        "\n",
        "307:Medellin,  , Colombia -> Medell\u00edn, Antioquia, Colombia: (6.23592, -75.57514)"
       ]
      },
      {
       "output_type": "stream",
       "stream": "stdout",
       "text": [
        "\n",
        "308:Lexington, KY, USA -> Lexington, KY, USA: (38.04058, -84.50372)"
       ]
      },
      {
       "output_type": "stream",
       "stream": "stdout",
       "text": [
        "\n",
        "309:Toronto, ON, Canada -> Toronto, ON, Canada: (43.65323, -79.38318)"
       ]
      },
      {
       "output_type": "stream",
       "stream": "stdout",
       "text": [
        "\n",
        "310:Copenhagen,  , Denmark -> Copenhagen, Denmark: (55.67610, 12.56834)"
       ]
      },
      {
       "output_type": "stream",
       "stream": "stdout",
       "text": [
        "\n",
        "311:Sao Paulo,  , Brazil -> S\u00e3o Paulo, Brazil: (-23.54894, -46.63882)"
       ]
      },
      {
       "output_type": "stream",
       "stream": "stdout",
       "text": [
        "\n",
        "312:Tokyo,  , Japan -> Tokyo, Japan: (35.68949, 139.69171)"
       ]
      },
      {
       "output_type": "stream",
       "stream": "stdout",
       "text": [
        "\n",
        "313:Lisbon,  , Portugal -> 2715-311 Lisbon, Portugal: (38.72530, -9.15004)"
       ]
      },
      {
       "output_type": "stream",
       "stream": "stdout",
       "text": [
        "\n",
        "314:Kyoto,  , Japan -> Kyoto, Kyoto Prefecture, Japan: (35.01164, 135.76803)"
       ]
      },
      {
       "output_type": "stream",
       "stream": "stdout",
       "text": [
        "\n",
        "323:New York City, NY, USA -> New York, NY, USA: (40.71435, -74.00597)"
       ]
      },
      {
       "output_type": "stream",
       "stream": "stdout",
       "text": [
        "\n",
        "324:Vancouver, BC, Canada -> Vancouver, BC, Canada: (49.26123, -123.11393)"
       ]
      },
      {
       "output_type": "stream",
       "stream": "stdout",
       "text": [
        "\n",
        "325:Geneva,  , Switzerland -> Geneva, Switzerland: (46.19839, 6.14230)"
       ]
      },
      {
       "output_type": "stream",
       "stream": "stdout",
       "text": [
        "\n",
        "326:Strasbourg,  , France -> Strasbourg, France: (48.58315, 7.74788)"
       ]
      },
      {
       "output_type": "stream",
       "stream": "stdout",
       "text": [
        "\n",
        "327:Las Vegas, NV, USA -> Las Vegas, NV, USA: (36.11465, -115.17282)"
       ]
      },
      {
       "output_type": "stream",
       "stream": "stdout",
       "text": [
        "\n",
        "328:Orange County, CA, USA -> Orange, CA, USA: (33.71747, -117.83114)"
       ]
      },
      {
       "output_type": "stream",
       "stream": "stdout",
       "text": [
        "\n",
        "329:Dallas, TX, USA -> Dallas, TX, USA: (32.78014, -96.80045)"
       ]
      },
      {
       "output_type": "stream",
       "stream": "stdout",
       "text": [
        "\n",
        "330:Hong Kong,  , China -> Hong Kong: (22.39643, 114.10950)"
       ]
      },
      {
       "output_type": "stream",
       "stream": "stdout",
       "text": [
        "\n",
        "331:Stuttgart,  , Germany -> Stuttgart, Germany: (48.77542, 9.18176)"
       ]
      },
      {
       "output_type": "stream",
       "stream": "stdout",
       "text": [
        "\n",
        "332:Accra,  , Ghana -> Accra, Ghana: (5.55572, -0.19631)"
       ]
      },
      {
       "output_type": "stream",
       "stream": "stdout",
       "text": [
        "\n",
        "341:Prishtina,  , Kosovo -> Prishtina: (42.67242, 21.16454)"
       ]
      },
      {
       "output_type": "stream",
       "stream": "stdout",
       "text": [
        "\n",
        "342:Shah Alam,  , Malaysia -> Shah Alam, Selangor, Malaysia: (3.09061, 101.52960)"
       ]
      },
      {
       "output_type": "stream",
       "stream": "stdout",
       "text": [
        "\n",
        "343:Marseille,  , France -> Marseille, France: (43.29648, 5.36978)"
       ]
      },
      {
       "output_type": "stream",
       "stream": "stdout",
       "text": [
        "\n",
        "344:Hsinchu City,  , Taiwan -> Hsinchu City, Taiwan 300: (24.80395, 120.96469)"
       ]
      },
      {
       "output_type": "stream",
       "stream": "stdout",
       "text": [
        "\n",
        "345:Yerevan,  , Armenia -> Yerevan, Armenia: (40.18333, 44.51667)"
       ]
      },
      {
       "output_type": "stream",
       "stream": "stdout",
       "text": [
        "\n",
        "346:Gaza,  , Palestinian Territories -> Gaza: (31.52256, 34.45359)"
       ]
      },
      {
       "output_type": "stream",
       "stream": "stdout",
       "text": [
        "\n",
        "347:Penang,  , Malaysia -> Penang, Malaysia: (5.26323, 100.48462)"
       ]
      },
      {
       "output_type": "stream",
       "stream": "stdout",
       "text": [
        "\n",
        "348:Saint Petersburg,  , Russia -> Saint Petersburg, Russia: (59.90802, 30.41000)"
       ]
      },
      {
       "output_type": "stream",
       "stream": "stdout",
       "text": [
        "\n",
        "349:Lille,  , France -> Lille, France: (50.62925, 3.05726)"
       ]
      },
      {
       "output_type": "stream",
       "stream": "stdout",
       "text": [
        "\n",
        "350:Delhi,  , India -> New Delhi, Delhi, India: (28.63531, 77.22496)"
       ]
      },
      {
       "output_type": "stream",
       "stream": "stdout",
       "text": [
        "\n",
        "359:Bangalore,  , India -> Bangalore, Karnataka, India: (12.97160, 77.59456)"
       ]
      },
      {
       "output_type": "stream",
       "stream": "stdout",
       "text": [
        "\n",
        "360:Jacksonville, FL, USA -> Jacksonville, FL, USA: (30.33218, -81.65565)"
       ]
      },
      {
       "output_type": "stream",
       "stream": "stdout",
       "text": [
        "\n",
        "361:Rabat,  , Morocco -> Rabat, Morocco: (34.01505, -6.83272)"
       ]
      },
      {
       "output_type": "stream",
       "stream": "stdout",
       "text": [
        "\n",
        "362:Palo Alto, CA, USA -> Palo Alto, CA, USA: (37.44188, -122.14302)"
       ]
      },
      {
       "output_type": "stream",
       "stream": "stdout",
       "text": [
        "\n",
        "363:Ann Arbor, MI, USA -> Ann Arbor, MI, USA: (42.28083, -83.74304)"
       ]
      },
      {
       "output_type": "stream",
       "stream": "stdout",
       "text": [
        "\n",
        "364:San Luis Obispo, CA, USA -> San Luis Obispo, CA, USA: (35.28275, -120.65962)"
       ]
      },
      {
       "output_type": "stream",
       "stream": "stdout",
       "text": [
        "\n",
        "365:New York City, NY, USA -> New York, NY, USA: (40.71435, -74.00597)"
       ]
      },
      {
       "output_type": "stream",
       "stream": "stdout",
       "text": [
        "\n",
        "366:Krakow,  , Poland -> Krak\u00f3w, Poland: (50.06465, 19.94498)"
       ]
      },
      {
       "output_type": "stream",
       "stream": "stdout",
       "text": [
        "\n",
        "367:San Jose, CA, USA -> San Jose, CA, USA: (37.33939, -121.89496)"
       ]
      },
      {
       "output_type": "stream",
       "stream": "stdout",
       "text": [
        "\n",
        "368:Nice,  , France -> Nice, France: (43.69604, 7.26559)"
       ]
      },
      {
       "output_type": "stream",
       "stream": "stdout",
       "text": [
        "\n",
        "378:Montreal, QC, Canada -> Montreal, QC, Canada: (45.50867, -73.55399)"
       ]
      },
      {
       "output_type": "stream",
       "stream": "stdout",
       "text": [
        "\n",
        "379:New York City, NY, USA -> New York, NY, USA: (40.71435, -74.00597)"
       ]
      },
      {
       "output_type": "stream",
       "stream": "stdout",
       "text": [
        "\n",
        "380:Anchorage, AK, USA -> Anchorage, AK, USA: (61.21806, -149.90028)"
       ]
      },
      {
       "output_type": "stream",
       "stream": "stdout",
       "text": [
        "\n",
        "381:Mumbai,  , India -> Mumbai, Maharashtra, India: (19.07598, 72.87766)"
       ]
      },
      {
       "output_type": "stream",
       "stream": "stdout",
       "text": [
        "\n",
        "382:Valencia,  , Spain -> Valencia, Spain: (39.46991, -0.37629)"
       ]
      },
      {
       "output_type": "stream",
       "stream": "stdout",
       "text": [
        "\n",
        "383:Astana,  , Kazakhstan -> Astana, Kazakhstan: (51.16667, 71.43333)"
       ]
      },
      {
       "output_type": "stream",
       "stream": "stdout",
       "text": [
        "\n",
        "384:Greater Lafayette, IN, USA -> Lafayette Township, NJ, USA: (41.11139, -74.67750)"
       ]
      },
      {
       "output_type": "stream",
       "stream": "stdout",
       "text": [
        "\n",
        "385:Twin Cities, MN, USA -> Twin Cities, MN, USA: (44.93748, -93.20100)"
       ]
      },
      {
       "output_type": "stream",
       "stream": "stdout",
       "text": [
        "\n",
        "386:Athens,  , Greece -> Athens, Greece: (37.98372, 23.72931)"
       ]
      },
      {
       "output_type": "stream",
       "stream": "stdout",
       "text": [
        "\n",
        "387:Norman, OK, USA -> Norman, OK, USA: (35.22257, -97.43948)"
       ]
      },
      {
       "output_type": "stream",
       "stream": "stdout",
       "text": [
        "\n",
        "396:Cluj-Napoca,  , Romania -> Cluj-Napoca, Romania: (46.77725, 23.59989)"
       ]
      },
      {
       "output_type": "stream",
       "stream": "stdout",
       "text": [
        "\n",
        "397:Redmond, WA, USA -> Redmond, WA, USA: (47.67399, -122.12151)"
       ]
      },
      {
       "output_type": "stream",
       "stream": "stdout",
       "text": [
        "\n",
        "398:Lahore,  , Pakistan -> Lahore, Pakistan: (31.54505, 74.34068)"
       ]
      },
      {
       "output_type": "stream",
       "stream": "stdout",
       "text": [
        "\n",
        "399:Evansville, IN, USA -> Evansville, IN, USA: (37.97156, -87.57109)"
       ]
      },
      {
       "output_type": "stream",
       "stream": "stdout",
       "text": [
        "\n",
        "400:Galicia,  , Spain -> Galicia, Spain: (42.57506, -8.13386)"
       ]
      },
      {
       "output_type": "stream",
       "stream": "stdout",
       "text": [
        "\n",
        "401:Akureyri,  , Iceland -> Akureyri, Iceland: (65.68387, -18.11046)"
       ]
      },
      {
       "output_type": "stream",
       "stream": "stdout",
       "text": [
        "\n",
        "402:Nairobi,  , Kenya -> Nairobi, Kenya: (-1.29207, 36.82195)"
       ]
      },
      {
       "output_type": "stream",
       "stream": "stdout",
       "text": [
        "\n",
        "403:San Francisco, CA, USA -> San Francisco, CA, USA: (37.77493, -122.41942)"
       ]
      },
      {
       "output_type": "stream",
       "stream": "stdout",
       "text": [
        "\n",
        "404:Christchurch,  , New Zealand -> Christchurch, New Zealand: (-43.53205, 172.63623)"
       ]
      },
      {
       "output_type": "stream",
       "stream": "stdout",
       "text": [
        "\n",
        "405:Los Angeles, CA, USA -> Los Angeles, CA, USA: (34.05223, -118.24368)"
       ]
      },
      {
       "output_type": "stream",
       "stream": "stdout",
       "text": [
        "\n",
        "414:Des Moines, IA, USA -> Des Moines, IA, USA: (41.60054, -93.60911)"
       ]
      },
      {
       "output_type": "stream",
       "stream": "stdout",
       "text": [
        "\n",
        "415:Okanagan, BC, Canada -> Okanagan, BC V0E, Canada: (50.36669, -119.35010)"
       ]
      },
      {
       "output_type": "stream",
       "stream": "stdout",
       "text": [
        "\n",
        "416:San Francisco, CA, USA -> San Francisco, CA, USA: (37.77493, -122.41942)"
       ]
      },
      {
       "output_type": "stream",
       "stream": "stdout",
       "text": [
        "\n",
        "417:Dublin,  , Ireland -> Dublin, Co. Dublin, Ireland: (53.34981, -6.26031)"
       ]
      },
      {
       "output_type": "stream",
       "stream": "stdout",
       "text": [
        "\n",
        "418:Singapore,  , Singapore -> Singapore: (1.28009, 103.85095)"
       ]
      },
      {
       "output_type": "stream",
       "stream": "stdout",
       "text": [
        "\n",
        "419:Bretagne,  , France -> Brittany, France: (48.20205, -2.93264)"
       ]
      },
      {
       "output_type": "stream",
       "stream": "stdout",
       "text": [
        "\n",
        "420:Cordoba,  , Argentina -> C\u00f3rdoba, C\u00f3rdoba Province, Argentina: (-31.39893, -64.18213)"
       ]
      },
      {
       "output_type": "stream",
       "stream": "stdout",
       "text": [
        "\n",
        "421:Orlando, FL, USA -> Orlando, FL, USA: (28.53834, -81.37924)"
       ]
      },
      {
       "output_type": "stream",
       "stream": "stdout",
       "text": [
        "\n",
        "422:Trento,  , Italy -> Trento, Italy: (46.06969, 11.12109)"
       ]
      },
      {
       "output_type": "stream",
       "stream": "stdout",
       "text": [
        "\n",
        "423:Las Palmas,  , Spain -> Las Palmas, Spain: (28.11315, -15.44088)"
       ]
      },
      {
       "output_type": "stream",
       "stream": "stdout",
       "text": [
        "\n",
        "432:Halifax, NS, Canada -> Halifax, NS, Canada: (44.64886, -63.57532)"
       ]
      },
      {
       "output_type": "stream",
       "stream": "stdout",
       "text": [
        "\n",
        "433:Pittsburgh, PA, USA -> Pittsburgh, PA, USA: (40.44062, -79.99589)"
       ]
      },
      {
       "output_type": "stream",
       "stream": "stdout",
       "text": [
        "\n",
        "434:Nablus,  , Palestinian Territories -> Nablus: (32.22504, 35.26097)"
       ]
      },
      {
       "output_type": "stream",
       "stream": "stdout",
       "text": [
        "\n",
        "435:Adelaide,  , Australia -> Adelaide SA, Australia: (-34.92862, 138.59996)"
       ]
      },
      {
       "output_type": "stream",
       "stream": "stdout",
       "text": [
        "\n",
        "436:Taipei,  , Taiwan -> Taipei City, Taiwan: (25.09108, 121.55983)"
       ]
      },
      {
       "output_type": "stream",
       "stream": "stdout",
       "text": [
        "\n",
        "437:Paris,  , France -> Paris, France: (48.85661, 2.35222)"
       ]
      },
      {
       "output_type": "stream",
       "stream": "stdout",
       "text": [
        "\n",
        "438:Austin, TX, USA -> Austin, TX, USA: (30.26715, -97.74306)"
       ]
      },
      {
       "output_type": "stream",
       "stream": "stdout",
       "text": [
        "\n",
        "439:Budapest,  , Hungary -> Budapest, Hungary: (47.49791, 19.04023)"
       ]
      },
      {
       "output_type": "stream",
       "stream": "stdout",
       "text": [
        "\n",
        "440:Stamford, CT, USA -> Stamford, CT, USA: (41.05343, -73.53873)"
       ]
      },
      {
       "output_type": "stream",
       "stream": "stdout",
       "text": [
        "\n",
        "441:Orange County, CA, USA -> Orange, CA, USA: (33.71747, -117.83114)"
       ]
      },
      {
       "output_type": "stream",
       "stream": "stdout",
       "text": [
        "\n",
        "452:Lyon,  , France -> Lyon, France: (45.76404, 4.83566)"
       ]
      },
      {
       "output_type": "stream",
       "stream": "stdout",
       "text": [
        "\n",
        "453:Algiers,  , Algeria -> Algiers, Algeria: (36.75289, 3.04205)"
       ]
      },
      {
       "output_type": "stream",
       "stream": "stdout",
       "text": [
        "\n",
        "454:Spokane, WA, USA -> Spokane, WA, USA: (47.65878, -117.42605)"
       ]
      },
      {
       "output_type": "stream",
       "stream": "stdout",
       "text": [
        "\n",
        "455:Porto Alegre,  , Brazil -> Porto Alegre - Rio Grande do Sul, Brazil: (-30.02770, -51.22873)"
       ]
      },
      {
       "output_type": "stream",
       "stream": "stdout",
       "text": [
        "\n",
        "456:Sfax,  , Tunisia -> Sfax, Tunisia: (34.74516, 10.76130)"
       ]
      },
      {
       "output_type": "stream",
       "stream": "stdout",
       "text": [
        "\n",
        "457:Morelia,  , Mexico -> Morelia, Michoac\u00e1n, Mexico: (19.70595, -101.19498)"
       ]
      },
      {
       "output_type": "stream",
       "stream": "stdout",
       "text": [
        "\n",
        "458:Prague,  , Czech Republic -> Prague, Czech Republic: (50.07554, 14.43780)"
       ]
      },
      {
       "output_type": "stream",
       "stream": "stdout",
       "text": [
        "\n",
        "459:Tirana,  , Albania -> Tirana, Albania: (41.33165, 19.83180)"
       ]
      },
      {
       "output_type": "stream",
       "stream": "stdout",
       "text": [
        "\n",
        "460:Athens, OH, USA -> Athens, OH 45701, USA: (39.32924, -82.10126)"
       ]
      },
      {
       "output_type": "stream",
       "stream": "stdout",
       "text": [
        "\n",
        "461:Atlanta, GA, USA -> Atlanta, GA, USA: (33.74900, -84.38798)"
       ]
      },
      {
       "output_type": "stream",
       "stream": "stdout",
       "text": [
        "\n",
        "471:Trojmiasto,  , Poland -> Gda\u0144sk, Poland: (54.35203, 18.64664)"
       ]
      },
      {
       "output_type": "stream",
       "stream": "stdout",
       "text": [
        "\n",
        "472:Akranes,  , Iceland -> Akranes, Iceland: (64.32236, -22.07443)"
       ]
      },
      {
       "output_type": "stream",
       "stream": "stdout",
       "text": [
        "\n",
        "473:Kampala,  , Uganda -> Kampala, Uganda: (0.31361, 32.58111)"
       ]
      },
      {
       "output_type": "stream",
       "stream": "stdout",
       "text": [
        "\n",
        "474:Sydney,  , Australia -> Sydney NSW, Australia: (-33.86749, 151.20699)"
       ]
      },
      {
       "output_type": "stream",
       "stream": "stdout",
       "text": [
        "\n",
        "475:Madison, WI, USA -> Madison, WI, USA: (43.07305, -89.40123)"
       ]
      },
      {
       "output_type": "stream",
       "stream": "stdout",
       "text": [
        "\n",
        "476:Portland, OR, USA -> Portland, OR, USA: (45.52345, -122.67621)"
       ]
      },
      {
       "output_type": "stream",
       "stream": "stdout",
       "text": [
        "\n",
        "477:Ottawa, ON, Canada -> Ottawa, ON, Canada: (45.42153, -75.69719)"
       ]
      },
      {
       "output_type": "stream",
       "stream": "stdout",
       "text": [
        "\n",
        "478:Seattle, WA, USA -> Seattle, WA, USA: (47.60621, -122.33207)"
       ]
      },
      {
       "output_type": "stream",
       "stream": "stdout",
       "text": [
        "\n",
        "479:Boston, MA, USA -> Boston, MA, USA: (42.35843, -71.05977)"
       ]
      },
      {
       "output_type": "stream",
       "stream": "stdout",
       "text": [
        "\n",
        "480:Rochester, NY, USA -> Rochester, NY, USA: (43.16103, -77.61092)"
       ]
      },
      {
       "output_type": "stream",
       "stream": "stdout",
       "text": [
        "\n",
        "489:Dubai,  , United Arab Emirates -> Dubai - United Arab Emirates: (25.27114, 55.30748)"
       ]
      },
      {
       "output_type": "stream",
       "stream": "stdout",
       "text": [
        "\n",
        "490:Tokyo,  , Japan -> Tokyo, Japan: (35.68949, 139.69171)"
       ]
      },
      {
       "output_type": "stream",
       "stream": "stdout",
       "text": [
        "\n",
        "491:Luzern,  , Switzerland -> Lucerne, Switzerland: (47.05033, 8.31561)"
       ]
      },
      {
       "output_type": "stream",
       "stream": "stdout",
       "text": [
        "\n",
        "492:Mexico City,  , Mexico -> Mexico City, Federal District, Mexico: (19.43261, -99.13321)"
       ]
      },
      {
       "output_type": "stream",
       "stream": "stdout",
       "text": [
        "\n",
        "493:Jura,  , Switzerland -> Canton of Jura, Switzerland: (47.34445, 7.14306)"
       ]
      },
      {
       "output_type": "stream",
       "stream": "stdout",
       "text": [
        "\n",
        "494:Seoul,  , South Korea -> Seoul, South Korea: (37.56654, 126.97797)"
       ]
      },
      {
       "output_type": "stream",
       "stream": "stdout",
       "text": [
        "\n",
        "495:Cebu,  , Philippines -> Cebu City, Philippines: (10.31570, 123.88544)"
       ]
      },
      {
       "output_type": "stream",
       "stream": "stdout",
       "text": [
        "\n",
        "496:Naples,  , Italy -> Naples, Italy: (40.85177, 14.26812)"
       ]
      },
      {
       "output_type": "stream",
       "stream": "stdout",
       "text": [
        "\n",
        "497:Copenhagen,  , Denmark -> Copenhagen, Denmark: (55.67610, 12.56834)"
       ]
      },
      {
       "output_type": "stream",
       "stream": "stdout",
       "text": [
        "\n",
        "498:Fjardabyggd,  , Iceland -> Fjar\u00f0abygg\u00f0, Iceland: (65.03333, -14.21667)"
       ]
      },
      {
       "output_type": "stream",
       "stream": "stdout",
       "text": [
        "\n",
        "509:Abu Dhabi,  , UAE -> Abu Dhabi - United Arab Emirates: (24.46667, 54.36667)"
       ]
      },
      {
       "output_type": "stream",
       "stream": "stdout",
       "text": [
        "\n",
        "510:Paris,  , France -> Paris, France: (48.85661, 2.35222)"
       ]
      },
      {
       "output_type": "stream",
       "stream": "stdout",
       "text": [
        "\n",
        "511:Wroclaw,  , Poland -> Wroc\u0142aw, Poland: (51.10789, 17.03854)"
       ]
      },
      {
       "output_type": "stream",
       "stream": "stdout",
       "text": [
        "\n",
        "512:Murcia,  , Spain -> Murcia, Spain: (37.99233, -1.13046)"
       ]
      },
      {
       "output_type": "stream",
       "stream": "stdout",
       "text": [
        "\n",
        "513:Catania,  , Italy -> Catania Province of Catania, Italy: (37.50804, 15.08285)"
       ]
      },
      {
       "output_type": "stream",
       "stream": "stdout",
       "text": [
        "\n",
        "514:Prishtina,  , Kosovo -> Prishtina: (42.67242, 21.16454)"
       ]
      },
      {
       "output_type": "stream",
       "stream": "stdout",
       "text": [
        "\n",
        "515:Glasgow,  , UK -> Glasgow, Glasgow City, UK: (55.86424, -4.25181)"
       ]
      },
      {
       "output_type": "stream",
       "stream": "stdout",
       "text": [
        "\n",
        "516:Chicago, IL, USA -> Chicago, IL, USA: (41.87811, -87.62980)"
       ]
      },
      {
       "output_type": "stream",
       "stream": "stdout",
       "text": [
        "\n",
        "517:Eindhoven,  , Netherlands -> Eindhoven, The Netherlands: (51.44164, 5.46972)"
       ]
      },
      {
       "output_type": "stream",
       "stream": "stdout",
       "text": [
        "\n",
        "518:Frankfurt,  , Germany -> Frankfurt, Germany: (50.11092, 8.68213)"
       ]
      },
      {
       "output_type": "stream",
       "stream": "stdout",
       "text": [
        "\n",
        "529:Zagreb,  , Croatia -> Zagreb, Croatia: (45.81303, 15.97789)"
       ]
      },
      {
       "output_type": "stream",
       "stream": "stdout",
       "text": [
        "\n",
        "530:Hamburg,  , Germany -> Hamburg, Germany: (53.55108, 9.99368)"
       ]
      },
      {
       "output_type": "stream",
       "stream": "stdout",
       "text": [
        "\n",
        "531:San Diego, CA, USA -> San Diego, CA, USA: (32.71533, -117.15726)"
       ]
      },
      {
       "output_type": "stream",
       "stream": "stdout",
       "text": [
        "\n",
        "532:Trondheim,  , Norway -> Trondheim, Norway: (63.43051, 10.39505)"
       ]
      },
      {
       "output_type": "stream",
       "stream": "stdout",
       "text": [
        "\n",
        "533:Washington D.C., DC, USA -> Washington, DC, USA: (38.89511, -77.03637)"
       ]
      },
      {
       "output_type": "stream",
       "stream": "stdout",
       "text": [
        "\n",
        "534:Fes,  , Morocco -> Fes, Morocco: (34.03333, -5.00000)"
       ]
      },
      {
       "output_type": "stream",
       "stream": "stdout",
       "text": [
        "\n",
        "535:Auckland,  , New Zealand -> Auckland, New Zealand: (-36.84846, 174.76333)"
       ]
      },
      {
       "output_type": "stream",
       "stream": "stdout",
       "text": [
        "\n",
        "536:Copenhagen,  , Denmark -> Copenhagen, Denmark: (55.67610, 12.56834)"
       ]
      },
      {
       "output_type": "stream",
       "stream": "stdout",
       "text": [
        "\n",
        "537:Ulaanbaatar,  , Mongolia -> Ulaanbaatar, Mongolia: (47.92138, 106.90554)"
       ]
      },
      {
       "output_type": "stream",
       "stream": "stdout",
       "text": [
        "\n",
        "538:Melbourne,  , Australia -> Melbourne VIC, Australia: (-37.81411, 144.96328)"
       ]
      },
      {
       "output_type": "stream",
       "stream": "stdout",
       "text": [
        "\n",
        "546:Columbus, OH, USA -> Columbus, OH, USA: (39.96118, -82.99879)"
       ]
      },
      {
       "output_type": "stream",
       "stream": "stdout",
       "text": [
        "\n",
        "547:Beirut,  , Lebanon -> Beirut, Lebanon: (33.88863, 35.49548)"
       ]
      },
      {
       "output_type": "stream",
       "stream": "stdout",
       "text": [
        "\n",
        "548:Amsterdam,  , Netherlands -> Amsterdam, The Netherlands: (52.37022, 4.89517)"
       ]
      },
      {
       "output_type": "stream",
       "stream": "stdout",
       "text": [
        "\n",
        "549:Cochabamba,  , Bolivia -> Cochabamba, Bolivia: (-17.38414, -66.16670)"
       ]
      },
      {
       "output_type": "stream",
       "stream": "stdout",
       "text": [
        "\n",
        "550:Pavlodar,  , Kazakhstan -> Pavlodar, Kazakhstan: (52.30000, 76.95000)"
       ]
      },
      {
       "output_type": "stream",
       "stream": "stdout",
       "text": [
        "\n",
        "551:Las Vegas, NV, USA -> Las Vegas, NV, USA: (36.11465, -115.17282)"
       ]
      },
      {
       "output_type": "stream",
       "stream": "stdout",
       "text": [
        "\n",
        "552:Hyderabad,  , India -> Hyderabad, Andhra Pradesh, India: (17.38504, 78.48667)"
       ]
      },
      {
       "output_type": "stream",
       "stream": "stdout",
       "text": [
        "\n",
        "553:Seattle, WA, USA -> Seattle, WA, USA: (47.60621, -122.33207)"
       ]
      },
      {
       "output_type": "stream",
       "stream": "stdout",
       "text": [
        "\n",
        "554:Warsaw,  , Poland -> Warsaw, Poland: (52.22968, 21.01223)"
       ]
      },
      {
       "output_type": "stream",
       "stream": "stdout",
       "text": [
        "\n",
        "555:Abidjan,  , Cote d'Ivoire -> Abidjan, C\u00f4te d'Ivoire: (5.33632, -4.02775)"
       ]
      },
      {
       "output_type": "stream",
       "stream": "stdout",
       "text": [
        "\n",
        "566:Cincinnati, OH, USA -> Cincinnati, OH, USA: (39.10312, -84.51202)"
       ]
      },
      {
       "output_type": "stream",
       "stream": "stdout",
       "text": [
        "\n",
        "567:Chandler, AZ, USA -> Chandler, AZ, USA: (33.30616, -111.84125)"
       ]
      },
      {
       "output_type": "stream",
       "stream": "stdout",
       "text": [
        "\n",
        "568:San Francisco, CA, USA -> San Francisco, CA, USA: (37.77493, -122.41942)"
       ]
      },
      {
       "output_type": "stream",
       "stream": "stdout",
       "text": [
        "\n",
        "569:Kyoto,  , Japan -> Kyoto, Kyoto Prefecture, Japan: (35.01164, 135.76803)"
       ]
      },
      {
       "output_type": "stream",
       "stream": "stdout",
       "text": [
        "\n",
        "570:Orlando, FL, USA -> Orlando, FL, USA: (28.53834, -81.37924)"
       ]
      },
      {
       "output_type": "stream",
       "stream": "stdout",
       "text": [
        "\n",
        "571:Flagstaff, AZ, USA -> Flagstaff, AZ, USA: (35.20135, -111.63925)"
       ]
      },
      {
       "output_type": "stream",
       "stream": "stdout",
       "text": [
        "\n",
        "572:Karaganda,  , Kazakhstan -> Karagandy, Kazakhstan: (49.83333, 73.16667)"
       ]
      },
      {
       "output_type": "stream",
       "stream": "stdout",
       "text": [
        "\n",
        "573:Winnipeg,  , Manitoba -> Winnipeg, MB, Canada: (49.89975, -97.13749)"
       ]
      },
      {
       "output_type": "stream",
       "stream": "stdout",
       "text": [
        "\n",
        "574:San Diego, CA, USA -> San Diego, CA, USA: (32.71533, -117.15726)"
       ]
      },
      {
       "output_type": "stream",
       "stream": "stdout",
       "text": [
        "\n",
        "575:Vancouver, BC, Canada -> Vancouver, BC, Canada: (49.26123, -123.11393)"
       ]
      },
      {
       "output_type": "stream",
       "stream": "stdout",
       "text": [
        "\n",
        "585:Mexico City, D.F., Mexico -> Mexico City, Federal District, Mexico: (19.43261, -99.13321)"
       ]
      },
      {
       "output_type": "stream",
       "stream": "stdout",
       "text": [
        "\n",
        "586:Tucson, AZ, USA -> Tucson, AZ, USA: (32.22174, -110.92648)"
       ]
      },
      {
       "output_type": "stream",
       "stream": "stdout",
       "text": [
        "\n",
        "587:Kuala Lumpur,  , Malaysia -> Kuala Lumpur, Federal Territory of Kuala Lumpur, Malaysia: (3.13900, 101.68685)"
       ]
      },
      {
       "output_type": "stream",
       "stream": "stdout",
       "text": [
        "\n",
        "588:Perth,  , Australia -> Perth WA, Australia: (-31.95300, 115.85747)"
       ]
      },
      {
       "output_type": "stream",
       "stream": "stdout",
       "text": [
        "\n",
        "589:Richmond, VA, USA -> Richmond, VA, USA: (37.54072, -77.43605)"
       ]
      },
      {
       "output_type": "stream",
       "stream": "stdout",
       "text": [
        "\n",
        "590:Lincoln, NE, USA -> Lincoln, NE, USA: (40.80686, -96.68168)"
       ]
      },
      {
       "output_type": "stream",
       "stream": "stdout",
       "text": [
        "\n",
        "591:Santiago,  , Dominican Republic -> Santiago De Los Caballeros, Dominican Republic: (19.45565, -70.70719)"
       ]
      },
      {
       "output_type": "stream",
       "stream": "stdout",
       "text": [
        "\n",
        "592:Martinsville, IN, USA -> Martinsville, IN 46151, USA: (39.42783, -86.42833)"
       ]
      },
      {
       "output_type": "stream",
       "stream": "stdout",
       "text": [
        "\n",
        "593:Montevideo,  , Uruguay -> Montevideo, Uruguay: (-34.88361, -56.18194)"
       ]
      },
      {
       "output_type": "stream",
       "stream": "stdout",
       "text": [
        "\n",
        "594:Bangalore,  , India -> Bangalore, Karnataka, India: (12.97160, 77.59456)"
       ]
      },
      {
       "output_type": "stream",
       "stream": "stdout",
       "text": [
        "\n",
        "605:Saltillo, COAH, Mexico -> Saltillo, Coahuila, Mexico: (25.42672, -100.99543)"
       ]
      },
      {
       "output_type": "stream",
       "stream": "stdout",
       "text": [
        "\n",
        "606:Moscow,  , Russian Federation -> Moscow, Russian Federation: (55.74965, 37.62368)"
       ]
      },
      {
       "output_type": "stream",
       "stream": "stdout",
       "text": [
        "\n",
        "607:Sofia,  , Bulgaria -> Sofia, Bulgaria: (42.69784, 23.32167)"
       ]
      },
      {
       "output_type": "stream",
       "stream": "stdout",
       "text": [
        "\n",
        "608:Minsk,  , Belarus -> Minsk, Belarus: (53.90000, 27.56667)"
       ]
      },
      {
       "output_type": "stream",
       "stream": "stdout",
       "text": [
        "\n",
        "609:Anchorage, AK, USA -> Anchorage, AK, USA: (61.21806, -149.90028)"
       ]
      },
      {
       "output_type": "stream",
       "stream": "stdout",
       "text": [
        "\n",
        "610:Penang,  , Malaysia -> Penang, Malaysia: (5.26323, 100.48462)"
       ]
      },
      {
       "output_type": "stream",
       "stream": "stdout",
       "text": [
        "\n",
        "611:New York City, NY, USA -> New York, NY, USA: (40.71435, -74.00597)"
       ]
      },
      {
       "output_type": "stream",
       "stream": "stdout",
       "text": [
        "\n",
        "612:Delhi,  , India -> New Delhi, Delhi, India: (28.63531, 77.22496)"
       ]
      },
      {
       "output_type": "stream",
       "stream": "stdout",
       "text": [
        "\n",
        "613:Hartford, CT, USA -> Hartford, CT, USA: (41.76371, -72.68509)"
       ]
      },
      {
       "output_type": "stream",
       "stream": "stdout",
       "text": [
        "\n",
        "614:Mountain View, CA, USA -> Mountain View, CA, USA: (37.38605, -122.08385)"
       ]
      },
      {
       "output_type": "stream",
       "stream": "stdout",
       "text": [
        "\n",
        "624:Spokane, WA, USA -> Spokane, WA, USA: (47.65878, -117.42605)"
       ]
      },
      {
       "output_type": "stream",
       "stream": "stdout",
       "text": [
        "\n",
        "625:Los Angeles, USC, CA, USA -> University of Southern California, The University of Southern California, Los Angeles, CA 90089, USA: (34.01882, -118.28320)"
       ]
      },
      {
       "output_type": "stream",
       "stream": "stdout",
       "text": [
        "\n",
        "626:Columbia, MO, USA -> Columbia, MO, USA: (38.95171, -92.33407)"
       ]
      },
      {
       "output_type": "stream",
       "stream": "stdout",
       "text": [
        "\n",
        "627:Gainesville, FL, USA -> Gainesville, FL, USA: (29.65163, -82.32483)"
       ]
      },
      {
       "output_type": "stream",
       "stream": "stdout",
       "text": [
        "\n",
        "628:Honolulu, HI, USA -> Honolulu, HI, USA: (21.30694, -157.85833)"
       ]
      },
      {
       "output_type": "stream",
       "stream": "stdout",
       "text": [
        "\n",
        "629:Philadelphia, PA, USA -> Philadelphia, PA, USA: (39.95233, -75.16379)"
       ]
      },
      {
       "output_type": "stream",
       "stream": "stdout",
       "text": [
        "\n",
        "630:Basel,  , Switzerland -> Basel, Switzerland: (47.55742, 7.59257)"
       ]
      },
      {
       "output_type": "stream",
       "stream": "stdout",
       "text": [
        "\n",
        "631:Baltimore, MD, USA -> Baltimore, MD, USA: (39.29038, -76.61219)"
       ]
      },
      {
       "output_type": "stream",
       "stream": "stdout",
       "text": [
        "\n",
        "632:Bari,  , Italy -> Bari, Italy: (41.11714, 16.87187)"
       ]
      },
      {
       "output_type": "stream",
       "stream": "stdout",
       "text": [
        "\n",
        "633:Manila,  , Philippines -> Manila, Philippines: (14.59951, 120.98422)"
       ]
      },
      {
       "output_type": "stream",
       "stream": "stdout",
       "text": [
        "\n",
        "643:Hsinchu City,  , Taiwan -> Hsinchu City, Taiwan 300: (24.80395, 120.96469)"
       ]
      },
      {
       "output_type": "stream",
       "stream": "stdout",
       "text": [
        "\n",
        "644:Portland, OR, USA -> Portland, OR, USA: (45.52345, -122.67621)"
       ]
      },
      {
       "output_type": "stream",
       "stream": "stdout",
       "text": [
        "\n",
        "645:Boulder, CO, USA -> Boulder, CO, USA: (40.01499, -105.27055)"
       ]
      },
      {
       "output_type": "stream",
       "stream": "stdout",
       "text": [
        "\n",
        "646:Iowa City, IA, USA -> Iowa City, IA, USA: (41.66113, -91.53017)"
       ]
      },
      {
       "output_type": "stream",
       "stream": "stdout",
       "text": [
        "\n",
        "647:Crane, IN, USA -> Crane, IN, USA: (38.89116, -86.90389)"
       ]
      },
      {
       "output_type": "stream",
       "stream": "stdout",
       "text": [
        "\n",
        "648:Caen,  , France -> Caen, France: (49.18286, -0.37068)"
       ]
      },
      {
       "output_type": "stream",
       "stream": "stdout",
       "text": [
        "\n",
        "649:Atyray,  , Kazakhstan -> Atyrau, Kazakhstan: (47.10163, 51.91330)"
       ]
      },
      {
       "output_type": "stream",
       "stream": "stdout",
       "text": [
        "\n",
        "650:Sidibouzid,  , Tunisia -> Sidi Bouzid, Tunisia: (35.03333, 9.50000)"
       ]
      },
      {
       "output_type": "stream",
       "stream": "stdout",
       "text": [
        "\n",
        "651:Neuchatel,  , Switzerland -> Neuch\u00e2tel, Switzerland: (46.99298, 6.93193)"
       ]
      },
      {
       "output_type": "stream",
       "stream": "stdout",
       "text": [
        "\n",
        "652:Miami, FL, USA -> Miami, FL, USA: (25.78897, -80.22644)"
       ]
      },
      {
       "output_type": "stream",
       "stream": "stdout",
       "text": [
        "\n",
        "661:Moscow,  , Russian Federation -> Moscow, Russian Federation: (55.74965, 37.62368)"
       ]
      },
      {
       "output_type": "stream",
       "stream": "stdout",
       "text": [
        "\n",
        "662:Gaza,  , Palestinian Territories -> Gaza: (31.52256, 34.45359)"
       ]
      },
      {
       "output_type": "stream",
       "stream": "stdout",
       "text": [
        "\n",
        "663:Brescia,  , Italy -> Brescia Province of Brescia, Italy: (45.54119, 10.21944)"
       ]
      },
      {
       "output_type": "stream",
       "stream": "stdout",
       "text": [
        "\n",
        "664:Denver, CO, USA -> Denver, CO, USA: (39.73757, -104.98472)"
       ]
      },
      {
       "output_type": "stream",
       "stream": "stdout",
       "text": [
        "\n",
        "665:Lima,  , Peru -> Lima, Peru: (-12.04782, -77.06220)"
       ]
      },
      {
       "output_type": "stream",
       "stream": "stdout",
       "text": [
        "\n",
        "666:Oslo,  , Norway -> Oslo, Norway: (59.91387, 10.75225)"
       ]
      },
      {
       "output_type": "stream",
       "stream": "stdout",
       "text": [
        "\n",
        "667:Phoenix, AZ, USA -> Phoenix, AZ, USA: (33.44838, -112.07404)"
       ]
      },
      {
       "output_type": "stream",
       "stream": "stdout",
       "text": [
        "\n",
        "668:San Juan, EDP,  , Puerto Rico -> San Juan, Puerto Rico: (18.46633, -66.10572)"
       ]
      },
      {
       "output_type": "stream",
       "stream": "stdout",
       "text": [
        "\n",
        "669:Peel, ON, Canada -> Peel Regional Municipality, ON, Canada: (43.67664, -79.78484)"
       ]
      },
      {
       "output_type": "stream",
       "stream": "stdout",
       "text": [
        "\n",
        "670:Seattle, WA, USA -> Seattle, WA, USA: (47.60621, -122.33207)"
       ]
      },
      {
       "output_type": "stream",
       "stream": "stdout",
       "text": [
        "\n",
        "681:Ciudad Obreg\u00f3n, SON, Mexico -> Ciudad Obreg\u00f3n, Sonora, Mexico: (27.49389, -109.93889)"
       ]
      },
      {
       "output_type": "stream",
       "stream": "stdout",
       "text": [
        "\n",
        "682:Charlottesville, VA, USA -> Charlottesville, VA, USA: (38.02931, -78.47668)"
       ]
      },
      {
       "output_type": "stream",
       "stream": "stdout",
       "text": [
        "\n",
        "683:Mansoura,  , Egypt -> Mansoura, Mansoura Qism 2, Mansoura, Daqahlia, Egypt: (31.04095, 31.37847)"
       ]
      },
      {
       "output_type": "stream",
       "stream": "stdout",
       "text": [
        "\n",
        "684:Ogden, UT, USA -> Ogden, UT, USA: (41.22300, -111.97383)"
       ]
      },
      {
       "output_type": "stream",
       "stream": "stdout",
       "text": [
        "\n",
        "685:Orange County, CA, USA -> Orange, CA, USA: (33.71747, -117.83114)"
       ]
      },
      {
       "output_type": "stream",
       "stream": "stdout",
       "text": [
        "\n",
        "686:Lehigh Valley, PA, USA -> Stiles, PA 18052, USA: (40.66457, -75.51138)"
       ]
      },
      {
       "output_type": "stream",
       "stream": "stdout",
       "text": [
        "\n",
        "687:Bath,  , UK -> Bath, Bath and North East Somerset, UK: (51.37580, -2.35990)"
       ]
      },
      {
       "output_type": "stream",
       "stream": "stdout",
       "text": [
        "\n",
        "688:Minneapolis, MN, USA -> Minneapolis, MN, USA: (44.98333, -93.26667)"
       ]
      },
      {
       "output_type": "stream",
       "stream": "stdout",
       "text": [
        "\n",
        "689:Groningen,  , Netherlands -> Groningen, The Netherlands: (53.21923, 6.57537)"
       ]
      },
      {
       "output_type": "stream",
       "stream": "stdout",
       "text": [
        "\n",
        "690:Santa Barbara, CA, USA -> Santa Barbara, CA, USA: (34.42083, -119.69819)"
       ]
      },
      {
       "output_type": "stream",
       "stream": "stdout",
       "text": [
        "\n",
        "701:Bucharest,  , Romania -> Bucharest, Romania: (44.43250, 26.10389)"
       ]
      },
      {
       "output_type": "stream",
       "stream": "stdout",
       "text": [
        "\n",
        "702:Winnipeg, MB, Canada -> Winnipeg, MB, Canada: (49.89975, -97.13749)"
       ]
      },
      {
       "output_type": "stream",
       "stream": "stdout",
       "text": [
        "\n",
        "703:Davao,  , Philippines -> Davao City, Philippines: (7.19071, 125.45534)"
       ]
      },
      {
       "output_type": "stream",
       "stream": "stdout",
       "text": [
        "\n",
        "704:Hermosillo,  , Mexico -> Hermosillo, Sonora, Mexico: (29.08919, -110.96133)"
       ]
      },
      {
       "output_type": "stream",
       "stream": "stdout",
       "text": [
        "\n",
        "705:Southampton,  , UK -> Southampton, UK: (50.90970, -1.40435)"
       ]
      },
      {
       "output_type": "stream",
       "stream": "stdout",
       "text": [
        "\n",
        "706:Cambridge,  , UK -> Cambridge, UK: (52.20534, 0.12182)"
       ]
      },
      {
       "output_type": "stream",
       "stream": "stdout",
       "text": [
        "\n",
        "707:Hamala,  , Bahrain -> Hamala, Bahrain: (26.13867, 50.47735)"
       ]
      },
      {
       "output_type": "stream",
       "stream": "stdout",
       "text": [
        "\n",
        "708:Perm,  , Russian Federation -> Perm, Perm Krai, Russian Federation: (58.00198, 56.25729)"
       ]
      },
      {
       "output_type": "stream",
       "stream": "stdout",
       "text": [
        "\n",
        "709:Taraz,  , Kazakhstan -> Taraz, Kazakhstan: (42.90000, 71.36667)"
       ]
      },
      {
       "output_type": "stream",
       "stream": "stdout",
       "text": [
        "\n",
        "710:Zilina,  , Slovakia -> \u017dilina, Slovakia: (49.22159, 18.74195)"
       ]
      },
      {
       "output_type": "stream",
       "stream": "stdout",
       "text": [
        "\n",
        "720:Trojmiasto,  , Poland -> Gda\u0144sk, Poland: (54.35203, 18.64664)"
       ]
      },
      {
       "output_type": "stream",
       "stream": "stdout",
       "text": [
        "\n",
        "721:Manchester, England, UK -> Manchester, UK: (53.47925, -2.24793)"
       ]
      },
      {
       "output_type": "stream",
       "stream": "stdout",
       "text": [
        "\n",
        "722:Saint Louis,  , Senegal -> Saint Louis, Senegal: (16.02463, -16.48953)"
       ]
      },
      {
       "output_type": "stream",
       "stream": "stdout",
       "text": [
        "\n",
        "723:Liege,  , Belgium -> Liege, Belgium: (50.63256, 5.57967)"
       ]
      },
      {
       "output_type": "stream",
       "stream": "stdout",
       "text": [
        "\n",
        "724:St. Louis, MO, USA -> St. Louis, MO, USA: (38.62700, -90.19940)"
       ]
      },
      {
       "output_type": "stream",
       "stream": "stdout",
       "text": [
        "\n",
        "725:Greater Lafayette, IN, USA -> Lafayette Township, NJ, USA: (41.11139, -74.67750)"
       ]
      },
      {
       "output_type": "stream",
       "stream": "stdout",
       "text": [
        "\n",
        "726:Kirkland, WA, USA -> Kirkland, WA, USA: (47.68149, -122.20874)"
       ]
      },
      {
       "output_type": "stream",
       "stream": "stdout",
       "text": [
        "\n",
        "727:Bretagne,  , France -> Brittany, France: (48.20205, -2.93264)"
       ]
      },
      {
       "output_type": "stream",
       "stream": "stdout",
       "text": [
        "\n",
        "728:Guatemala City,  , Guatemala -> Guatemala City, Guatemala: (14.62480, -90.53282)"
       ]
      },
      {
       "output_type": "stream",
       "stream": "stdout",
       "text": [
        "\n",
        "729:Boston, MA, USA -> Boston, MA, USA: (42.35843, -71.05977)"
       ]
      },
      {
       "output_type": "stream",
       "stream": "stdout",
       "text": [
        "\n",
        "740:Mexico City,  , Mexico -> Mexico City, Federal District, Mexico: (19.43261, -99.13321)"
       ]
      },
      {
       "output_type": "stream",
       "stream": "stdout",
       "text": [
        "\n",
        "741:Mexico City,  , Mexico -> Mexico City, Federal District, Mexico: (19.43261, -99.13321)"
       ]
      },
      {
       "output_type": "stream",
       "stream": "stdout",
       "text": [
        "\n",
        "742:Victoria, BC, Canada -> Victoria, BC, Canada: (48.42842, -123.36564)"
       ]
      },
      {
       "output_type": "stream",
       "stream": "stdout",
       "text": [
        "\n",
        "743:Ottawa, ON, Canada -> Ottawa, ON, Canada: (45.42153, -75.69719)"
       ]
      },
      {
       "output_type": "stream",
       "stream": "stdout",
       "text": [
        "\n",
        "744:Atlanta, GA, USA -> Atlanta, GA, USA: (33.74900, -84.38798)"
       ]
      },
      {
       "output_type": "stream",
       "stream": "stdout",
       "text": [
        "\n",
        "745:Bloomington, IN, USA -> Bloomington, IN, USA: (39.16533, -86.52639)"
       ]
      },
      {
       "output_type": "stream",
       "stream": "stdout",
       "text": [
        "\n",
        "746:Milwaukee, WI, USA -> Milwaukee, WI, USA: (43.03890, -87.90647)"
       ]
      },
      {
       "output_type": "stream",
       "stream": "stdout",
       "text": [
        "\n",
        "747:South Bend, IN, USA -> South Bend, IN, USA: (41.67635, -86.25199)"
       ]
      },
      {
       "output_type": "stream",
       "stream": "stdout",
       "text": [
        "\n",
        "748:Binghamton, NY, USA -> Binghamton, NY, USA: (42.09869, -75.91797)"
       ]
      },
      {
       "output_type": "stream",
       "stream": "stdout",
       "text": [
        "\n",
        "749:Caracas,  , Venezuela -> Caracas, Venezuela: (10.49102, -66.90206)"
       ]
      },
      {
       "output_type": "stream",
       "stream": "stdout",
       "text": [
        "\n",
        "759:Morelia, Michoac\u00e1n, Mexico -> Morelia, Michoac\u00e1n, Mexico: (19.70595, -101.19498)"
       ]
      },
      {
       "output_type": "stream",
       "stream": "stdout",
       "text": [
        "\n",
        "760:Halifax, NS, Canada -> Halifax, NS, Canada: (44.64886, -63.57532)"
       ]
      },
      {
       "output_type": "stream",
       "stream": "stdout",
       "text": [
        "\n",
        "761:Mount-Lebanon,  , Lebanon -> Mount Lebanon, Lebanon: (33.90466, 35.69700)"
       ]
      },
      {
       "output_type": "stream",
       "stream": "stdout",
       "text": [
        "\n",
        "762:Kyoto,  , Japan -> Kyoto, Kyoto Prefecture, Japan: (35.01164, 135.76803)"
       ]
      },
      {
       "output_type": "stream",
       "stream": "stdout",
       "text": [
        "\n",
        "763:San Diego, CA, USA -> San Diego, CA, USA: (32.71533, -117.15726)"
       ]
      },
      {
       "output_type": "stream",
       "stream": "stdout",
       "text": [
        "\n",
        "764:Annaba,  , Algeria -> Annaba, Algeria: (36.90286, 7.75554)"
       ]
      },
      {
       "output_type": "stream",
       "stream": "stdout",
       "text": [
        "\n",
        "765:Cape Town,  , South Africa -> Cape Town, South Africa: (-33.92487, 18.42406)"
       ]
      },
      {
       "output_type": "stream",
       "stream": "stdout",
       "text": [
        "\n",
        "766:Karachi,  , Pakistan -> Karachi, Pakistan: (24.89338, 67.02806)"
       ]
      },
      {
       "output_type": "stream",
       "stream": "stdout",
       "text": [
        "\n",
        "767:Recife,  , Brazil -> Recife - Pernambuco, Brazil: (-8.05428, -34.88126)"
       ]
      },
      {
       "output_type": "stream",
       "stream": "stdout",
       "text": [
        "\n",
        "768:Hyderabad,  , India -> Hyderabad, Andhra Pradesh, India: (17.38504, 78.48667)"
       ]
      },
      {
       "output_type": "stream",
       "stream": "stdout",
       "text": [
        "\n",
        "778:Accra,  , Ghana -> Accra, Ghana: (5.55572, -0.19631)"
       ]
      },
      {
       "output_type": "stream",
       "stream": "stdout",
       "text": [
        "\n",
        "779:Verona,  , Italy -> Verona Province of Verona, Italy: (45.43836, 10.99166)"
       ]
      },
      {
       "output_type": "stream",
       "stream": "stdout",
       "text": [
        "\n",
        "780:Ciudad Ju\u00e1rez, Chihuahua, Mexico -> Ciudad Ju\u00e1rez, Chihuahua, Mexico: (31.73678, -106.47303)"
       ]
      },
      {
       "output_type": "stream",
       "stream": "stdout",
       "text": [
        "\n",
        "781:San Jose,  , Costa Rica -> San Jose, Costa Rica: (9.92713, -84.08201)"
       ]
      },
      {
       "output_type": "stream",
       "stream": "stdout",
       "text": [
        "\n",
        "782:Bordeaux,  , France -> Bordeaux, France: (44.83779, -0.57918)"
       ]
      },
      {
       "output_type": "stream",
       "stream": "stdout",
       "text": [
        "\n",
        "783:Stuttgart,  , Germany -> Stuttgart, Germany: (48.77542, 9.18176)"
       ]
      },
      {
       "output_type": "stream",
       "stream": "stdout",
       "text": [
        "\n",
        "784:Cebu City,  , Philippines -> Cebu City, Philippines: (10.31570, 123.88544)"
       ]
      },
      {
       "output_type": "stream",
       "stream": "stdout",
       "text": [
        "\n",
        "785:Edinburgh,  , UK -> Edinburgh, City of Edinburgh, UK: (55.95325, -3.18827)"
       ]
      },
      {
       "output_type": "stream",
       "stream": "stdout",
       "text": [
        "\n",
        "786:Adelaide,  , Australia -> Adelaide SA, Australia: (-34.92862, 138.59996)"
       ]
      },
      {
       "output_type": "stream",
       "stream": "stdout",
       "text": [
        "\n",
        "787:Aarhus,  , Denmark -> Aarhus, Denmark: (56.16294, 10.20392)"
       ]
      },
      {
       "output_type": "stream",
       "stream": "stdout",
       "text": [
        "\n",
        "797:Luxembourg,  , Luxembourg -> Luxembourg: (49.61162, 6.13193)"
       ]
      },
      {
       "output_type": "stream",
       "stream": "stdout",
       "text": [
        "\n",
        "798:Sarajevo,  , Bosnia and Herzegovina -> Sarajevo, Bosnia and Herzegovina: (43.85626, 18.41308)"
       ]
      },
      {
       "output_type": "stream",
       "stream": "stdout",
       "text": [
        "\n",
        "799:C\u00f3rdoba,  , Argentina -> C\u00f3rdoba, C\u00f3rdoba Province, Argentina: (-31.39893, -64.18213)"
       ]
      },
      {
       "output_type": "stream",
       "stream": "stdout",
       "text": [
        "\n",
        "800:Johnson City, TN, USA -> Johnson City, TN, USA: (36.31344, -82.35347)"
       ]
      },
      {
       "output_type": "stream",
       "stream": "stdout",
       "text": [
        "\n",
        "801:Armenia,  , Colombia -> Armenia, Quindio, Colombia: (4.52861, -75.70417)"
       ]
      },
      {
       "output_type": "stream",
       "stream": "stdout",
       "text": [
        "\n",
        "802:Des Moines, IA, USA -> Des Moines, IA, USA: (41.60054, -93.60911)"
       ]
      },
      {
       "output_type": "stream",
       "stream": "stdout",
       "text": [
        "\n",
        "803:Casablanca,  , Morocco -> Casablanca, Morocco: (33.53333, -7.58333)"
       ]
      },
      {
       "output_type": "stream",
       "stream": "stdout",
       "text": [
        "\n",
        "804:Tampa, FL, USA -> Tampa, FL, USA: (27.95058, -82.45718)"
       ]
      },
      {
       "output_type": "stream",
       "stream": "stdout",
       "text": [
        "\n",
        "805:Tokyo,  , Japan -> Tokyo, Japan: (35.68949, 139.69171)"
       ]
      },
      {
       "output_type": "stream",
       "stream": "stdout",
       "text": [
        "\n",
        "806:Chisinau,  , Moldova -> Chisinau, Moldova: (47.02686, 28.84155)"
       ]
      },
      {
       "output_type": "stream",
       "stream": "stdout",
       "text": [
        "\n",
        "817:Paris,  , France -> Paris, France: (48.85661, 2.35222)"
       ]
      },
      {
       "output_type": "stream",
       "stream": "stdout",
       "text": [
        "\n",
        "818:Bogota,  , Colombia -> Bogot\u00e1, Bogota, Colombia: (4.59806, -74.07583)"
       ]
      },
      {
       "output_type": "stream",
       "stream": "stdout",
       "text": [
        "\n",
        "819:Portland, OR, USA -> Portland, OR, USA: (45.52345, -122.67621)"
       ]
      },
      {
       "output_type": "stream",
       "stream": "stdout",
       "text": [
        "\n",
        "820:Quebec City, QC, Canada -> Quebec City, QC, Canada: (46.80328, -71.24280)"
       ]
      },
      {
       "output_type": "stream",
       "stream": "stdout",
       "text": [
        "\n",
        "821:Nizhny Novgorod,  , Russian Federation -> Nizhny Novgorod, Nizhny Novgorod Oblast, Russian Federation: (56.29274, 43.92674)"
       ]
      },
      {
       "output_type": "stream",
       "stream": "stdout",
       "text": [
        "\n",
        "822:Belfort,  , France -> Belfort, France: (47.63967, 6.86385)"
       ]
      },
      {
       "output_type": "stream",
       "stream": "stdout",
       "text": [
        "\n",
        "823:Singapore,  , Singapore -> Singapore: (1.28009, 103.85095)"
       ]
      },
      {
       "output_type": "stream",
       "stream": "stdout",
       "text": [
        "\n",
        "824:Palmas de Gran Canaria,  , Spain -> Las Palmas de Gran Canaria, Las Palmas, Spain: (28.11315, -15.44088)"
       ]
      },
      {
       "output_type": "stream",
       "stream": "stdout",
       "text": [
        "\n",
        "825:Doha,  , Qatar -> Doha, Qatar: (25.28028, 51.52248)"
       ]
      },
      {
       "output_type": "stream",
       "stream": "stdout",
       "text": [
        "\n",
        "826:Baltimore, MD, USA -> Baltimore, MD, USA: (39.29038, -76.61219)"
       ]
      },
      {
       "output_type": "stream",
       "stream": "stdout",
       "text": [
        "\n",
        "837:San Francisco, CA, USA -> San Francisco, CA, USA: (37.77493, -122.41942)"
       ]
      },
      {
       "output_type": "stream",
       "stream": "stdout",
       "text": [
        "\n",
        "838:Okinawa,  , Japan -> Okinawa Prefecture, Japan: (26.21240, 127.68093)"
       ]
      },
      {
       "output_type": "stream",
       "stream": "stdout",
       "text": [
        "\n",
        "839:Cordoba,  , Spain -> C\u00f3rdoba, Spain: (37.88818, -4.77938)"
       ]
      },
      {
       "output_type": "stream",
       "stream": "stdout",
       "text": [
        "\n",
        "840:Shanghai,  , China -> Shanghai, China: (31.23039, 121.47370)"
       ]
      },
      {
       "output_type": "stream",
       "stream": "stdout",
       "text": [
        "\n",
        "841:Marrakech,  , Morocco -> Marrakesh, Morocco: (31.63333, -8.00000)"
       ]
      },
      {
       "output_type": "stream",
       "stream": "stdout",
       "text": [
        "\n",
        "842:Tripoli,  , Libya -> Tripoli, Libya: (32.87617, 13.18751)"
       ]
      },
      {
       "output_type": "stream",
       "stream": "stdout",
       "text": [
        "\n",
        "843:Las Vegas, NV, USA -> Las Vegas, NV, USA: (36.11465, -115.17282)"
       ]
      },
      {
       "output_type": "stream",
       "stream": "stdout",
       "text": [
        "\n",
        "844:Dhaka,  , Bangladesh -> Dhaka, Bangladesh: (23.70992, 90.40714)"
       ]
      },
      {
       "output_type": "stream",
       "stream": "stdout",
       "text": [
        "\n",
        "845:Jackson, MS, USA -> Jackson, MS, USA: (32.29876, -90.18481)"
       ]
      },
      {
       "output_type": "stream",
       "stream": "stdout",
       "text": [
        "\n",
        "846:Orlando, FL, USA -> Orlando, FL, USA: (28.53834, -81.37924)"
       ]
      },
      {
       "output_type": "stream",
       "stream": "stdout",
       "text": [
        "\n",
        "856:Jacksonville, FL, USA -> Jacksonville, FL, USA: (30.33218, -81.65565)"
       ]
      },
      {
       "output_type": "stream",
       "stream": "stdout",
       "text": [
        "\n",
        "857:Cologne,  , Germany -> Cologne, Germany: (50.93753, 6.96028)"
       ]
      },
      {
       "output_type": "stream",
       "stream": "stdout",
       "text": [
        "\n",
        "858:Tainan,  , Taiwan -> Tainan City, Taiwan: (23.14170, 120.25127)"
       ]
      },
      {
       "output_type": "stream",
       "stream": "stdout",
       "text": [
        "\n",
        "859:New York City, NY, USA -> New York, NY, USA: (40.71435, -74.00597)"
       ]
      },
      {
       "output_type": "stream",
       "stream": "stdout",
       "text": [
        "\n",
        "860:Seattle, WA, USA -> Seattle, WA, USA: (47.60621, -122.33207)"
       ]
      },
      {
       "output_type": "stream",
       "stream": "stdout",
       "text": [
        "\n",
        "861:Seaside, CA, USA -> Seaside, CA, USA: (36.62140, -121.81858)"
       ]
      },
      {
       "output_type": "stream",
       "stream": "stdout",
       "text": [
        "\n",
        "862:San Luis Obispo, Cal Poly, CA, USA -> California Polytechnic State University, 1 Grand Avenue, San Luis Obispo, CA 93407, USA: (35.29615, -120.65368)"
       ]
      },
      {
       "output_type": "stream",
       "stream": "stdout",
       "text": [
        "\n",
        "863:Riyadh,  , Saudi Arabia -> Riyadh Saudi Arabia: (24.71167, 46.72417)"
       ]
      },
      {
       "output_type": "stream",
       "stream": "stdout",
       "text": [
        "\n",
        "864:Kuwait City,  , Kuwait -> Kuwait City, Kuwait: (29.36972, 47.97833)"
       ]
      },
      {
       "output_type": "stream",
       "stream": "stdout",
       "text": [
        "\n",
        "865:Sulaimanya,  , Iraq -> Sulaymaniyah, Iraq: (35.55000, 45.43333)"
       ]
      },
      {
       "output_type": "stream",
       "stream": "stdout",
       "text": [
        "\n",
        "876:Montreal, QC, Canada -> Montreal, QC, Canada: (45.50867, -73.55399)"
       ]
      },
      {
       "output_type": "stream",
       "stream": "stdout",
       "text": [
        "\n",
        "877:Terre Haute, IN, USA -> Terre Haute, IN, USA: (39.46670, -87.41391)"
       ]
      },
      {
       "output_type": "stream",
       "stream": "stdout",
       "text": [
        "\n",
        "878:Tokyo,  , Japan -> Tokyo, Japan: (35.68949, 139.69171)"
       ]
      },
      {
       "output_type": "stream",
       "stream": "stdout",
       "text": [
        "\n",
        "879:Oxford, OH, USA -> Oxford, OH 45056, USA: (39.50700, -84.74523)"
       ]
      },
      {
       "output_type": "stream",
       "stream": "stdout",
       "text": [
        "\n",
        "880:Calgary, AB, Canada -> Calgary, AB, Canada: (51.04532, -114.05810)"
       ]
      },
      {
       "output_type": "stream",
       "stream": "stdout",
       "text": [
        "\n",
        "881:London, ON, Canada -> London, ON, Canada: (42.98695, -81.24318)"
       ]
      },
      {
       "output_type": "stream",
       "stream": "stdout",
       "text": [
        "\n",
        "882:Paris,  , France -> Paris, France: (48.85661, 2.35222)"
       ]
      },
      {
       "output_type": "stream",
       "stream": "stdout",
       "text": [
        "\n",
        "883:Athens,  , Greece -> Athens, Greece: (37.98372, 23.72931)"
       ]
      },
      {
       "output_type": "stream",
       "stream": "stdout",
       "text": [
        "\n",
        "884:San Francisco, CA, USA -> San Francisco, CA, USA: (37.77493, -122.41942)"
       ]
      },
      {
       "output_type": "stream",
       "stream": "stdout",
       "text": [
        "\n",
        "885:Philadelphia, PA, USA -> Philadelphia, PA, USA: (39.95233, -75.16379)"
       ]
      },
      {
       "output_type": "stream",
       "stream": "stdout",
       "text": [
        "\n",
        "895:Chiapas, CHIS, Mexico -> Chiapas, Mexico: (16.32244, -91.79106)"
       ]
      },
      {
       "output_type": "stream",
       "stream": "stdout",
       "text": [
        "\n",
        "896:Lahore,  , Pakistan -> Govt. College of Science, Lahore, Pakistan: (31.50867, 74.29572)"
       ]
      },
      {
       "output_type": "stream",
       "stream": "stdout",
       "text": [
        "\n",
        "897:Lansing, MI, USA -> Lansing, MI, USA: (42.73253, -84.55553)"
       ]
      },
      {
       "output_type": "stream",
       "stream": "stdout",
       "text": [
        "\n",
        "898:Lausanne,  , Switzerland -> Lausanne, Switzerland: (46.51996, 6.63360)"
       ]
      },
      {
       "output_type": "stream",
       "stream": "stdout",
       "text": [
        "\n",
        "899:Brasilia,  , Brazil -> Bras\u00edlia - Federal District, Brazil: (-15.78015, -47.92917)"
       ]
      },
      {
       "output_type": "stream",
       "stream": "stdout",
       "text": [
        "\n",
        "900:Lancaster, PA, USA -> Lancaster, PA, USA: (40.03788, -76.30551)"
       ]
      },
      {
       "output_type": "stream",
       "stream": "stdout",
       "text": [
        "\n",
        "901:Tehran,  , Iran -> Tehran, Iran: (35.55013, 51.51501)"
       ]
      },
      {
       "output_type": "stream",
       "stream": "stdout",
       "text": [
        "\n",
        "902:New York City, NY, USA -> New York, NY, USA: (40.71435, -74.00597)"
       ]
      },
      {
       "output_type": "stream",
       "stream": "stdout",
       "text": [
        "\n",
        "903:Tunis,  , Tunisia -> Tunis, Tunisia: (36.81881, 10.16596)"
       ]
      },
      {
       "output_type": "stream",
       "stream": "stdout",
       "text": [
        "\n",
        "904:Izmir,  , Turkey -> Izmir, Turkey: (38.41885, 27.12872)"
       ]
      },
      {
       "output_type": "stream",
       "stream": "stdout",
       "text": [
        "\n",
        "914:Santa Fe, NM, USA -> Santa Fe, NM, USA: (35.68698, -105.93780)"
       ]
      },
      {
       "output_type": "stream",
       "stream": "stdout",
       "text": [
        "\n",
        "915:Cluj-Napoca,  , Romania -> Cluj-Napoca, Romania: (46.77725, 23.59989)"
       ]
      },
      {
       "output_type": "stream",
       "stream": "stdout",
       "text": [
        "\n",
        "916:Louisville, KY, USA -> Louisville, KY, USA: (38.25266, -85.75846)"
       ]
      },
      {
       "output_type": "stream",
       "stream": "stdout",
       "text": [
        "\n",
        "917:Byblos,  , Lebanon -> Byblos, Lebanon: (34.12300, 35.65193)"
       ]
      },
      {
       "output_type": "stream",
       "stream": "stdout",
       "text": [
        "\n",
        "918:Prince George, BC, Canada -> Prince George, BC, Canada: (53.91706, -122.74967)"
       ]
      },
      {
       "output_type": "stream",
       "stream": "stdout",
       "text": [
        "\n",
        "919:Orange, CA, USA -> Orange, CA, USA: (33.78779, -117.85311)"
       ]
      },
      {
       "output_type": "stream",
       "stream": "stdout",
       "text": [
        "\n",
        "920:Columbus, OH, USA -> Columbus, OH, USA: (39.96118, -82.99879)"
       ]
      },
      {
       "output_type": "stream",
       "stream": "stdout",
       "text": [
        "\n",
        "921:Saratoga, NY, USA -> Saratoga, NY, USA: (43.03242, -73.93598)"
       ]
      },
      {
       "output_type": "stream",
       "stream": "stdout",
       "text": [
        "\n",
        "922:Haifa,  , Israel -> Haifa, Israel: (32.83036, 34.97434)"
       ]
      },
      {
       "output_type": "stream",
       "stream": "stdout",
       "text": [
        "\n",
        "923:Lincoln, NE, USA -> Lincoln, NE, USA: (40.80686, -96.68168)"
       ]
      },
      {
       "output_type": "stream",
       "stream": "stdout",
       "text": [
        "\n",
        "925:Fargo, ND, USA -> Fargo, ND, USA: (46.87719, -96.78980)"
       ]
      },
      {
       "output_type": "stream",
       "stream": "stdout",
       "text": [
        "\n",
        "926:Fairbanks, AK, USA -> Fairbanks, AK, USA: (64.83778, -147.71639)"
       ]
      },
      {
       "output_type": "stream",
       "stream": "stdout",
       "text": [
        "\n",
        "927:Kelowna, BC, Canada -> Kelowna, BC, Canada: (49.88795, -119.49601)"
       ]
      },
      {
       "output_type": "stream",
       "stream": "stdout",
       "text": [
        "\n",
        "928:Boston, MA, USA -> Boston, MA, USA: (42.35843, -71.05977)"
       ]
      },
      {
       "output_type": "stream",
       "stream": "stdout",
       "text": [
        "\n",
        "929:Perth,  , Australia -> Perth WA, Australia: (-31.95300, 115.85747)"
       ]
      },
      {
       "output_type": "stream",
       "stream": "stdout",
       "text": [
        "\n",
        "930:Cape Cod, MA, USA -> Cape Cod, MA, USA: (41.67293, -70.33909)"
       ]
      },
      {
       "output_type": "stream",
       "stream": "stdout",
       "text": [
        "\n",
        "931:Cleveland, OH, USA -> Cleveland, OH, USA: (41.49950, -81.69541)"
       ]
      },
      {
       "output_type": "stream",
       "stream": "stdout",
       "text": [
        "\n",
        "932:Valencia,  , Spain -> Valencia, Spain: (39.46991, -0.37629)"
       ]
      },
      {
       "output_type": "stream",
       "stream": "stdout",
       "text": [
        "\n",
        "933:Hyderabad,  , India -> Hyderabad, Andhra Pradesh, India: (17.38504, 78.48667)"
       ]
      },
      {
       "output_type": "stream",
       "stream": "stdout",
       "text": [
        "\n",
        "934:Reykjavik,  , Iceland -> Reykjavik, Iceland: (64.13534, -21.89521)"
       ]
      },
      {
       "output_type": "stream",
       "stream": "stdout",
       "text": [
        "\n",
        "942:Eskisehir,  , Turkey -> Eski\u015fehir/Eski\u015fehir Province, Turkey: (39.77667, 30.52056)"
       ]
      },
      {
       "output_type": "stream",
       "stream": "stdout",
       "text": [
        "\n",
        "943:Santiago,  , Chile -> Santiago, Santiago Metropolitan Region, Chile: (-33.46912, -70.64200)"
       ]
      },
      {
       "output_type": "stream",
       "stream": "stdout",
       "text": [
        "\n",
        "944:Fredericton, NB, Canada -> Fredericton, NB, Canada: (45.96359, -66.64312)"
       ]
      },
      {
       "output_type": "stream",
       "stream": "stdout",
       "text": [
        "\n",
        "945:Toulouse,  , France -> Toulouse, France: (43.60465, 1.44421)"
       ]
      },
      {
       "output_type": "stream",
       "stream": "stdout",
       "text": [
        "\n",
        "946:Belgrade,  , Serbia -> City of Belgrade, Serbia: (44.58504, 20.39640)"
       ]
      },
      {
       "output_type": "stream",
       "stream": "stdout",
       "text": [
        "\n",
        "947:Vancouver, UBC, BC, Canada -> UBC Law Library, The University of British Columbia, Vancouver, BC V6T 1Z1, Canada: (49.27028, -123.25348)"
       ]
      },
      {
       "output_type": "stream",
       "stream": "stdout",
       "text": [
        "\n",
        "948:Dunedin,  , New Zealand -> Dunedin, New Zealand: (-45.87876, 170.50280)"
       ]
      },
      {
       "output_type": "stream",
       "stream": "stdout",
       "text": [
        "\n",
        "949:Florianopolis,  , Brazil -> Florian\u00f3polis - Santa Catarina, Brazil: (-27.59690, -48.54945)"
       ]
      },
      {
       "output_type": "stream",
       "stream": "stdout",
       "text": [
        "\n",
        "950:Jeddah,  , Saudi Arabia -> Jeddah Saudi Arabia: (21.54349, 39.17299)"
       ]
      },
      {
       "output_type": "stream",
       "stream": "stdout",
       "text": [
        "\n",
        "951:Assiut,  , Egypt -> Asyut, Al Hamraa Ath Thaneyah, Markaz El-Fath, Assiut, Egypt: (27.17831, 31.18593)"
       ]
      },
      {
       "output_type": "stream",
       "stream": "stdout",
       "text": [
        "\n"
       ]
      }
     ],
     "prompt_number": 3
    },
    {
     "cell_type": "code",
     "collapsed": false,
     "input": [
      "data[0]"
     ],
     "language": "python",
     "metadata": {},
     "outputs": [
      {
       "output_type": "pyout",
       "prompt_number": 4,
       "text": [
        "{u'city': u'West Michigan',\n",
        " u'country': u'USA',\n",
        " u'facilitators': [{u'_id': u'5011b56e91ac880200000977',\n",
        "   u'first_name': u'Marc',\n",
        "   u'last_name': u'Nager',\n",
        "   u'name': u'Marc Nager'}],\n",
        " 'full_loc': u'Michigan, USA',\n",
        " u'id': 1,\n",
        " 'lat': 44.3148443,\n",
        " u'location': {},\n",
        " 'lon': -85.60236429999999,\n",
        " u'start_date': u'2010-02-26T00:00:00.000Z',\n",
        " u'state': u'MI',\n",
        " u'twitter_hashtag': None,\n",
        " u'vertical': None,\n",
        " u'website': u'wmi.startupweekend.org'}"
       ]
      }
     ],
     "prompt_number": 4
    },
    {
     "cell_type": "code",
     "collapsed": false,
     "input": [
      "from dateutil import parser\n",
      "#Save a valid GeoJson\n",
      "\n",
      "# the template. where data from the csv will be formatted to geojson\n",
      "template = \\\n",
      "    ''' \\\n",
      "    { \"type\" : \"Feature\",\n",
      "      \"geometry\" : {\"type\" : \"Point\", \"coordinates\" : [%s,%s]},\n",
      "        \"properties\" : { \n",
      "            \"marker-color\": \"%s\",\n",
      "            \"marker-symbol\": \"star-stroked\",\n",
      "            \"marker-size\": \"small\",\n",
      "            \"title\" : \"%s\", \n",
      "            \"description\" : \"%s\",\n",
      "            \"website\" : \"%s\",\n",
      "            \"date\": \"%s\",\n",
      "            \"twitter\": \"%s\",\n",
      "            \"location\": \"%s\"\n",
      "            }\n",
      "        }\n",
      "    '''\n",
      " \n",
      "# the head of the geojson file\n",
      "output = \\\n",
      "    ''' \\\n",
      "{ \"type\" : \"Feature Collection\",\n",
      "    \"features\" : [\n",
      "    '''\n",
      "i=0\n",
      "for row in data[:]:\n",
      "    date=parser.parse(row[\"start_date\"])\n",
      "    \n",
      "    #colorize by year\n",
      "    colors = ['#ff0000', '#ff3300', '#ff6600', '#ff9900', '#ffcc00', '#ffff00', '#ccff00', '#99ff00', '#66ff00', '#33ff00', '#00ff00', '#00ff33', '#00ff66', '#00ff99', '#00ffcc', '#00ffff', '#00ccff', '#0099ff', '#0066ff', '#0033ff', '#0000ff', '#3300ff', '#6600ff', '#9900ff', '#cc00ff', '#ff00ff', '#ff00cc', '#ff0099', '#ff0066', '#ff0033']\n",
      "    year=int(date.strftime(\"%Y\"))\n",
      "    color = colors[(2013-year)*2]\n",
      "    \n",
      "    #fix links\n",
      "    if (row[\"website\"]!= None):\n",
      "        if row[\"website\"].count(\"http://\")==0:\n",
      "            row[\"website\"]=\"http://\"+row[\"website\"]\n",
      "    \n",
      "    #order is color,lat,lon,name,website,date\n",
      "    if (row[\"lon\"]+ row[\"lat\"] != ''):\n",
      "        if (i != 0): \n",
      "            output += \",\"\n",
      "        i+=1\n",
      "        output += template % (row[\"lon\"], row[\"lat\"], color,row[\"city\"], \n",
      "               date.strftime(\"%b %d, %Y\"),row[\"website\"],row[\"start_date\"],\n",
      "                row[\"twitter_hashtag\"],row[\"full_loc\"])\n",
      "# the tail of the geojson file\n",
      "#remove last comma\n",
      "output=output[0:-1]\n",
      "output += \\\n",
      "    ''' \\\n",
      "    ]\n",
      "}\n",
      "    '''\n",
      " \n",
      "# opens an geoJSON file to write the output to\n",
      "outFileHandle = open(\"events.geojson\", \"wb\")\n",
      "outFileHandle.write(output.encode(\"UTF-8\"))\n",
      "outFileHandle.close()\n"
     ],
     "language": "python",
     "metadata": {},
     "outputs": [],
     "prompt_number": 27
    },
    {
     "cell_type": "code",
     "collapsed": false,
     "input": [
      "data[15][\"website\"]\n"
     ],
     "language": "python",
     "metadata": {},
     "outputs": [],
     "prompt_number": "*"
    },
    {
     "cell_type": "code",
     "collapsed": false,
     "input": [
      "parser.parse(t).strftime(\"%b %d, %Y\")"
     ],
     "language": "python",
     "metadata": {},
     "outputs": [],
     "prompt_number": "*"
    },
    {
     "cell_type": "code",
     "collapsed": false,
     "input": [
      "\n",
      "                  "
     ],
     "language": "python",
     "metadata": {},
     "outputs": [],
     "prompt_number": "*"
    }
   ],
   "metadata": {}
  }
 ]
}